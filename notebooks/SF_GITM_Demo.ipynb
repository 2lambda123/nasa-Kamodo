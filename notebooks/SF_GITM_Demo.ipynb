{
 "cells": [
  {
   "cell_type": "code",
   "execution_count": 1,
   "id": "statewide-animation",
   "metadata": {},
   "outputs": [
    {
     "name": "stderr",
     "output_type": "stream",
     "text": [
      "C:\\Users\\rringuet\\.conda\\envs\\Kamodo_WinDev1\\lib\\site-packages\\spacepy\\time.py:2294: UserWarning: Leapseconds may be out of date. Use spacepy.toolbox.update(leapsecs=True)\n",
      "  warnings.warn('Leapseconds may be out of date.'\n"
     ]
    }
   ],
   "source": [
    "#import satellite flythrough code\n",
    "#%matplotlib widget  #make matplotlib plots interactive\n",
    "from kamodo.flythrough import SatelliteFlythrough as S\n",
    "import kamodo.flythrough.model_wrapper as MW\n",
    "from time import perf_counter"
   ]
  },
  {
   "cell_type": "code",
   "execution_count": 2,
   "id": "precious-motivation",
   "metadata": {},
   "outputs": [
    {
     "name": "stdout",
     "output_type": "stream",
     "text": [
      "Possible models are: {0: 'CTIPe', 1: 'GITM', 2: 'IRI', 3: 'SWMF_IE', 4: 'TIEGCM', 5: 'OpenGGCM_GM'}\n",
      "Integers or strings allowed.\n"
     ]
    }
   ],
   "source": [
    "#What models are possible?\n",
    "MW.Choose_Model('')"
   ]
  },
  {
   "cell_type": "code",
   "execution_count": 3,
   "id": "built-salmon",
   "metadata": {},
   "outputs": [],
   "source": [
    "#Choose which model to view the example for, then execute the notebook\n",
    "#This assumes the underlying model data files are available (!!!)\n",
    "model = 'GITM'"
   ]
  },
  {
   "cell_type": "code",
   "execution_count": 4,
   "id": "judicial-penny",
   "metadata": {
    "scrolled": false
   },
   "outputs": [
    {
     "name": "stdout",
     "output_type": "stream",
     "text": [
      "\n",
      "The model accepts the standardized variable names listed below.\n",
      "-----------------------------------------------------------------------------------\n",
      "r_Ar : '['variable description', 0, 'SPH', 'sph', ['time', 'lon', 'lat', 'radius'], '']'\n",
      "rho_Ar : '['variable description', 1, 'SPH', 'sph', ['time', 'lon', 'lat', 'radius'], 'kg/m**3']'\n",
      "r_CH4 : '['variable description', 2, 'SPH', 'sph', ['time', 'lon', 'lat', 'radius'], '']'\n",
      "k : '['variable description', 3, 'SPH', 'sph', ['time', 'lon', 'lat', 'radius'], 'W/m/K']'\n",
      "Q_EUV : '['variable description', 4, 'SPH', 'sph', ['time', 'lon', 'lat', 'radius'], 'K per timestep']'\n",
      "rho_H : '['variable description', 5, 'SPH', 'sph', ['time', 'lon', 'lat', 'radius'], 'kg/m**3']'\n",
      "rho_Hplus : '['variable description', 6, 'SPH', 'sph', ['time', 'lon', 'lat', 'radius'], 'kg/m**3']'\n",
      "r_H2 : '['variable description', 7, 'SPH', 'sph', ['time', 'lon', 'lat', 'radius'], '']'\n",
      "r_HCN : '['variable description', 8, 'SPH', 'sph', ['time', 'lon', 'lat', 'radius'], '']'\n",
      "rho_He : '['variable description', 9, 'SPH', 'sph', ['time', 'lon', 'lat', 'radius'], 'kg/m**3']'\n",
      "rho_Heplus : '['variable description', 10, 'SPH', 'sph', ['time', 'lon', 'lat', 'radius'], 'kg/m**3']'\n",
      "HeatingEfficiency : '['variable description', 11, 'SPH', 'sph', ['time', 'lon', 'lat', 'radius'], '']'\n",
      "HeatBalanceTotal : '['variable description', 12, 'SPH', 'sph', ['time', 'lon', 'lat', 'radius'], '']'\n",
      "rho_N2 : '['variable description', 13, 'SPH', 'sph', ['time', 'lon', 'lat', 'radius'], 'kg/m**3']'\n",
      "rho_N2plus : '['variable description', 14, 'SPH', 'sph', ['time', 'lon', 'lat', 'radius'], 'kg/m**3']'\n",
      "rho_Nplus : '['variable description', 15, 'SPH', 'sph', ['time', 'lon', 'lat', 'radius'], 'kg/m**3']'\n",
      "rho_N2D : '['variable description', 16, 'SPH', 'sph', ['time', 'lon', 'lat', 'radius'], 'kg/m**3']'\n",
      "rho_N2P : '['variable description', 17, 'SPH', 'sph', ['time', 'lon', 'lat', 'radius'], 'kg/m**3']'\n",
      "rho_N4S : '['variable description', 18, 'SPH', 'sph', ['time', 'lon', 'lat', 'radius'], 'kg/m**3']'\n",
      "r_N2 : '['variable description', 19, 'SPH', 'sph', ['time', 'lon', 'lat', 'radius'], '']'\n",
      "rho_NO : '['variable description', 20, 'SPH', 'sph', ['time', 'lon', 'lat', 'radius'], 'kg/m**3']'\n",
      "rho_NOplus : '['variable description', 21, 'SPH', 'sph', ['time', 'lon', 'lat', 'radius'], 'kg/m**3']'\n",
      "rho_O2 : '['variable description', 22, 'SPH', 'sph', ['time', 'lon', 'lat', 'radius'], 'kg/m**3']'\n",
      "rho_O1D : '['variable description', 23, 'SPH', 'sph', ['time', 'lon', 'lat', 'radius'], 'kg/m**3']'\n",
      "rho_O2plus : '['variable description', 24, 'SPH', 'sph', ['time', 'lon', 'lat', 'radius'], 'kg/m**3']'\n",
      "rho_O2D : '['variable description', 25, 'SPH', 'sph', ['time', 'lon', 'lat', 'radius'], '1/m**3']'\n",
      "rho_Oplus2P : '['variable description', 26, 'SPH', 'sph', ['time', 'lon', 'lat', 'radius'], 'kg/m**3']'\n",
      "rho_O3P : '['variable description', 27, 'SPH', 'sph', ['time', 'lon', 'lat', 'radius'], 'kg/m**3']'\n",
      "rho_Oplus4SP : '['variable description', 28, 'SPH', 'sph', ['time', 'lon', 'lat', 'radius'], 'kg/m**3']'\n",
      "L_Rad : '['variable description', 29, 'SPH', 'sph', ['time', 'lon', 'lat', 'radius'], '']'\n",
      "rho_n : '['variable description', 30, 'SPH', 'sph', ['time', 'lon', 'lat', 'radius'], 'kg/m**3']'\n",
      "T_n : '['variable description', 31, 'SPH', 'sph', ['time', 'lon', 'lat', 'radius'], 'K']'\n",
      "vi_east : '['variable description', 32, 'SPH', 'sph', ['time', 'lon', 'lat', 'radius'], 'm/s']'\n",
      "vi_north : '['variable description', 33, 'SPH', 'sph', ['time', 'lon', 'lat', 'radius'], 'm/s']'\n",
      "vi_up : '['variable description', 34, 'SPH', 'sph', ['time', 'lon', 'lat', 'radius'], 'm/s']'\n",
      "vn_east : '['variable description', 35, 'SPH', 'sph', ['time', 'lon', 'lat', 'radius'], 'm/s']'\n",
      "vn_north : '['variable description', 36, 'SPH', 'sph', ['time', 'lon', 'lat', 'radius'], 'm/s']'\n",
      "vn_up : '['variable description', 37, 'SPH', 'sph', ['time', 'lon', 'lat', 'radius'], 'm/s']'\n",
      "v_N2_up : '['variable description', 38, 'SPH', 'sph', ['time', 'lon', 'lat', 'radius'], 'm/s']'\n",
      "v_N4S_up : '['variable description', 39, 'SPH', 'sph', ['time', 'lon', 'lat', 'radius'], 'm/s']'\n",
      "v_N_up : '['variable description', 40, 'SPH', 'sph', ['time', 'lon', 'lat', 'radius'], 'm/s']'\n",
      "v_O2_up : '['variable description', 41, 'SPH', 'sph', ['time', 'lon', 'lat', 'radius'], 'm/s']'\n",
      "v_O3P_up : '['variable description', 42, 'SPH', 'sph', ['time', 'lon', 'lat', 'radius'], 'm/s']'\n",
      "v_He_up : '['variable description', 43, 'SPH', 'sph', ['time', 'lon', 'lat', 'radius'], 'm/s']'\n",
      "N_e : '['variable description', 44, 'SPH', 'sph', ['time', 'lon', 'lat', 'radius'], '1/m**3']'\n",
      "ElectronAverageEnergy : '['variable description', 45, 'SPH', 'sph', ['time', 'lon', 'lat', 'radius'], 'J']'\n",
      "T_e : '['variable description', 46, 'SPH', 'sph', ['time', 'lon', 'lat', 'radius'], 'K']'\n",
      "T_i : '['variable description', 47, 'SPH', 'sph', ['time', 'lon', 'lat', 'radius'], 'K']'\n",
      "SolarZenithAngle : '['variable description', 48, 'SPH', 'sph', ['time', 'lon', 'lat'], 'radians']'\n",
      "rho_CO2 : '['variable description', 49, 'SPH', 'sph', ['time', 'lon', 'lat', 'radius'], 'kg/m**3']'\n",
      "DivJuFL : '['variable description', 50, 'SPH', 'sph', ['time', 'lon', 'lat', 'radius'], '']'\n",
      "DivJuAlt : '['variable description', 51, 'SPH', 'sph', ['time', 'lon', 'lat', 'radius'], '']'\n",
      "ElectronEnergyFlux : '['variable description', 52, 'SPH', 'sph', ['time', 'lon', 'lat', 'radius'], 'J/m**2']'\n",
      "Field Line Length : '['variable description', 53, 'SPH', 'sph', ['time', 'lon', 'lat', 'radius'], 'm']'\n",
      "sigma_P : '['variable description', 54, 'SPH', 'sph', ['time', 'lon', 'lat', 'radius'], 'S/m']'\n",
      "V : '['variable description', 57, 'SPH', 'sph', ['time', 'lon', 'lat', 'radius'], 'V']'\n",
      "sigma_H : '['variable description', 58, 'SPH', 'sph', ['time', 'lon', 'lat', 'radius'], 'S/m']'\n",
      "I_R2 : '['variable description', 59, 'SPH', 'sph', ['time', 'lon', 'lat', 'radius'], 'A/m**2']'\n",
      "I_R1 : '['variable description', 60, 'SPH', 'sph', ['time', 'lon', 'lat', 'radius'], 'A/m**2']'\n",
      "Ed1 : '['variable description', 61, 'SPH', 'sph', ['time', 'lon', 'lat', 'radius'], '']'\n",
      "Ed2 : '['variable description', 62, 'SPH', 'sph', ['time', 'lon', 'lat', 'radius'], '']'\n",
      "SolarLocalTime : '['variable description', 63, 'SPH', 'sph', ['time', 'lon', 'lat'], 'hr']'\n",
      "E_up : '['variable description', 64, 'SPH', 'sph', ['time', 'lon', 'lat', 'radius'], 'V/m']'\n",
      "E_east : '['variable description', 65, 'SPH', 'sph', ['time', 'lon', 'lat', 'radius'], 'V/m']'\n",
      "E_north : '['variable description', 66, 'SPH', 'sph', ['time', 'lon', 'lat', 'radius'], 'V/m']'\n",
      "E_mag : '['variable description', 67, 'SPH', 'sph', ['time', 'lon', 'lat', 'radius'], 'V/m']'\n",
      "B_up : '['variable description', 68, 'SPH', 'sph', ['time', 'lon', 'lat', 'radius'], 'nT']'\n",
      "B_east : '['variable description', 69, 'SPH', 'sph', ['time', 'lon', 'lat', 'radius'], 'nT']'\n",
      "B_north : '['variable description', 70, 'SPH', 'sph', ['time', 'lon', 'lat', 'radius'], 'nT']'\n",
      "B_mag : '['variable description', 71, 'SPH', 'sph', ['time', 'lon', 'lat', 'radius'], 'nT']'\n",
      "MagLat : '['variable description', 72, 'SPH', 'sph', ['time', 'lon', 'lat', 'radius'], 'deg']'\n",
      "MagLon : '['variable description', 73, 'SPH', 'sph', ['time', 'lon', 'lat', 'radius'], 'deg']'\n",
      "g : '['variable description', 74, 'SPH', 'sph', ['time', 'lon', 'lat', 'radius'], 'm/s**2']'\n",
      "GradP_east : '['variable description', 75, 'SPH', 'sph', ['time', 'lon', 'lat', 'radius'], 'Pa/m']'\n",
      "GradP_north : '['variable description', 76, 'SPH', 'sph', ['time', 'lon', 'lat', 'radius'], 'Pa/m']'\n",
      "GradP_up : '['variable description', 77, 'SPH', 'sph', ['time', 'lon', 'lat', 'radius'], 'Pa/m']'\n",
      "nu_in : '['variable description', 78, 'SPH', 'sph', ['time', 'lon', 'lat', 'radius'], '1/s']'\n",
      "ChemicalHeatingRate : '['variable description', 79, 'SPH', 'sph', ['time', 'lon', 'lat', 'radius'], '']'\n",
      "TotalAbsoluteEUV : '['variable description', 80, 'SPH', 'sph', ['time', 'lon', 'lat', 'radius'], 'K per timestep']'\n",
      "Q_Ocool : '['variable description', 81, 'SPH', 'sph', ['time', 'lon', 'lat', 'radius'], 'K per timestep']'\n",
      "Q_Joule : '['variable description', 82, 'SPH', 'sph', ['time', 'lon', 'lat', 'radius'], 'K per timestep']'\n",
      "Q_Auroral : '['variable description', 83, 'SPH', 'sph', ['time', 'lon', 'lat', 'radius'], 'K per timestep']'\n",
      "Q_PhotoE : '['variable description', 84, 'SPH', 'sph', ['time', 'lon', 'lat', 'radius'], 'K per timestep']'\n",
      "k_eddy : '['variable description', 85, 'SPH', 'sph', ['time', 'lon', 'lat', 'radius'], '']'\n",
      "k_adiabaticeddy : '['variable description', 86, 'SPH', 'sph', ['time', 'lon', 'lat', 'radius'], '']'\n",
      "Q_NOcool : '['variable description', 87, 'SPH', 'sph', ['time', 'lon', 'lat', 'radius'], 'K per timestep']'\n",
      "k_molecular : '['variable description', 88, 'SPH', 'sph', ['time', 'lon', 'lat', 'radius'], '']'\n",
      "NmF2 : '['variable description', 89, 'SPH', 'sph', ['time', 'lon', 'lat'], '']'\n",
      "hmF2 : '['variable description', 90, 'SPH', 'sph', ['time', 'lon', 'lat'], 'km']'\n",
      "TEC : '['variable description', 91, 'SPH', 'sph', ['time', 'lon', 'lat'], '10**16/m**2']'\n",
      "Phi_Joule : '['variable description', 92, 'SPH', 'sph', ['time', 'lon', 'lat'], 'W/m**2']'\n",
      "Phi_Q : '['variable description', 93, 'SPH', 'sph', ['time', 'lon', 'lat'], 'W/m**2']'\n",
      "Phi_EUV : '['variable description', 94, 'SPH', 'sph', ['time', 'lon', 'lat'], 'W/m**2']'\n",
      "Phi_NOCooling : '['variable description', 95, 'SPH', 'sph', ['time', 'lon', 'lat'], 'W/m**2']'\n",
      "\n"
     ]
    }
   ],
   "source": [
    "#What are the variable names available from that model?\n",
    "MW.Model_Variables(model)"
   ]
  },
  {
   "cell_type": "code",
   "execution_count": 5,
   "id": "reflected-aggregate",
   "metadata": {},
   "outputs": [],
   "source": [
    "#Set start and end times to be in model data acquired\n",
    "start_utcts, end_utcts, n = 1426550400, 1426730399, 2.\n",
    "plot_dir = 'C:/Users/rringuet/Kamodo_WinDev1/SatelliteFlythrough/'"
   ]
  },
  {
   "cell_type": "code",
   "execution_count": 6,
   "id": "affecting-electronics",
   "metadata": {},
   "outputs": [],
   "source": [
    "#choose file directory and model variables\n",
    "#NOTE: data for different models should be kept in different directories\n",
    "#-----------------------------\n",
    "file_dir = 'C:/Users/rringuet/Kamodo_WinDev1/GITM/Recon_data/'\n",
    "variable_list = ['T_n','TEC']"
   ]
  },
  {
   "cell_type": "code",
   "execution_count": 7,
   "id": "polyphonic-relative",
   "metadata": {},
   "outputs": [
    {
     "name": "stdout",
     "output_type": "stream",
     "text": [
      "Help on function FakeFlight in module kamodo.flythrough.SatelliteFlythrough:\n",
      "\n",
      "FakeFlight(start_time, stop_time, model, file_dir, variable_list, max_lat=65.0, min_lat=-65.0, lon_perorbit=363.0, max_height=450.0, min_height=400.0, p=0.01, n=2.0, high_res=20.0, verbose=False, output_type='', output_name='', plot_output='', plot_coord='GEO')\n",
      "    Generates a sample trajectory and then flies that trajectory through the \n",
      "    model data chosen.\n",
      "     \n",
      "    Parameters: \n",
      "        start_time: utc timestamp in seconds for start\n",
      "        stop_time: utc timestamp in seconds for stop\n",
      "        model: CTIPe, IRI, .... (integers allowed)\n",
      "        file_dir: complete path to where model data is stored\n",
      "        variable_list: list of standardized variable names desired. Integers allowed.\n",
      "        max_lat: maximum latitude for sample trajectory, in degrees (default=65.)\n",
      "        min_lat: minimum latitude for sample trajectory, in degrees (default=-65.)\n",
      "        lon_perorbit: the degrees of longitude per about 90 minute orbit \n",
      "            (set less than 360 for precession forward in longitude, set less \n",
      "            than 360 for precession backwards) (default=363.)\n",
      "        max_height: maximum starting height of orbit in km (default=450.)\n",
      "        min_height: minimum starting height of orbit in km (default=400.)\n",
      "        p: a rough precession variable, applied as an overall height decrease \n",
      "            as a percentage of the min_height value: p =  (default=0.01).  \n",
      "        n: the time cadence of the sample trajectory generated (default = 2 seconds)\n",
      "        high_res: the resolution of the height conversion to pressure level\n",
      "            in units of km\n",
      "        output_type: One of 'csv' for comma separated output, 'cdf4' for a netCDF4 \n",
      "            output file, or 'txt' for a tab-separated text file.\n",
      "        output_name: complete path with filename (without the extension) for the file to\n",
      "            write the results to.\n",
      "        plot_output: complete path pluts file naming convention (without the .html)\n",
      "            for the file to write the plots to.\n",
      "        plot_coord: one of 'GDZ', 'GEO', 'GSM', 'GSE', 'SM', 'GEI', 'MAG'\n",
      "            integers also allowed with 'GDZ'=0 and so on. Indicates the coordinate\n",
      "            system the plot will be generated in. Only plots in cartesian coordinates\n",
      "            systems are supported, so 'SPH' and 'RLL' are not accepted. Default is \n",
      "            'GEO'.\n",
      "            \n",
      "    Returns a dictionary with keys: 'utc_time', 'c1', 'c2', 'c3', and 'net_idx'\n",
      "    - utc_time is an array in UTC seconds since 1970-01-01 of the generated\n",
      "        timestamps with any occuring outside of the model data removed.\n",
      "    - 'c1', 'c2', and 'c3' are arrays of the given coordinate values for each \n",
      "        surviving timestamp\n",
      "    - 'net_idx' is the original index value of the surviving timestamps. \n",
      "        This is kept for easier comparison with the original dataset.\n",
      "    - additional keys are included for each variable and label an array of the\n",
      "        values of the indicated variable for each time+spatial coordinate given\n",
      "    - The units of each array in the returned dictionary are printed to \n",
      "        the screen.\n",
      "\n"
     ]
    }
   ],
   "source": [
    "#how to create sample trajectory and run flythrough code in one command\n",
    "help(S.FakeFlight)"
   ]
  },
  {
   "cell_type": "code",
   "execution_count": 8,
   "id": "distinguished-liverpool",
   "metadata": {},
   "outputs": [
    {
     "name": "stdout",
     "output_type": "stream",
     "text": [
      "Attribute/Key names of return dictionary: dict_keys(['sat_time', 'c1', 'c2', 'c3'])\n",
      "(c1,c2,c3) = (lon, lat, alt) in (deg,deg,km) in the GDZ, sph coordinate system.\n",
      "sat_time contains the utc timestamps.\n",
      "Converted from  GDZ sph to: SPH sph ['deg', 'deg', 'R_E'] in 2.4490 seconds.\n",
      "Interpolating through model data...No later file available.\n",
      "done in 8.01713 s.\n",
      "{'T_n': 'K', 'TEC': '10**16/m**2', 'utc_time': 's', 'net_idx': '', 'c1': 'deg', 'c2': 'deg', 'c3': 'km'}\n",
      "Output saved in C:/Users/rringuet/Kamodo_WinDev1/GITM/GITM_FakeFlight.csv.\n",
      "Generating interactive plots...\n",
      "Converted from  GDZ sph to: GSE car ['R_E', 'R_E', 'R_E'] in 2.7944 seconds.\n",
      "-saving html div file:  C:/Users/rringuet/Kamodo_WinDev1/GITM/GITM_FakeFlight_T_n_3D.html\n",
      "Converted from  GDZ sph to: GSE car ['R_E', 'R_E', 'R_E'] in 2.8916 seconds.\n",
      "-saving html div file:  C:/Users/rringuet/Kamodo_WinDev1/GITM/GITM_FakeFlight_T_n_1D.html\n",
      "Converted from  GDZ sph to: GSE car ['R_E', 'R_E', 'R_E'] in 2.5717 seconds.\n",
      "-saving html div file:  C:/Users/rringuet/Kamodo_WinDev1/GITM/GITM_FakeFlight_TEC_3D.html\n",
      "Converted from  GDZ sph to: GSE car ['R_E', 'R_E', 'R_E'] in 2.5856 seconds.\n",
      "-saving html div file:  C:/Users/rringuet/Kamodo_WinDev1/GITM/GITM_FakeFlight_TEC_1D.html\n",
      "Took 47.658 s to execute.\n"
     ]
    }
   ],
   "source": [
    "#run FakeFlight (fly a sample satellite trajectory through the model)\n",
    "#output file types are ascii, csv, or netcdf4\n",
    "#----------------------------------\n",
    "output = 'C:/Users/rringuet/Kamodo_WinDev1/GITM/FakeFlight'\n",
    "t0 = perf_counter()\n",
    "results = S.FakeFlight(start_utcts, end_utcts, model, file_dir, variable_list, \n",
    "                       min_height=400., max_height=450., p=0.02, n=n,\n",
    "                       output_type='csv',output_name=output, plot_output=output,\n",
    "                       plot_coord='GSE')  \n",
    "print(f'Took {perf_counter()-t0:.3f} s to execute.')"
   ]
  },
  {
   "cell_type": "code",
   "execution_count": 9,
   "id": "attractive-sending",
   "metadata": {
    "scrolled": true
   },
   "outputs": [
    {
     "data": {
      "text/plain": [
       "{'utc_time': array([1.42655040e+09, 1.42655040e+09, 1.42655040e+09, ...,\n",
       "        1.42673039e+09, 1.42673040e+09, 1.42673040e+09]),\n",
       " 'c1': array([-180.        , -179.86555331, -179.73110663, ...,   39.66388441,\n",
       "          39.79833109,   39.93277778]),\n",
       " 'c2': array([ 65.        ,  64.99982387,  64.99929547, ..., -32.01832294,\n",
       "        -32.14992225, -32.28134733]),\n",
       " 'c3': array([425.        , 425.05811025, 425.11622019, ..., 438.75672137,\n",
       "        438.72790523, 438.69897134]),\n",
       " 'net_idx': array([    0,     1,     2, ..., 89996, 89997, 89998]),\n",
       " 'T_n': array([1426.25713374, 1427.14115149, 1427.96745902, ...,           nan,\n",
       "                  nan,           nan]),\n",
       " 'TEC': array([5.18116573, 5.17844393, 5.17567843, ...,        nan,        nan,\n",
       "               nan])}"
      ]
     },
     "execution_count": 9,
     "metadata": {},
     "output_type": "execute_result"
    }
   ],
   "source": [
    "results"
   ]
  },
  {
   "cell_type": "code",
   "execution_count": 10,
   "id": "exotic-pearl",
   "metadata": {},
   "outputs": [
    {
     "name": "stdout",
     "output_type": "stream",
     "text": [
      "Help on function RealFlight in module kamodo.flythrough.SatelliteFlythrough:\n",
      "\n",
      "RealFlight(dataset, start, stop, model, file_dir, variable_list, coord_type='GEO', output_type='', output_name='', plot_output='', plot_coord='GEO', high_res=20.0, verbose=False)\n",
      "    Retrieves the trajectory for the satellite requested and then flies that\n",
      "    trajectory through the model data requested.\n",
      "    \n",
      "    dataset: name of the satellite data set to pull trajectory from\n",
      "    start: utc timestamp for start of desired time interval\n",
      "    stop: utc timestamp for end of desired time interval\n",
      "    model: 'CTIPe','IRI', ...\n",
      "    file_dir: complete path to where model data files are stored\n",
      "    variable_list: List of standardized variable names. Corresponding integers \n",
      "        are allowed. See model variable output for details.\n",
      "    output_type: One of 'csv' for comma separated output, 'cdf4' for a netCDF4 \n",
      "        output file, or 'txt' for a tab-separated text file.\n",
      "    output_name: complete path with filename (without the extension) for the file to\n",
      "        write the results to.\n",
      "    plot_output: complete path pluts file naming convention (without the .html)\n",
      "        for the file to write the plots to.\n",
      "    high_res: the accuracy of the conversion from radius or altitude to pressure\n",
      "        level. Ignore if no conversion is needed for the variable(s) selected.\n",
      "    plot_coord: one of 'GDZ', 'GEO', 'GSM', 'GSE', 'SM', 'GEI', 'MAG'\n",
      "        integers also allowed with 'GDZ'=0 and so on. Indicates the coordinate\n",
      "        system the plot will be generated in. Only plots in cartesian coordinates\n",
      "        systems are supported, so 'SPH' and 'RLL' are not accepted. Default is \n",
      "        'GEO'.        \n",
      "    verbose: Set to true to be overwhelmed with information.\n",
      "    \n",
      "    Returns a dictionary with keys: 'utc_time', 'c1', 'c2', 'c3', and 'net_idx'\n",
      "        - utc_time is an array in UTC seconds since 1970-01-01 of the satellite\n",
      "            timestamps with any occuring outside of the model data removed.\n",
      "        - 'c1', 'c2', and 'c3' are arrays of the given coordinate values for each \n",
      "            surviving timestamp\n",
      "        - 'net_idx' is the original index value of the surviving timestamps. \n",
      "            This is kept for easier comparison with the original dataset.\n",
      "        - additional keys are included for each variable and label an array of the\n",
      "            values of the indicated variable for each time+spatial coordinate given\n",
      "        - The units of each array in the returned dictionary are printed to \n",
      "            the screen.\n",
      "\n"
     ]
    }
   ],
   "source": [
    "help(S.RealFlight)"
   ]
  },
  {
   "cell_type": "code",
   "execution_count": 11,
   "id": "aggressive-hampshire",
   "metadata": {},
   "outputs": [
    {
     "name": "stdout",
     "output_type": "stream",
     "text": [
      "Attribute/Key names of return dictionary: dict_keys(['sat_time', 'c1', 'c2', 'c3'])\n",
      "Converted from  GEO car to: SPH sph ['deg', 'deg', 'R_E'] in 0.0806 seconds.\n",
      "Interpolating through model data...No later file available.\n",
      "done in 5.83514 s.\n",
      "{'T_n': 'K', 'TEC': '10**16/m**2', 'utc_time': 's', 'net_idx': '', 'c1': 'R_E', 'c2': 'R_E', 'c3': 'R_E'}\n",
      "Output saved in C:/Users/rringuet/Kamodo_WinDev1/GITM/GITM_RealFlight.nc.\n",
      "Generating interactive plots...\n",
      "Converted from  GEO car to: GSE car ['R_E', 'R_E', 'R_E'] in 0.0845 seconds.\n",
      "-saving html div file:  C:/Users/rringuet/Kamodo_WinDev1/GITM/GITM_RealFlight_T_n_3D.html\n",
      "Converted from  GEO car to: GSE car ['R_E', 'R_E', 'R_E'] in 0.0845 seconds.\n",
      "-saving html div file:  C:/Users/rringuet/Kamodo_WinDev1/GITM/GITM_RealFlight_T_n_1D.html\n",
      "Converted from  GEO car to: GSE car ['R_E', 'R_E', 'R_E'] in 0.0965 seconds.\n",
      "-saving html div file:  C:/Users/rringuet/Kamodo_WinDev1/GITM/GITM_RealFlight_TEC_3D.html\n",
      "Converted from  GEO car to: GSE car ['R_E', 'R_E', 'R_E'] in 0.0884 seconds.\n",
      "-saving html div file:  C:/Users/rringuet/Kamodo_WinDev1/GITM/GITM_RealFlight_TEC_1D.html\n",
      "Took 60.101 s to execute.\n"
     ]
    }
   ],
   "source": [
    "#run RealFlight (fly a real satellite trajectory through the model)\n",
    "#------------------------------------\n",
    "dataset = 'grace1'  #this satellite has available trajectories at the same times as the data\n",
    "output = 'C:/Users/rringuet/Kamodo_WinDev1/GITM/RealFlight'\n",
    "to = perf_counter()\n",
    "sat_dict = S.RealFlight(dataset, start_utcts, end_utcts, model, file_dir, \n",
    "             variable_list, coord_type='GEO', output_type='cdf4',output_name=output, \n",
    "                        plot_output=output, plot_coord='GSE')\n",
    "print(f'Took {perf_counter()-t0:.3f} s to execute.')"
   ]
  },
  {
   "cell_type": "code",
   "execution_count": 12,
   "id": "verbal-subdivision",
   "metadata": {},
   "outputs": [
    {
     "name": "stdout",
     "output_type": "stream",
     "text": [
      "Help on function MyFlight in module kamodo.flythrough.SatelliteFlythrough:\n",
      "\n",
      "MyFlight(traj_file, file_type, model, file_dir, variable_list, output_type='', output_name='', plot_output='', plot_coord='GEO', high_res=20.0, verbose=False)\n",
      "    Read in a trajectory from a file, then fly through the model data selected.\n",
      "    \n",
      "    traj_file: complete path and filename for file containing trajectory data.\n",
      "    file_type: one of 'cdf4' for netCDF4 files, 'csv' for comma-separated files, \n",
      "        or 'txt' for a tab-separated text file. Indicates the format of the input\n",
      "        trajectory file. \n",
      "    coord_type: one of 'GDZ', 'GEO', 'GSM', 'GSE', 'SM', 'GEI', 'MAG', 'SPH', 'RLL'\n",
      "        integers also allowed with 'GDZ'=0 and so on\n",
      "    coord_grid: either 'car' or 'sph' (0 or 1). Note that not all combinations \n",
      "        make sense (e.g. 'SPH' with 'car') and are not allowed.\n",
      "    model: 'CTIPe', 'IRI', ...  \n",
      "    file_dir: complete path to model data files\n",
      "    variable_list: List of standardized variable names. Corresponding integers \n",
      "        are allowed. See model variable output for details.\n",
      "    output_type: One of 'csv' for comma separated output, 'cdf4' for a netCDF4 \n",
      "        output file, or 'txt' for a tab-separated text file.\n",
      "    output_name: complete path with filename (without the extension) for the file to\n",
      "        write the results to.\n",
      "    plot_output: complete path pluts file naming convention (without the .html)\n",
      "        for the file to write the plots to.\n",
      "    high_res: the accuracy of the conversion from radius or altitude to pressure\n",
      "        level. Ignore if no conversion is needed for the variable(s) selected.\n",
      "    plot_coord: one of 'GDZ', 'GEO', 'GSM', 'GSE', 'SM', 'GEI', 'MAG'\n",
      "        integers also allowed with 'GDZ'=0 and so on. Indicates the coordinate\n",
      "        system the plot will be generated in. Only plots in cartesian coordinates\n",
      "        systems are supported, so 'SPH' and 'RLL' are not accepted. Default is \n",
      "        'GEO'.        \n",
      "    verbose: Set to true to be overwhelmed with information.\n",
      "    \n",
      "    Returns a dictionary with keys: 'utc_time', 'c1', 'c2', 'c3', and 'net_idx'\n",
      "        - utc_time is an array in UTC seconds since 1970-01-01 of the given\n",
      "            timestamps with any occuring outside of the model data removed.\n",
      "        - 'c1', 'c2', and 'c3' are arrays of the given coordinate values for each \n",
      "            surviving timestamp\n",
      "        - 'net_idx' is the original index value of the surviving timestamps. \n",
      "            This is kept for easier comparison with the original dataset.\n",
      "        - additional keys are included for each variable and label an array of the\n",
      "            values of the indicated variable for each time+spatial coordinate given\n",
      "        - The units of each array in the returned dictionary are printed to \n",
      "            the screen.\n",
      "\n"
     ]
    }
   ],
   "source": [
    "help(S.MyFlight)"
   ]
  },
  {
   "cell_type": "code",
   "execution_count": 13,
   "id": "matched-wildlife",
   "metadata": {},
   "outputs": [
    {
     "name": "stdout",
     "output_type": "stream",
     "text": [
      "Converted from  GEO car to: SPH sph ['deg', 'deg', 'R_E'] in 0.0887 seconds.\n",
      "Interpolating through model data...No later file available.\n",
      "done in 7.57390 s.\n",
      "{'rho_n': 'kg/m**3', 'utc_time': 's', 'net_idx': '', 'c1': 'R_E', 'c2': 'R_E', 'c3': 'R_E'}\n",
      "Output saved in C:/Users/rringuet/Kamodo_WinDev1/GITM/GITM_RealFlight2.nc.\n",
      "Generating interactive plots...\n",
      "Converted from  GEO car to: GSE car ['R_E', 'R_E', 'R_E'] in 0.0841 seconds.\n",
      "-saving html div file:  C:/Users/rringuet/Kamodo_WinDev1/GITM/GITM_RealFlight2_rho_n_3D.html\n",
      "Converted from  GEO car to: GSE car ['R_E', 'R_E', 'R_E'] in 0.0829 seconds.\n",
      "-saving html div file:  C:/Users/rringuet/Kamodo_WinDev1/GITM/GITM_RealFlight2_rho_n_1D.html\n",
      "Took 8.676 s to execute.\n"
     ]
    }
   ],
   "source": [
    "#demonstrate using a custom trajectory\n",
    "traj_file, file_type = 'C:/Users/rringuet/Kamodo_WinDev1/GITM/GITM_RealFlight.nc', 'cdf4'\n",
    "t0 = perf_counter()\n",
    "test_results = S.MyFlight(traj_file, file_type, 'GITM', file_dir, ['rho_n'],\n",
    "               output_type='cdf4',output_name=output+'2', plot_output=output+'2', \n",
    "                          plot_coord='GSE')\n",
    "print(f'Took {perf_counter()-t0:.3f} s to execute.')"
   ]
  },
  {
   "cell_type": "code",
   "execution_count": null,
   "id": "informed-biology",
   "metadata": {},
   "outputs": [],
   "source": []
  }
 ],
 "metadata": {
  "kernelspec": {
   "display_name": "Python 3",
   "language": "python",
   "name": "python3"
  },
  "language_info": {
   "codemirror_mode": {
    "name": "ipython",
    "version": 3
   },
   "file_extension": ".py",
   "mimetype": "text/x-python",
   "name": "python",
   "nbconvert_exporter": "python",
   "pygments_lexer": "ipython3",
   "version": "3.7.9"
  }
 },
 "nbformat": 4,
 "nbformat_minor": 5
}
