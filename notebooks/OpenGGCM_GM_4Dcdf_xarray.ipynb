{
 "cells": [
  {
   "cell_type": "markdown",
   "metadata": {},
   "source": [
    "# OpenGGCM_GM\n",
    "\n",
    "\n",
    "The kamodofied OpenGGCM_GM reader requires `netCDF4` (and numpy, scipy, and pandas, but those are required by kamodo)\n",
    "\n",
    "    pip install netCDF4"
   ]
  },
  {
   "cell_type": "code",
   "execution_count": 1,
   "metadata": {},
   "outputs": [
    {
     "data": {
      "text/html": [
       "        <script type=\"text/javascript\">\n",
       "        window.PlotlyConfig = {MathJaxConfig: 'local'};\n",
       "        if (window.MathJax) {MathJax.Hub.Config({SVG: {font: \"STIX-Web\"}});}\n",
       "        if (typeof require !== 'undefined') {\n",
       "        require.undef(\"plotly\");\n",
       "        requirejs.config({\n",
       "            paths: {\n",
       "                'plotly': ['https://cdn.plot.ly/plotly-latest.min']\n",
       "            }\n",
       "        });\n",
       "        require(['plotly'], function(Plotly) {\n",
       "            window._Plotly = Plotly;\n",
       "        });\n",
       "        }\n",
       "        </script>\n",
       "        "
      ]
     },
     "metadata": {},
     "output_type": "display_data"
    },
    {
     "name": "stdout",
     "output_type": "stream",
     "text": [
      "0.0008022000000003082 s\n"
     ]
    }
   ],
   "source": [
    "#import block\n",
    "%load_ext autoreload\n",
    "%autoreload 2\n",
    "from plotly.offline import init_notebook_mode, iplot, plot\n",
    "init_notebook_mode(connected = True)\n",
    "import numpy as np\n",
    "from kamodo.readers.openggcm_gm_4Dcdf_xarray import MODEL, model_varnames\n",
    "from kamodo.readers.reader_kplots import plot2D\n",
    "from time import perf_counter\n",
    "t0=perf_counter()\n",
    "reader = MODEL()\n",
    "print(perf_counter()-t0, 's')"
   ]
  },
  {
   "cell_type": "code",
   "execution_count": 2,
   "metadata": {
    "scrolled": true
   },
   "outputs": [
    {
     "name": "stdout",
     "output_type": "stream",
     "text": [
      "Standardized variables:\n",
      "---------------------------\n",
      "B_x: ['x component of magnetic field', 0, 'GSE', 'car', ['time', 'x', 'y', 'z'], 'nT']\n",
      "B_y: ['y component of magnetic field', 1, 'GSE', 'car', ['time', 'x', 'y', 'z'], 'nT']\n",
      "B_z: ['z component of magnetic field', 2, 'GSE', 'car', ['time', 'x', 'y', 'z'], 'nT']\n",
      "B1_x: ['x component of magnetic field (on grid cell faces)', 3, 'GSE', 'car', ['time', 'x', 'x', 'x'], 'nT']\n",
      "B1_y: ['y component of magnetic field (on grid cell faces)', 4, 'GSE', 'car', ['time', 'y', 'y', 'y'], 'nT']\n",
      "B1_z: ['z component of magnetic field (on grid cell faces)', 5, 'GSE', 'car', ['time', 'z', 'z', 'z'], 'nT']\n",
      "E_x: ['x component of electric field (on grid cell edges)', 6, 'GSE', 'car', ['time', 'x', 'x', 'x'], 'mV/m']\n",
      "E_y: ['y component of electric field (on grid cell edges)', 7, 'GSE', 'car', ['time', 'y', 'y', 'y'], 'mV/m']\n",
      "E_z: ['z component of electric field (on grid cell edges)', 8, 'GSE', 'car', ['time', 'z', 'z', 'z'], 'mV/m']\n",
      "V_x: ['x component of plasma velocity', 9, 'GSE', 'car', ['time', 'x', 'y', 'z'], 'km/s']\n",
      "V_y: ['y component of plasma velocity', 10, 'GSE', 'car', ['time', 'x', 'y', 'z'], 'km/s']\n",
      "V_z: ['z component of plasma velocity', 11, 'GSE', 'car', ['time', 'x', 'y', 'z'], 'km/s']\n",
      "N_plasma: ['plasma number denstity (hydrogen equivalent)', 12, 'GSE', 'car', ['time', 'x', 'y', 'z'], '1/cm**3']\n",
      "eta: ['resistivity', 13, 'GSE', 'car', ['time', 'x', 'y', 'z'], 'm**2/s']\n",
      "P_plasma: ['plasma pressure', 14, 'GSE', 'car', ['time', 'x', 'y', 'z'], 'pPa']\n",
      "J_x: ['x component of current density', 15, 'GSE', 'car', ['time', 'x', 'y', 'z'], 'muA/m**2']\n",
      "J_y: ['y component of current density', 16, 'GSE', 'car', ['time', 'x', 'y', 'z'], 'muA/m**2']\n",
      "J_z: ['z component of current density', 17, 'GSE', 'car', ['time', 'x', 'y', 'z'], 'muA/m**2']\n"
     ]
    }
   ],
   "source": [
    "#print possible variable names for given model\n",
    "print('Standardized variables:\\n---------------------------')\n",
    "for key in model_varnames.keys():\n",
    "    print(model_varnames[key][0]+':', model_varnames[key][1:])"
   ]
  },
  {
   "cell_type": "code",
   "execution_count": 3,
   "metadata": {},
   "outputs": [],
   "source": [
    "#set filename, run_name, desired variable list, and whether gridded interpolators are desired\n",
    "run_name =  \"Yihua_Zheng_090721_1\"\n",
    "var_list, gridded_int = ['N_plasma','B_x','B1_x','E_x','V_x','eta'], True  #\n",
    "var_3D = ''  #for testing of expected plot error in last cell, should be a 3D variable name (if possible)"
   ]
  },
  {
   "cell_type": "code",
   "execution_count": 4,
   "metadata": {},
   "outputs": [
    {
     "name": "stdout",
     "output_type": "stream",
     "text": [
      "['N_plasma', 'N_plasma_ijk', 'B_x', 'B_x_ijk', 'B1_x', 'B1_x_ijk', 'E_x', 'E_x_ijk', 'V_x', 'V_x_ijk', 'eta', 'eta_ijk']\n"
     ]
    }
   ],
   "source": [
    "#set variables to be plotted\n",
    "if gridded_int:  #set list of variables to check plots, list should include at least one 3D and at least one 4D variable\n",
    "    plot_list = list(np.ravel([[var, var+'_ijk'] for var in var_list]))\n",
    "else:\n",
    "    plot_list = var_list\n",
    "print(plot_list)"
   ]
  },
  {
   "cell_type": "code",
   "execution_count": 5,
   "metadata": {},
   "outputs": [
    {
     "name": "stdout",
     "output_type": "stream",
     "text": [
      "3.4202832 s for  24  variables\n"
     ]
    }
   ],
   "source": [
    "file_prefix = 'D:/OpenGGCM_GM/Data/Yihua_1/Yihua_Zheng_090721_1.3df_2015-10-16_12'\n",
    "tic = perf_counter()\n",
    "kamodo_object = reader(file_prefix, runname=run_name)  #load all variables\n",
    "#kamodo_object = reader(file_prefix, variables_requested=['N_plasma'], runname=run_name, \n",
    "#                       gridded_int=True)  #load specified variables with gridded interpolators\n",
    "print(perf_counter()-tic, 's for ', len(kamodo_object.variables.keys()), ' variables')"
   ]
  },
  {
   "cell_type": "code",
   "execution_count": 6,
   "metadata": {
    "scrolled": false
   },
   "outputs": [
    {
     "data": {
      "text/latex": [
       "\\begin{equation}\\operatorname{B_{x}}{\\left(\\vec{x} \\right)}[nT] = \\lambda{\\left(\\vec{x} \\right)}\\end{equation} \\begin{equation}\\operatorname{B_{x ijk}}(time[hr],x[R_{E}],y[R_{E}],z[R_{E}])[nT] = \\lambda{\\left(time,x,y,z \\right)}\\end{equation} \\begin{equation}\\operatorname{B_{y}}{\\left(\\vec{x} \\right)}[nT] = \\lambda{\\left(\\vec{x} \\right)}\\end{equation} \\begin{equation}\\operatorname{B_{y ijk}}(time[hr],x[R_{E}],y[R_{E}],z[R_{E}])[nT] = \\lambda{\\left(time,x,y,z \\right)}\\end{equation} \\begin{equation}\\operatorname{B_{z}}{\\left(\\vec{x} \\right)}[nT] = \\lambda{\\left(\\vec{x} \\right)}\\end{equation} \\begin{equation}\\operatorname{B_{z ijk}}(time[hr],x[R_{E}],y[R_{E}],z[R_{E}])[nT] = \\lambda{\\left(time,x,y,z \\right)}\\end{equation} \\begin{equation}\\operatorname{V_{x}}{\\left(\\vec{x} \\right)}[km / s] = \\lambda{\\left(\\vec{x} \\right)}\\end{equation} \\begin{equation}\\operatorname{V_{x ijk}}(time[hr],x[R_{E}],y[R_{E}],z[R_{E}])[km / s] = \\lambda{\\left(time,x,y,z \\right)}\\end{equation} \\begin{equation}\\operatorname{V_{y}}{\\left(\\vec{x} \\right)}[km / s] = \\lambda{\\left(\\vec{x} \\right)}\\end{equation} \\begin{equation}\\operatorname{V_{y ijk}}(time[hr],x[R_{E}],y[R_{E}],z[R_{E}])[km / s] = \\lambda{\\left(time,x,y,z \\right)}\\end{equation} \\begin{equation}\\operatorname{V_{z}}{\\left(\\vec{x} \\right)}[km / s] = \\lambda{\\left(\\vec{x} \\right)}\\end{equation} \\begin{equation}\\operatorname{V_{z ijk}}(time[hr],x[R_{E}],y[R_{E}],z[R_{E}])[km / s] = \\lambda{\\left(time,x,y,z \\right)}\\end{equation} \\begin{equation}\\operatorname{J_{x}}{\\left(\\vec{x} \\right)}[\\frac{muA}{m^{2}}] = \\lambda{\\left(\\vec{x} \\right)}\\end{equation} \\begin{equation}\\operatorname{J_{x ijk}}(time[hr],x[R_{E}],y[R_{E}],z[R_{E}])[\\frac{muA}{m^{2}}] = \\lambda{\\left(time,x,y,z \\right)}\\end{equation} \\begin{equation}\\operatorname{J_{y}}{\\left(\\vec{x} \\right)}[\\frac{muA}{m^{2}}] = \\lambda{\\left(\\vec{x} \\right)}\\end{equation} \\begin{equation}\\operatorname{J_{y ijk}}(time[hr],x[R_{E}],y[R_{E}],z[R_{E}])[\\frac{muA}{m^{2}}] = \\lambda{\\left(time,x,y,z \\right)}\\end{equation} \\begin{equation}\\operatorname{J_{z}}{\\left(\\vec{x} \\right)}[\\frac{muA}{m^{2}}] = \\lambda{\\left(\\vec{x} \\right)}\\end{equation} \\begin{equation}\\operatorname{J_{z ijk}}(time[hr],x[R_{E}],y[R_{E}],z[R_{E}])[\\frac{muA}{m^{2}}] = \\lambda{\\left(time,x,y,z \\right)}\\end{equation} \\begin{equation}\\operatorname{N_{plasma}}{\\left(\\vec{x} \\right)}[\\frac{1}{cm^{3}}] = \\lambda{\\left(\\vec{x} \\right)}\\end{equation} \\begin{equation}\\operatorname{N_{plasma ijk}}(time[hr],x[R_{E}],y[R_{E}],z[R_{E}])[\\frac{1}{cm^{3}}] = \\lambda{\\left(time,x,y,z \\right)}\\end{equation} \\begin{equation}\\eta{\\left(\\vec{x} \\right)}[m^{2} / s] = \\lambda{\\left(\\vec{x} \\right)}\\end{equation} \\begin{equation}\\eta_{ijk}(time[hr],x[R_{E}],y[R_{E}],z[R_{E}])[m^{2} / s] = \\lambda{\\left(time,x,y,z \\right)}\\end{equation} \\begin{equation}\\operatorname{P_{plasma}}{\\left(\\vec{x} \\right)}[pPa] = \\lambda{\\left(\\vec{x} \\right)}\\end{equation} \\begin{equation}\\operatorname{P_{plasma ijk}}(time[hr],x[R_{E}],y[R_{E}],z[R_{E}])[pPa] = \\lambda{\\left(time,x,y,z \\right)}\\end{equation}"
      ],
      "text/plain": [
       "{B_x(xvec): <function MODEL.<locals>.MODEL.custom_interp.<locals>.interpolator at 0x000001E563538288>, B_x: <function MODEL.<locals>.MODEL.custom_interp.<locals>.interpolator at 0x000001E563538288>, B_x_ijk(time, x, y, z): <function MODEL.<locals>.MODEL.custom_interp.<locals>.gridded_interpolator at 0x000001E563538438>, B_x_ijk: <function MODEL.<locals>.MODEL.custom_interp.<locals>.gridded_interpolator at 0x000001E563538438>, B_y(xvec): <function MODEL.<locals>.MODEL.custom_interp.<locals>.interpolator at 0x000001E563538798>, B_y: <function MODEL.<locals>.MODEL.custom_interp.<locals>.interpolator at 0x000001E563538798>, B_y_ijk(time, x, y, z): <function MODEL.<locals>.MODEL.custom_interp.<locals>.gridded_interpolator at 0x000001E563538C18>, B_y_ijk: <function MODEL.<locals>.MODEL.custom_interp.<locals>.gridded_interpolator at 0x000001E563538C18>, B_z(xvec): <function MODEL.<locals>.MODEL.custom_interp.<locals>.interpolator at 0x000001E5623C2438>, B_z: <function MODEL.<locals>.MODEL.custom_interp.<locals>.interpolator at 0x000001E5623C2438>, B_z_ijk(time, x, y, z): <function MODEL.<locals>.MODEL.custom_interp.<locals>.gridded_interpolator at 0x000001E563538E58>, B_z_ijk: <function MODEL.<locals>.MODEL.custom_interp.<locals>.gridded_interpolator at 0x000001E563538E58>, V_x(xvec): <function MODEL.<locals>.MODEL.custom_interp.<locals>.interpolator at 0x000001E563662168>, V_x: <function MODEL.<locals>.MODEL.custom_interp.<locals>.interpolator at 0x000001E563662168>, V_x_ijk(time, x, y, z): <function MODEL.<locals>.MODEL.custom_interp.<locals>.gridded_interpolator at 0x000001E563662678>, V_x_ijk: <function MODEL.<locals>.MODEL.custom_interp.<locals>.gridded_interpolator at 0x000001E563662678>, V_y(xvec): <function MODEL.<locals>.MODEL.custom_interp.<locals>.interpolator at 0x000001E563662948>, V_y: <function MODEL.<locals>.MODEL.custom_interp.<locals>.interpolator at 0x000001E563662948>, V_y_ijk(time, x, y, z): <function MODEL.<locals>.MODEL.custom_interp.<locals>.gridded_interpolator at 0x000001E563662DC8>, V_y_ijk: <function MODEL.<locals>.MODEL.custom_interp.<locals>.gridded_interpolator at 0x000001E563662DC8>, V_z(xvec): <function MODEL.<locals>.MODEL.custom_interp.<locals>.interpolator at 0x000001E56359C0D8>, V_z: <function MODEL.<locals>.MODEL.custom_interp.<locals>.interpolator at 0x000001E56359C0D8>, V_z_ijk(time, x, y, z): <function MODEL.<locals>.MODEL.custom_interp.<locals>.gridded_interpolator at 0x000001E56359C558>, V_z_ijk: <function MODEL.<locals>.MODEL.custom_interp.<locals>.gridded_interpolator at 0x000001E56359C558>, J_x(xvec): <function MODEL.<locals>.MODEL.custom_interp.<locals>.interpolator at 0x000001E56359C828>, J_x: <function MODEL.<locals>.MODEL.custom_interp.<locals>.interpolator at 0x000001E56359C828>, J_x_ijk(time, x, y, z): <function MODEL.<locals>.MODEL.custom_interp.<locals>.gridded_interpolator at 0x000001E56359CCA8>, J_x_ijk: <function MODEL.<locals>.MODEL.custom_interp.<locals>.gridded_interpolator at 0x000001E56359CCA8>, J_y(xvec): <function MODEL.<locals>.MODEL.custom_interp.<locals>.interpolator at 0x000001E56359CEE8>, J_y: <function MODEL.<locals>.MODEL.custom_interp.<locals>.interpolator at 0x000001E56359CEE8>, J_y_ijk(time, x, y, z): <function MODEL.<locals>.MODEL.custom_interp.<locals>.gridded_interpolator at 0x000001E56356B3A8>, J_y_ijk: <function MODEL.<locals>.MODEL.custom_interp.<locals>.gridded_interpolator at 0x000001E56356B3A8>, J_z(xvec): <function MODEL.<locals>.MODEL.custom_interp.<locals>.interpolator at 0x000001E56356B678>, J_z: <function MODEL.<locals>.MODEL.custom_interp.<locals>.interpolator at 0x000001E56356B678>, J_z_ijk(time, x, y, z): <function MODEL.<locals>.MODEL.custom_interp.<locals>.gridded_interpolator at 0x000001E56356BAF8>, J_z_ijk: <function MODEL.<locals>.MODEL.custom_interp.<locals>.gridded_interpolator at 0x000001E56356BAF8>, N_plasma(xvec): <function MODEL.<locals>.MODEL.custom_interp.<locals>.interpolator at 0x000001E56356BDC8>, N_plasma: <function MODEL.<locals>.MODEL.custom_interp.<locals>.interpolator at 0x000001E56356BDC8>, N_plasma_ijk(time, x, y, z): <function MODEL.<locals>.MODEL.custom_interp.<locals>.gridded_interpolator at 0x000001E563682288>, N_plasma_ijk: <function MODEL.<locals>.MODEL.custom_interp.<locals>.gridded_interpolator at 0x000001E563682288>, eta(xvec): <function MODEL.<locals>.MODEL.custom_interp.<locals>.interpolator at 0x000001E563682558>, eta: <function MODEL.<locals>.MODEL.custom_interp.<locals>.interpolator at 0x000001E563682558>, eta_ijk(time, x, y, z): <function MODEL.<locals>.MODEL.custom_interp.<locals>.gridded_interpolator at 0x000001E563682A68>, eta_ijk: <function MODEL.<locals>.MODEL.custom_interp.<locals>.gridded_interpolator at 0x000001E563682A68>, P_plasma(xvec): <function MODEL.<locals>.MODEL.custom_interp.<locals>.interpolator at 0x000001E563682D38>, P_plasma: <function MODEL.<locals>.MODEL.custom_interp.<locals>.interpolator at 0x000001E563682D38>, P_plasma_ijk(time, x, y, z): <function MODEL.<locals>.MODEL.custom_interp.<locals>.gridded_interpolator at 0x000001E5636851F8>, P_plasma_ijk: <function MODEL.<locals>.MODEL.custom_interp.<locals>.gridded_interpolator at 0x000001E5636851F8>}"
      ]
     },
     "execution_count": 6,
     "metadata": {},
     "output_type": "execute_result"
    }
   ],
   "source": [
    "#show functionalized variables in kamodo object\n",
    "kamodo_object"
   ]
  },
  {
   "cell_type": "code",
   "execution_count": 7,
   "metadata": {},
   "outputs": [
    {
     "data": {
      "text/plain": [
       "(12.000021, 13.00001)"
      ]
     },
     "execution_count": 7,
     "metadata": {},
     "output_type": "execute_result"
    }
   ],
   "source": [
    "kamodo_object._time.min(), kamodo_object._time.max()"
   ]
  },
  {
   "cell_type": "code",
   "execution_count": 8,
   "metadata": {},
   "outputs": [
    {
     "data": {
      "text/plain": [
       "(-350.0119, 33.01)"
      ]
     },
     "execution_count": 8,
     "metadata": {},
     "output_type": "execute_result"
    }
   ],
   "source": [
    "kamodo_object._x.min(), kamodo_object._x.max()"
   ]
  },
  {
   "cell_type": "code",
   "execution_count": 9,
   "metadata": {},
   "outputs": [
    {
     "data": {
      "text/plain": [
       "(-96.01, 96.01)"
      ]
     },
     "execution_count": 9,
     "metadata": {},
     "output_type": "execute_result"
    }
   ],
   "source": [
    "kamodo_object._y.min(), kamodo_object._y.max()"
   ]
  },
  {
   "cell_type": "code",
   "execution_count": 10,
   "metadata": {},
   "outputs": [
    {
     "data": {
      "text/plain": [
       "(-96.01, 96.01)"
      ]
     },
     "execution_count": 10,
     "metadata": {},
     "output_type": "execute_result"
    }
   ],
   "source": [
    "kamodo_object._z.min(), kamodo_object._z.max()"
   ]
  },
  {
   "cell_type": "code",
   "execution_count": 11,
   "metadata": {},
   "outputs": [
    {
     "name": "stdout",
     "output_type": "stream",
     "text": [
      "B_x {'time': 'hr', 'x': 'R_E', 'y': 'R_E', 'z': 'R_E'}\n",
      "B_x_ijk {'time': 'hr', 'x': 'R_E', 'y': 'R_E', 'z': 'R_E'}\n",
      "B_y {'time': 'hr', 'x': 'R_E', 'y': 'R_E', 'z': 'R_E'}\n",
      "B_y_ijk {'time': 'hr', 'x': 'R_E', 'y': 'R_E', 'z': 'R_E'}\n",
      "B_z {'time': 'hr', 'x': 'R_E', 'y': 'R_E', 'z': 'R_E'}\n",
      "B_z_ijk {'time': 'hr', 'x': 'R_E', 'y': 'R_E', 'z': 'R_E'}\n",
      "V_x {'time': 'hr', 'x': 'R_E', 'y': 'R_E', 'z': 'R_E'}\n",
      "V_x_ijk {'time': 'hr', 'x': 'R_E', 'y': 'R_E', 'z': 'R_E'}\n",
      "V_y {'time': 'hr', 'x': 'R_E', 'y': 'R_E', 'z': 'R_E'}\n",
      "V_y_ijk {'time': 'hr', 'x': 'R_E', 'y': 'R_E', 'z': 'R_E'}\n",
      "V_z {'time': 'hr', 'x': 'R_E', 'y': 'R_E', 'z': 'R_E'}\n",
      "V_z_ijk {'time': 'hr', 'x': 'R_E', 'y': 'R_E', 'z': 'R_E'}\n",
      "J_x {'time': 'hr', 'x': 'R_E', 'y': 'R_E', 'z': 'R_E'}\n",
      "J_x_ijk {'time': 'hr', 'x': 'R_E', 'y': 'R_E', 'z': 'R_E'}\n",
      "J_y {'time': 'hr', 'x': 'R_E', 'y': 'R_E', 'z': 'R_E'}\n",
      "J_y_ijk {'time': 'hr', 'x': 'R_E', 'y': 'R_E', 'z': 'R_E'}\n",
      "J_z {'time': 'hr', 'x': 'R_E', 'y': 'R_E', 'z': 'R_E'}\n",
      "J_z_ijk {'time': 'hr', 'x': 'R_E', 'y': 'R_E', 'z': 'R_E'}\n",
      "N_plasma {'time': 'hr', 'x': 'R_E', 'y': 'R_E', 'z': 'R_E'}\n",
      "N_plasma_ijk {'time': 'hr', 'x': 'R_E', 'y': 'R_E', 'z': 'R_E'}\n",
      "eta {'time': 'hr', 'x': 'R_E', 'y': 'R_E', 'z': 'R_E'}\n",
      "eta_ijk {'time': 'hr', 'x': 'R_E', 'y': 'R_E', 'z': 'R_E'}\n",
      "P_plasma {'time': 'hr', 'x': 'R_E', 'y': 'R_E', 'z': 'R_E'}\n",
      "P_plasma_ijk {'time': 'hr', 'x': 'R_E', 'y': 'R_E', 'z': 'R_E'}\n"
     ]
    }
   ],
   "source": [
    "#show variable coordinate dependencies (especially for non-gridded variables)\n",
    "for key in kamodo_object.variables.keys(): print(key, kamodo_object.variables[key]['xvec'])"
   ]
  },
  {
   "cell_type": "code",
   "execution_count": 12,
   "metadata": {},
   "outputs": [
    {
     "data": {
      "text/html": [
       "<div><svg style=\"position: absolute; width: 0; height: 0; overflow: hidden\">\n",
       "<defs>\n",
       "<symbol id=\"icon-database\" viewBox=\"0 0 32 32\">\n",
       "<path d=\"M16 0c-8.837 0-16 2.239-16 5v4c0 2.761 7.163 5 16 5s16-2.239 16-5v-4c0-2.761-7.163-5-16-5z\"></path>\n",
       "<path d=\"M16 17c-8.837 0-16-2.239-16-5v6c0 2.761 7.163 5 16 5s16-2.239 16-5v-6c0 2.761-7.163 5-16 5z\"></path>\n",
       "<path d=\"M16 26c-8.837 0-16-2.239-16-5v6c0 2.761 7.163 5 16 5s16-2.239 16-5v-6c0 2.761-7.163 5-16 5z\"></path>\n",
       "</symbol>\n",
       "<symbol id=\"icon-file-text2\" viewBox=\"0 0 32 32\">\n",
       "<path d=\"M28.681 7.159c-0.694-0.947-1.662-2.053-2.724-3.116s-2.169-2.030-3.116-2.724c-1.612-1.182-2.393-1.319-2.841-1.319h-15.5c-1.378 0-2.5 1.121-2.5 2.5v27c0 1.378 1.122 2.5 2.5 2.5h23c1.378 0 2.5-1.122 2.5-2.5v-19.5c0-0.448-0.137-1.23-1.319-2.841zM24.543 5.457c0.959 0.959 1.712 1.825 2.268 2.543h-4.811v-4.811c0.718 0.556 1.584 1.309 2.543 2.268zM28 29.5c0 0.271-0.229 0.5-0.5 0.5h-23c-0.271 0-0.5-0.229-0.5-0.5v-27c0-0.271 0.229-0.5 0.5-0.5 0 0 15.499-0 15.5 0v7c0 0.552 0.448 1 1 1h7v19.5z\"></path>\n",
       "<path d=\"M23 26h-14c-0.552 0-1-0.448-1-1s0.448-1 1-1h14c0.552 0 1 0.448 1 1s-0.448 1-1 1z\"></path>\n",
       "<path d=\"M23 22h-14c-0.552 0-1-0.448-1-1s0.448-1 1-1h14c0.552 0 1 0.448 1 1s-0.448 1-1 1z\"></path>\n",
       "<path d=\"M23 18h-14c-0.552 0-1-0.448-1-1s0.448-1 1-1h14c0.552 0 1 0.448 1 1s-0.448 1-1 1z\"></path>\n",
       "</symbol>\n",
       "</defs>\n",
       "</svg>\n",
       "<style>/* CSS stylesheet for displaying xarray objects in jupyterlab.\n",
       " *\n",
       " */\n",
       "\n",
       ":root {\n",
       "  --xr-font-color0: var(--jp-content-font-color0, rgba(0, 0, 0, 1));\n",
       "  --xr-font-color2: var(--jp-content-font-color2, rgba(0, 0, 0, 0.54));\n",
       "  --xr-font-color3: var(--jp-content-font-color3, rgba(0, 0, 0, 0.38));\n",
       "  --xr-border-color: var(--jp-border-color2, #e0e0e0);\n",
       "  --xr-disabled-color: var(--jp-layout-color3, #bdbdbd);\n",
       "  --xr-background-color: var(--jp-layout-color0, white);\n",
       "  --xr-background-color-row-even: var(--jp-layout-color1, white);\n",
       "  --xr-background-color-row-odd: var(--jp-layout-color2, #eeeeee);\n",
       "}\n",
       "\n",
       "html[theme=dark],\n",
       "body.vscode-dark {\n",
       "  --xr-font-color0: rgba(255, 255, 255, 1);\n",
       "  --xr-font-color2: rgba(255, 255, 255, 0.54);\n",
       "  --xr-font-color3: rgba(255, 255, 255, 0.38);\n",
       "  --xr-border-color: #1F1F1F;\n",
       "  --xr-disabled-color: #515151;\n",
       "  --xr-background-color: #111111;\n",
       "  --xr-background-color-row-even: #111111;\n",
       "  --xr-background-color-row-odd: #313131;\n",
       "}\n",
       "\n",
       ".xr-wrap {\n",
       "  display: block;\n",
       "  min-width: 300px;\n",
       "  max-width: 700px;\n",
       "}\n",
       "\n",
       ".xr-text-repr-fallback {\n",
       "  /* fallback to plain text repr when CSS is not injected (untrusted notebook) */\n",
       "  display: none;\n",
       "}\n",
       "\n",
       ".xr-header {\n",
       "  padding-top: 6px;\n",
       "  padding-bottom: 6px;\n",
       "  margin-bottom: 4px;\n",
       "  border-bottom: solid 1px var(--xr-border-color);\n",
       "}\n",
       "\n",
       ".xr-header > div,\n",
       ".xr-header > ul {\n",
       "  display: inline;\n",
       "  margin-top: 0;\n",
       "  margin-bottom: 0;\n",
       "}\n",
       "\n",
       ".xr-obj-type,\n",
       ".xr-array-name {\n",
       "  margin-left: 2px;\n",
       "  margin-right: 10px;\n",
       "}\n",
       "\n",
       ".xr-obj-type {\n",
       "  color: var(--xr-font-color2);\n",
       "}\n",
       "\n",
       ".xr-sections {\n",
       "  padding-left: 0 !important;\n",
       "  display: grid;\n",
       "  grid-template-columns: 150px auto auto 1fr 20px 20px;\n",
       "}\n",
       "\n",
       ".xr-section-item {\n",
       "  display: contents;\n",
       "}\n",
       "\n",
       ".xr-section-item input {\n",
       "  display: none;\n",
       "}\n",
       "\n",
       ".xr-section-item input + label {\n",
       "  color: var(--xr-disabled-color);\n",
       "}\n",
       "\n",
       ".xr-section-item input:enabled + label {\n",
       "  cursor: pointer;\n",
       "  color: var(--xr-font-color2);\n",
       "}\n",
       "\n",
       ".xr-section-item input:enabled + label:hover {\n",
       "  color: var(--xr-font-color0);\n",
       "}\n",
       "\n",
       ".xr-section-summary {\n",
       "  grid-column: 1;\n",
       "  color: var(--xr-font-color2);\n",
       "  font-weight: 500;\n",
       "}\n",
       "\n",
       ".xr-section-summary > span {\n",
       "  display: inline-block;\n",
       "  padding-left: 0.5em;\n",
       "}\n",
       "\n",
       ".xr-section-summary-in:disabled + label {\n",
       "  color: var(--xr-font-color2);\n",
       "}\n",
       "\n",
       ".xr-section-summary-in + label:before {\n",
       "  display: inline-block;\n",
       "  content: '►';\n",
       "  font-size: 11px;\n",
       "  width: 15px;\n",
       "  text-align: center;\n",
       "}\n",
       "\n",
       ".xr-section-summary-in:disabled + label:before {\n",
       "  color: var(--xr-disabled-color);\n",
       "}\n",
       "\n",
       ".xr-section-summary-in:checked + label:before {\n",
       "  content: '▼';\n",
       "}\n",
       "\n",
       ".xr-section-summary-in:checked + label > span {\n",
       "  display: none;\n",
       "}\n",
       "\n",
       ".xr-section-summary,\n",
       ".xr-section-inline-details {\n",
       "  padding-top: 4px;\n",
       "  padding-bottom: 4px;\n",
       "}\n",
       "\n",
       ".xr-section-inline-details {\n",
       "  grid-column: 2 / -1;\n",
       "}\n",
       "\n",
       ".xr-section-details {\n",
       "  display: none;\n",
       "  grid-column: 1 / -1;\n",
       "  margin-bottom: 5px;\n",
       "}\n",
       "\n",
       ".xr-section-summary-in:checked ~ .xr-section-details {\n",
       "  display: contents;\n",
       "}\n",
       "\n",
       ".xr-array-wrap {\n",
       "  grid-column: 1 / -1;\n",
       "  display: grid;\n",
       "  grid-template-columns: 20px auto;\n",
       "}\n",
       "\n",
       ".xr-array-wrap > label {\n",
       "  grid-column: 1;\n",
       "  vertical-align: top;\n",
       "}\n",
       "\n",
       ".xr-preview {\n",
       "  color: var(--xr-font-color3);\n",
       "}\n",
       "\n",
       ".xr-array-preview,\n",
       ".xr-array-data {\n",
       "  padding: 0 5px !important;\n",
       "  grid-column: 2;\n",
       "}\n",
       "\n",
       ".xr-array-data,\n",
       ".xr-array-in:checked ~ .xr-array-preview {\n",
       "  display: none;\n",
       "}\n",
       "\n",
       ".xr-array-in:checked ~ .xr-array-data,\n",
       ".xr-array-preview {\n",
       "  display: inline-block;\n",
       "}\n",
       "\n",
       ".xr-dim-list {\n",
       "  display: inline-block !important;\n",
       "  list-style: none;\n",
       "  padding: 0 !important;\n",
       "  margin: 0;\n",
       "}\n",
       "\n",
       ".xr-dim-list li {\n",
       "  display: inline-block;\n",
       "  padding: 0;\n",
       "  margin: 0;\n",
       "}\n",
       "\n",
       ".xr-dim-list:before {\n",
       "  content: '(';\n",
       "}\n",
       "\n",
       ".xr-dim-list:after {\n",
       "  content: ')';\n",
       "}\n",
       "\n",
       ".xr-dim-list li:not(:last-child):after {\n",
       "  content: ',';\n",
       "  padding-right: 5px;\n",
       "}\n",
       "\n",
       ".xr-has-index {\n",
       "  font-weight: bold;\n",
       "}\n",
       "\n",
       ".xr-var-list,\n",
       ".xr-var-item {\n",
       "  display: contents;\n",
       "}\n",
       "\n",
       ".xr-var-item > div,\n",
       ".xr-var-item label,\n",
       ".xr-var-item > .xr-var-name span {\n",
       "  background-color: var(--xr-background-color-row-even);\n",
       "  margin-bottom: 0;\n",
       "}\n",
       "\n",
       ".xr-var-item > .xr-var-name:hover span {\n",
       "  padding-right: 5px;\n",
       "}\n",
       "\n",
       ".xr-var-list > li:nth-child(odd) > div,\n",
       ".xr-var-list > li:nth-child(odd) > label,\n",
       ".xr-var-list > li:nth-child(odd) > .xr-var-name span {\n",
       "  background-color: var(--xr-background-color-row-odd);\n",
       "}\n",
       "\n",
       ".xr-var-name {\n",
       "  grid-column: 1;\n",
       "}\n",
       "\n",
       ".xr-var-dims {\n",
       "  grid-column: 2;\n",
       "}\n",
       "\n",
       ".xr-var-dtype {\n",
       "  grid-column: 3;\n",
       "  text-align: right;\n",
       "  color: var(--xr-font-color2);\n",
       "}\n",
       "\n",
       ".xr-var-preview {\n",
       "  grid-column: 4;\n",
       "}\n",
       "\n",
       ".xr-var-name,\n",
       ".xr-var-dims,\n",
       ".xr-var-dtype,\n",
       ".xr-preview,\n",
       ".xr-attrs dt {\n",
       "  white-space: nowrap;\n",
       "  overflow: hidden;\n",
       "  text-overflow: ellipsis;\n",
       "  padding-right: 10px;\n",
       "}\n",
       "\n",
       ".xr-var-name:hover,\n",
       ".xr-var-dims:hover,\n",
       ".xr-var-dtype:hover,\n",
       ".xr-attrs dt:hover {\n",
       "  overflow: visible;\n",
       "  width: auto;\n",
       "  z-index: 1;\n",
       "}\n",
       "\n",
       ".xr-var-attrs,\n",
       ".xr-var-data {\n",
       "  display: none;\n",
       "  background-color: var(--xr-background-color) !important;\n",
       "  padding-bottom: 5px !important;\n",
       "}\n",
       "\n",
       ".xr-var-attrs-in:checked ~ .xr-var-attrs,\n",
       ".xr-var-data-in:checked ~ .xr-var-data {\n",
       "  display: block;\n",
       "}\n",
       "\n",
       ".xr-var-data > table {\n",
       "  float: right;\n",
       "}\n",
       "\n",
       ".xr-var-name span,\n",
       ".xr-var-data,\n",
       ".xr-attrs {\n",
       "  padding-left: 25px !important;\n",
       "}\n",
       "\n",
       ".xr-attrs,\n",
       ".xr-var-attrs,\n",
       ".xr-var-data {\n",
       "  grid-column: 1 / -1;\n",
       "}\n",
       "\n",
       "dl.xr-attrs {\n",
       "  padding: 0;\n",
       "  margin: 0;\n",
       "  display: grid;\n",
       "  grid-template-columns: 125px auto;\n",
       "}\n",
       "\n",
       ".xr-attrs dt,\n",
       ".xr-attrs dd {\n",
       "  padding: 0;\n",
       "  margin: 0;\n",
       "  float: left;\n",
       "  padding-right: 10px;\n",
       "  width: auto;\n",
       "}\n",
       "\n",
       ".xr-attrs dt {\n",
       "  font-weight: normal;\n",
       "  grid-column: 1;\n",
       "}\n",
       "\n",
       ".xr-attrs dt:hover span {\n",
       "  display: inline-block;\n",
       "  background: var(--xr-background-color);\n",
       "  padding-right: 10px;\n",
       "}\n",
       "\n",
       ".xr-attrs dd {\n",
       "  grid-column: 2;\n",
       "  white-space: pre-wrap;\n",
       "  word-break: break-all;\n",
       "}\n",
       "\n",
       ".xr-icon-database,\n",
       ".xr-icon-file-text2 {\n",
       "  display: inline-block;\n",
       "  vertical-align: middle;\n",
       "  width: 1em;\n",
       "  height: 1.5em !important;\n",
       "  stroke-width: 0;\n",
       "  stroke: currentColor;\n",
       "  fill: currentColor;\n",
       "}\n",
       "</style><pre class='xr-text-repr-fallback'>&lt;xarray.DataArray &#x27;rr&#x27; (time: 61, x: 656, y: 190, z: 190)&gt;\n",
       "dask.array&lt;open_dataset-f10c69aac6d38ea0bbd6ef18e787ac85rr, shape=(61, 656, 190, 190), dtype=float32, chunksize=(61, 100, 100, 100), chunktype=numpy.ndarray&gt;\n",
       "Coordinates:\n",
       "  * time     (time) float32 12.0 12.02 12.03 12.05 ... 12.95 12.97 12.98 13.0\n",
       "  * x        (x) float32 -350.0 -348.4 -346.8 -345.2 ... 32.72 32.82 32.91 33.01\n",
       "  * y        (y) float32 -96.01 -93.07 -90.2 -87.39 ... 87.39 90.2 93.07 96.01\n",
       "  * z        (z) float32 -96.01 -93.07 -90.2 -87.39 ... 87.39 90.2 93.07 96.01\n",
       "Attributes:\n",
       "    units:    1/cm**3</pre><div class='xr-wrap' hidden><div class='xr-header'><div class='xr-obj-type'>xarray.DataArray</div><div class='xr-array-name'>'rr'</div><ul class='xr-dim-list'><li><span class='xr-has-index'>time</span>: 61</li><li><span class='xr-has-index'>x</span>: 656</li><li><span class='xr-has-index'>y</span>: 190</li><li><span class='xr-has-index'>z</span>: 190</li></ul></div><ul class='xr-sections'><li class='xr-section-item'><div class='xr-array-wrap'><input id='section-249d9f5a-6403-4acf-88c4-b1fd190683fc' class='xr-array-in' type='checkbox' checked><label for='section-249d9f5a-6403-4acf-88c4-b1fd190683fc' title='Show/hide data repr'><svg class='icon xr-icon-database'><use xlink:href='#icon-database'></use></svg></label><div class='xr-array-preview xr-preview'><span>dask.array&lt;chunksize=(61, 100, 100, 100), meta=np.ndarray&gt;</span></div><div class='xr-array-data'><table>\n",
       "    <tr>\n",
       "        <td>\n",
       "            <table>\n",
       "                <thead>\n",
       "                    <tr>\n",
       "                        <td> </td>\n",
       "                        <th> Array </th>\n",
       "                        <th> Chunk </th>\n",
       "                    </tr>\n",
       "                </thead>\n",
       "                <tbody>\n",
       "                    \n",
       "                    <tr>\n",
       "                        <th> Bytes </th>\n",
       "                        <td> 5.38 GiB </td>\n",
       "                        <td> 232.70 MiB </td>\n",
       "                    </tr>\n",
       "                    \n",
       "                    <tr>\n",
       "                        <th> Shape </th>\n",
       "                        <td> (61, 656, 190, 190) </td>\n",
       "                        <td> (61, 100, 100, 100) </td>\n",
       "                    </tr>\n",
       "                    <tr>\n",
       "                        <th> Count </th>\n",
       "                        <td> 29 Tasks </td>\n",
       "                        <td> 28 Chunks </td>\n",
       "                    </tr>\n",
       "                    <tr>\n",
       "                    <th> Type </th>\n",
       "                    <td> float32 </td>\n",
       "                    <td> numpy.ndarray </td>\n",
       "                    </tr>\n",
       "                </tbody>\n",
       "            </table>\n",
       "        </td>\n",
       "        <td>\n",
       "        <svg width=\"380\" height=\"164\" style=\"stroke:rgb(0,0,0);stroke-width:1\" >\n",
       "\n",
       "  <!-- Horizontal lines -->\n",
       "  <line x1=\"0\" y1=\"0\" x2=\"38\" y2=\"0\" style=\"stroke-width:2\" />\n",
       "  <line x1=\"0\" y1=\"25\" x2=\"38\" y2=\"25\" style=\"stroke-width:2\" />\n",
       "\n",
       "  <!-- Vertical lines -->\n",
       "  <line x1=\"0\" y1=\"0\" x2=\"0\" y2=\"25\" style=\"stroke-width:2\" />\n",
       "  <line x1=\"38\" y1=\"0\" x2=\"38\" y2=\"25\" style=\"stroke-width:2\" />\n",
       "\n",
       "  <!-- Colored Rectangle -->\n",
       "  <polygon points=\"0.0,0.0 38.19014606538945,0.0 38.19014606538945,25.412616514582485 0.0,25.412616514582485\" style=\"fill:#ECB172A0;stroke-width:0\"/>\n",
       "\n",
       "  <!-- Text -->\n",
       "  <text x=\"19.095073\" y=\"45.412617\" font-size=\"1.0rem\" font-weight=\"100\" text-anchor=\"middle\" >61</text>\n",
       "  <text x=\"58.190146\" y=\"12.706308\" font-size=\"1.0rem\" font-weight=\"100\" text-anchor=\"middle\" transform=\"rotate(0,58.190146,12.706308)\">1</text>\n",
       "\n",
       "\n",
       "  <!-- Horizontal lines -->\n",
       "  <line x1=\"108\" y1=\"0\" x2=\"178\" y2=\"70\" style=\"stroke-width:2\" />\n",
       "  <line x1=\"108\" y1=\"22\" x2=\"178\" y2=\"93\" />\n",
       "  <line x1=\"108\" y1=\"43\" x2=\"178\" y2=\"114\" style=\"stroke-width:2\" />\n",
       "\n",
       "  <!-- Vertical lines -->\n",
       "  <line x1=\"108\" y1=\"0\" x2=\"108\" y2=\"43\" style=\"stroke-width:2\" />\n",
       "  <line x1=\"118\" y1=\"10\" x2=\"118\" y2=\"54\" />\n",
       "  <line x1=\"129\" y1=\"21\" x2=\"129\" y2=\"64\" />\n",
       "  <line x1=\"140\" y1=\"32\" x2=\"140\" y2=\"75\" />\n",
       "  <line x1=\"151\" y1=\"43\" x2=\"151\" y2=\"86\" />\n",
       "  <line x1=\"161\" y1=\"53\" x2=\"161\" y2=\"97\" />\n",
       "  <line x1=\"172\" y1=\"64\" x2=\"172\" y2=\"107\" />\n",
       "  <line x1=\"178\" y1=\"70\" x2=\"178\" y2=\"114\" style=\"stroke-width:2\" />\n",
       "\n",
       "  <!-- Colored Rectangle -->\n",
       "  <polygon points=\"108.0,0.0 178.58823529411765,70.58823529411765 178.58823529411765,114.01401521559819 108.0,43.42577992148055\" style=\"fill:#ECB172A0;stroke-width:0\"/>\n",
       "\n",
       "  <!-- Horizontal lines -->\n",
       "  <line x1=\"108\" y1=\"0\" x2=\"151\" y2=\"0\" style=\"stroke-width:2\" />\n",
       "  <line x1=\"118\" y1=\"10\" x2=\"162\" y2=\"10\" />\n",
       "  <line x1=\"129\" y1=\"21\" x2=\"172\" y2=\"21\" />\n",
       "  <line x1=\"140\" y1=\"32\" x2=\"183\" y2=\"32\" />\n",
       "  <line x1=\"151\" y1=\"43\" x2=\"194\" y2=\"43\" />\n",
       "  <line x1=\"161\" y1=\"53\" x2=\"205\" y2=\"53\" />\n",
       "  <line x1=\"172\" y1=\"64\" x2=\"215\" y2=\"64\" />\n",
       "  <line x1=\"178\" y1=\"70\" x2=\"222\" y2=\"70\" style=\"stroke-width:2\" />\n",
       "\n",
       "  <!-- Vertical lines -->\n",
       "  <line x1=\"108\" y1=\"0\" x2=\"178\" y2=\"70\" style=\"stroke-width:2\" />\n",
       "  <line x1=\"130\" y1=\"0\" x2=\"201\" y2=\"70\" />\n",
       "  <line x1=\"151\" y1=\"0\" x2=\"222\" y2=\"70\" style=\"stroke-width:2\" />\n",
       "\n",
       "  <!-- Colored Rectangle -->\n",
       "  <polygon points=\"108.0,0.0 151.42577992148054,0.0 222.0140152155982,70.58823529411765 178.58823529411765,70.58823529411765\" style=\"fill:#ECB172A0;stroke-width:0\"/>\n",
       "\n",
       "  <!-- Horizontal lines -->\n",
       "  <line x1=\"178\" y1=\"70\" x2=\"222\" y2=\"70\" style=\"stroke-width:2\" />\n",
       "  <line x1=\"178\" y1=\"93\" x2=\"222\" y2=\"93\" />\n",
       "  <line x1=\"178\" y1=\"114\" x2=\"222\" y2=\"114\" style=\"stroke-width:2\" />\n",
       "\n",
       "  <!-- Vertical lines -->\n",
       "  <line x1=\"178\" y1=\"70\" x2=\"178\" y2=\"114\" style=\"stroke-width:2\" />\n",
       "  <line x1=\"201\" y1=\"70\" x2=\"201\" y2=\"114\" />\n",
       "  <line x1=\"222\" y1=\"70\" x2=\"222\" y2=\"114\" style=\"stroke-width:2\" />\n",
       "\n",
       "  <!-- Colored Rectangle -->\n",
       "  <polygon points=\"178.58823529411765,70.58823529411765 222.0140152155982,70.58823529411765 222.0140152155982,114.01401521559819 178.58823529411765,114.01401521559819\" style=\"fill:#ECB172A0;stroke-width:0\"/>\n",
       "\n",
       "  <!-- Text -->\n",
       "  <text x=\"200.301125\" y=\"134.014015\" font-size=\"1.0rem\" font-weight=\"100\" text-anchor=\"middle\" >190</text>\n",
       "  <text x=\"242.014015\" y=\"92.301125\" font-size=\"1.0rem\" font-weight=\"100\" text-anchor=\"middle\" transform=\"rotate(-90,242.014015,92.301125)\">190</text>\n",
       "  <text x=\"133.294118\" y=\"98.719898\" font-size=\"1.0rem\" font-weight=\"100\" text-anchor=\"middle\" transform=\"rotate(45,133.294118,98.719898)\">656</text>\n",
       "</svg>\n",
       "        </td>\n",
       "    </tr>\n",
       "</table></div></div></li><li class='xr-section-item'><input id='section-12d27bba-8085-4893-8b54-37b97a4a3e83' class='xr-section-summary-in' type='checkbox'  checked><label for='section-12d27bba-8085-4893-8b54-37b97a4a3e83' class='xr-section-summary' >Coordinates: <span>(4)</span></label><div class='xr-section-inline-details'></div><div class='xr-section-details'><ul class='xr-var-list'><li class='xr-var-item'><div class='xr-var-name'><span class='xr-has-index'>time</span></div><div class='xr-var-dims'>(time)</div><div class='xr-var-dtype'>float32</div><div class='xr-var-preview xr-preview'>12.0 12.02 12.03 ... 12.98 13.0</div><input id='attrs-d5af0b1d-b104-4928-9ad0-b9b7b601ff8a' class='xr-var-attrs-in' type='checkbox' disabled><label for='attrs-d5af0b1d-b104-4928-9ad0-b9b7b601ff8a' title='Show/Hide attributes'><svg class='icon xr-icon-file-text2'><use xlink:href='#icon-file-text2'></use></svg></label><input id='data-46820e6a-fcc3-457b-9ee4-76adc70b329e' class='xr-var-data-in' type='checkbox'><label for='data-46820e6a-fcc3-457b-9ee4-76adc70b329e' title='Show/Hide data repr'><svg class='icon xr-icon-database'><use xlink:href='#icon-database'></use></svg></label><div class='xr-var-attrs'><dl class='xr-attrs'></dl></div><div class='xr-var-data'><pre>array([12.000021, 12.016686, 12.033352, 12.050017, 12.066677, 12.083367,\n",
       "       12.100009, 12.116673, 12.133335, 12.150019, 12.166687, 12.183351,\n",
       "       12.200014, 12.216678, 12.233337, 12.250031, 12.266703, 12.283367,\n",
       "       12.300031, 12.316694, 12.333359, 12.350022, 12.366686, 12.383349,\n",
       "       12.400013, 12.416677, 12.43334 , 12.450032, 12.466687, 12.483342,\n",
       "       12.500036, 12.516691, 12.533346, 12.550001, 12.566671, 12.583369,\n",
       "       12.600029, 12.616689, 12.633348, 12.650007, 12.666667, 12.683368,\n",
       "       12.700031, 12.716679, 12.733337, 12.750032, 12.766691, 12.783349,\n",
       "       12.800005, 12.816669, 12.833358, 12.850017, 12.866675, 12.883342,\n",
       "       12.900029, 12.916687, 12.933346, 12.950012, 12.966695, 12.983348,\n",
       "       13.00001 ], dtype=float32)</pre></div></li><li class='xr-var-item'><div class='xr-var-name'><span class='xr-has-index'>x</span></div><div class='xr-var-dims'>(x)</div><div class='xr-var-dtype'>float32</div><div class='xr-var-preview xr-preview'>-350.0 -348.4 ... 32.91 33.01</div><input id='attrs-9c523b01-d6d8-400c-a210-d14bcb379dfc' class='xr-var-attrs-in' type='checkbox' disabled><label for='attrs-9c523b01-d6d8-400c-a210-d14bcb379dfc' title='Show/Hide attributes'><svg class='icon xr-icon-file-text2'><use xlink:href='#icon-file-text2'></use></svg></label><input id='data-723d60ee-4c9e-4087-a981-b08e45a010ad' class='xr-var-data-in' type='checkbox'><label for='data-723d60ee-4c9e-4087-a981-b08e45a010ad' title='Show/Hide data repr'><svg class='icon xr-icon-database'><use xlink:href='#icon-database'></use></svg></label><div class='xr-var-attrs'><dl class='xr-attrs'></dl></div><div class='xr-var-data'><pre>array([-350.0119  , -348.40955 , -346.80716 , ...,   32.815464,   32.912773,\n",
       "         33.01    ], dtype=float32)</pre></div></li><li class='xr-var-item'><div class='xr-var-name'><span class='xr-has-index'>y</span></div><div class='xr-var-dims'>(y)</div><div class='xr-var-dtype'>float32</div><div class='xr-var-preview xr-preview'>-96.01 -93.07 -90.2 ... 93.07 96.01</div><input id='attrs-dc6d0765-c490-49a5-aebf-cb4d93c9fa96' class='xr-var-attrs-in' type='checkbox' disabled><label for='attrs-dc6d0765-c490-49a5-aebf-cb4d93c9fa96' title='Show/Hide attributes'><svg class='icon xr-icon-file-text2'><use xlink:href='#icon-file-text2'></use></svg></label><input id='data-a1801715-6505-4c30-a4e3-49e60034ba93' class='xr-var-data-in' type='checkbox'><label for='data-a1801715-6505-4c30-a4e3-49e60034ba93' title='Show/Hide data repr'><svg class='icon xr-icon-database'><use xlink:href='#icon-database'></use></svg></label><div class='xr-var-attrs'><dl class='xr-attrs'></dl></div><div class='xr-var-data'><pre>array([-96.01    , -93.0725  , -90.197945, -87.38569 , -84.635056, -81.94539 ,\n",
       "       -79.31604 , -76.74634 , -74.235634, -71.78326 , -69.388565, -67.05089 ,\n",
       "       -64.76957 , -62.543953, -60.37338 , -58.257195, -56.194733, -54.185345,\n",
       "       -52.228363, -50.323135, -48.469   , -46.665302, -44.911377, -43.206566,\n",
       "       -41.550205, -39.941635, -38.38019 , -36.865208, -35.396023, -33.97196 ,\n",
       "       -32.59235 , -31.256525, -29.963804, -28.713509, -27.504953, -26.337452,\n",
       "       -25.210306, -24.122822, -23.074287, -22.063993, -21.091215, -20.155222,\n",
       "       -19.25527 , -18.39061 , -17.560472, -16.76408 , -16.000635, -15.269327,\n",
       "       -14.569327, -13.89979 , -13.259845, -12.648605, -12.065161, -11.50858 ,\n",
       "       -10.977909, -10.472171,  -9.990368,  -9.531482,  -9.094475,  -8.678293,\n",
       "        -8.281869,  -7.904123,  -7.54397 ,  -7.20032 ,  -6.872088,  -6.558195,\n",
       "        -6.257576,  -5.969182,  -5.691991,  -5.42501 ,  -5.167277,  -4.917874,\n",
       "        -4.675923,  -4.440594,  -4.211107,  -3.986734,  -3.766799,  -3.550684,\n",
       "        -3.337823,  -3.127704,  -2.919869,  -2.713911,  -2.509474,  -2.306248,\n",
       "        -2.103966,  -1.902405,  -1.70138 ,  -1.500738,  -1.300361,  -1.100157,\n",
       "        -0.900057,  -0.700016,  -0.500003,  -0.3     ,  -0.1     ,   0.1     ,\n",
       "         0.3     ,   0.500003,   0.700016,   0.900057,   1.100157,   1.300361,\n",
       "         1.500738,   1.70138 ,   1.902405,   2.103966,   2.306248,   2.509474,\n",
       "         2.713911,   2.919869,   3.127704,   3.337823,   3.550684,   3.766799,\n",
       "         3.986734,   4.211107,   4.440594,   4.675923,   4.917874,   5.167277,\n",
       "         5.42501 ,   5.691991,   5.969182,   6.257576,   6.558195,   6.872088,\n",
       "         7.20032 ,   7.54397 ,   7.904123,   8.281869,   8.678293,   9.094475,\n",
       "         9.531482,   9.990368,  10.472171,  10.977909,  11.50858 ,  12.065161,\n",
       "        12.648605,  13.259845,  13.89979 ,  14.569327,  15.269327,  16.000635,\n",
       "        16.76408 ,  17.560472,  18.39061 ,  19.25527 ,  20.155222,  21.091215,\n",
       "        22.063993,  23.074287,  24.122822,  25.210306,  26.337452,  27.504953,\n",
       "        28.713509,  29.963804,  31.256525,  32.59235 ,  33.97196 ,  35.396023,\n",
       "        36.865208,  38.38019 ,  39.941635,  41.550205,  43.206566,  44.911377,\n",
       "        46.665302,  48.469   ,  50.323135,  52.228363,  54.185345,  56.194733,\n",
       "        58.257195,  60.37338 ,  62.543953,  64.76957 ,  67.05089 ,  69.388565,\n",
       "        71.78326 ,  74.235634,  76.74634 ,  79.31604 ,  81.94539 ,  84.635056,\n",
       "        87.38569 ,  90.197945,  93.0725  ,  96.01    ], dtype=float32)</pre></div></li><li class='xr-var-item'><div class='xr-var-name'><span class='xr-has-index'>z</span></div><div class='xr-var-dims'>(z)</div><div class='xr-var-dtype'>float32</div><div class='xr-var-preview xr-preview'>-96.01 -93.07 -90.2 ... 93.07 96.01</div><input id='attrs-60970d50-5961-489a-8773-f489b117993c' class='xr-var-attrs-in' type='checkbox' disabled><label for='attrs-60970d50-5961-489a-8773-f489b117993c' title='Show/Hide attributes'><svg class='icon xr-icon-file-text2'><use xlink:href='#icon-file-text2'></use></svg></label><input id='data-30da3fce-7705-42b8-9563-1953e2117c83' class='xr-var-data-in' type='checkbox'><label for='data-30da3fce-7705-42b8-9563-1953e2117c83' title='Show/Hide data repr'><svg class='icon xr-icon-database'><use xlink:href='#icon-database'></use></svg></label><div class='xr-var-attrs'><dl class='xr-attrs'></dl></div><div class='xr-var-data'><pre>array([-96.01    , -93.0725  , -90.197945, -87.38569 , -84.635056, -81.94539 ,\n",
       "       -79.31604 , -76.74634 , -74.235634, -71.78326 , -69.388565, -67.05089 ,\n",
       "       -64.76957 , -62.543953, -60.37338 , -58.257195, -56.194733, -54.185345,\n",
       "       -52.228363, -50.323135, -48.469   , -46.665302, -44.911377, -43.206566,\n",
       "       -41.550205, -39.941635, -38.38019 , -36.865208, -35.396023, -33.97196 ,\n",
       "       -32.59235 , -31.256525, -29.963804, -28.713509, -27.504953, -26.337452,\n",
       "       -25.210306, -24.122822, -23.074287, -22.063993, -21.091215, -20.155222,\n",
       "       -19.25527 , -18.39061 , -17.560472, -16.76408 , -16.000635, -15.269327,\n",
       "       -14.569327, -13.89979 , -13.259845, -12.648605, -12.065161, -11.50858 ,\n",
       "       -10.977909, -10.472171,  -9.990368,  -9.531482,  -9.094475,  -8.678293,\n",
       "        -8.281869,  -7.904123,  -7.54397 ,  -7.20032 ,  -6.872088,  -6.558195,\n",
       "        -6.257576,  -5.969182,  -5.691991,  -5.42501 ,  -5.167277,  -4.917874,\n",
       "        -4.675923,  -4.440594,  -4.211107,  -3.986734,  -3.766799,  -3.550684,\n",
       "        -3.337823,  -3.127704,  -2.919869,  -2.713911,  -2.509474,  -2.306248,\n",
       "        -2.103966,  -1.902405,  -1.70138 ,  -1.500738,  -1.300361,  -1.100157,\n",
       "        -0.900057,  -0.700016,  -0.500003,  -0.3     ,  -0.1     ,   0.1     ,\n",
       "         0.3     ,   0.500003,   0.700016,   0.900057,   1.100157,   1.300361,\n",
       "         1.500738,   1.70138 ,   1.902405,   2.103966,   2.306248,   2.509474,\n",
       "         2.713911,   2.919869,   3.127704,   3.337823,   3.550684,   3.766799,\n",
       "         3.986734,   4.211107,   4.440594,   4.675923,   4.917874,   5.167277,\n",
       "         5.42501 ,   5.691991,   5.969182,   6.257576,   6.558195,   6.872088,\n",
       "         7.20032 ,   7.54397 ,   7.904123,   8.281869,   8.678293,   9.094475,\n",
       "         9.531482,   9.990368,  10.472171,  10.977909,  11.50858 ,  12.065161,\n",
       "        12.648605,  13.259845,  13.89979 ,  14.569327,  15.269327,  16.000635,\n",
       "        16.76408 ,  17.560472,  18.39061 ,  19.25527 ,  20.155222,  21.091215,\n",
       "        22.063993,  23.074287,  24.122822,  25.210306,  26.337452,  27.504953,\n",
       "        28.713509,  29.963804,  31.256525,  32.59235 ,  33.97196 ,  35.396023,\n",
       "        36.865208,  38.38019 ,  39.941635,  41.550205,  43.206566,  44.911377,\n",
       "        46.665302,  48.469   ,  50.323135,  52.228363,  54.185345,  56.194733,\n",
       "        58.257195,  60.37338 ,  62.543953,  64.76957 ,  67.05089 ,  69.388565,\n",
       "        71.78326 ,  74.235634,  76.74634 ,  79.31604 ,  81.94539 ,  84.635056,\n",
       "        87.38569 ,  90.197945,  93.0725  ,  96.01    ], dtype=float32)</pre></div></li></ul></div></li><li class='xr-section-item'><input id='section-0a410b2f-fe26-411b-8fbb-85db26555695' class='xr-section-summary-in' type='checkbox'  checked><label for='section-0a410b2f-fe26-411b-8fbb-85db26555695' class='xr-section-summary' >Attributes: <span>(1)</span></label><div class='xr-section-inline-details'></div><div class='xr-section-details'><dl class='xr-attrs'><dt><span>units :</span></dt><dd>1/cm**3</dd></dl></div></li></ul></div></div>"
      ],
      "text/plain": [
       "<xarray.DataArray 'rr' (time: 61, x: 656, y: 190, z: 190)>\n",
       "dask.array<open_dataset-f10c69aac6d38ea0bbd6ef18e787ac85rr, shape=(61, 656, 190, 190), dtype=float32, chunksize=(61, 100, 100, 100), chunktype=numpy.ndarray>\n",
       "Coordinates:\n",
       "  * time     (time) float32 12.0 12.02 12.03 12.05 ... 12.95 12.97 12.98 13.0\n",
       "  * x        (x) float32 -350.0 -348.4 -346.8 -345.2 ... 32.72 32.82 32.91 33.01\n",
       "  * y        (y) float32 -96.01 -93.07 -90.2 -87.39 ... 87.39 90.2 93.07 96.01\n",
       "  * z        (z) float32 -96.01 -93.07 -90.2 -87.39 ... 87.39 90.2 93.07 96.01\n",
       "Attributes:\n",
       "    units:    1/cm**3"
      ]
     },
     "execution_count": 12,
     "metadata": {},
     "output_type": "execute_result"
    }
   ],
   "source": [
    "kamodo_object.N_plasma.data"
   ]
  },
  {
   "cell_type": "code",
   "execution_count": 13,
   "metadata": {},
   "outputs": [
    {
     "data": {
      "text/plain": [
       "array(2.60609573)"
      ]
     },
     "execution_count": 13,
     "metadata": {},
     "output_type": "execute_result"
    }
   ],
   "source": [
    "kamodo_object.N_plasma.data.interp(time=12.8,x=5.,y=0.,z=0.).values"
   ]
  },
  {
   "cell_type": "code",
   "execution_count": 14,
   "metadata": {},
   "outputs": [
    {
     "name": "stdout",
     "output_type": "stream",
     "text": [
      "Took 0.019 s for 1 positions.\n"
     ]
    },
    {
     "data": {
      "text/plain": [
       "array([2.60609573])"
      ]
     },
     "execution_count": 14,
     "metadata": {},
     "output_type": "execute_result"
    }
   ],
   "source": [
    "kamodo_object.N_plasma([[12.8,5.,0.,0.]])"
   ]
  },
  {
   "cell_type": "code",
   "execution_count": 15,
   "metadata": {},
   "outputs": [
    {
     "data": {
      "text/plain": [
       "array(2.60609573)"
      ]
     },
     "execution_count": 15,
     "metadata": {},
     "output_type": "execute_result"
    }
   ],
   "source": [
    "kamodo_object.N_plasma_ijk(time=12.8,x=5.,y=0.,z=0.)"
   ]
  },
  {
   "cell_type": "code",
   "execution_count": 16,
   "metadata": {},
   "outputs": [
    {
     "name": "stdout",
     "output_type": "stream",
     "text": [
      "Help on function plot2D in module kamodo.readers.reader_kplots:\n",
      "\n",
      "plot2D(kamodo_object, varname, plottype, t, lon, lat, h=-1)\n",
      "    Use Kamodo's native plotting to generate 2D plot.\n",
      "    t, lon, lat, and h also double as t, x, y, and z for cartesian inputs.\n",
      "    Possible plot types are LonLat, LatH, LonH, TimeLat, TimeLon, and TimeH for\n",
      "        spherical coordinates; and TimeX, TimeY, TimeX, XY, XZ, and YZ for\n",
      "        cartesian coordinates.\n",
      "    If a LonLat plot is requested, then the function expects a single value\n",
      "        (integer, float, float32, or float64) for t and h (if h is given).\n",
      "        In this case, lon and lat should be 1D arrays or flat lists. \n",
      "    If the variable depends on height, then a value or array should be given for h.\n",
      "\n"
     ]
    }
   ],
   "source": [
    "#show documentation for 2D plotting function\n",
    "help(plot2D)"
   ]
  },
  {
   "cell_type": "code",
   "execution_count": 17,
   "metadata": {
    "scrolled": false
   },
   "outputs": [
    {
     "name": "stdout",
     "output_type": "stream",
     "text": [
      "dict_keys(['time', 'x', 'y', 'z'])\n",
      "---------------------------------------------------------------\n",
      "--------------  Plots for N_plasma  -----------------------\n",
      "---------------------------------------------------------------\n",
      "N_plasma\n",
      "Time slice at 12.500 hrs. Z slice at 2.0000000 R_E.\n",
      "Took 7.462 s for 400 positions.\n"
     ]
    },
    {
     "data": {
      "application/vnd.plotly.v1+json": {
       "config": {
        "linkText": "Export to plot.ly",
        "plotlyServerURL": "https://plot.ly",
        "showLink": false
       },
       "data": [
        {
         "meta": "2d-grid",
         "type": "contour",
         "x": [
          -15,
          -13.421052631578947,
          -11.842105263157894,
          -10.263157894736842,
          -8.68421052631579,
          -7.105263157894736,
          -5.526315789473685,
          -3.947368421052632,
          -2.3684210526315788,
          -0.7894736842105257,
          0.7894736842105274,
          2.3684210526315788,
          3.94736842105263,
          5.526315789473685,
          7.105263157894736,
          8.684210526315791,
          10.263157894736842,
          11.842105263157894,
          13.421052631578949,
          15
         ],
         "y": [
          -15,
          -13.421052631578947,
          -11.842105263157894,
          -10.263157894736842,
          -8.68421052631579,
          -7.105263157894736,
          -5.526315789473685,
          -3.947368421052632,
          -2.3684210526315788,
          -0.7894736842105257,
          0.7894736842105274,
          2.3684210526315788,
          3.94736842105263,
          5.526315789473685,
          7.105263157894736,
          8.684210526315791,
          10.263157894736842,
          11.842105263157894,
          13.421052631578949,
          15
         ],
         "z": [
          [
           0.20038453343428841,
           0.20038453343428841,
           0.20152263797757175,
           0.2100215579682296,
           0.2558671255052873,
           0.4043093098690456,
           0.7831284564556502,
           1.6146006245022018,
           3.255570362292878,
           6.434039419010978,
           9.285591548373453,
           11.228297100311236,
           13.038692809958782,
           13.742866182528676,
           11.815990228656068,
           5.581353874477648,
           4.8227204483358275,
           4.880254505018911,
           4.946966706459534,
           4.992121231904255
          ],
          [
           0.20038453343428841,
           0.20038453343428841,
           0.20038453343428841,
           0.20038453343428841,
           0.20048472514005675,
           0.2085926791978433,
           0.28461974692563663,
           0.618484062257366,
           1.314028562543496,
           2.800999058662001,
           5.849852728695206,
           9.696960607133617,
           11.817885822778793,
           13.461629777780189,
           14.080129452699808,
           9.787985251515696,
           4.836400593126316,
           4.880219224336525,
           4.940937997237419,
           4.992130160192907
          ],
          [
           0.20038453343428841,
           0.20038453343428841,
           0.20038453343428841,
           0.20038453343428841,
           0.20038453343428841,
           0.20038453343428841,
           0.20038513632076096,
           0.2274532038709586,
           0.5964830681635541,
           1.420818177219663,
           2.907707868745299,
           5.653267593132242,
           9.6626605481754,
           12.19975434831799,
           14.091269180169324,
           14.53052865349311,
           5.416495913876733,
           4.8802073440747336,
           4.9409518603787355,
           5.0147789601915065
          ],
          [
           0.20038453343428841,
           0.20038453343428841,
           0.20038453343428841,
           0.20038453343428841,
           0.20038471357963586,
           0.20038453343428841,
           0.20038453343428841,
           0.20038453343428841,
           0.21961132023873534,
           0.8244830973112639,
           1.9499203314673472,
           3.5532939435697806,
           5.424340570068239,
           8.663319706927844,
           13.043769081884838,
           15.374481007740405,
           12.914504959333904,
           4.880160404295566,
           4.9246669881125325,
           5.0147789601915065
          ],
          [
           0.20038453343428841,
           0.20038453343428841,
           0.20038453343428841,
           0.20050120094483426,
           0.20038787493440455,
           0.20038453343428841,
           0.20038453343428841,
           0.20038453343428841,
           0.20077596297777894,
           0.5206723988109776,
           1.6532013993650903,
           2.52445233268301,
           3.309400699486871,
           3.974419457191432,
           8.154532794379035,
           14.788853420508852,
           17.089706701121337,
           4.858080705826069,
           4.924708480119324,
           5.037475438707934
          ],
          [
           0.20038453343428841,
           0.20038453343428841,
           0.20038453343428841,
           0.20092129283963953,
           0.20038453343428841,
           0.20038453343428841,
           0.20038453343428841,
           0.20038453343428841,
           0.2023773808360539,
           0.5167398009900527,
           1.6357367624827401,
           1.9372918429249573,
           1.971896594209656,
           2.0023381684129653,
           2.2371166212912454,
           11.887232785691562,
           17.26221565366032,
           10.251289397521765,
           4.945031049048878,
           5.094210483588682
          ],
          [
           0.20038453343428841,
           0.20038453343428841,
           0.20038453343428841,
           0.20038453343428841,
           0.20038453343428841,
           0.20038453343428841,
           0.20038453343428841,
           0.20060199992657368,
           0.22410138733430782,
           0.8984185518760175,
           2.115147766898771,
           2.0916967236761046,
           1.6212844824791377,
           1.2929597707077964,
           1.1615676358224698,
           2.5898078866306906,
           17.461536014616446,
           18.597800692297547,
           4.94710947627118,
           5.095017191606618
          ],
          [
           0.20038453343428841,
           0.20038453343428841,
           0.20038453343428841,
           0.20038453343428841,
           0.20038453343428841,
           0.20038453343428841,
           0.22761943311784563,
           0.31204114663803373,
           0.31426906531466997,
           1.1526770916327032,
           2.760022139122483,
           2.008914376502314,
           1.0960199030595104,
           0.6830655828137733,
           0.3746848909036609,
           2.081757293835032,
           14.258588669475088,
           18.78413940306969,
           4.947096576604947,
           5.098964085441259
          ],
          [
           0.20038453343428841,
           0.20038453343428841,
           0.20038453343428841,
           0.20038453343428841,
           0.2007106188642439,
           0.4077597108429756,
           1.2868541551444512,
           3.368738969785115,
           1.3825385409948547,
           5.605964377936407,
           6.111182908611574,
           1.1812160760361934,
           1.0711838001847847,
           0.7079510659621677,
           0.4118583274381679,
           0.5372389564803783,
           6.095271145492933,
           19.358967936389636,
           4.9742990660952335,
           5.094361760061578
          ],
          [
           0.20038453343428841,
           0.20038453343428841,
           0.20038453343428841,
           0.20038453343428841,
           0.4922869359069744,
           0.9017774913283597,
           2.285806876969767,
           7.001576023708985,
           9.160345353082276,
           null,
           null,
           3.958308128251766,
           2.4046101992736477,
           0.9974679293310654,
           0.77593261161981,
           2.1655463892335995,
           2.543859282701638,
           19.948915605001297,
           5.136286663848968,
           5.083233244854515
          ],
          [
           0.20038453343428841,
           0.20038453343428841,
           0.20038453343428841,
           0.2636701798521108,
           0.58855542140134,
           1.0922406312218658,
           3.1066731700065855,
           5.793961135381763,
           7.602780533387883,
           null,
           null,
           6.936516752509702,
           3.3295294192513056,
           2.2844290904898905,
           2.167521016453228,
           4.864594221513269,
           3.2231744316710773,
           19.884617338518957,
           5.046076074424212,
           5.092810740622026
          ],
          [
           0.20038453343428841,
           0.20038453343428841,
           0.20087538086133316,
           0.4429219300879062,
           0.6406932706542146,
           1.042650748298472,
           2.7250865632016987,
           3.930594029819883,
           10.65634453047253,
           9.136687670791632,
           9.051332134215945,
           7.876611848947649,
           6.422913286704188,
           5.816870499491747,
           7.423615161964216,
           4.5171160720956465,
           6.433128900550159,
           19.635145235287478,
           4.949277156913366,
           5.097999265108094
          ],
          [
           0.21005065494914596,
           0.27920090941905296,
           0.4773609689756674,
           0.4036882922090844,
           0.5510309705167937,
           0.8526729048963838,
           1.6105066888230497,
           2.2526903856175573,
           7.906544684911009,
           10.141641130067503,
           10.139070579378986,
           10.476559053744973,
           11.086683044792284,
           8.780059713745196,
           4.287030028466146,
           1.7835878381908317,
           17.682300151050597,
           19.285431049017564,
           4.947098885470868,
           5.097459884700645
          ],
          [
           0.5298227362648652,
           0.944000888347876,
           0.6930392505726578,
           0.4217647322005845,
           0.508906432400733,
           0.6956939543636992,
           0.9725954363852479,
           1.6863977996172512,
           2.261781807571168,
           3.9393709974352493,
           5.097016351153741,
           5.473950991211344,
           3.5369549549224852,
           2.609292907697345,
           2.1639673593402238,
           2.445216176677828,
           18.896392308043655,
           18.726891940099552,
           4.924743475250285,
           5.07937018555541
          ],
          [
           0.7573083248097731,
           1.097892275876432,
           1.0580498496752055,
           0.718697741858785,
           0.6222413971412932,
           0.6330007894507532,
           0.6728161036412461,
           0.7927517181568527,
           1.0964219693865607,
           1.4835547393225537,
           1.906805959186406,
           2.03659791703939,
           2.186741899663537,
           2.444016118095298,
           3.2861903034940463,
           14.58639058220805,
           18.579568645371435,
           5.06063184081602,
           4.940980975560836,
           5.035583945234727
          ],
          [
           1.0198657150231127,
           1.4588876415210246,
           1.7981718964332478,
           1.4070274109368608,
           0.9169025858875575,
           0.7735082704932672,
           0.7186835274919183,
           0.7090156052338566,
           0.835598995909614,
           1.0264286883321379,
           1.4225289439117175,
           2.054595534679737,
           2.885464038193901,
           3.926127173463945,
           10.23823341083948,
           16.997116295930606,
           17.54754306502204,
           4.9022985243191215,
           4.940937997237419,
           5.0147789601915065
          ],
          [
           1.1913561220950386,
           1.7801534548629505,
           2.183521181339516,
           2.2616698435289986,
           1.726363971714013,
           1.0083431442113011,
           0.9524554210951163,
           0.9524687197302436,
           1.2513205760528934,
           1.5919000742372043,
           2.2217744220891453,
           3.285869694511399,
           5.013859910660673,
           10.563427551952513,
           15.402227082708244,
           16.80337586800998,
           7.004269945170929,
           4.902345464098289,
           4.946966706459534,
           5.0147789601915065
          ],
          [
           1.276510671531919,
           1.6585381962115329,
           1.815437086944996,
           2.018488211498325,
           1.9161792203660868,
           1.4638477477078844,
           1.2157728614965881,
           1.4952021922102803,
           2.008493063257135,
           2.6418442284421046,
           3.729748851175619,
           6.520640961032713,
           11.023954346408571,
           14.184583006036283,
           15.754295315679038,
           13.289463277628014,
           4.841921012986404,
           4.880765459587153,
           4.946966706459534,
           4.992133166665553
          ],
          [
           0.8810188267012983,
           1.0062571478053228,
           1.1480425937884342,
           1.3656420439275627,
           1.630611730106081,
           1.654945557223184,
           1.8455486329928827,
           2.3323948683063027,
           3.048663352281108,
           4.741654989915153,
           7.872996403695099,
           10.890078071782156,
           13.23757760467804,
           14.90554809712035,
           14.438526797106052,
           6.517549199548074,
           4.816603473662334,
           4.88081262053133,
           4.946966706459534,
           4.992133166665553
          ],
          [
           0.8677888770874991,
           1.02806157200861,
           1.2485039406352922,
           1.4794233070096354,
           1.7365717676116608,
           2.185611093194326,
           2.7508568867034313,
           4.000747926076153,
           6.229622250043883,
           8.604422080714443,
           10.527186366016497,
           12.42472591593352,
           14.07784745977271,
           14.383996603839337,
           9.454288953962612,
           4.883190695473122,
           4.8227204483358275,
           4.88081262053133,
           4.946966706459534,
           4.992121231904255
          ]
         ]
        }
       ],
       "layout": {
        "autosize": false,
        "height": 400,
        "margin": {
         "b": 32,
         "pad": 0,
         "r": 30,
         "t": 40
        },
        "template": {
         "data": {
          "bar": [
           {
            "error_x": {
             "color": "#2a3f5f"
            },
            "error_y": {
             "color": "#2a3f5f"
            },
            "marker": {
             "line": {
              "color": "#E5ECF6",
              "width": 0.5
             }
            },
            "type": "bar"
           }
          ],
          "barpolar": [
           {
            "marker": {
             "line": {
              "color": "#E5ECF6",
              "width": 0.5
             }
            },
            "type": "barpolar"
           }
          ],
          "carpet": [
           {
            "aaxis": {
             "endlinecolor": "#2a3f5f",
             "gridcolor": "white",
             "linecolor": "white",
             "minorgridcolor": "white",
             "startlinecolor": "#2a3f5f"
            },
            "baxis": {
             "endlinecolor": "#2a3f5f",
             "gridcolor": "white",
             "linecolor": "white",
             "minorgridcolor": "white",
             "startlinecolor": "#2a3f5f"
            },
            "type": "carpet"
           }
          ],
          "choropleth": [
           {
            "colorbar": {
             "outlinewidth": 0,
             "ticks": ""
            },
            "type": "choropleth"
           }
          ],
          "contour": [
           {
            "colorbar": {
             "outlinewidth": 0,
             "ticks": ""
            },
            "colorscale": [
             [
              0,
              "#0d0887"
             ],
             [
              0.1111111111111111,
              "#46039f"
             ],
             [
              0.2222222222222222,
              "#7201a8"
             ],
             [
              0.3333333333333333,
              "#9c179e"
             ],
             [
              0.4444444444444444,
              "#bd3786"
             ],
             [
              0.5555555555555556,
              "#d8576b"
             ],
             [
              0.6666666666666666,
              "#ed7953"
             ],
             [
              0.7777777777777778,
              "#fb9f3a"
             ],
             [
              0.8888888888888888,
              "#fdca26"
             ],
             [
              1,
              "#f0f921"
             ]
            ],
            "type": "contour"
           }
          ],
          "contourcarpet": [
           {
            "colorbar": {
             "outlinewidth": 0,
             "ticks": ""
            },
            "type": "contourcarpet"
           }
          ],
          "heatmap": [
           {
            "colorbar": {
             "outlinewidth": 0,
             "ticks": ""
            },
            "colorscale": [
             [
              0,
              "#0d0887"
             ],
             [
              0.1111111111111111,
              "#46039f"
             ],
             [
              0.2222222222222222,
              "#7201a8"
             ],
             [
              0.3333333333333333,
              "#9c179e"
             ],
             [
              0.4444444444444444,
              "#bd3786"
             ],
             [
              0.5555555555555556,
              "#d8576b"
             ],
             [
              0.6666666666666666,
              "#ed7953"
             ],
             [
              0.7777777777777778,
              "#fb9f3a"
             ],
             [
              0.8888888888888888,
              "#fdca26"
             ],
             [
              1,
              "#f0f921"
             ]
            ],
            "type": "heatmap"
           }
          ],
          "heatmapgl": [
           {
            "colorbar": {
             "outlinewidth": 0,
             "ticks": ""
            },
            "colorscale": [
             [
              0,
              "#0d0887"
             ],
             [
              0.1111111111111111,
              "#46039f"
             ],
             [
              0.2222222222222222,
              "#7201a8"
             ],
             [
              0.3333333333333333,
              "#9c179e"
             ],
             [
              0.4444444444444444,
              "#bd3786"
             ],
             [
              0.5555555555555556,
              "#d8576b"
             ],
             [
              0.6666666666666666,
              "#ed7953"
             ],
             [
              0.7777777777777778,
              "#fb9f3a"
             ],
             [
              0.8888888888888888,
              "#fdca26"
             ],
             [
              1,
              "#f0f921"
             ]
            ],
            "type": "heatmapgl"
           }
          ],
          "histogram": [
           {
            "marker": {
             "colorbar": {
              "outlinewidth": 0,
              "ticks": ""
             }
            },
            "type": "histogram"
           }
          ],
          "histogram2d": [
           {
            "colorbar": {
             "outlinewidth": 0,
             "ticks": ""
            },
            "colorscale": [
             [
              0,
              "#0d0887"
             ],
             [
              0.1111111111111111,
              "#46039f"
             ],
             [
              0.2222222222222222,
              "#7201a8"
             ],
             [
              0.3333333333333333,
              "#9c179e"
             ],
             [
              0.4444444444444444,
              "#bd3786"
             ],
             [
              0.5555555555555556,
              "#d8576b"
             ],
             [
              0.6666666666666666,
              "#ed7953"
             ],
             [
              0.7777777777777778,
              "#fb9f3a"
             ],
             [
              0.8888888888888888,
              "#fdca26"
             ],
             [
              1,
              "#f0f921"
             ]
            ],
            "type": "histogram2d"
           }
          ],
          "histogram2dcontour": [
           {
            "colorbar": {
             "outlinewidth": 0,
             "ticks": ""
            },
            "colorscale": [
             [
              0,
              "#0d0887"
             ],
             [
              0.1111111111111111,
              "#46039f"
             ],
             [
              0.2222222222222222,
              "#7201a8"
             ],
             [
              0.3333333333333333,
              "#9c179e"
             ],
             [
              0.4444444444444444,
              "#bd3786"
             ],
             [
              0.5555555555555556,
              "#d8576b"
             ],
             [
              0.6666666666666666,
              "#ed7953"
             ],
             [
              0.7777777777777778,
              "#fb9f3a"
             ],
             [
              0.8888888888888888,
              "#fdca26"
             ],
             [
              1,
              "#f0f921"
             ]
            ],
            "type": "histogram2dcontour"
           }
          ],
          "mesh3d": [
           {
            "colorbar": {
             "outlinewidth": 0,
             "ticks": ""
            },
            "type": "mesh3d"
           }
          ],
          "parcoords": [
           {
            "line": {
             "colorbar": {
              "outlinewidth": 0,
              "ticks": ""
             }
            },
            "type": "parcoords"
           }
          ],
          "pie": [
           {
            "automargin": true,
            "type": "pie"
           }
          ],
          "scatter": [
           {
            "marker": {
             "colorbar": {
              "outlinewidth": 0,
              "ticks": ""
             }
            },
            "type": "scatter"
           }
          ],
          "scatter3d": [
           {
            "line": {
             "colorbar": {
              "outlinewidth": 0,
              "ticks": ""
             }
            },
            "marker": {
             "colorbar": {
              "outlinewidth": 0,
              "ticks": ""
             }
            },
            "type": "scatter3d"
           }
          ],
          "scattercarpet": [
           {
            "marker": {
             "colorbar": {
              "outlinewidth": 0,
              "ticks": ""
             }
            },
            "type": "scattercarpet"
           }
          ],
          "scattergeo": [
           {
            "marker": {
             "colorbar": {
              "outlinewidth": 0,
              "ticks": ""
             }
            },
            "type": "scattergeo"
           }
          ],
          "scattergl": [
           {
            "marker": {
             "colorbar": {
              "outlinewidth": 0,
              "ticks": ""
             }
            },
            "type": "scattergl"
           }
          ],
          "scattermapbox": [
           {
            "marker": {
             "colorbar": {
              "outlinewidth": 0,
              "ticks": ""
             }
            },
            "type": "scattermapbox"
           }
          ],
          "scatterpolar": [
           {
            "marker": {
             "colorbar": {
              "outlinewidth": 0,
              "ticks": ""
             }
            },
            "type": "scatterpolar"
           }
          ],
          "scatterpolargl": [
           {
            "marker": {
             "colorbar": {
              "outlinewidth": 0,
              "ticks": ""
             }
            },
            "type": "scatterpolargl"
           }
          ],
          "scatterternary": [
           {
            "marker": {
             "colorbar": {
              "outlinewidth": 0,
              "ticks": ""
             }
            },
            "type": "scatterternary"
           }
          ],
          "surface": [
           {
            "colorbar": {
             "outlinewidth": 0,
             "ticks": ""
            },
            "colorscale": [
             [
              0,
              "#0d0887"
             ],
             [
              0.1111111111111111,
              "#46039f"
             ],
             [
              0.2222222222222222,
              "#7201a8"
             ],
             [
              0.3333333333333333,
              "#9c179e"
             ],
             [
              0.4444444444444444,
              "#bd3786"
             ],
             [
              0.5555555555555556,
              "#d8576b"
             ],
             [
              0.6666666666666666,
              "#ed7953"
             ],
             [
              0.7777777777777778,
              "#fb9f3a"
             ],
             [
              0.8888888888888888,
              "#fdca26"
             ],
             [
              1,
              "#f0f921"
             ]
            ],
            "type": "surface"
           }
          ],
          "table": [
           {
            "cells": {
             "fill": {
              "color": "#EBF0F8"
             },
             "line": {
              "color": "white"
             }
            },
            "header": {
             "fill": {
              "color": "#C8D4E3"
             },
             "line": {
              "color": "white"
             }
            },
            "type": "table"
           }
          ]
         },
         "layout": {
          "annotationdefaults": {
           "arrowcolor": "#2a3f5f",
           "arrowhead": 0,
           "arrowwidth": 1
          },
          "autotypenumbers": "strict",
          "coloraxis": {
           "colorbar": {
            "outlinewidth": 0,
            "ticks": ""
           }
          },
          "colorscale": {
           "diverging": [
            [
             0,
             "#8e0152"
            ],
            [
             0.1,
             "#c51b7d"
            ],
            [
             0.2,
             "#de77ae"
            ],
            [
             0.3,
             "#f1b6da"
            ],
            [
             0.4,
             "#fde0ef"
            ],
            [
             0.5,
             "#f7f7f7"
            ],
            [
             0.6,
             "#e6f5d0"
            ],
            [
             0.7,
             "#b8e186"
            ],
            [
             0.8,
             "#7fbc41"
            ],
            [
             0.9,
             "#4d9221"
            ],
            [
             1,
             "#276419"
            ]
           ],
           "sequential": [
            [
             0,
             "#0d0887"
            ],
            [
             0.1111111111111111,
             "#46039f"
            ],
            [
             0.2222222222222222,
             "#7201a8"
            ],
            [
             0.3333333333333333,
             "#9c179e"
            ],
            [
             0.4444444444444444,
             "#bd3786"
            ],
            [
             0.5555555555555556,
             "#d8576b"
            ],
            [
             0.6666666666666666,
             "#ed7953"
            ],
            [
             0.7777777777777778,
             "#fb9f3a"
            ],
            [
             0.8888888888888888,
             "#fdca26"
            ],
            [
             1,
             "#f0f921"
            ]
           ],
           "sequentialminus": [
            [
             0,
             "#0d0887"
            ],
            [
             0.1111111111111111,
             "#46039f"
            ],
            [
             0.2222222222222222,
             "#7201a8"
            ],
            [
             0.3333333333333333,
             "#9c179e"
            ],
            [
             0.4444444444444444,
             "#bd3786"
            ],
            [
             0.5555555555555556,
             "#d8576b"
            ],
            [
             0.6666666666666666,
             "#ed7953"
            ],
            [
             0.7777777777777778,
             "#fb9f3a"
            ],
            [
             0.8888888888888888,
             "#fdca26"
            ],
            [
             1,
             "#f0f921"
            ]
           ]
          },
          "colorway": [
           "#636efa",
           "#EF553B",
           "#00cc96",
           "#ab63fa",
           "#FFA15A",
           "#19d3f3",
           "#FF6692",
           "#B6E880",
           "#FF97FF",
           "#FECB52"
          ],
          "font": {
           "color": "#2a3f5f"
          },
          "geo": {
           "bgcolor": "white",
           "lakecolor": "white",
           "landcolor": "#E5ECF6",
           "showlakes": true,
           "showland": true,
           "subunitcolor": "white"
          },
          "hoverlabel": {
           "align": "left"
          },
          "hovermode": "closest",
          "mapbox": {
           "style": "light"
          },
          "paper_bgcolor": "white",
          "plot_bgcolor": "#E5ECF6",
          "polar": {
           "angularaxis": {
            "gridcolor": "white",
            "linecolor": "white",
            "ticks": ""
           },
           "bgcolor": "#E5ECF6",
           "radialaxis": {
            "gridcolor": "white",
            "linecolor": "white",
            "ticks": ""
           }
          },
          "scene": {
           "xaxis": {
            "backgroundcolor": "#E5ECF6",
            "gridcolor": "white",
            "gridwidth": 2,
            "linecolor": "white",
            "showbackground": true,
            "ticks": "",
            "zerolinecolor": "white"
           },
           "yaxis": {
            "backgroundcolor": "#E5ECF6",
            "gridcolor": "white",
            "gridwidth": 2,
            "linecolor": "white",
            "showbackground": true,
            "ticks": "",
            "zerolinecolor": "white"
           },
           "zaxis": {
            "backgroundcolor": "#E5ECF6",
            "gridcolor": "white",
            "gridwidth": 2,
            "linecolor": "white",
            "showbackground": true,
            "ticks": "",
            "zerolinecolor": "white"
           }
          },
          "shapedefaults": {
           "line": {
            "color": "#2a3f5f"
           }
          },
          "ternary": {
           "aaxis": {
            "gridcolor": "white",
            "linecolor": "white",
            "ticks": ""
           },
           "baxis": {
            "gridcolor": "white",
            "linecolor": "white",
            "ticks": ""
           },
           "bgcolor": "#E5ECF6",
           "caxis": {
            "gridcolor": "white",
            "linecolor": "white",
            "ticks": ""
           }
          },
          "title": {
           "x": 0.05
          },
          "xaxis": {
           "automargin": true,
           "gridcolor": "white",
           "linecolor": "white",
           "ticks": "",
           "title": {
            "standoff": 15
           },
           "zerolinecolor": "white",
           "zerolinewidth": 2
          },
          "yaxis": {
           "automargin": true,
           "gridcolor": "white",
           "linecolor": "white",
           "ticks": "",
           "title": {
            "standoff": 15
           },
           "zerolinecolor": "white",
           "zerolinewidth": 2
          }
         }
        },
        "title": {
         "text": "$\\operatorname{XY}(x[R_{E}],y[R_{E}])[\\frac{1}{cm^{3}}] = \\lambda{\\left(x,y \\right)}$"
        },
        "width": 700,
        "xaxis": {
         "title": {
          "text": "$x$"
         }
        },
        "yaxis": {
         "title": {
          "text": "$y$"
         }
        }
       }
      },
      "text/html": [
       "<div>                            <div id=\"f4f8548a-55b9-4e1e-a0b1-39691c35bbbf\" class=\"plotly-graph-div\" style=\"height:400px; width:700px;\"></div>            <script type=\"text/javascript\">                require([\"plotly\"], function(Plotly) {                    window.PLOTLYENV=window.PLOTLYENV || {};                                    if (document.getElementById(\"f4f8548a-55b9-4e1e-a0b1-39691c35bbbf\")) {                    Plotly.newPlot(                        \"f4f8548a-55b9-4e1e-a0b1-39691c35bbbf\",                        [{\"meta\": \"2d-grid\", \"type\": \"contour\", \"x\": [-15.0, -13.421052631578947, -11.842105263157894, -10.263157894736842, -8.68421052631579, -7.105263157894736, -5.526315789473685, -3.947368421052632, -2.3684210526315788, -0.7894736842105257, 0.7894736842105274, 2.3684210526315788, 3.94736842105263, 5.526315789473685, 7.105263157894736, 8.684210526315791, 10.263157894736842, 11.842105263157894, 13.421052631578949, 15.0], \"y\": [-15.0, -13.421052631578947, -11.842105263157894, -10.263157894736842, -8.68421052631579, -7.105263157894736, -5.526315789473685, -3.947368421052632, -2.3684210526315788, -0.7894736842105257, 0.7894736842105274, 2.3684210526315788, 3.94736842105263, 5.526315789473685, 7.105263157894736, 8.684210526315791, 10.263157894736842, 11.842105263157894, 13.421052631578949, 15.0], \"z\": [[0.20038453343428841, 0.20038453343428841, 0.20152263797757175, 0.2100215579682296, 0.2558671255052873, 0.4043093098690456, 0.7831284564556502, 1.6146006245022018, 3.255570362292878, 6.434039419010978, 9.285591548373453, 11.228297100311236, 13.038692809958782, 13.742866182528676, 11.815990228656068, 5.581353874477648, 4.8227204483358275, 4.880254505018911, 4.946966706459534, 4.992121231904255], [0.20038453343428841, 0.20038453343428841, 0.20038453343428841, 0.20038453343428841, 0.20048472514005675, 0.2085926791978433, 0.28461974692563663, 0.618484062257366, 1.314028562543496, 2.800999058662001, 5.849852728695206, 9.696960607133617, 11.817885822778793, 13.461629777780189, 14.080129452699808, 9.787985251515696, 4.836400593126316, 4.880219224336525, 4.940937997237419, 4.992130160192907], [0.20038453343428841, 0.20038453343428841, 0.20038453343428841, 0.20038453343428841, 0.20038453343428841, 0.20038453343428841, 0.20038513632076096, 0.2274532038709586, 0.5964830681635541, 1.420818177219663, 2.907707868745299, 5.653267593132242, 9.6626605481754, 12.19975434831799, 14.091269180169324, 14.53052865349311, 5.416495913876733, 4.8802073440747336, 4.9409518603787355, 5.0147789601915065], [0.20038453343428841, 0.20038453343428841, 0.20038453343428841, 0.20038453343428841, 0.20038471357963586, 0.20038453343428841, 0.20038453343428841, 0.20038453343428841, 0.21961132023873534, 0.8244830973112639, 1.9499203314673472, 3.5532939435697806, 5.424340570068239, 8.663319706927844, 13.043769081884838, 15.374481007740405, 12.914504959333904, 4.880160404295566, 4.9246669881125325, 5.0147789601915065], [0.20038453343428841, 0.20038453343428841, 0.20038453343428841, 0.20050120094483426, 0.20038787493440455, 0.20038453343428841, 0.20038453343428841, 0.20038453343428841, 0.20077596297777894, 0.5206723988109776, 1.6532013993650903, 2.52445233268301, 3.309400699486871, 3.974419457191432, 8.154532794379035, 14.788853420508852, 17.089706701121337, 4.858080705826069, 4.924708480119324, 5.037475438707934], [0.20038453343428841, 0.20038453343428841, 0.20038453343428841, 0.20092129283963953, 0.20038453343428841, 0.20038453343428841, 0.20038453343428841, 0.20038453343428841, 0.2023773808360539, 0.5167398009900527, 1.6357367624827401, 1.9372918429249573, 1.971896594209656, 2.0023381684129653, 2.2371166212912454, 11.887232785691562, 17.26221565366032, 10.251289397521765, 4.945031049048878, 5.094210483588682], [0.20038453343428841, 0.20038453343428841, 0.20038453343428841, 0.20038453343428841, 0.20038453343428841, 0.20038453343428841, 0.20038453343428841, 0.20060199992657368, 0.22410138733430782, 0.8984185518760175, 2.115147766898771, 2.0916967236761046, 1.6212844824791377, 1.2929597707077964, 1.1615676358224698, 2.5898078866306906, 17.461536014616446, 18.597800692297547, 4.94710947627118, 5.095017191606618], [0.20038453343428841, 0.20038453343428841, 0.20038453343428841, 0.20038453343428841, 0.20038453343428841, 0.20038453343428841, 0.22761943311784563, 0.31204114663803373, 0.31426906531466997, 1.1526770916327032, 2.760022139122483, 2.008914376502314, 1.0960199030595104, 0.6830655828137733, 0.3746848909036609, 2.081757293835032, 14.258588669475088, 18.78413940306969, 4.947096576604947, 5.098964085441259], [0.20038453343428841, 0.20038453343428841, 0.20038453343428841, 0.20038453343428841, 0.2007106188642439, 0.4077597108429756, 1.2868541551444512, 3.368738969785115, 1.3825385409948547, 5.605964377936407, 6.111182908611574, 1.1812160760361934, 1.0711838001847847, 0.7079510659621677, 0.4118583274381679, 0.5372389564803783, 6.095271145492933, 19.358967936389636, 4.9742990660952335, 5.094361760061578], [0.20038453343428841, 0.20038453343428841, 0.20038453343428841, 0.20038453343428841, 0.4922869359069744, 0.9017774913283597, 2.285806876969767, 7.001576023708985, 9.160345353082276, null, null, 3.958308128251766, 2.4046101992736477, 0.9974679293310654, 0.77593261161981, 2.1655463892335995, 2.543859282701638, 19.948915605001297, 5.136286663848968, 5.083233244854515], [0.20038453343428841, 0.20038453343428841, 0.20038453343428841, 0.2636701798521108, 0.58855542140134, 1.0922406312218658, 3.1066731700065855, 5.793961135381763, 7.602780533387883, null, null, 6.936516752509702, 3.3295294192513056, 2.2844290904898905, 2.167521016453228, 4.864594221513269, 3.2231744316710773, 19.884617338518957, 5.046076074424212, 5.092810740622026], [0.20038453343428841, 0.20038453343428841, 0.20087538086133316, 0.4429219300879062, 0.6406932706542146, 1.042650748298472, 2.7250865632016987, 3.930594029819883, 10.65634453047253, 9.136687670791632, 9.051332134215945, 7.876611848947649, 6.422913286704188, 5.816870499491747, 7.423615161964216, 4.5171160720956465, 6.433128900550159, 19.635145235287478, 4.949277156913366, 5.097999265108094], [0.21005065494914596, 0.27920090941905296, 0.4773609689756674, 0.4036882922090844, 0.5510309705167937, 0.8526729048963838, 1.6105066888230497, 2.2526903856175573, 7.906544684911009, 10.141641130067503, 10.139070579378986, 10.476559053744973, 11.086683044792284, 8.780059713745196, 4.287030028466146, 1.7835878381908317, 17.682300151050597, 19.285431049017564, 4.947098885470868, 5.097459884700645], [0.5298227362648652, 0.944000888347876, 0.6930392505726578, 0.4217647322005845, 0.508906432400733, 0.6956939543636992, 0.9725954363852479, 1.6863977996172512, 2.261781807571168, 3.9393709974352493, 5.097016351153741, 5.473950991211344, 3.5369549549224852, 2.609292907697345, 2.1639673593402238, 2.445216176677828, 18.896392308043655, 18.726891940099552, 4.924743475250285, 5.07937018555541], [0.7573083248097731, 1.097892275876432, 1.0580498496752055, 0.718697741858785, 0.6222413971412932, 0.6330007894507532, 0.6728161036412461, 0.7927517181568527, 1.0964219693865607, 1.4835547393225537, 1.906805959186406, 2.03659791703939, 2.186741899663537, 2.444016118095298, 3.2861903034940463, 14.58639058220805, 18.579568645371435, 5.06063184081602, 4.940980975560836, 5.035583945234727], [1.0198657150231127, 1.4588876415210246, 1.7981718964332478, 1.4070274109368608, 0.9169025858875575, 0.7735082704932672, 0.7186835274919183, 0.7090156052338566, 0.835598995909614, 1.0264286883321379, 1.4225289439117175, 2.054595534679737, 2.885464038193901, 3.926127173463945, 10.23823341083948, 16.997116295930606, 17.54754306502204, 4.9022985243191215, 4.940937997237419, 5.0147789601915065], [1.1913561220950386, 1.7801534548629505, 2.183521181339516, 2.2616698435289986, 1.726363971714013, 1.0083431442113011, 0.9524554210951163, 0.9524687197302436, 1.2513205760528934, 1.5919000742372043, 2.2217744220891453, 3.285869694511399, 5.013859910660673, 10.563427551952513, 15.402227082708244, 16.80337586800998, 7.004269945170929, 4.902345464098289, 4.946966706459534, 5.0147789601915065], [1.276510671531919, 1.6585381962115329, 1.815437086944996, 2.018488211498325, 1.9161792203660868, 1.4638477477078844, 1.2157728614965881, 1.4952021922102803, 2.008493063257135, 2.6418442284421046, 3.729748851175619, 6.520640961032713, 11.023954346408571, 14.184583006036283, 15.754295315679038, 13.289463277628014, 4.841921012986404, 4.880765459587153, 4.946966706459534, 4.992133166665553], [0.8810188267012983, 1.0062571478053228, 1.1480425937884342, 1.3656420439275627, 1.630611730106081, 1.654945557223184, 1.8455486329928827, 2.3323948683063027, 3.048663352281108, 4.741654989915153, 7.872996403695099, 10.890078071782156, 13.23757760467804, 14.90554809712035, 14.438526797106052, 6.517549199548074, 4.816603473662334, 4.88081262053133, 4.946966706459534, 4.992133166665553], [0.8677888770874991, 1.02806157200861, 1.2485039406352922, 1.4794233070096354, 1.7365717676116608, 2.185611093194326, 2.7508568867034313, 4.000747926076153, 6.229622250043883, 8.604422080714443, 10.527186366016497, 12.42472591593352, 14.07784745977271, 14.383996603839337, 9.454288953962612, 4.883190695473122, 4.8227204483358275, 4.88081262053133, 4.946966706459534, 4.992121231904255]]}],                        {\"autosize\": false, \"height\": 400, \"margin\": {\"b\": 32, \"pad\": 0, \"r\": 30, \"t\": 40}, \"template\": {\"data\": {\"bar\": [{\"error_x\": {\"color\": \"#2a3f5f\"}, \"error_y\": {\"color\": \"#2a3f5f\"}, \"marker\": {\"line\": {\"color\": \"#E5ECF6\", \"width\": 0.5}}, \"type\": \"bar\"}], \"barpolar\": [{\"marker\": {\"line\": {\"color\": \"#E5ECF6\", \"width\": 0.5}}, \"type\": \"barpolar\"}], \"carpet\": [{\"aaxis\": {\"endlinecolor\": \"#2a3f5f\", \"gridcolor\": \"white\", \"linecolor\": \"white\", \"minorgridcolor\": \"white\", \"startlinecolor\": \"#2a3f5f\"}, \"baxis\": {\"endlinecolor\": \"#2a3f5f\", \"gridcolor\": \"white\", \"linecolor\": \"white\", \"minorgridcolor\": \"white\", \"startlinecolor\": \"#2a3f5f\"}, \"type\": \"carpet\"}], \"choropleth\": [{\"colorbar\": {\"outlinewidth\": 0, \"ticks\": \"\"}, \"type\": \"choropleth\"}], \"contour\": [{\"colorbar\": {\"outlinewidth\": 0, \"ticks\": \"\"}, \"colorscale\": [[0.0, \"#0d0887\"], [0.1111111111111111, \"#46039f\"], [0.2222222222222222, \"#7201a8\"], [0.3333333333333333, \"#9c179e\"], [0.4444444444444444, \"#bd3786\"], [0.5555555555555556, \"#d8576b\"], [0.6666666666666666, \"#ed7953\"], [0.7777777777777778, \"#fb9f3a\"], [0.8888888888888888, \"#fdca26\"], [1.0, \"#f0f921\"]], \"type\": \"contour\"}], \"contourcarpet\": [{\"colorbar\": {\"outlinewidth\": 0, \"ticks\": \"\"}, \"type\": \"contourcarpet\"}], \"heatmap\": [{\"colorbar\": {\"outlinewidth\": 0, \"ticks\": \"\"}, \"colorscale\": [[0.0, \"#0d0887\"], [0.1111111111111111, \"#46039f\"], [0.2222222222222222, \"#7201a8\"], [0.3333333333333333, \"#9c179e\"], [0.4444444444444444, \"#bd3786\"], [0.5555555555555556, \"#d8576b\"], [0.6666666666666666, \"#ed7953\"], [0.7777777777777778, \"#fb9f3a\"], [0.8888888888888888, \"#fdca26\"], [1.0, \"#f0f921\"]], \"type\": \"heatmap\"}], \"heatmapgl\": [{\"colorbar\": {\"outlinewidth\": 0, \"ticks\": \"\"}, \"colorscale\": [[0.0, \"#0d0887\"], [0.1111111111111111, \"#46039f\"], [0.2222222222222222, \"#7201a8\"], [0.3333333333333333, \"#9c179e\"], [0.4444444444444444, \"#bd3786\"], [0.5555555555555556, \"#d8576b\"], [0.6666666666666666, \"#ed7953\"], [0.7777777777777778, \"#fb9f3a\"], [0.8888888888888888, \"#fdca26\"], [1.0, \"#f0f921\"]], \"type\": \"heatmapgl\"}], \"histogram\": [{\"marker\": {\"colorbar\": {\"outlinewidth\": 0, \"ticks\": \"\"}}, \"type\": \"histogram\"}], \"histogram2d\": [{\"colorbar\": {\"outlinewidth\": 0, \"ticks\": \"\"}, \"colorscale\": [[0.0, \"#0d0887\"], [0.1111111111111111, \"#46039f\"], [0.2222222222222222, \"#7201a8\"], [0.3333333333333333, \"#9c179e\"], [0.4444444444444444, \"#bd3786\"], [0.5555555555555556, \"#d8576b\"], [0.6666666666666666, \"#ed7953\"], [0.7777777777777778, \"#fb9f3a\"], [0.8888888888888888, \"#fdca26\"], [1.0, \"#f0f921\"]], \"type\": \"histogram2d\"}], \"histogram2dcontour\": [{\"colorbar\": {\"outlinewidth\": 0, \"ticks\": \"\"}, \"colorscale\": [[0.0, \"#0d0887\"], [0.1111111111111111, \"#46039f\"], [0.2222222222222222, \"#7201a8\"], [0.3333333333333333, \"#9c179e\"], [0.4444444444444444, \"#bd3786\"], [0.5555555555555556, \"#d8576b\"], [0.6666666666666666, \"#ed7953\"], [0.7777777777777778, \"#fb9f3a\"], [0.8888888888888888, \"#fdca26\"], [1.0, \"#f0f921\"]], \"type\": \"histogram2dcontour\"}], \"mesh3d\": [{\"colorbar\": {\"outlinewidth\": 0, \"ticks\": \"\"}, \"type\": \"mesh3d\"}], \"parcoords\": [{\"line\": {\"colorbar\": {\"outlinewidth\": 0, \"ticks\": \"\"}}, \"type\": \"parcoords\"}], \"pie\": [{\"automargin\": true, \"type\": \"pie\"}], \"scatter\": [{\"marker\": {\"colorbar\": {\"outlinewidth\": 0, \"ticks\": \"\"}}, \"type\": \"scatter\"}], \"scatter3d\": [{\"line\": {\"colorbar\": {\"outlinewidth\": 0, \"ticks\": \"\"}}, \"marker\": {\"colorbar\": {\"outlinewidth\": 0, \"ticks\": \"\"}}, \"type\": \"scatter3d\"}], \"scattercarpet\": [{\"marker\": {\"colorbar\": {\"outlinewidth\": 0, \"ticks\": \"\"}}, \"type\": \"scattercarpet\"}], \"scattergeo\": [{\"marker\": {\"colorbar\": {\"outlinewidth\": 0, \"ticks\": \"\"}}, \"type\": \"scattergeo\"}], \"scattergl\": [{\"marker\": {\"colorbar\": {\"outlinewidth\": 0, \"ticks\": \"\"}}, \"type\": \"scattergl\"}], \"scattermapbox\": [{\"marker\": {\"colorbar\": {\"outlinewidth\": 0, \"ticks\": \"\"}}, \"type\": \"scattermapbox\"}], \"scatterpolar\": [{\"marker\": {\"colorbar\": {\"outlinewidth\": 0, \"ticks\": \"\"}}, \"type\": \"scatterpolar\"}], \"scatterpolargl\": [{\"marker\": {\"colorbar\": {\"outlinewidth\": 0, \"ticks\": \"\"}}, \"type\": \"scatterpolargl\"}], \"scatterternary\": [{\"marker\": {\"colorbar\": {\"outlinewidth\": 0, \"ticks\": \"\"}}, \"type\": \"scatterternary\"}], \"surface\": [{\"colorbar\": {\"outlinewidth\": 0, \"ticks\": \"\"}, \"colorscale\": [[0.0, \"#0d0887\"], [0.1111111111111111, \"#46039f\"], [0.2222222222222222, \"#7201a8\"], [0.3333333333333333, \"#9c179e\"], [0.4444444444444444, \"#bd3786\"], [0.5555555555555556, \"#d8576b\"], [0.6666666666666666, \"#ed7953\"], [0.7777777777777778, \"#fb9f3a\"], [0.8888888888888888, \"#fdca26\"], [1.0, \"#f0f921\"]], \"type\": \"surface\"}], \"table\": [{\"cells\": {\"fill\": {\"color\": \"#EBF0F8\"}, \"line\": {\"color\": \"white\"}}, \"header\": {\"fill\": {\"color\": \"#C8D4E3\"}, \"line\": {\"color\": \"white\"}}, \"type\": \"table\"}]}, \"layout\": {\"annotationdefaults\": {\"arrowcolor\": \"#2a3f5f\", \"arrowhead\": 0, \"arrowwidth\": 1}, \"autotypenumbers\": \"strict\", \"coloraxis\": {\"colorbar\": {\"outlinewidth\": 0, \"ticks\": \"\"}}, \"colorscale\": {\"diverging\": [[0, \"#8e0152\"], [0.1, \"#c51b7d\"], [0.2, \"#de77ae\"], [0.3, \"#f1b6da\"], [0.4, \"#fde0ef\"], [0.5, \"#f7f7f7\"], [0.6, \"#e6f5d0\"], [0.7, \"#b8e186\"], [0.8, \"#7fbc41\"], [0.9, \"#4d9221\"], [1, \"#276419\"]], \"sequential\": [[0.0, \"#0d0887\"], [0.1111111111111111, \"#46039f\"], [0.2222222222222222, \"#7201a8\"], [0.3333333333333333, \"#9c179e\"], [0.4444444444444444, \"#bd3786\"], [0.5555555555555556, \"#d8576b\"], [0.6666666666666666, \"#ed7953\"], [0.7777777777777778, \"#fb9f3a\"], [0.8888888888888888, \"#fdca26\"], [1.0, \"#f0f921\"]], \"sequentialminus\": [[0.0, \"#0d0887\"], [0.1111111111111111, \"#46039f\"], [0.2222222222222222, \"#7201a8\"], [0.3333333333333333, \"#9c179e\"], [0.4444444444444444, \"#bd3786\"], [0.5555555555555556, \"#d8576b\"], [0.6666666666666666, \"#ed7953\"], [0.7777777777777778, \"#fb9f3a\"], [0.8888888888888888, \"#fdca26\"], [1.0, \"#f0f921\"]]}, \"colorway\": [\"#636efa\", \"#EF553B\", \"#00cc96\", \"#ab63fa\", \"#FFA15A\", \"#19d3f3\", \"#FF6692\", \"#B6E880\", \"#FF97FF\", \"#FECB52\"], \"font\": {\"color\": \"#2a3f5f\"}, \"geo\": {\"bgcolor\": \"white\", \"lakecolor\": \"white\", \"landcolor\": \"#E5ECF6\", \"showlakes\": true, \"showland\": true, \"subunitcolor\": \"white\"}, \"hoverlabel\": {\"align\": \"left\"}, \"hovermode\": \"closest\", \"mapbox\": {\"style\": \"light\"}, \"paper_bgcolor\": \"white\", \"plot_bgcolor\": \"#E5ECF6\", \"polar\": {\"angularaxis\": {\"gridcolor\": \"white\", \"linecolor\": \"white\", \"ticks\": \"\"}, \"bgcolor\": \"#E5ECF6\", \"radialaxis\": {\"gridcolor\": \"white\", \"linecolor\": \"white\", \"ticks\": \"\"}}, \"scene\": {\"xaxis\": {\"backgroundcolor\": \"#E5ECF6\", \"gridcolor\": \"white\", \"gridwidth\": 2, \"linecolor\": \"white\", \"showbackground\": true, \"ticks\": \"\", \"zerolinecolor\": \"white\"}, \"yaxis\": {\"backgroundcolor\": \"#E5ECF6\", \"gridcolor\": \"white\", \"gridwidth\": 2, \"linecolor\": \"white\", \"showbackground\": true, \"ticks\": \"\", \"zerolinecolor\": \"white\"}, \"zaxis\": {\"backgroundcolor\": \"#E5ECF6\", \"gridcolor\": \"white\", \"gridwidth\": 2, \"linecolor\": \"white\", \"showbackground\": true, \"ticks\": \"\", \"zerolinecolor\": \"white\"}}, \"shapedefaults\": {\"line\": {\"color\": \"#2a3f5f\"}}, \"ternary\": {\"aaxis\": {\"gridcolor\": \"white\", \"linecolor\": \"white\", \"ticks\": \"\"}, \"baxis\": {\"gridcolor\": \"white\", \"linecolor\": \"white\", \"ticks\": \"\"}, \"bgcolor\": \"#E5ECF6\", \"caxis\": {\"gridcolor\": \"white\", \"linecolor\": \"white\", \"ticks\": \"\"}}, \"title\": {\"x\": 0.05}, \"xaxis\": {\"automargin\": true, \"gridcolor\": \"white\", \"linecolor\": \"white\", \"ticks\": \"\", \"title\": {\"standoff\": 15}, \"zerolinecolor\": \"white\", \"zerolinewidth\": 2}, \"yaxis\": {\"automargin\": true, \"gridcolor\": \"white\", \"linecolor\": \"white\", \"ticks\": \"\", \"title\": {\"standoff\": 15}, \"zerolinecolor\": \"white\", \"zerolinewidth\": 2}}}, \"title\": {\"text\": \"$\\\\operatorname{XY}(x[R_{E}],y[R_{E}])[\\\\frac{1}{cm^{3}}] = \\\\lambda{\\\\left(x,y \\\\right)}$\"}, \"width\": 700, \"xaxis\": {\"title\": {\"text\": \"$x$\"}}, \"yaxis\": {\"title\": {\"text\": \"$y$\"}}},                        {\"responsive\": true}                    ).then(function(){\n",
       "                            \n",
       "var gd = document.getElementById('f4f8548a-55b9-4e1e-a0b1-39691c35bbbf');\n",
       "var x = new MutationObserver(function (mutations, observer) {{\n",
       "        var display = window.getComputedStyle(gd).display;\n",
       "        if (!display || display === 'none') {{\n",
       "            console.log([gd, 'removed!']);\n",
       "            Plotly.purge(gd);\n",
       "            observer.disconnect();\n",
       "        }}\n",
       "}});\n",
       "\n",
       "// Listen for the removal of the full notebook cells\n",
       "var notebookContainer = gd.closest('#notebook-container');\n",
       "if (notebookContainer) {{\n",
       "    x.observe(notebookContainer, {childList: true});\n",
       "}}\n",
       "\n",
       "// Listen for the clearing of the current output cell\n",
       "var outputEl = gd.closest('.output');\n",
       "if (outputEl) {{\n",
       "    x.observe(outputEl, {childList: true});\n",
       "}}\n",
       "\n",
       "                        })                };                });            </script>        </div>"
      ]
     },
     "metadata": {},
     "output_type": "display_data"
    },
    {
     "name": "stdout",
     "output_type": "stream",
     "text": [
      "N_plasma\n",
      "X slice at 0.000 R_E. Z slice at 2.0000000 R_E.\n",
      "Took 7.054 s for 400 positions.\n"
     ]
    },
    {
     "data": {
      "application/vnd.plotly.v1+json": {
       "config": {
        "linkText": "Export to plot.ly",
        "plotlyServerURL": "https://plot.ly",
        "showLink": false
       },
       "data": [
        {
         "meta": "2d-grid",
         "type": "contour",
         "x": [
          12,
          12.052631578947368,
          12.105263157894736,
          12.157894736842104,
          12.210526315789474,
          12.263157894736842,
          12.31578947368421,
          12.368421052631579,
          12.421052631578947,
          12.473684210526315,
          12.526315789473685,
          12.578947368421053,
          12.631578947368421,
          12.68421052631579,
          12.736842105263158,
          12.789473684210526,
          12.842105263157894,
          12.894736842105264,
          12.947368421052632,
          13
         ],
         "y": [
          -15,
          -13.421052631578947,
          -11.842105263157894,
          -10.263157894736842,
          -8.68421052631579,
          -7.105263157894736,
          -5.526315789473685,
          -3.947368421052632,
          -2.3684210526315788,
          -0.7894736842105257,
          0.7894736842105274,
          2.3684210526315788,
          3.94736842105263,
          5.526315789473685,
          7.105263157894736,
          8.684210526315791,
          10.263157894736842,
          11.842105263157894,
          13.421052631578949,
          15
         ],
         "z": [
          [
           null,
           8.622392165634094,
           7.785652559007128,
           7.049010652012979,
           7.475236198125004,
           7.715721091056609,
           7.870416204138196,
           7.590113102411786,
           7.834037458192635,
           7.911739752173383,
           8.25883714626784,
           8.518000871914246,
           8.599775937764685,
           8.301860707526414,
           8.977104825920074,
           8.912358477058586,
           8.669312997501425,
           8.035671662645235,
           7.653010396603001,
           7.787841489313178
          ],
          [
           null,
           4.523805684009048,
           4.047048618639739,
           3.655550132185788,
           3.649712805127929,
           3.7929254687711675,
           3.9411158274699325,
           3.783072453326902,
           3.867330914687428,
           3.898309423691112,
           4.175147937069729,
           4.440625356443617,
           4.4655137969737835,
           4.311347337685065,
           4.8728349212815205,
           4.731961743782194,
           4.548171911198228,
           4.274009617201634,
           4.106375082429686,
           4.344467701906907
          ],
          [
           null,
           2.1424708009167075,
           2.0263792933502596,
           1.9104264123106802,
           1.844454923815208,
           1.8856534751115874,
           1.9622891270403355,
           1.9493304980294153,
           1.9790324633885716,
           1.9901846575329314,
           2.078844253072801,
           2.2360133161652946,
           2.274545135960191,
           2.2733208499690933,
           2.4731425117165724,
           2.451275085507051,
           2.274991696022121,
           2.254202959294509,
           2.259284572799171,
           2.4108124409398144
          ],
          [
           null,
           1.1909687487950016,
           1.1531988660374881,
           1.1324231033800027,
           1.1510221536865985,
           1.1920145378295015,
           1.2385394609020193,
           1.2692288796376268,
           1.2880855926757677,
           1.3114624179026546,
           1.3918068291453265,
           1.5316313514171305,
           1.5907724787188888,
           1.594774351552854,
           1.6543868323760909,
           1.6723093556900464,
           1.606284974883472,
           1.5688223653379105,
           1.5625487001025091,
           1.6430305802447256
          ],
          [
           null,
           0.709102459507217,
           0.7057230046956926,
           0.7224849240014466,
           0.7891805101805003,
           0.8687273117096055,
           0.9298329896311773,
           0.9858937692289355,
           1.0502498472966246,
           1.0863523800313792,
           1.1599244320493123,
           1.2620626948691163,
           1.3251770102824583,
           1.332432509918136,
           1.3394195807592664,
           1.336208695778358,
           1.2838462548133558,
           1.2453149935120724,
           1.2403803337553627,
           1.2808645817158262
          ],
          [
           null,
           0.7293073546371299,
           0.7545103878565618,
           0.7725928397068847,
           0.8383479254304577,
           0.9124089599769444,
           0.9995344456781182,
           1.057825086998176,
           1.1341532435952293,
           1.1941605873710794,
           1.2715569272671958,
           1.341482664766818,
           1.3837867790711933,
           1.3879440119872128,
           1.3932691538873956,
           1.3758022095800584,
           1.3341481692108386,
           1.296062999081522,
           1.2935077638029322,
           1.3140204804685436
          ],
          [
           null,
           1.2299622622111201,
           1.2584460218757405,
           1.3255348805475735,
           1.4537410820350274,
           1.5657619771602131,
           1.6148331615441978,
           1.7122584186234129,
           1.7547698553286377,
           1.7901377371058431,
           1.8148186935721486,
           1.8688099338036963,
           1.8871077244886687,
           1.897112252896436,
           1.9654452795570867,
           1.9476637719784877,
           1.8768995981005974,
           1.8726321859696333,
           1.877897803393768,
           1.8752735277365833
          ],
          [
           null,
           1.8395493193957895,
           2.012721925391506,
           2.0270488963713813,
           2.0820501705986,
           2.255541524205253,
           2.334540953626623,
           2.4043467931882994,
           2.481619916691227,
           2.5293634549992463,
           2.5804467625754013,
           2.72656389120788,
           2.8341534926463554,
           2.7790816536417893,
           2.7113677523646786,
           2.9191480294110432,
           2.8893413721952435,
           2.8019542246129743,
           2.7388792302413862,
           2.8111042449937935
          ],
          [
           null,
           6.323935590847684,
           6.16915122959525,
           6.209601337825082,
           6.255264853601696,
           6.169973372598672,
           6.0432339366126735,
           6.096122333355143,
           6.148704588620567,
           6.220547576114658,
           6.053204492805924,
           6.0793984446615275,
           6.001206505991421,
           5.901237191809124,
           5.975400343229377,
           5.946766982585193,
           6.125217278737144,
           6.1075006559098295,
           6.097265819711183,
           6.188699871276488
          ],
          [
           null,
           null,
           null,
           null,
           null,
           null,
           null,
           null,
           null,
           null,
           null,
           null,
           null,
           null,
           null,
           null,
           null,
           null,
           null,
           null
          ],
          [
           null,
           null,
           null,
           null,
           null,
           null,
           null,
           null,
           null,
           null,
           null,
           null,
           null,
           null,
           null,
           null,
           null,
           null,
           null,
           null
          ],
          [
           null,
           8.888208388695734,
           8.916925129664913,
           8.958118868606553,
           9.008267189067675,
           9.05875994691201,
           9.081235157175968,
           9.091624028438616,
           9.09713797925857,
           9.110734378645715,
           9.112515217609753,
           9.107294595938631,
           9.076960415128118,
           9.069248411763587,
           9.02402939533594,
           8.96341407132219,
           8.913745606040024,
           8.891139714460127,
           8.84362531553034,
           8.841416281602108
          ],
          [
           null,
           12.517060250090877,
           12.314858447465072,
           12.168325922503747,
           11.8929597648344,
           11.64251936586744,
           11.350090967384086,
           11.032086572518338,
           10.76250845825968,
           10.44908299217819,
           10.148573071254004,
           9.838936466852559,
           9.521654859890193,
           9.274697981445623,
           8.97687667179685,
           8.627455357743322,
           8.323071120383217,
           8.036608813582662,
           7.737160045760823,
           7.507552651484904
          ],
          [
           null,
           8.171652965259728,
           7.62507845957957,
           7.10836012579861,
           6.532187334802242,
           5.841505215480186,
           5.132624742639006,
           4.68274973835933,
           4.413742826365952,
           4.262110280726246,
           4.138738298575155,
           3.977644261494311,
           3.8214643084938382,
           3.7014422856336937,
           3.5741011031177865,
           3.4130308420545417,
           3.2853174595649626,
           3.1535523944096204,
           3.0252979749336366,
           2.907322253386754
          ],
          [
           null,
           2.1343380370376335,
           2.1085900441758847,
           2.1486973862769463,
           2.163367062682898,
           2.088683082983618,
           1.9007777986851166,
           1.835958082434032,
           1.7280131192045076,
           1.697813450694407,
           1.6953281580136388,
           1.6691635876814113,
           1.6149199705938793,
           1.5687735647482726,
           1.537195529031401,
           1.5586435957583078,
           1.5177040221659868,
           1.5080463210633621,
           1.465845757872458,
           1.44639462398472
          ],
          [
           null,
           1.2237815784728154,
           1.1731664981447216,
           1.1774071429215698,
           1.1749996059593315,
           1.148831637578355,
           1.2279981622147977,
           1.1676329535263705,
           1.2153771430796505,
           1.1394562876772854,
           1.1427711787312733,
           1.159913461521535,
           1.1740384900365053,
           1.192313958046751,
           1.2484200313981095,
           1.2456348616509199,
           1.2338160395566211,
           1.2376154700917332,
           1.2006121403556222,
           1.2342143247306456
          ],
          [
           null,
           1.926232314294936,
           1.8037848567515644,
           1.753317620247309,
           1.7773685863188036,
           1.7726008359663665,
           1.8556873869598105,
           1.8215381146656244,
           1.840389149598491,
           1.825376397573741,
           1.9247925597991797,
           1.975927183505677,
           1.944719869778176,
           1.9551453087261512,
           2.152780232738422,
           2.025912162401566,
           2.031079986607433,
           1.9742760538158493,
           1.9375650219057132,
           1.9810571983749587
          ],
          [
           null,
           3.164276166190787,
           2.9405138814322953,
           2.819829797441716,
           2.780111060114809,
           2.7887963911526246,
           2.97756776345999,
           3.004010319816036,
           2.993340615994524,
           2.954409792825617,
           3.0789288379525694,
           3.2472610136696214,
           3.1992311955168944,
           3.161216269840047,
           3.4772160967400128,
           3.3251673666333454,
           3.2094500231776792,
           3.131624660393938,
           3.0018820354593765,
           3.0164611112510675
          ],
          [
           null,
           6.562895894600335,
           5.963289748791406,
           5.450416139338498,
           5.419767790507753,
           5.445091547270573,
           6.043968761598932,
           6.084726618556041,
           6.145639261181546,
           6.029773427139343,
           6.363471403231801,
           6.6020580110375375,
           6.497430470450094,
           6.4014854286366845,
           7.2539460375400235,
           7.002119518608144,
           6.775600800791403,
           6.37435712620227,
           6.031802235575932,
           5.690490456270073
          ],
          [
           null,
           9.782886931831339,
           9.271886739827254,
           8.886558465104642,
           8.957941663369457,
           8.89657939585365,
           9.555784996536357,
           9.718524335472344,
           9.768746868368558,
           9.467686577729276,
           9.805682785592927,
           10.153429379464477,
           10.10797691848478,
           9.888801401898064,
           10.402903796923459,
           10.200459824082555,
           9.748889345650433,
           9.340442742685122,
           9.055302441851032,
           8.720131283973709
          ]
         ]
        }
       ],
       "layout": {
        "autosize": false,
        "height": 400,
        "margin": {
         "b": 32,
         "pad": 0,
         "r": 30,
         "t": 40
        },
        "template": {
         "data": {
          "bar": [
           {
            "error_x": {
             "color": "#2a3f5f"
            },
            "error_y": {
             "color": "#2a3f5f"
            },
            "marker": {
             "line": {
              "color": "#E5ECF6",
              "width": 0.5
             }
            },
            "type": "bar"
           }
          ],
          "barpolar": [
           {
            "marker": {
             "line": {
              "color": "#E5ECF6",
              "width": 0.5
             }
            },
            "type": "barpolar"
           }
          ],
          "carpet": [
           {
            "aaxis": {
             "endlinecolor": "#2a3f5f",
             "gridcolor": "white",
             "linecolor": "white",
             "minorgridcolor": "white",
             "startlinecolor": "#2a3f5f"
            },
            "baxis": {
             "endlinecolor": "#2a3f5f",
             "gridcolor": "white",
             "linecolor": "white",
             "minorgridcolor": "white",
             "startlinecolor": "#2a3f5f"
            },
            "type": "carpet"
           }
          ],
          "choropleth": [
           {
            "colorbar": {
             "outlinewidth": 0,
             "ticks": ""
            },
            "type": "choropleth"
           }
          ],
          "contour": [
           {
            "colorbar": {
             "outlinewidth": 0,
             "ticks": ""
            },
            "colorscale": [
             [
              0,
              "#0d0887"
             ],
             [
              0.1111111111111111,
              "#46039f"
             ],
             [
              0.2222222222222222,
              "#7201a8"
             ],
             [
              0.3333333333333333,
              "#9c179e"
             ],
             [
              0.4444444444444444,
              "#bd3786"
             ],
             [
              0.5555555555555556,
              "#d8576b"
             ],
             [
              0.6666666666666666,
              "#ed7953"
             ],
             [
              0.7777777777777778,
              "#fb9f3a"
             ],
             [
              0.8888888888888888,
              "#fdca26"
             ],
             [
              1,
              "#f0f921"
             ]
            ],
            "type": "contour"
           }
          ],
          "contourcarpet": [
           {
            "colorbar": {
             "outlinewidth": 0,
             "ticks": ""
            },
            "type": "contourcarpet"
           }
          ],
          "heatmap": [
           {
            "colorbar": {
             "outlinewidth": 0,
             "ticks": ""
            },
            "colorscale": [
             [
              0,
              "#0d0887"
             ],
             [
              0.1111111111111111,
              "#46039f"
             ],
             [
              0.2222222222222222,
              "#7201a8"
             ],
             [
              0.3333333333333333,
              "#9c179e"
             ],
             [
              0.4444444444444444,
              "#bd3786"
             ],
             [
              0.5555555555555556,
              "#d8576b"
             ],
             [
              0.6666666666666666,
              "#ed7953"
             ],
             [
              0.7777777777777778,
              "#fb9f3a"
             ],
             [
              0.8888888888888888,
              "#fdca26"
             ],
             [
              1,
              "#f0f921"
             ]
            ],
            "type": "heatmap"
           }
          ],
          "heatmapgl": [
           {
            "colorbar": {
             "outlinewidth": 0,
             "ticks": ""
            },
            "colorscale": [
             [
              0,
              "#0d0887"
             ],
             [
              0.1111111111111111,
              "#46039f"
             ],
             [
              0.2222222222222222,
              "#7201a8"
             ],
             [
              0.3333333333333333,
              "#9c179e"
             ],
             [
              0.4444444444444444,
              "#bd3786"
             ],
             [
              0.5555555555555556,
              "#d8576b"
             ],
             [
              0.6666666666666666,
              "#ed7953"
             ],
             [
              0.7777777777777778,
              "#fb9f3a"
             ],
             [
              0.8888888888888888,
              "#fdca26"
             ],
             [
              1,
              "#f0f921"
             ]
            ],
            "type": "heatmapgl"
           }
          ],
          "histogram": [
           {
            "marker": {
             "colorbar": {
              "outlinewidth": 0,
              "ticks": ""
             }
            },
            "type": "histogram"
           }
          ],
          "histogram2d": [
           {
            "colorbar": {
             "outlinewidth": 0,
             "ticks": ""
            },
            "colorscale": [
             [
              0,
              "#0d0887"
             ],
             [
              0.1111111111111111,
              "#46039f"
             ],
             [
              0.2222222222222222,
              "#7201a8"
             ],
             [
              0.3333333333333333,
              "#9c179e"
             ],
             [
              0.4444444444444444,
              "#bd3786"
             ],
             [
              0.5555555555555556,
              "#d8576b"
             ],
             [
              0.6666666666666666,
              "#ed7953"
             ],
             [
              0.7777777777777778,
              "#fb9f3a"
             ],
             [
              0.8888888888888888,
              "#fdca26"
             ],
             [
              1,
              "#f0f921"
             ]
            ],
            "type": "histogram2d"
           }
          ],
          "histogram2dcontour": [
           {
            "colorbar": {
             "outlinewidth": 0,
             "ticks": ""
            },
            "colorscale": [
             [
              0,
              "#0d0887"
             ],
             [
              0.1111111111111111,
              "#46039f"
             ],
             [
              0.2222222222222222,
              "#7201a8"
             ],
             [
              0.3333333333333333,
              "#9c179e"
             ],
             [
              0.4444444444444444,
              "#bd3786"
             ],
             [
              0.5555555555555556,
              "#d8576b"
             ],
             [
              0.6666666666666666,
              "#ed7953"
             ],
             [
              0.7777777777777778,
              "#fb9f3a"
             ],
             [
              0.8888888888888888,
              "#fdca26"
             ],
             [
              1,
              "#f0f921"
             ]
            ],
            "type": "histogram2dcontour"
           }
          ],
          "mesh3d": [
           {
            "colorbar": {
             "outlinewidth": 0,
             "ticks": ""
            },
            "type": "mesh3d"
           }
          ],
          "parcoords": [
           {
            "line": {
             "colorbar": {
              "outlinewidth": 0,
              "ticks": ""
             }
            },
            "type": "parcoords"
           }
          ],
          "pie": [
           {
            "automargin": true,
            "type": "pie"
           }
          ],
          "scatter": [
           {
            "marker": {
             "colorbar": {
              "outlinewidth": 0,
              "ticks": ""
             }
            },
            "type": "scatter"
           }
          ],
          "scatter3d": [
           {
            "line": {
             "colorbar": {
              "outlinewidth": 0,
              "ticks": ""
             }
            },
            "marker": {
             "colorbar": {
              "outlinewidth": 0,
              "ticks": ""
             }
            },
            "type": "scatter3d"
           }
          ],
          "scattercarpet": [
           {
            "marker": {
             "colorbar": {
              "outlinewidth": 0,
              "ticks": ""
             }
            },
            "type": "scattercarpet"
           }
          ],
          "scattergeo": [
           {
            "marker": {
             "colorbar": {
              "outlinewidth": 0,
              "ticks": ""
             }
            },
            "type": "scattergeo"
           }
          ],
          "scattergl": [
           {
            "marker": {
             "colorbar": {
              "outlinewidth": 0,
              "ticks": ""
             }
            },
            "type": "scattergl"
           }
          ],
          "scattermapbox": [
           {
            "marker": {
             "colorbar": {
              "outlinewidth": 0,
              "ticks": ""
             }
            },
            "type": "scattermapbox"
           }
          ],
          "scatterpolar": [
           {
            "marker": {
             "colorbar": {
              "outlinewidth": 0,
              "ticks": ""
             }
            },
            "type": "scatterpolar"
           }
          ],
          "scatterpolargl": [
           {
            "marker": {
             "colorbar": {
              "outlinewidth": 0,
              "ticks": ""
             }
            },
            "type": "scatterpolargl"
           }
          ],
          "scatterternary": [
           {
            "marker": {
             "colorbar": {
              "outlinewidth": 0,
              "ticks": ""
             }
            },
            "type": "scatterternary"
           }
          ],
          "surface": [
           {
            "colorbar": {
             "outlinewidth": 0,
             "ticks": ""
            },
            "colorscale": [
             [
              0,
              "#0d0887"
             ],
             [
              0.1111111111111111,
              "#46039f"
             ],
             [
              0.2222222222222222,
              "#7201a8"
             ],
             [
              0.3333333333333333,
              "#9c179e"
             ],
             [
              0.4444444444444444,
              "#bd3786"
             ],
             [
              0.5555555555555556,
              "#d8576b"
             ],
             [
              0.6666666666666666,
              "#ed7953"
             ],
             [
              0.7777777777777778,
              "#fb9f3a"
             ],
             [
              0.8888888888888888,
              "#fdca26"
             ],
             [
              1,
              "#f0f921"
             ]
            ],
            "type": "surface"
           }
          ],
          "table": [
           {
            "cells": {
             "fill": {
              "color": "#EBF0F8"
             },
             "line": {
              "color": "white"
             }
            },
            "header": {
             "fill": {
              "color": "#C8D4E3"
             },
             "line": {
              "color": "white"
             }
            },
            "type": "table"
           }
          ]
         },
         "layout": {
          "annotationdefaults": {
           "arrowcolor": "#2a3f5f",
           "arrowhead": 0,
           "arrowwidth": 1
          },
          "autotypenumbers": "strict",
          "coloraxis": {
           "colorbar": {
            "outlinewidth": 0,
            "ticks": ""
           }
          },
          "colorscale": {
           "diverging": [
            [
             0,
             "#8e0152"
            ],
            [
             0.1,
             "#c51b7d"
            ],
            [
             0.2,
             "#de77ae"
            ],
            [
             0.3,
             "#f1b6da"
            ],
            [
             0.4,
             "#fde0ef"
            ],
            [
             0.5,
             "#f7f7f7"
            ],
            [
             0.6,
             "#e6f5d0"
            ],
            [
             0.7,
             "#b8e186"
            ],
            [
             0.8,
             "#7fbc41"
            ],
            [
             0.9,
             "#4d9221"
            ],
            [
             1,
             "#276419"
            ]
           ],
           "sequential": [
            [
             0,
             "#0d0887"
            ],
            [
             0.1111111111111111,
             "#46039f"
            ],
            [
             0.2222222222222222,
             "#7201a8"
            ],
            [
             0.3333333333333333,
             "#9c179e"
            ],
            [
             0.4444444444444444,
             "#bd3786"
            ],
            [
             0.5555555555555556,
             "#d8576b"
            ],
            [
             0.6666666666666666,
             "#ed7953"
            ],
            [
             0.7777777777777778,
             "#fb9f3a"
            ],
            [
             0.8888888888888888,
             "#fdca26"
            ],
            [
             1,
             "#f0f921"
            ]
           ],
           "sequentialminus": [
            [
             0,
             "#0d0887"
            ],
            [
             0.1111111111111111,
             "#46039f"
            ],
            [
             0.2222222222222222,
             "#7201a8"
            ],
            [
             0.3333333333333333,
             "#9c179e"
            ],
            [
             0.4444444444444444,
             "#bd3786"
            ],
            [
             0.5555555555555556,
             "#d8576b"
            ],
            [
             0.6666666666666666,
             "#ed7953"
            ],
            [
             0.7777777777777778,
             "#fb9f3a"
            ],
            [
             0.8888888888888888,
             "#fdca26"
            ],
            [
             1,
             "#f0f921"
            ]
           ]
          },
          "colorway": [
           "#636efa",
           "#EF553B",
           "#00cc96",
           "#ab63fa",
           "#FFA15A",
           "#19d3f3",
           "#FF6692",
           "#B6E880",
           "#FF97FF",
           "#FECB52"
          ],
          "font": {
           "color": "#2a3f5f"
          },
          "geo": {
           "bgcolor": "white",
           "lakecolor": "white",
           "landcolor": "#E5ECF6",
           "showlakes": true,
           "showland": true,
           "subunitcolor": "white"
          },
          "hoverlabel": {
           "align": "left"
          },
          "hovermode": "closest",
          "mapbox": {
           "style": "light"
          },
          "paper_bgcolor": "white",
          "plot_bgcolor": "#E5ECF6",
          "polar": {
           "angularaxis": {
            "gridcolor": "white",
            "linecolor": "white",
            "ticks": ""
           },
           "bgcolor": "#E5ECF6",
           "radialaxis": {
            "gridcolor": "white",
            "linecolor": "white",
            "ticks": ""
           }
          },
          "scene": {
           "xaxis": {
            "backgroundcolor": "#E5ECF6",
            "gridcolor": "white",
            "gridwidth": 2,
            "linecolor": "white",
            "showbackground": true,
            "ticks": "",
            "zerolinecolor": "white"
           },
           "yaxis": {
            "backgroundcolor": "#E5ECF6",
            "gridcolor": "white",
            "gridwidth": 2,
            "linecolor": "white",
            "showbackground": true,
            "ticks": "",
            "zerolinecolor": "white"
           },
           "zaxis": {
            "backgroundcolor": "#E5ECF6",
            "gridcolor": "white",
            "gridwidth": 2,
            "linecolor": "white",
            "showbackground": true,
            "ticks": "",
            "zerolinecolor": "white"
           }
          },
          "shapedefaults": {
           "line": {
            "color": "#2a3f5f"
           }
          },
          "ternary": {
           "aaxis": {
            "gridcolor": "white",
            "linecolor": "white",
            "ticks": ""
           },
           "baxis": {
            "gridcolor": "white",
            "linecolor": "white",
            "ticks": ""
           },
           "bgcolor": "#E5ECF6",
           "caxis": {
            "gridcolor": "white",
            "linecolor": "white",
            "ticks": ""
           }
          },
          "title": {
           "x": 0.05
          },
          "xaxis": {
           "automargin": true,
           "gridcolor": "white",
           "linecolor": "white",
           "ticks": "",
           "title": {
            "standoff": 15
           },
           "zerolinecolor": "white",
           "zerolinewidth": 2
          },
          "yaxis": {
           "automargin": true,
           "gridcolor": "white",
           "linecolor": "white",
           "ticks": "",
           "title": {
            "standoff": 15
           },
           "zerolinecolor": "white",
           "zerolinewidth": 2
          }
         }
        },
        "title": {
         "text": "$\\operatorname{TimeY}(time[hr],y[R_{E}])[\\frac{1}{cm^{3}}] = \\lambda{\\left(time,y \\right)}$"
        },
        "width": 700,
        "xaxis": {
         "title": {
          "text": "$time$"
         }
        },
        "yaxis": {
         "title": {
          "text": "$y$"
         }
        }
       }
      },
      "text/html": [
       "<div>                            <div id=\"d7283c5e-171f-49bb-bcce-aa9b970f8adc\" class=\"plotly-graph-div\" style=\"height:400px; width:700px;\"></div>            <script type=\"text/javascript\">                require([\"plotly\"], function(Plotly) {                    window.PLOTLYENV=window.PLOTLYENV || {};                                    if (document.getElementById(\"d7283c5e-171f-49bb-bcce-aa9b970f8adc\")) {                    Plotly.newPlot(                        \"d7283c5e-171f-49bb-bcce-aa9b970f8adc\",                        [{\"meta\": \"2d-grid\", \"type\": \"contour\", \"x\": [12.0, 12.052631578947368, 12.105263157894736, 12.157894736842104, 12.210526315789474, 12.263157894736842, 12.31578947368421, 12.368421052631579, 12.421052631578947, 12.473684210526315, 12.526315789473685, 12.578947368421053, 12.631578947368421, 12.68421052631579, 12.736842105263158, 12.789473684210526, 12.842105263157894, 12.894736842105264, 12.947368421052632, 13.0], \"y\": [-15.0, -13.421052631578947, -11.842105263157894, -10.263157894736842, -8.68421052631579, -7.105263157894736, -5.526315789473685, -3.947368421052632, -2.3684210526315788, -0.7894736842105257, 0.7894736842105274, 2.3684210526315788, 3.94736842105263, 5.526315789473685, 7.105263157894736, 8.684210526315791, 10.263157894736842, 11.842105263157894, 13.421052631578949, 15.0], \"z\": [[null, 8.622392165634094, 7.785652559007128, 7.049010652012979, 7.475236198125004, 7.715721091056609, 7.870416204138196, 7.590113102411786, 7.834037458192635, 7.911739752173383, 8.25883714626784, 8.518000871914246, 8.599775937764685, 8.301860707526414, 8.977104825920074, 8.912358477058586, 8.669312997501425, 8.035671662645235, 7.653010396603001, 7.787841489313178], [null, 4.523805684009048, 4.047048618639739, 3.655550132185788, 3.649712805127929, 3.7929254687711675, 3.9411158274699325, 3.783072453326902, 3.867330914687428, 3.898309423691112, 4.175147937069729, 4.440625356443617, 4.4655137969737835, 4.311347337685065, 4.8728349212815205, 4.731961743782194, 4.548171911198228, 4.274009617201634, 4.106375082429686, 4.344467701906907], [null, 2.1424708009167075, 2.0263792933502596, 1.9104264123106802, 1.844454923815208, 1.8856534751115874, 1.9622891270403355, 1.9493304980294153, 1.9790324633885716, 1.9901846575329314, 2.078844253072801, 2.2360133161652946, 2.274545135960191, 2.2733208499690933, 2.4731425117165724, 2.451275085507051, 2.274991696022121, 2.254202959294509, 2.259284572799171, 2.4108124409398144], [null, 1.1909687487950016, 1.1531988660374881, 1.1324231033800027, 1.1510221536865985, 1.1920145378295015, 1.2385394609020193, 1.2692288796376268, 1.2880855926757677, 1.3114624179026546, 1.3918068291453265, 1.5316313514171305, 1.5907724787188888, 1.594774351552854, 1.6543868323760909, 1.6723093556900464, 1.606284974883472, 1.5688223653379105, 1.5625487001025091, 1.6430305802447256], [null, 0.709102459507217, 0.7057230046956926, 0.7224849240014466, 0.7891805101805003, 0.8687273117096055, 0.9298329896311773, 0.9858937692289355, 1.0502498472966246, 1.0863523800313792, 1.1599244320493123, 1.2620626948691163, 1.3251770102824583, 1.332432509918136, 1.3394195807592664, 1.336208695778358, 1.2838462548133558, 1.2453149935120724, 1.2403803337553627, 1.2808645817158262], [null, 0.7293073546371299, 0.7545103878565618, 0.7725928397068847, 0.8383479254304577, 0.9124089599769444, 0.9995344456781182, 1.057825086998176, 1.1341532435952293, 1.1941605873710794, 1.2715569272671958, 1.341482664766818, 1.3837867790711933, 1.3879440119872128, 1.3932691538873956, 1.3758022095800584, 1.3341481692108386, 1.296062999081522, 1.2935077638029322, 1.3140204804685436], [null, 1.2299622622111201, 1.2584460218757405, 1.3255348805475735, 1.4537410820350274, 1.5657619771602131, 1.6148331615441978, 1.7122584186234129, 1.7547698553286377, 1.7901377371058431, 1.8148186935721486, 1.8688099338036963, 1.8871077244886687, 1.897112252896436, 1.9654452795570867, 1.9476637719784877, 1.8768995981005974, 1.8726321859696333, 1.877897803393768, 1.8752735277365833], [null, 1.8395493193957895, 2.012721925391506, 2.0270488963713813, 2.0820501705986, 2.255541524205253, 2.334540953626623, 2.4043467931882994, 2.481619916691227, 2.5293634549992463, 2.5804467625754013, 2.72656389120788, 2.8341534926463554, 2.7790816536417893, 2.7113677523646786, 2.9191480294110432, 2.8893413721952435, 2.8019542246129743, 2.7388792302413862, 2.8111042449937935], [null, 6.323935590847684, 6.16915122959525, 6.209601337825082, 6.255264853601696, 6.169973372598672, 6.0432339366126735, 6.096122333355143, 6.148704588620567, 6.220547576114658, 6.053204492805924, 6.0793984446615275, 6.001206505991421, 5.901237191809124, 5.975400343229377, 5.946766982585193, 6.125217278737144, 6.1075006559098295, 6.097265819711183, 6.188699871276488], [null, null, null, null, null, null, null, null, null, null, null, null, null, null, null, null, null, null, null, null], [null, null, null, null, null, null, null, null, null, null, null, null, null, null, null, null, null, null, null, null], [null, 8.888208388695734, 8.916925129664913, 8.958118868606553, 9.008267189067675, 9.05875994691201, 9.081235157175968, 9.091624028438616, 9.09713797925857, 9.110734378645715, 9.112515217609753, 9.107294595938631, 9.076960415128118, 9.069248411763587, 9.02402939533594, 8.96341407132219, 8.913745606040024, 8.891139714460127, 8.84362531553034, 8.841416281602108], [null, 12.517060250090877, 12.314858447465072, 12.168325922503747, 11.8929597648344, 11.64251936586744, 11.350090967384086, 11.032086572518338, 10.76250845825968, 10.44908299217819, 10.148573071254004, 9.838936466852559, 9.521654859890193, 9.274697981445623, 8.97687667179685, 8.627455357743322, 8.323071120383217, 8.036608813582662, 7.737160045760823, 7.507552651484904], [null, 8.171652965259728, 7.62507845957957, 7.10836012579861, 6.532187334802242, 5.841505215480186, 5.132624742639006, 4.68274973835933, 4.413742826365952, 4.262110280726246, 4.138738298575155, 3.977644261494311, 3.8214643084938382, 3.7014422856336937, 3.5741011031177865, 3.4130308420545417, 3.2853174595649626, 3.1535523944096204, 3.0252979749336366, 2.907322253386754], [null, 2.1343380370376335, 2.1085900441758847, 2.1486973862769463, 2.163367062682898, 2.088683082983618, 1.9007777986851166, 1.835958082434032, 1.7280131192045076, 1.697813450694407, 1.6953281580136388, 1.6691635876814113, 1.6149199705938793, 1.5687735647482726, 1.537195529031401, 1.5586435957583078, 1.5177040221659868, 1.5080463210633621, 1.465845757872458, 1.44639462398472], [null, 1.2237815784728154, 1.1731664981447216, 1.1774071429215698, 1.1749996059593315, 1.148831637578355, 1.2279981622147977, 1.1676329535263705, 1.2153771430796505, 1.1394562876772854, 1.1427711787312733, 1.159913461521535, 1.1740384900365053, 1.192313958046751, 1.2484200313981095, 1.2456348616509199, 1.2338160395566211, 1.2376154700917332, 1.2006121403556222, 1.2342143247306456], [null, 1.926232314294936, 1.8037848567515644, 1.753317620247309, 1.7773685863188036, 1.7726008359663665, 1.8556873869598105, 1.8215381146656244, 1.840389149598491, 1.825376397573741, 1.9247925597991797, 1.975927183505677, 1.944719869778176, 1.9551453087261512, 2.152780232738422, 2.025912162401566, 2.031079986607433, 1.9742760538158493, 1.9375650219057132, 1.9810571983749587], [null, 3.164276166190787, 2.9405138814322953, 2.819829797441716, 2.780111060114809, 2.7887963911526246, 2.97756776345999, 3.004010319816036, 2.993340615994524, 2.954409792825617, 3.0789288379525694, 3.2472610136696214, 3.1992311955168944, 3.161216269840047, 3.4772160967400128, 3.3251673666333454, 3.2094500231776792, 3.131624660393938, 3.0018820354593765, 3.0164611112510675], [null, 6.562895894600335, 5.963289748791406, 5.450416139338498, 5.419767790507753, 5.445091547270573, 6.043968761598932, 6.084726618556041, 6.145639261181546, 6.029773427139343, 6.363471403231801, 6.6020580110375375, 6.497430470450094, 6.4014854286366845, 7.2539460375400235, 7.002119518608144, 6.775600800791403, 6.37435712620227, 6.031802235575932, 5.690490456270073], [null, 9.782886931831339, 9.271886739827254, 8.886558465104642, 8.957941663369457, 8.89657939585365, 9.555784996536357, 9.718524335472344, 9.768746868368558, 9.467686577729276, 9.805682785592927, 10.153429379464477, 10.10797691848478, 9.888801401898064, 10.402903796923459, 10.200459824082555, 9.748889345650433, 9.340442742685122, 9.055302441851032, 8.720131283973709]]}],                        {\"autosize\": false, \"height\": 400, \"margin\": {\"b\": 32, \"pad\": 0, \"r\": 30, \"t\": 40}, \"template\": {\"data\": {\"bar\": [{\"error_x\": {\"color\": \"#2a3f5f\"}, \"error_y\": {\"color\": \"#2a3f5f\"}, \"marker\": {\"line\": {\"color\": \"#E5ECF6\", \"width\": 0.5}}, \"type\": \"bar\"}], \"barpolar\": [{\"marker\": {\"line\": {\"color\": \"#E5ECF6\", \"width\": 0.5}}, \"type\": \"barpolar\"}], \"carpet\": [{\"aaxis\": {\"endlinecolor\": \"#2a3f5f\", \"gridcolor\": \"white\", \"linecolor\": \"white\", \"minorgridcolor\": \"white\", \"startlinecolor\": \"#2a3f5f\"}, \"baxis\": {\"endlinecolor\": \"#2a3f5f\", \"gridcolor\": \"white\", \"linecolor\": \"white\", \"minorgridcolor\": \"white\", \"startlinecolor\": \"#2a3f5f\"}, \"type\": \"carpet\"}], \"choropleth\": [{\"colorbar\": {\"outlinewidth\": 0, \"ticks\": \"\"}, \"type\": \"choropleth\"}], \"contour\": [{\"colorbar\": {\"outlinewidth\": 0, \"ticks\": \"\"}, \"colorscale\": [[0.0, \"#0d0887\"], [0.1111111111111111, \"#46039f\"], [0.2222222222222222, \"#7201a8\"], [0.3333333333333333, \"#9c179e\"], [0.4444444444444444, \"#bd3786\"], [0.5555555555555556, \"#d8576b\"], [0.6666666666666666, \"#ed7953\"], [0.7777777777777778, \"#fb9f3a\"], [0.8888888888888888, \"#fdca26\"], [1.0, \"#f0f921\"]], \"type\": \"contour\"}], \"contourcarpet\": [{\"colorbar\": {\"outlinewidth\": 0, \"ticks\": \"\"}, \"type\": \"contourcarpet\"}], \"heatmap\": [{\"colorbar\": {\"outlinewidth\": 0, \"ticks\": \"\"}, \"colorscale\": [[0.0, \"#0d0887\"], [0.1111111111111111, \"#46039f\"], [0.2222222222222222, \"#7201a8\"], [0.3333333333333333, \"#9c179e\"], [0.4444444444444444, \"#bd3786\"], [0.5555555555555556, \"#d8576b\"], [0.6666666666666666, \"#ed7953\"], [0.7777777777777778, \"#fb9f3a\"], [0.8888888888888888, \"#fdca26\"], [1.0, \"#f0f921\"]], \"type\": \"heatmap\"}], \"heatmapgl\": [{\"colorbar\": {\"outlinewidth\": 0, \"ticks\": \"\"}, \"colorscale\": [[0.0, \"#0d0887\"], [0.1111111111111111, \"#46039f\"], [0.2222222222222222, \"#7201a8\"], [0.3333333333333333, \"#9c179e\"], [0.4444444444444444, \"#bd3786\"], [0.5555555555555556, \"#d8576b\"], [0.6666666666666666, \"#ed7953\"], [0.7777777777777778, \"#fb9f3a\"], [0.8888888888888888, \"#fdca26\"], [1.0, \"#f0f921\"]], \"type\": \"heatmapgl\"}], \"histogram\": [{\"marker\": {\"colorbar\": {\"outlinewidth\": 0, \"ticks\": \"\"}}, \"type\": \"histogram\"}], \"histogram2d\": [{\"colorbar\": {\"outlinewidth\": 0, \"ticks\": \"\"}, \"colorscale\": [[0.0, \"#0d0887\"], [0.1111111111111111, \"#46039f\"], [0.2222222222222222, \"#7201a8\"], [0.3333333333333333, \"#9c179e\"], [0.4444444444444444, \"#bd3786\"], [0.5555555555555556, \"#d8576b\"], [0.6666666666666666, \"#ed7953\"], [0.7777777777777778, \"#fb9f3a\"], [0.8888888888888888, \"#fdca26\"], [1.0, \"#f0f921\"]], \"type\": \"histogram2d\"}], \"histogram2dcontour\": [{\"colorbar\": {\"outlinewidth\": 0, \"ticks\": \"\"}, \"colorscale\": [[0.0, \"#0d0887\"], [0.1111111111111111, \"#46039f\"], [0.2222222222222222, \"#7201a8\"], [0.3333333333333333, \"#9c179e\"], [0.4444444444444444, \"#bd3786\"], [0.5555555555555556, \"#d8576b\"], [0.6666666666666666, \"#ed7953\"], [0.7777777777777778, \"#fb9f3a\"], [0.8888888888888888, \"#fdca26\"], [1.0, \"#f0f921\"]], \"type\": \"histogram2dcontour\"}], \"mesh3d\": [{\"colorbar\": {\"outlinewidth\": 0, \"ticks\": \"\"}, \"type\": \"mesh3d\"}], \"parcoords\": [{\"line\": {\"colorbar\": {\"outlinewidth\": 0, \"ticks\": \"\"}}, \"type\": \"parcoords\"}], \"pie\": [{\"automargin\": true, \"type\": \"pie\"}], \"scatter\": [{\"marker\": {\"colorbar\": {\"outlinewidth\": 0, \"ticks\": \"\"}}, \"type\": \"scatter\"}], \"scatter3d\": [{\"line\": {\"colorbar\": {\"outlinewidth\": 0, \"ticks\": \"\"}}, \"marker\": {\"colorbar\": {\"outlinewidth\": 0, \"ticks\": \"\"}}, \"type\": \"scatter3d\"}], \"scattercarpet\": [{\"marker\": {\"colorbar\": {\"outlinewidth\": 0, \"ticks\": \"\"}}, \"type\": \"scattercarpet\"}], \"scattergeo\": [{\"marker\": {\"colorbar\": {\"outlinewidth\": 0, \"ticks\": \"\"}}, \"type\": \"scattergeo\"}], \"scattergl\": [{\"marker\": {\"colorbar\": {\"outlinewidth\": 0, \"ticks\": \"\"}}, \"type\": \"scattergl\"}], \"scattermapbox\": [{\"marker\": {\"colorbar\": {\"outlinewidth\": 0, \"ticks\": \"\"}}, \"type\": \"scattermapbox\"}], \"scatterpolar\": [{\"marker\": {\"colorbar\": {\"outlinewidth\": 0, \"ticks\": \"\"}}, \"type\": \"scatterpolar\"}], \"scatterpolargl\": [{\"marker\": {\"colorbar\": {\"outlinewidth\": 0, \"ticks\": \"\"}}, \"type\": \"scatterpolargl\"}], \"scatterternary\": [{\"marker\": {\"colorbar\": {\"outlinewidth\": 0, \"ticks\": \"\"}}, \"type\": \"scatterternary\"}], \"surface\": [{\"colorbar\": {\"outlinewidth\": 0, \"ticks\": \"\"}, \"colorscale\": [[0.0, \"#0d0887\"], [0.1111111111111111, \"#46039f\"], [0.2222222222222222, \"#7201a8\"], [0.3333333333333333, \"#9c179e\"], [0.4444444444444444, \"#bd3786\"], [0.5555555555555556, \"#d8576b\"], [0.6666666666666666, \"#ed7953\"], [0.7777777777777778, \"#fb9f3a\"], [0.8888888888888888, \"#fdca26\"], [1.0, \"#f0f921\"]], \"type\": \"surface\"}], \"table\": [{\"cells\": {\"fill\": {\"color\": \"#EBF0F8\"}, \"line\": {\"color\": \"white\"}}, \"header\": {\"fill\": {\"color\": \"#C8D4E3\"}, \"line\": {\"color\": \"white\"}}, \"type\": \"table\"}]}, \"layout\": {\"annotationdefaults\": {\"arrowcolor\": \"#2a3f5f\", \"arrowhead\": 0, \"arrowwidth\": 1}, \"autotypenumbers\": \"strict\", \"coloraxis\": {\"colorbar\": {\"outlinewidth\": 0, \"ticks\": \"\"}}, \"colorscale\": {\"diverging\": [[0, \"#8e0152\"], [0.1, \"#c51b7d\"], [0.2, \"#de77ae\"], [0.3, \"#f1b6da\"], [0.4, \"#fde0ef\"], [0.5, \"#f7f7f7\"], [0.6, \"#e6f5d0\"], [0.7, \"#b8e186\"], [0.8, \"#7fbc41\"], [0.9, \"#4d9221\"], [1, \"#276419\"]], \"sequential\": [[0.0, \"#0d0887\"], [0.1111111111111111, \"#46039f\"], [0.2222222222222222, \"#7201a8\"], [0.3333333333333333, \"#9c179e\"], [0.4444444444444444, \"#bd3786\"], [0.5555555555555556, \"#d8576b\"], [0.6666666666666666, \"#ed7953\"], [0.7777777777777778, \"#fb9f3a\"], [0.8888888888888888, \"#fdca26\"], [1.0, \"#f0f921\"]], \"sequentialminus\": [[0.0, \"#0d0887\"], [0.1111111111111111, \"#46039f\"], [0.2222222222222222, \"#7201a8\"], [0.3333333333333333, \"#9c179e\"], [0.4444444444444444, \"#bd3786\"], [0.5555555555555556, \"#d8576b\"], [0.6666666666666666, \"#ed7953\"], [0.7777777777777778, \"#fb9f3a\"], [0.8888888888888888, \"#fdca26\"], [1.0, \"#f0f921\"]]}, \"colorway\": [\"#636efa\", \"#EF553B\", \"#00cc96\", \"#ab63fa\", \"#FFA15A\", \"#19d3f3\", \"#FF6692\", \"#B6E880\", \"#FF97FF\", \"#FECB52\"], \"font\": {\"color\": \"#2a3f5f\"}, \"geo\": {\"bgcolor\": \"white\", \"lakecolor\": \"white\", \"landcolor\": \"#E5ECF6\", \"showlakes\": true, \"showland\": true, \"subunitcolor\": \"white\"}, \"hoverlabel\": {\"align\": \"left\"}, \"hovermode\": \"closest\", \"mapbox\": {\"style\": \"light\"}, \"paper_bgcolor\": \"white\", \"plot_bgcolor\": \"#E5ECF6\", \"polar\": {\"angularaxis\": {\"gridcolor\": \"white\", \"linecolor\": \"white\", \"ticks\": \"\"}, \"bgcolor\": \"#E5ECF6\", \"radialaxis\": {\"gridcolor\": \"white\", \"linecolor\": \"white\", \"ticks\": \"\"}}, \"scene\": {\"xaxis\": {\"backgroundcolor\": \"#E5ECF6\", \"gridcolor\": \"white\", \"gridwidth\": 2, \"linecolor\": \"white\", \"showbackground\": true, \"ticks\": \"\", \"zerolinecolor\": \"white\"}, \"yaxis\": {\"backgroundcolor\": \"#E5ECF6\", \"gridcolor\": \"white\", \"gridwidth\": 2, \"linecolor\": \"white\", \"showbackground\": true, \"ticks\": \"\", \"zerolinecolor\": \"white\"}, \"zaxis\": {\"backgroundcolor\": \"#E5ECF6\", \"gridcolor\": \"white\", \"gridwidth\": 2, \"linecolor\": \"white\", \"showbackground\": true, \"ticks\": \"\", \"zerolinecolor\": \"white\"}}, \"shapedefaults\": {\"line\": {\"color\": \"#2a3f5f\"}}, \"ternary\": {\"aaxis\": {\"gridcolor\": \"white\", \"linecolor\": \"white\", \"ticks\": \"\"}, \"baxis\": {\"gridcolor\": \"white\", \"linecolor\": \"white\", \"ticks\": \"\"}, \"bgcolor\": \"#E5ECF6\", \"caxis\": {\"gridcolor\": \"white\", \"linecolor\": \"white\", \"ticks\": \"\"}}, \"title\": {\"x\": 0.05}, \"xaxis\": {\"automargin\": true, \"gridcolor\": \"white\", \"linecolor\": \"white\", \"ticks\": \"\", \"title\": {\"standoff\": 15}, \"zerolinecolor\": \"white\", \"zerolinewidth\": 2}, \"yaxis\": {\"automargin\": true, \"gridcolor\": \"white\", \"linecolor\": \"white\", \"ticks\": \"\", \"title\": {\"standoff\": 15}, \"zerolinecolor\": \"white\", \"zerolinewidth\": 2}}}, \"title\": {\"text\": \"$\\\\operatorname{TimeY}(time[hr],y[R_{E}])[\\\\frac{1}{cm^{3}}] = \\\\lambda{\\\\left(time,y \\\\right)}$\"}, \"width\": 700, \"xaxis\": {\"title\": {\"text\": \"$time$\"}}, \"yaxis\": {\"title\": {\"text\": \"$y$\"}}},                        {\"responsive\": true}                    ).then(function(){\n",
       "                            \n",
       "var gd = document.getElementById('d7283c5e-171f-49bb-bcce-aa9b970f8adc');\n",
       "var x = new MutationObserver(function (mutations, observer) {{\n",
       "        var display = window.getComputedStyle(gd).display;\n",
       "        if (!display || display === 'none') {{\n",
       "            console.log([gd, 'removed!']);\n",
       "            Plotly.purge(gd);\n",
       "            observer.disconnect();\n",
       "        }}\n",
       "}});\n",
       "\n",
       "// Listen for the removal of the full notebook cells\n",
       "var notebookContainer = gd.closest('#notebook-container');\n",
       "if (notebookContainer) {{\n",
       "    x.observe(notebookContainer, {childList: true});\n",
       "}}\n",
       "\n",
       "// Listen for the clearing of the current output cell\n",
       "var outputEl = gd.closest('.output');\n",
       "if (outputEl) {{\n",
       "    x.observe(outputEl, {childList: true});\n",
       "}}\n",
       "\n",
       "                        })                };                });            </script>        </div>"
      ]
     },
     "metadata": {},
     "output_type": "display_data"
    },
    {
     "name": "stdout",
     "output_type": "stream",
     "text": [
      "N_plasma\n",
      "Y slice at 0.000 R_E. Z slice at 2.0000000 R_E.\n",
      "Took 6.858 s for 400 positions.\n"
     ]
    },
    {
     "data": {
      "application/vnd.plotly.v1+json": {
       "config": {
        "linkText": "Export to plot.ly",
        "plotlyServerURL": "https://plot.ly",
        "showLink": false
       },
       "data": [
        {
         "meta": "2d-grid",
         "type": "contour",
         "x": [
          12,
          12.052631578947368,
          12.105263157894736,
          12.157894736842104,
          12.210526315789474,
          12.263157894736842,
          12.31578947368421,
          12.368421052631579,
          12.421052631578947,
          12.473684210526315,
          12.526315789473685,
          12.578947368421053,
          12.631578947368421,
          12.68421052631579,
          12.736842105263158,
          12.789473684210526,
          12.842105263157894,
          12.894736842105264,
          12.947368421052632,
          13
         ],
         "y": [
          -15,
          -13.421052631578947,
          -11.842105263157894,
          -10.263157894736842,
          -8.68421052631579,
          -7.105263157894736,
          -5.526315789473685,
          -3.947368421052632,
          -2.3684210526315788,
          -0.7894736842105257,
          0.7894736842105274,
          2.3684210526315788,
          3.94736842105263,
          5.526315789473685,
          7.105263157894736,
          8.684210526315791,
          10.263157894736842,
          11.842105263157894,
          13.421052631578949,
          15
         ],
         "z": [
          [
           null,
           0.2003692144706563,
           0.20004032355534423,
           0.19972377708494318,
           0.2001867806504099,
           0.20017470519415856,
           0.2003063786617944,
           0.19972110510071003,
           0.20019396371758622,
           0.19976786243056158,
           0.1998754469275675,
           0.19978364188872288,
           0.20002883040360303,
           0.20039377287626983,
           0.20019775250829797,
           0.19989132163165396,
           0.20002409937930207,
           0.19996982316471368,
           0.20020524526303893,
           0.20004171619530275
          ],
          [
           null,
           0.2003692144706563,
           0.20004032355534423,
           0.19972377708494318,
           0.2001867806504099,
           0.20017470519415856,
           0.2003063786617944,
           0.19972110510071003,
           0.20019396371758622,
           0.19976786243056158,
           0.1998754469275675,
           0.19978364188872288,
           0.20002883040360303,
           0.20039377287626983,
           0.20019775250829797,
           0.19989132163165396,
           0.20002409937930207,
           0.19996982316471368,
           0.20020524526303893,
           0.20004171619530275
          ],
          [
           null,
           0.2003692144706563,
           0.20004032355534423,
           0.19972377708494318,
           0.2001867806504099,
           0.20017470519415856,
           0.2003063786617944,
           0.19972110510071003,
           0.20019396371758622,
           0.19976786243056158,
           0.1998754469275675,
           0.19978364188872288,
           0.20002883040360303,
           0.20039377287626983,
           0.20019775250829797,
           0.19989132163165396,
           0.20002409937930207,
           0.19996982316471368,
           0.20020524526303893,
           0.20004171619530275
          ],
          [
           null,
           0.20057448917662749,
           0.2005818022025758,
           0.20157472486535127,
           0.20176936613105365,
           0.20204104635342351,
           0.201132816137113,
           0.20255370898756492,
           0.20258818601707745,
           0.2050903223936063,
           0.2048035610478735,
           0.20380916967766188,
           0.20266310799675988,
           0.20478001862938794,
           0.2063373444223215,
           0.2032228980398552,
           0.2007287711587449,
           0.20038048747156445,
           0.20061639242236687,
           0.20086696219050357
          ],
          [
           null,
           0.5305418101197197,
           0.5322849201596366,
           0.534403041148994,
           0.5480891104740603,
           0.5537661181610165,
           0.5531810329866014,
           0.574904904032828,
           0.5942108137588318,
           0.5982517269553026,
           0.5770530985266747,
           0.5763466087054882,
           0.6040001524143638,
           0.6079728992671088,
           0.5873469568741042,
           0.6312895164025473,
           0.5858770280766364,
           0.5856331530211548,
           0.5995656606346603,
           0.5951822920369975
          ],
          [
           null,
           0.9874417382259187,
           0.9496701569728424,
           0.9786938458602177,
           0.9719092633513908,
           1.0002060861706656,
           1.0180775302392049,
           0.9889010842793171,
           1.02077333419041,
           1.039970401210941,
           1.0927688690397834,
           1.0565554358361304,
           1.0363477589278427,
           1.0402203272905919,
           1.0173174039620327,
           1.0490981040122238,
           1.0879271642222372,
           1.0352130949157696,
           0.9947356590433498,
           1.0015649176630395
          ],
          [
           null,
           2.8717056637794176,
           2.863944394537177,
           2.9226622885003115,
           2.905625425450509,
           2.7893467255636097,
           2.760541050233007,
           2.8122778684863485,
           2.815664554415971,
           2.753394284502382,
           2.7157213903812654,
           2.7426508043318387,
           2.7910072393965106,
           2.8286898352601253,
           2.8178653510106404,
           2.807461918681928,
           2.7522953261625216,
           2.6673270055963103,
           2.7016029469510268,
           2.7450377749075456
          ],
          [
           null,
           8.639647406862048,
           8.43961027535703,
           8.208088402601247,
           8.012125008643252,
           7.82224275754312,
           7.575655057417382,
           7.3149748381706345,
           7.045928977766497,
           6.872779030708882,
           6.667390098521843,
           6.502636919026436,
           6.365321391988325,
           6.190676642255015,
           6.0423908335078025,
           5.870739275818404,
           5.681017914435277,
           5.517699122255223,
           5.437365907990941,
           5.3780909566098645
          ],
          [
           null,
           10.811475887304907,
           10.781935455267432,
           10.700580104042972,
           10.597189048493808,
           10.48590826577122,
           10.243011068752454,
           10.049027701208974,
           9.907340447313551,
           9.855757667503143,
           9.601974083091397,
           9.395226427245916,
           9.287223150831743,
           9.154801736029992,
           9.061507508268239,
           9.00389834398634,
           8.902647713323892,
           8.876952461223308,
           8.813675077360454,
           8.710448489842854
          ],
          [
           null,
           null,
           null,
           null,
           null,
           null,
           null,
           null,
           null,
           null,
           null,
           null,
           null,
           null,
           null,
           null,
           null,
           null,
           null,
           null
          ],
          [
           null,
           null,
           null,
           null,
           null,
           null,
           null,
           null,
           null,
           null,
           null,
           null,
           null,
           null,
           null,
           null,
           null,
           null,
           null,
           null
          ],
          [
           null,
           6.280021080525472,
           6.223614086133689,
           6.2129270997951815,
           6.294070403681607,
           6.3273328596910305,
           6.366463089322184,
           6.389619627357629,
           6.378327714686036,
           6.398257429741452,
           6.416558252230591,
           6.446453713849103,
           6.452060518083223,
           6.496880167677477,
           6.568136560119386,
           6.5604651005444214,
           6.559071446121101,
           6.587477713255647,
           6.616693975151375,
           6.593630083397596
          ],
          [
           null,
           2.7310364836373395,
           2.7547002044331244,
           2.7773703176963487,
           2.7855771324386396,
           2.7935828273106336,
           2.806661280950445,
           2.80848880496237,
           2.821496140601393,
           2.8329675350726498,
           2.8252017927767024,
           2.824437616994101,
           2.833394264402112,
           2.852332888865794,
           2.851535728483371,
           2.8543624985844325,
           2.8561143012613575,
           2.8530806082355715,
           2.8211229140136473,
           2.8196737005698935
          ],
          [
           null,
           1.3898859798880114,
           1.3973029139807067,
           1.3959497999237627,
           1.3793817797754462,
           1.3803361914296477,
           1.3997935259284124,
           1.4027359691340011,
           1.4270587467165743,
           1.4416360815122435,
           1.4481138058144378,
           1.4552794017346566,
           1.4352579454660233,
           1.4538698450753902,
           1.4606429295113912,
           1.473183124463217,
           1.4980349251366454,
           1.5344835993492476,
           1.5459114562790646,
           1.5591060950205748
          ],
          [
           null,
           1.1803569977453792,
           1.146185355584643,
           1.1592671042482887,
           1.1785031010626028,
           1.2003128584746965,
           1.2097032630171645,
           1.2241596921339866,
           1.2151742086782011,
           1.2196023622966203,
           1.2208253454316162,
           1.1951878643257456,
           1.161972031796498,
           1.1793004372566953,
           1.1195925917850345,
           1.0809256039547486,
           1.0749728946115953,
           1.0538137603493078,
           1.0447208472440748,
           1.0574826774114536
          ],
          [
           null,
           3.104732124403379,
           2.832289940056856,
           2.6047261698805606,
           2.464648004477102,
           2.8551658942501685,
           3.322583082535957,
           3.97914104308574,
           4.254646423155951,
           4.227839205635252,
           4.14080935676173,
           4.150335005519032,
           4.058246222099258,
           4.1470087816705155,
           3.775676235303379,
           3.4340160803855886,
           3.193810628704103,
           2.8563934454837874,
           2.700806267761299,
           2.730563000484909
          ],
          [
           null,
           5.61660232771593,
           2.493979093447406,
           2.9137387410508344,
           3.2079276995685673,
           3.63115104145843,
           3.416473854774779,
           3.5014092178603313,
           3.2197754177159146,
           3.205058926791839,
           3.073621519710181,
           3.073895420119396,
           2.82600433864046,
           4.2588526438437215,
           3.2339846965855137,
           2.8583193311153994,
           2.632884182608477,
           2.2065052002208563,
           2.6855801757665327,
           8.755100786982455
          ],
          [
           null,
           17.430079030942885,
           17.564081005760702,
           18.095834879559426,
           18.40861867002123,
           19.298841927307727,
           19.338888590408292,
           18.93007623916977,
           18.631578837355395,
           19.696302516458076,
           20.126770722633374,
           19.871999629030558,
           19.198371048092465,
           20.581322386163695,
           19.723082756586543,
           18.502228290466586,
           17.814936527245536,
           17.06884182129912,
           18.314190083581234,
           20.09951870831732
          ],
          [
           null,
           4.040363938467661,
           4.567631586314344,
           4.4395793452306185,
           4.486752345129239,
           4.6566706622020835,
           5.019193584691851,
           4.74838951366766,
           5.48530813789252,
           5.128063096244136,
           5.034220942804752,
           5.005747649915173,
           5.268487305012645,
           5.101412178264403,
           5.041747535562426,
           4.564961176611339,
           4.9107574378460885,
           4.62835100342034,
           5.022546563806612,
           4.722884607831357
          ],
          [
           null,
           4.258256832313229,
           4.435016213097556,
           4.36764213927639,
           4.688119556710557,
           4.637171094008094,
           4.742491630237005,
           4.669152101575205,
           4.838161247427774,
           4.759287661485027,
           4.963802204512139,
           4.702663502689893,
           5.350179456509951,
           5.01261664544843,
           5.332526179301942,
           4.429413275628874,
           4.275841579261928,
           4.314039645644541,
           4.878521228707223,
           4.8303456854884255
          ]
         ]
        }
       ],
       "layout": {
        "autosize": false,
        "height": 400,
        "margin": {
         "b": 32,
         "pad": 0,
         "r": 30,
         "t": 40
        },
        "template": {
         "data": {
          "bar": [
           {
            "error_x": {
             "color": "#2a3f5f"
            },
            "error_y": {
             "color": "#2a3f5f"
            },
            "marker": {
             "line": {
              "color": "#E5ECF6",
              "width": 0.5
             }
            },
            "type": "bar"
           }
          ],
          "barpolar": [
           {
            "marker": {
             "line": {
              "color": "#E5ECF6",
              "width": 0.5
             }
            },
            "type": "barpolar"
           }
          ],
          "carpet": [
           {
            "aaxis": {
             "endlinecolor": "#2a3f5f",
             "gridcolor": "white",
             "linecolor": "white",
             "minorgridcolor": "white",
             "startlinecolor": "#2a3f5f"
            },
            "baxis": {
             "endlinecolor": "#2a3f5f",
             "gridcolor": "white",
             "linecolor": "white",
             "minorgridcolor": "white",
             "startlinecolor": "#2a3f5f"
            },
            "type": "carpet"
           }
          ],
          "choropleth": [
           {
            "colorbar": {
             "outlinewidth": 0,
             "ticks": ""
            },
            "type": "choropleth"
           }
          ],
          "contour": [
           {
            "colorbar": {
             "outlinewidth": 0,
             "ticks": ""
            },
            "colorscale": [
             [
              0,
              "#0d0887"
             ],
             [
              0.1111111111111111,
              "#46039f"
             ],
             [
              0.2222222222222222,
              "#7201a8"
             ],
             [
              0.3333333333333333,
              "#9c179e"
             ],
             [
              0.4444444444444444,
              "#bd3786"
             ],
             [
              0.5555555555555556,
              "#d8576b"
             ],
             [
              0.6666666666666666,
              "#ed7953"
             ],
             [
              0.7777777777777778,
              "#fb9f3a"
             ],
             [
              0.8888888888888888,
              "#fdca26"
             ],
             [
              1,
              "#f0f921"
             ]
            ],
            "type": "contour"
           }
          ],
          "contourcarpet": [
           {
            "colorbar": {
             "outlinewidth": 0,
             "ticks": ""
            },
            "type": "contourcarpet"
           }
          ],
          "heatmap": [
           {
            "colorbar": {
             "outlinewidth": 0,
             "ticks": ""
            },
            "colorscale": [
             [
              0,
              "#0d0887"
             ],
             [
              0.1111111111111111,
              "#46039f"
             ],
             [
              0.2222222222222222,
              "#7201a8"
             ],
             [
              0.3333333333333333,
              "#9c179e"
             ],
             [
              0.4444444444444444,
              "#bd3786"
             ],
             [
              0.5555555555555556,
              "#d8576b"
             ],
             [
              0.6666666666666666,
              "#ed7953"
             ],
             [
              0.7777777777777778,
              "#fb9f3a"
             ],
             [
              0.8888888888888888,
              "#fdca26"
             ],
             [
              1,
              "#f0f921"
             ]
            ],
            "type": "heatmap"
           }
          ],
          "heatmapgl": [
           {
            "colorbar": {
             "outlinewidth": 0,
             "ticks": ""
            },
            "colorscale": [
             [
              0,
              "#0d0887"
             ],
             [
              0.1111111111111111,
              "#46039f"
             ],
             [
              0.2222222222222222,
              "#7201a8"
             ],
             [
              0.3333333333333333,
              "#9c179e"
             ],
             [
              0.4444444444444444,
              "#bd3786"
             ],
             [
              0.5555555555555556,
              "#d8576b"
             ],
             [
              0.6666666666666666,
              "#ed7953"
             ],
             [
              0.7777777777777778,
              "#fb9f3a"
             ],
             [
              0.8888888888888888,
              "#fdca26"
             ],
             [
              1,
              "#f0f921"
             ]
            ],
            "type": "heatmapgl"
           }
          ],
          "histogram": [
           {
            "marker": {
             "colorbar": {
              "outlinewidth": 0,
              "ticks": ""
             }
            },
            "type": "histogram"
           }
          ],
          "histogram2d": [
           {
            "colorbar": {
             "outlinewidth": 0,
             "ticks": ""
            },
            "colorscale": [
             [
              0,
              "#0d0887"
             ],
             [
              0.1111111111111111,
              "#46039f"
             ],
             [
              0.2222222222222222,
              "#7201a8"
             ],
             [
              0.3333333333333333,
              "#9c179e"
             ],
             [
              0.4444444444444444,
              "#bd3786"
             ],
             [
              0.5555555555555556,
              "#d8576b"
             ],
             [
              0.6666666666666666,
              "#ed7953"
             ],
             [
              0.7777777777777778,
              "#fb9f3a"
             ],
             [
              0.8888888888888888,
              "#fdca26"
             ],
             [
              1,
              "#f0f921"
             ]
            ],
            "type": "histogram2d"
           }
          ],
          "histogram2dcontour": [
           {
            "colorbar": {
             "outlinewidth": 0,
             "ticks": ""
            },
            "colorscale": [
             [
              0,
              "#0d0887"
             ],
             [
              0.1111111111111111,
              "#46039f"
             ],
             [
              0.2222222222222222,
              "#7201a8"
             ],
             [
              0.3333333333333333,
              "#9c179e"
             ],
             [
              0.4444444444444444,
              "#bd3786"
             ],
             [
              0.5555555555555556,
              "#d8576b"
             ],
             [
              0.6666666666666666,
              "#ed7953"
             ],
             [
              0.7777777777777778,
              "#fb9f3a"
             ],
             [
              0.8888888888888888,
              "#fdca26"
             ],
             [
              1,
              "#f0f921"
             ]
            ],
            "type": "histogram2dcontour"
           }
          ],
          "mesh3d": [
           {
            "colorbar": {
             "outlinewidth": 0,
             "ticks": ""
            },
            "type": "mesh3d"
           }
          ],
          "parcoords": [
           {
            "line": {
             "colorbar": {
              "outlinewidth": 0,
              "ticks": ""
             }
            },
            "type": "parcoords"
           }
          ],
          "pie": [
           {
            "automargin": true,
            "type": "pie"
           }
          ],
          "scatter": [
           {
            "marker": {
             "colorbar": {
              "outlinewidth": 0,
              "ticks": ""
             }
            },
            "type": "scatter"
           }
          ],
          "scatter3d": [
           {
            "line": {
             "colorbar": {
              "outlinewidth": 0,
              "ticks": ""
             }
            },
            "marker": {
             "colorbar": {
              "outlinewidth": 0,
              "ticks": ""
             }
            },
            "type": "scatter3d"
           }
          ],
          "scattercarpet": [
           {
            "marker": {
             "colorbar": {
              "outlinewidth": 0,
              "ticks": ""
             }
            },
            "type": "scattercarpet"
           }
          ],
          "scattergeo": [
           {
            "marker": {
             "colorbar": {
              "outlinewidth": 0,
              "ticks": ""
             }
            },
            "type": "scattergeo"
           }
          ],
          "scattergl": [
           {
            "marker": {
             "colorbar": {
              "outlinewidth": 0,
              "ticks": ""
             }
            },
            "type": "scattergl"
           }
          ],
          "scattermapbox": [
           {
            "marker": {
             "colorbar": {
              "outlinewidth": 0,
              "ticks": ""
             }
            },
            "type": "scattermapbox"
           }
          ],
          "scatterpolar": [
           {
            "marker": {
             "colorbar": {
              "outlinewidth": 0,
              "ticks": ""
             }
            },
            "type": "scatterpolar"
           }
          ],
          "scatterpolargl": [
           {
            "marker": {
             "colorbar": {
              "outlinewidth": 0,
              "ticks": ""
             }
            },
            "type": "scatterpolargl"
           }
          ],
          "scatterternary": [
           {
            "marker": {
             "colorbar": {
              "outlinewidth": 0,
              "ticks": ""
             }
            },
            "type": "scatterternary"
           }
          ],
          "surface": [
           {
            "colorbar": {
             "outlinewidth": 0,
             "ticks": ""
            },
            "colorscale": [
             [
              0,
              "#0d0887"
             ],
             [
              0.1111111111111111,
              "#46039f"
             ],
             [
              0.2222222222222222,
              "#7201a8"
             ],
             [
              0.3333333333333333,
              "#9c179e"
             ],
             [
              0.4444444444444444,
              "#bd3786"
             ],
             [
              0.5555555555555556,
              "#d8576b"
             ],
             [
              0.6666666666666666,
              "#ed7953"
             ],
             [
              0.7777777777777778,
              "#fb9f3a"
             ],
             [
              0.8888888888888888,
              "#fdca26"
             ],
             [
              1,
              "#f0f921"
             ]
            ],
            "type": "surface"
           }
          ],
          "table": [
           {
            "cells": {
             "fill": {
              "color": "#EBF0F8"
             },
             "line": {
              "color": "white"
             }
            },
            "header": {
             "fill": {
              "color": "#C8D4E3"
             },
             "line": {
              "color": "white"
             }
            },
            "type": "table"
           }
          ]
         },
         "layout": {
          "annotationdefaults": {
           "arrowcolor": "#2a3f5f",
           "arrowhead": 0,
           "arrowwidth": 1
          },
          "autotypenumbers": "strict",
          "coloraxis": {
           "colorbar": {
            "outlinewidth": 0,
            "ticks": ""
           }
          },
          "colorscale": {
           "diverging": [
            [
             0,
             "#8e0152"
            ],
            [
             0.1,
             "#c51b7d"
            ],
            [
             0.2,
             "#de77ae"
            ],
            [
             0.3,
             "#f1b6da"
            ],
            [
             0.4,
             "#fde0ef"
            ],
            [
             0.5,
             "#f7f7f7"
            ],
            [
             0.6,
             "#e6f5d0"
            ],
            [
             0.7,
             "#b8e186"
            ],
            [
             0.8,
             "#7fbc41"
            ],
            [
             0.9,
             "#4d9221"
            ],
            [
             1,
             "#276419"
            ]
           ],
           "sequential": [
            [
             0,
             "#0d0887"
            ],
            [
             0.1111111111111111,
             "#46039f"
            ],
            [
             0.2222222222222222,
             "#7201a8"
            ],
            [
             0.3333333333333333,
             "#9c179e"
            ],
            [
             0.4444444444444444,
             "#bd3786"
            ],
            [
             0.5555555555555556,
             "#d8576b"
            ],
            [
             0.6666666666666666,
             "#ed7953"
            ],
            [
             0.7777777777777778,
             "#fb9f3a"
            ],
            [
             0.8888888888888888,
             "#fdca26"
            ],
            [
             1,
             "#f0f921"
            ]
           ],
           "sequentialminus": [
            [
             0,
             "#0d0887"
            ],
            [
             0.1111111111111111,
             "#46039f"
            ],
            [
             0.2222222222222222,
             "#7201a8"
            ],
            [
             0.3333333333333333,
             "#9c179e"
            ],
            [
             0.4444444444444444,
             "#bd3786"
            ],
            [
             0.5555555555555556,
             "#d8576b"
            ],
            [
             0.6666666666666666,
             "#ed7953"
            ],
            [
             0.7777777777777778,
             "#fb9f3a"
            ],
            [
             0.8888888888888888,
             "#fdca26"
            ],
            [
             1,
             "#f0f921"
            ]
           ]
          },
          "colorway": [
           "#636efa",
           "#EF553B",
           "#00cc96",
           "#ab63fa",
           "#FFA15A",
           "#19d3f3",
           "#FF6692",
           "#B6E880",
           "#FF97FF",
           "#FECB52"
          ],
          "font": {
           "color": "#2a3f5f"
          },
          "geo": {
           "bgcolor": "white",
           "lakecolor": "white",
           "landcolor": "#E5ECF6",
           "showlakes": true,
           "showland": true,
           "subunitcolor": "white"
          },
          "hoverlabel": {
           "align": "left"
          },
          "hovermode": "closest",
          "mapbox": {
           "style": "light"
          },
          "paper_bgcolor": "white",
          "plot_bgcolor": "#E5ECF6",
          "polar": {
           "angularaxis": {
            "gridcolor": "white",
            "linecolor": "white",
            "ticks": ""
           },
           "bgcolor": "#E5ECF6",
           "radialaxis": {
            "gridcolor": "white",
            "linecolor": "white",
            "ticks": ""
           }
          },
          "scene": {
           "xaxis": {
            "backgroundcolor": "#E5ECF6",
            "gridcolor": "white",
            "gridwidth": 2,
            "linecolor": "white",
            "showbackground": true,
            "ticks": "",
            "zerolinecolor": "white"
           },
           "yaxis": {
            "backgroundcolor": "#E5ECF6",
            "gridcolor": "white",
            "gridwidth": 2,
            "linecolor": "white",
            "showbackground": true,
            "ticks": "",
            "zerolinecolor": "white"
           },
           "zaxis": {
            "backgroundcolor": "#E5ECF6",
            "gridcolor": "white",
            "gridwidth": 2,
            "linecolor": "white",
            "showbackground": true,
            "ticks": "",
            "zerolinecolor": "white"
           }
          },
          "shapedefaults": {
           "line": {
            "color": "#2a3f5f"
           }
          },
          "ternary": {
           "aaxis": {
            "gridcolor": "white",
            "linecolor": "white",
            "ticks": ""
           },
           "baxis": {
            "gridcolor": "white",
            "linecolor": "white",
            "ticks": ""
           },
           "bgcolor": "#E5ECF6",
           "caxis": {
            "gridcolor": "white",
            "linecolor": "white",
            "ticks": ""
           }
          },
          "title": {
           "x": 0.05
          },
          "xaxis": {
           "automargin": true,
           "gridcolor": "white",
           "linecolor": "white",
           "ticks": "",
           "title": {
            "standoff": 15
           },
           "zerolinecolor": "white",
           "zerolinewidth": 2
          },
          "yaxis": {
           "automargin": true,
           "gridcolor": "white",
           "linecolor": "white",
           "ticks": "",
           "title": {
            "standoff": 15
           },
           "zerolinecolor": "white",
           "zerolinewidth": 2
          }
         }
        },
        "title": {
         "text": "$\\operatorname{TimeX}(time[hr],x[R_{E}])[\\frac{1}{cm^{3}}] = \\lambda{\\left(time,x \\right)}$"
        },
        "width": 700,
        "xaxis": {
         "title": {
          "text": "$time$"
         }
        },
        "yaxis": {
         "title": {
          "text": "$x$"
         }
        }
       }
      },
      "text/html": [
       "<div>                            <div id=\"e518cc35-91c2-423a-a0f5-423efbb025df\" class=\"plotly-graph-div\" style=\"height:400px; width:700px;\"></div>            <script type=\"text/javascript\">                require([\"plotly\"], function(Plotly) {                    window.PLOTLYENV=window.PLOTLYENV || {};                                    if (document.getElementById(\"e518cc35-91c2-423a-a0f5-423efbb025df\")) {                    Plotly.newPlot(                        \"e518cc35-91c2-423a-a0f5-423efbb025df\",                        [{\"meta\": \"2d-grid\", \"type\": \"contour\", \"x\": [12.0, 12.052631578947368, 12.105263157894736, 12.157894736842104, 12.210526315789474, 12.263157894736842, 12.31578947368421, 12.368421052631579, 12.421052631578947, 12.473684210526315, 12.526315789473685, 12.578947368421053, 12.631578947368421, 12.68421052631579, 12.736842105263158, 12.789473684210526, 12.842105263157894, 12.894736842105264, 12.947368421052632, 13.0], \"y\": [-15.0, -13.421052631578947, -11.842105263157894, -10.263157894736842, -8.68421052631579, -7.105263157894736, -5.526315789473685, -3.947368421052632, -2.3684210526315788, -0.7894736842105257, 0.7894736842105274, 2.3684210526315788, 3.94736842105263, 5.526315789473685, 7.105263157894736, 8.684210526315791, 10.263157894736842, 11.842105263157894, 13.421052631578949, 15.0], \"z\": [[null, 0.2003692144706563, 0.20004032355534423, 0.19972377708494318, 0.2001867806504099, 0.20017470519415856, 0.2003063786617944, 0.19972110510071003, 0.20019396371758622, 0.19976786243056158, 0.1998754469275675, 0.19978364188872288, 0.20002883040360303, 0.20039377287626983, 0.20019775250829797, 0.19989132163165396, 0.20002409937930207, 0.19996982316471368, 0.20020524526303893, 0.20004171619530275], [null, 0.2003692144706563, 0.20004032355534423, 0.19972377708494318, 0.2001867806504099, 0.20017470519415856, 0.2003063786617944, 0.19972110510071003, 0.20019396371758622, 0.19976786243056158, 0.1998754469275675, 0.19978364188872288, 0.20002883040360303, 0.20039377287626983, 0.20019775250829797, 0.19989132163165396, 0.20002409937930207, 0.19996982316471368, 0.20020524526303893, 0.20004171619530275], [null, 0.2003692144706563, 0.20004032355534423, 0.19972377708494318, 0.2001867806504099, 0.20017470519415856, 0.2003063786617944, 0.19972110510071003, 0.20019396371758622, 0.19976786243056158, 0.1998754469275675, 0.19978364188872288, 0.20002883040360303, 0.20039377287626983, 0.20019775250829797, 0.19989132163165396, 0.20002409937930207, 0.19996982316471368, 0.20020524526303893, 0.20004171619530275], [null, 0.20057448917662749, 0.2005818022025758, 0.20157472486535127, 0.20176936613105365, 0.20204104635342351, 0.201132816137113, 0.20255370898756492, 0.20258818601707745, 0.2050903223936063, 0.2048035610478735, 0.20380916967766188, 0.20266310799675988, 0.20478001862938794, 0.2063373444223215, 0.2032228980398552, 0.2007287711587449, 0.20038048747156445, 0.20061639242236687, 0.20086696219050357], [null, 0.5305418101197197, 0.5322849201596366, 0.534403041148994, 0.5480891104740603, 0.5537661181610165, 0.5531810329866014, 0.574904904032828, 0.5942108137588318, 0.5982517269553026, 0.5770530985266747, 0.5763466087054882, 0.6040001524143638, 0.6079728992671088, 0.5873469568741042, 0.6312895164025473, 0.5858770280766364, 0.5856331530211548, 0.5995656606346603, 0.5951822920369975], [null, 0.9874417382259187, 0.9496701569728424, 0.9786938458602177, 0.9719092633513908, 1.0002060861706656, 1.0180775302392049, 0.9889010842793171, 1.02077333419041, 1.039970401210941, 1.0927688690397834, 1.0565554358361304, 1.0363477589278427, 1.0402203272905919, 1.0173174039620327, 1.0490981040122238, 1.0879271642222372, 1.0352130949157696, 0.9947356590433498, 1.0015649176630395], [null, 2.8717056637794176, 2.863944394537177, 2.9226622885003115, 2.905625425450509, 2.7893467255636097, 2.760541050233007, 2.8122778684863485, 2.815664554415971, 2.753394284502382, 2.7157213903812654, 2.7426508043318387, 2.7910072393965106, 2.8286898352601253, 2.8178653510106404, 2.807461918681928, 2.7522953261625216, 2.6673270055963103, 2.7016029469510268, 2.7450377749075456], [null, 8.639647406862048, 8.43961027535703, 8.208088402601247, 8.012125008643252, 7.82224275754312, 7.575655057417382, 7.3149748381706345, 7.045928977766497, 6.872779030708882, 6.667390098521843, 6.502636919026436, 6.365321391988325, 6.190676642255015, 6.0423908335078025, 5.870739275818404, 5.681017914435277, 5.517699122255223, 5.437365907990941, 5.3780909566098645], [null, 10.811475887304907, 10.781935455267432, 10.700580104042972, 10.597189048493808, 10.48590826577122, 10.243011068752454, 10.049027701208974, 9.907340447313551, 9.855757667503143, 9.601974083091397, 9.395226427245916, 9.287223150831743, 9.154801736029992, 9.061507508268239, 9.00389834398634, 8.902647713323892, 8.876952461223308, 8.813675077360454, 8.710448489842854], [null, null, null, null, null, null, null, null, null, null, null, null, null, null, null, null, null, null, null, null], [null, null, null, null, null, null, null, null, null, null, null, null, null, null, null, null, null, null, null, null], [null, 6.280021080525472, 6.223614086133689, 6.2129270997951815, 6.294070403681607, 6.3273328596910305, 6.366463089322184, 6.389619627357629, 6.378327714686036, 6.398257429741452, 6.416558252230591, 6.446453713849103, 6.452060518083223, 6.496880167677477, 6.568136560119386, 6.5604651005444214, 6.559071446121101, 6.587477713255647, 6.616693975151375, 6.593630083397596], [null, 2.7310364836373395, 2.7547002044331244, 2.7773703176963487, 2.7855771324386396, 2.7935828273106336, 2.806661280950445, 2.80848880496237, 2.821496140601393, 2.8329675350726498, 2.8252017927767024, 2.824437616994101, 2.833394264402112, 2.852332888865794, 2.851535728483371, 2.8543624985844325, 2.8561143012613575, 2.8530806082355715, 2.8211229140136473, 2.8196737005698935], [null, 1.3898859798880114, 1.3973029139807067, 1.3959497999237627, 1.3793817797754462, 1.3803361914296477, 1.3997935259284124, 1.4027359691340011, 1.4270587467165743, 1.4416360815122435, 1.4481138058144378, 1.4552794017346566, 1.4352579454660233, 1.4538698450753902, 1.4606429295113912, 1.473183124463217, 1.4980349251366454, 1.5344835993492476, 1.5459114562790646, 1.5591060950205748], [null, 1.1803569977453792, 1.146185355584643, 1.1592671042482887, 1.1785031010626028, 1.2003128584746965, 1.2097032630171645, 1.2241596921339866, 1.2151742086782011, 1.2196023622966203, 1.2208253454316162, 1.1951878643257456, 1.161972031796498, 1.1793004372566953, 1.1195925917850345, 1.0809256039547486, 1.0749728946115953, 1.0538137603493078, 1.0447208472440748, 1.0574826774114536], [null, 3.104732124403379, 2.832289940056856, 2.6047261698805606, 2.464648004477102, 2.8551658942501685, 3.322583082535957, 3.97914104308574, 4.254646423155951, 4.227839205635252, 4.14080935676173, 4.150335005519032, 4.058246222099258, 4.1470087816705155, 3.775676235303379, 3.4340160803855886, 3.193810628704103, 2.8563934454837874, 2.700806267761299, 2.730563000484909], [null, 5.61660232771593, 2.493979093447406, 2.9137387410508344, 3.2079276995685673, 3.63115104145843, 3.416473854774779, 3.5014092178603313, 3.2197754177159146, 3.205058926791839, 3.073621519710181, 3.073895420119396, 2.82600433864046, 4.2588526438437215, 3.2339846965855137, 2.8583193311153994, 2.632884182608477, 2.2065052002208563, 2.6855801757665327, 8.755100786982455], [null, 17.430079030942885, 17.564081005760702, 18.095834879559426, 18.40861867002123, 19.298841927307727, 19.338888590408292, 18.93007623916977, 18.631578837355395, 19.696302516458076, 20.126770722633374, 19.871999629030558, 19.198371048092465, 20.581322386163695, 19.723082756586543, 18.502228290466586, 17.814936527245536, 17.06884182129912, 18.314190083581234, 20.09951870831732], [null, 4.040363938467661, 4.567631586314344, 4.4395793452306185, 4.486752345129239, 4.6566706622020835, 5.019193584691851, 4.74838951366766, 5.48530813789252, 5.128063096244136, 5.034220942804752, 5.005747649915173, 5.268487305012645, 5.101412178264403, 5.041747535562426, 4.564961176611339, 4.9107574378460885, 4.62835100342034, 5.022546563806612, 4.722884607831357], [null, 4.258256832313229, 4.435016213097556, 4.36764213927639, 4.688119556710557, 4.637171094008094, 4.742491630237005, 4.669152101575205, 4.838161247427774, 4.759287661485027, 4.963802204512139, 4.702663502689893, 5.350179456509951, 5.01261664544843, 5.332526179301942, 4.429413275628874, 4.275841579261928, 4.314039645644541, 4.878521228707223, 4.8303456854884255]]}],                        {\"autosize\": false, \"height\": 400, \"margin\": {\"b\": 32, \"pad\": 0, \"r\": 30, \"t\": 40}, \"template\": {\"data\": {\"bar\": [{\"error_x\": {\"color\": \"#2a3f5f\"}, \"error_y\": {\"color\": \"#2a3f5f\"}, \"marker\": {\"line\": {\"color\": \"#E5ECF6\", \"width\": 0.5}}, \"type\": \"bar\"}], \"barpolar\": [{\"marker\": {\"line\": {\"color\": \"#E5ECF6\", \"width\": 0.5}}, \"type\": \"barpolar\"}], \"carpet\": [{\"aaxis\": {\"endlinecolor\": \"#2a3f5f\", \"gridcolor\": \"white\", \"linecolor\": \"white\", \"minorgridcolor\": \"white\", \"startlinecolor\": \"#2a3f5f\"}, \"baxis\": {\"endlinecolor\": \"#2a3f5f\", \"gridcolor\": \"white\", \"linecolor\": \"white\", \"minorgridcolor\": \"white\", \"startlinecolor\": \"#2a3f5f\"}, \"type\": \"carpet\"}], \"choropleth\": [{\"colorbar\": {\"outlinewidth\": 0, \"ticks\": \"\"}, \"type\": \"choropleth\"}], \"contour\": [{\"colorbar\": {\"outlinewidth\": 0, \"ticks\": \"\"}, \"colorscale\": [[0.0, \"#0d0887\"], [0.1111111111111111, \"#46039f\"], [0.2222222222222222, \"#7201a8\"], [0.3333333333333333, \"#9c179e\"], [0.4444444444444444, \"#bd3786\"], [0.5555555555555556, \"#d8576b\"], [0.6666666666666666, \"#ed7953\"], [0.7777777777777778, \"#fb9f3a\"], [0.8888888888888888, \"#fdca26\"], [1.0, \"#f0f921\"]], \"type\": \"contour\"}], \"contourcarpet\": [{\"colorbar\": {\"outlinewidth\": 0, \"ticks\": \"\"}, \"type\": \"contourcarpet\"}], \"heatmap\": [{\"colorbar\": {\"outlinewidth\": 0, \"ticks\": \"\"}, \"colorscale\": [[0.0, \"#0d0887\"], [0.1111111111111111, \"#46039f\"], [0.2222222222222222, \"#7201a8\"], [0.3333333333333333, \"#9c179e\"], [0.4444444444444444, \"#bd3786\"], [0.5555555555555556, \"#d8576b\"], [0.6666666666666666, \"#ed7953\"], [0.7777777777777778, \"#fb9f3a\"], [0.8888888888888888, \"#fdca26\"], [1.0, \"#f0f921\"]], \"type\": \"heatmap\"}], \"heatmapgl\": [{\"colorbar\": {\"outlinewidth\": 0, \"ticks\": \"\"}, \"colorscale\": [[0.0, \"#0d0887\"], [0.1111111111111111, \"#46039f\"], [0.2222222222222222, \"#7201a8\"], [0.3333333333333333, \"#9c179e\"], [0.4444444444444444, \"#bd3786\"], [0.5555555555555556, \"#d8576b\"], [0.6666666666666666, \"#ed7953\"], [0.7777777777777778, \"#fb9f3a\"], [0.8888888888888888, \"#fdca26\"], [1.0, \"#f0f921\"]], \"type\": \"heatmapgl\"}], \"histogram\": [{\"marker\": {\"colorbar\": {\"outlinewidth\": 0, \"ticks\": \"\"}}, \"type\": \"histogram\"}], \"histogram2d\": [{\"colorbar\": {\"outlinewidth\": 0, \"ticks\": \"\"}, \"colorscale\": [[0.0, \"#0d0887\"], [0.1111111111111111, \"#46039f\"], [0.2222222222222222, \"#7201a8\"], [0.3333333333333333, \"#9c179e\"], [0.4444444444444444, \"#bd3786\"], [0.5555555555555556, \"#d8576b\"], [0.6666666666666666, \"#ed7953\"], [0.7777777777777778, \"#fb9f3a\"], [0.8888888888888888, \"#fdca26\"], [1.0, \"#f0f921\"]], \"type\": \"histogram2d\"}], \"histogram2dcontour\": [{\"colorbar\": {\"outlinewidth\": 0, \"ticks\": \"\"}, \"colorscale\": [[0.0, \"#0d0887\"], [0.1111111111111111, \"#46039f\"], [0.2222222222222222, \"#7201a8\"], [0.3333333333333333, \"#9c179e\"], [0.4444444444444444, \"#bd3786\"], [0.5555555555555556, \"#d8576b\"], [0.6666666666666666, \"#ed7953\"], [0.7777777777777778, \"#fb9f3a\"], [0.8888888888888888, \"#fdca26\"], [1.0, \"#f0f921\"]], \"type\": \"histogram2dcontour\"}], \"mesh3d\": [{\"colorbar\": {\"outlinewidth\": 0, \"ticks\": \"\"}, \"type\": \"mesh3d\"}], \"parcoords\": [{\"line\": {\"colorbar\": {\"outlinewidth\": 0, \"ticks\": \"\"}}, \"type\": \"parcoords\"}], \"pie\": [{\"automargin\": true, \"type\": \"pie\"}], \"scatter\": [{\"marker\": {\"colorbar\": {\"outlinewidth\": 0, \"ticks\": \"\"}}, \"type\": \"scatter\"}], \"scatter3d\": [{\"line\": {\"colorbar\": {\"outlinewidth\": 0, \"ticks\": \"\"}}, \"marker\": {\"colorbar\": {\"outlinewidth\": 0, \"ticks\": \"\"}}, \"type\": \"scatter3d\"}], \"scattercarpet\": [{\"marker\": {\"colorbar\": {\"outlinewidth\": 0, \"ticks\": \"\"}}, \"type\": \"scattercarpet\"}], \"scattergeo\": [{\"marker\": {\"colorbar\": {\"outlinewidth\": 0, \"ticks\": \"\"}}, \"type\": \"scattergeo\"}], \"scattergl\": [{\"marker\": {\"colorbar\": {\"outlinewidth\": 0, \"ticks\": \"\"}}, \"type\": \"scattergl\"}], \"scattermapbox\": [{\"marker\": {\"colorbar\": {\"outlinewidth\": 0, \"ticks\": \"\"}}, \"type\": \"scattermapbox\"}], \"scatterpolar\": [{\"marker\": {\"colorbar\": {\"outlinewidth\": 0, \"ticks\": \"\"}}, \"type\": \"scatterpolar\"}], \"scatterpolargl\": [{\"marker\": {\"colorbar\": {\"outlinewidth\": 0, \"ticks\": \"\"}}, \"type\": \"scatterpolargl\"}], \"scatterternary\": [{\"marker\": {\"colorbar\": {\"outlinewidth\": 0, \"ticks\": \"\"}}, \"type\": \"scatterternary\"}], \"surface\": [{\"colorbar\": {\"outlinewidth\": 0, \"ticks\": \"\"}, \"colorscale\": [[0.0, \"#0d0887\"], [0.1111111111111111, \"#46039f\"], [0.2222222222222222, \"#7201a8\"], [0.3333333333333333, \"#9c179e\"], [0.4444444444444444, \"#bd3786\"], [0.5555555555555556, \"#d8576b\"], [0.6666666666666666, \"#ed7953\"], [0.7777777777777778, \"#fb9f3a\"], [0.8888888888888888, \"#fdca26\"], [1.0, \"#f0f921\"]], \"type\": \"surface\"}], \"table\": [{\"cells\": {\"fill\": {\"color\": \"#EBF0F8\"}, \"line\": {\"color\": \"white\"}}, \"header\": {\"fill\": {\"color\": \"#C8D4E3\"}, \"line\": {\"color\": \"white\"}}, \"type\": \"table\"}]}, \"layout\": {\"annotationdefaults\": {\"arrowcolor\": \"#2a3f5f\", \"arrowhead\": 0, \"arrowwidth\": 1}, \"autotypenumbers\": \"strict\", \"coloraxis\": {\"colorbar\": {\"outlinewidth\": 0, \"ticks\": \"\"}}, \"colorscale\": {\"diverging\": [[0, \"#8e0152\"], [0.1, \"#c51b7d\"], [0.2, \"#de77ae\"], [0.3, \"#f1b6da\"], [0.4, \"#fde0ef\"], [0.5, \"#f7f7f7\"], [0.6, \"#e6f5d0\"], [0.7, \"#b8e186\"], [0.8, \"#7fbc41\"], [0.9, \"#4d9221\"], [1, \"#276419\"]], \"sequential\": [[0.0, \"#0d0887\"], [0.1111111111111111, \"#46039f\"], [0.2222222222222222, \"#7201a8\"], [0.3333333333333333, \"#9c179e\"], [0.4444444444444444, \"#bd3786\"], [0.5555555555555556, \"#d8576b\"], [0.6666666666666666, \"#ed7953\"], [0.7777777777777778, \"#fb9f3a\"], [0.8888888888888888, \"#fdca26\"], [1.0, \"#f0f921\"]], \"sequentialminus\": [[0.0, \"#0d0887\"], [0.1111111111111111, \"#46039f\"], [0.2222222222222222, \"#7201a8\"], [0.3333333333333333, \"#9c179e\"], [0.4444444444444444, \"#bd3786\"], [0.5555555555555556, \"#d8576b\"], [0.6666666666666666, \"#ed7953\"], [0.7777777777777778, \"#fb9f3a\"], [0.8888888888888888, \"#fdca26\"], [1.0, \"#f0f921\"]]}, \"colorway\": [\"#636efa\", \"#EF553B\", \"#00cc96\", \"#ab63fa\", \"#FFA15A\", \"#19d3f3\", \"#FF6692\", \"#B6E880\", \"#FF97FF\", \"#FECB52\"], \"font\": {\"color\": \"#2a3f5f\"}, \"geo\": {\"bgcolor\": \"white\", \"lakecolor\": \"white\", \"landcolor\": \"#E5ECF6\", \"showlakes\": true, \"showland\": true, \"subunitcolor\": \"white\"}, \"hoverlabel\": {\"align\": \"left\"}, \"hovermode\": \"closest\", \"mapbox\": {\"style\": \"light\"}, \"paper_bgcolor\": \"white\", \"plot_bgcolor\": \"#E5ECF6\", \"polar\": {\"angularaxis\": {\"gridcolor\": \"white\", \"linecolor\": \"white\", \"ticks\": \"\"}, \"bgcolor\": \"#E5ECF6\", \"radialaxis\": {\"gridcolor\": \"white\", \"linecolor\": \"white\", \"ticks\": \"\"}}, \"scene\": {\"xaxis\": {\"backgroundcolor\": \"#E5ECF6\", \"gridcolor\": \"white\", \"gridwidth\": 2, \"linecolor\": \"white\", \"showbackground\": true, \"ticks\": \"\", \"zerolinecolor\": \"white\"}, \"yaxis\": {\"backgroundcolor\": \"#E5ECF6\", \"gridcolor\": \"white\", \"gridwidth\": 2, \"linecolor\": \"white\", \"showbackground\": true, \"ticks\": \"\", \"zerolinecolor\": \"white\"}, \"zaxis\": {\"backgroundcolor\": \"#E5ECF6\", \"gridcolor\": \"white\", \"gridwidth\": 2, \"linecolor\": \"white\", \"showbackground\": true, \"ticks\": \"\", \"zerolinecolor\": \"white\"}}, \"shapedefaults\": {\"line\": {\"color\": \"#2a3f5f\"}}, \"ternary\": {\"aaxis\": {\"gridcolor\": \"white\", \"linecolor\": \"white\", \"ticks\": \"\"}, \"baxis\": {\"gridcolor\": \"white\", \"linecolor\": \"white\", \"ticks\": \"\"}, \"bgcolor\": \"#E5ECF6\", \"caxis\": {\"gridcolor\": \"white\", \"linecolor\": \"white\", \"ticks\": \"\"}}, \"title\": {\"x\": 0.05}, \"xaxis\": {\"automargin\": true, \"gridcolor\": \"white\", \"linecolor\": \"white\", \"ticks\": \"\", \"title\": {\"standoff\": 15}, \"zerolinecolor\": \"white\", \"zerolinewidth\": 2}, \"yaxis\": {\"automargin\": true, \"gridcolor\": \"white\", \"linecolor\": \"white\", \"ticks\": \"\", \"title\": {\"standoff\": 15}, \"zerolinecolor\": \"white\", \"zerolinewidth\": 2}}}, \"title\": {\"text\": \"$\\\\operatorname{TimeX}(time[hr],x[R_{E}])[\\\\frac{1}{cm^{3}}] = \\\\lambda{\\\\left(time,x \\\\right)}$\"}, \"width\": 700, \"xaxis\": {\"title\": {\"text\": \"$time$\"}}, \"yaxis\": {\"title\": {\"text\": \"$x$\"}}},                        {\"responsive\": true}                    ).then(function(){\n",
       "                            \n",
       "var gd = document.getElementById('e518cc35-91c2-423a-a0f5-423efbb025df');\n",
       "var x = new MutationObserver(function (mutations, observer) {{\n",
       "        var display = window.getComputedStyle(gd).display;\n",
       "        if (!display || display === 'none') {{\n",
       "            console.log([gd, 'removed!']);\n",
       "            Plotly.purge(gd);\n",
       "            observer.disconnect();\n",
       "        }}\n",
       "}});\n",
       "\n",
       "// Listen for the removal of the full notebook cells\n",
       "var notebookContainer = gd.closest('#notebook-container');\n",
       "if (notebookContainer) {{\n",
       "    x.observe(notebookContainer, {childList: true});\n",
       "}}\n",
       "\n",
       "// Listen for the clearing of the current output cell\n",
       "var outputEl = gd.closest('.output');\n",
       "if (outputEl) {{\n",
       "    x.observe(outputEl, {childList: true});\n",
       "}}\n",
       "\n",
       "                        })                };                });            </script>        </div>"
      ]
     },
     "metadata": {},
     "output_type": "display_data"
    },
    {
     "name": "stdout",
     "output_type": "stream",
     "text": [
      "N_plasma\n",
      "Time slice at 12.500 hrs. Y slice at 0.000 R_E. \n",
      "Took 7.441 s for 400 positions.\n"
     ]
    },
    {
     "data": {
      "application/vnd.plotly.v1+json": {
       "config": {
        "linkText": "Export to plot.ly",
        "plotlyServerURL": "https://plot.ly",
        "showLink": false
       },
       "data": [
        {
         "meta": "2d-grid",
         "type": "contour",
         "x": [
          -15,
          -13.421052631578947,
          -11.842105263157894,
          -10.263157894736842,
          -8.68421052631579,
          -7.105263157894736,
          -5.526315789473685,
          -3.947368421052632,
          -2.3684210526315788,
          -0.7894736842105257,
          0.7894736842105274,
          2.3684210526315788,
          3.94736842105263,
          5.526315789473685,
          7.105263157894736,
          8.684210526315791,
          10.263157894736842,
          11.842105263157894,
          13.421052631578949,
          15
         ],
         "y": [
          -20,
          -17.894736842105264,
          -15.789473684210527,
          -13.68421052631579,
          -11.578947368421053,
          -9.473684210526317,
          -7.368421052631579,
          -5.2631578947368425,
          -3.157894736842106,
          -1.05263157894737,
          1.0526315789473664,
          3.1578947368421026,
          5.2631578947368425,
          7.368421052631579,
          9.473684210526315,
          11.578947368421051,
          13.684210526315788,
          15.789473684210527,
          17.89473684210526,
          20
         ],
         "z": [
          [
           0.9714877779032699,
           1.1907697562279804,
           1.5071013025488815,
           1.954049665170026,
           2.6023338876901385,
           3.5322889587483086,
           4.8158912125604605,
           6.417258210478169,
           8.111072562327637,
           10.012704117914229,
           11.924120797939318,
           13.459656684445253,
           14.233541628431706,
           11.042629905270394,
           5.120977198164378,
           4.792851126354435,
           4.8227204483358275,
           4.880254505018911,
           4.946966706459534,
           4.992121231904255
          ],
          [
           0.33623744203393596,
           0.41120957110501666,
           0.5290374310600845,
           0.7153258193545985,
           1.0185325661633196,
           1.5137338021361093,
           2.3185923461837517,
           3.55787756410901,
           5.39089467776921,
           7.761802579200073,
           10.391227684889193,
           12.857616427093744,
           14.623479594450663,
           15.216879312318113,
           9.060359119965874,
           4.80969543128508,
           4.8227204483358275,
           4.880254505018911,
           4.946966706459534,
           4.992121231904255
          ],
          [
           0.20038453343428841,
           0.20038453343428841,
           0.20388518856689877,
           0.2154485903158285,
           0.25930509588290673,
           0.39922853757183935,
           0.7056178414912923,
           1.2850051610571598,
           2.333480393285814,
           4.202307872168608,
           7.364657548155636,
           11.184966556734635,
           14.327951049289288,
           16.018215154511964,
           15.684785114852675,
           5.649810490661068,
           4.8227204483358275,
           4.880254505018911,
           4.9470012985459775,
           4.992121231904255
          ],
          [
           0.20038453343428841,
           0.20038453343428841,
           0.20038453343428841,
           0.20038453343428841,
           0.20038453343428841,
           0.20038453343428841,
           0.21002735987459034,
           0.3140530834599596,
           0.6109745335640987,
           1.3063201239214906,
           3.0318266893761323,
           7.087101376749185,
           12.791080765437753,
           16.255564890297666,
           17.271391626189203,
           13.265765764180271,
           4.836388298204548,
           4.880254505018911,
           4.940972589323862,
           4.992125252385972
          ],
          [
           0.20038453343428841,
           0.20038453343428841,
           0.20038453343428841,
           0.20038528609223247,
           0.20038453343428841,
           0.20038453343428841,
           0.20038453343428841,
           0.20038453343428841,
           0.20384900998538136,
           0.3304204577402093,
           0.8069711855950463,
           2.183335642845713,
           7.576709145275721,
           15.22165319420552,
           17.79885645707307,
           17.791433684548682,
           5.667355853022691,
           4.8802073440747336,
           4.92672362220254,
           5.0147789601915065
          ],
          [
           0.20038453343428841,
           0.20038453343428841,
           0.20038453343428841,
           0.20038453343428841,
           0.20038453343428841,
           0.20038453343428841,
           0.20038453343428841,
           0.20038453343428841,
           0.20038453343428841,
           0.20038453343428841,
           0.2165038207568255,
           0.6636737207736515,
           2.429465773812751,
           11.355431119367356,
           16.866942201466685,
           18.12984851610059,
           17.41280247235472,
           4.880160404295566,
           4.924674225851959,
           5.017039565655606
          ],
          [
           0.20038453343428841,
           0.20038453343428841,
           0.20038453343428841,
           0.20038453343428841,
           0.20038453343428841,
           0.20038453343428841,
           0.20038453343428841,
           0.20038453343428841,
           0.20038453343428841,
           0.20038453343428841,
           0.20038453343428841,
           0.29339134789550236,
           1.5261873787719462,
           4.510581190148232,
           10.718846040491796,
           16.735829314357943,
           18.362416853519836,
           5.181051493534283,
           4.924748182276061,
           5.069138114989861
          ],
          [
           0.20038453343428841,
           0.20038453343428841,
           0.20038453343428841,
           0.20038453343428841,
           0.20038453343428841,
           0.21519007996758036,
           0.39379645501961097,
           0.3795148512613964,
           0.5553147859450585,
           0.8733452990456592,
           0.7471398671800545,
           0.8535320011437703,
           1.2467877962023624,
           0.7114435409972133,
           0.7563018611119099,
           5.741796856074555,
           18.078659922418662,
           18.637025242478174,
           4.94710947627118,
           5.100564461131107
          ],
          [
           0.20038453343428841,
           0.20038453343428841,
           0.20038453343428841,
           0.49448295042917345,
           0.6246790250963653,
           1.0686561068931928,
           2.115220000860485,
           5.2372613937965085,
           7.047110322133916,
           7.863301608500098,
           7.0031954563025,
           2.238264814342809,
           0.8412374444852692,
           0.5114423784471012,
           0.2787671193718745,
           0.2983640468318181,
           14.247969775580366,
           19.091734505925128,
           4.952294386063154,
           5.085751350580007
          ],
          [
           0.23630966631359768,
           0.2166749908377429,
           0.3068891501059234,
           0.4491534837213692,
           0.8334917673403613,
           1.845097898327737,
           3.067729313890371,
           12.339878431550495,
           10.131516801306923,
           null,
           null,
           9.771132561619986,
           3.9455541182315788,
           1.1657309506110776,
           0.5089723820882811,
           0.27439443237676425,
           1.8758489954558129,
           20.050537442886586,
           5.408575352720757,
           5.100574422725209
          ],
          [
           0.20038453343428841,
           0.20038453343428841,
           0.20038453343428841,
           0.45578358341611425,
           0.6953574562459709,
           1.3660043404405622,
           3.4006757739104523,
           7.304591915002693,
           10.092006182942917,
           null,
           null,
           9.89975373623523,
           5.207847191208061,
           2.2023774165377854,
           1.4350737456436449,
           3.8469861272849846,
           1.497383838820555,
           20.15398940756172,
           5.606119272908848,
           5.098502706058814
          ],
          [
           0.20038453343428841,
           0.20038453343428841,
           0.20038453343428841,
           0.20038453343428841,
           0.20310492361670687,
           0.6590914143836432,
           1.2134392393179794,
           3.619461862170376,
           3.330242735544174,
           6.825317279786481,
           7.181155188175057,
           2.678744805713537,
           1.485032211191076,
           0.8711123894646539,
           0.7677761829395641,
           2.4397382096114697,
           7.247020667779793,
           19.35105855742697,
           4.952305483648876,
           5.1005607316850075
          ],
          [
           0.20038453343428841,
           0.20038453343428841,
           0.20038453343428841,
           0.20038453343428841,
           0.20038453343428841,
           0.20038453343428841,
           0.20038453343428841,
           0.20988195546562385,
           0.2646115659577864,
           1.1818446126996633,
           2.102778567995352,
           2.0110998551789607,
           1.6037274202422218,
           1.7772995177944846,
           1.8166521053556064,
           2.219157657603454,
           18.071242873573123,
           18.658091261358067,
           4.94710947627118,
           5.1005607316850075
          ],
          [
           0.20038453343428841,
           0.20038453343428841,
           0.20038453343428841,
           0.20038453343428841,
           0.20038453343428841,
           0.20038453343428841,
           0.20038453343428841,
           0.20038453343428841,
           0.20038453343428841,
           0.2283036824416444,
           0.8471982378618885,
           2.4086449016658986,
           2.635796113375272,
           2.498523342571504,
           3.51661265775087,
           14.08693089220131,
           17.53235286694426,
           5.241106281774058,
           4.940979119511773,
           5.037522771225667
          ],
          [
           0.20038453343428841,
           0.20038453343428841,
           0.20038453343428841,
           0.20038453343428841,
           0.20038453343428841,
           0.20038453343428841,
           0.20038453343428841,
           0.20038453343428841,
           0.20038453343428841,
           0.31286114686024175,
           1.3229919053172077,
           3.650853852663658,
           7.3532478676607465,
           9.600001934131246,
           13.214775522674666,
           15.580134387615244,
           14.676893907449994,
           4.9022985243191215,
           4.946966706459534,
           5.0147789601915065
          ],
          [
           0.20038453343428841,
           0.20038453343428841,
           0.20038453343428841,
           0.20038453343428841,
           0.20038453343428841,
           0.2003846049454691,
           0.20090757231090364,
           0.22941563194545844,
           0.5784990545823375,
           1.4231231911336633,
           3.236321696092287,
           7.564634204374714,
           12.008563138785519,
           14.537872338340629,
           14.758139702759015,
           13.488696319050918,
           4.8956421455232215,
           4.902345464098289,
           4.946966706459534,
           5.007000292372305
          ],
          [
           0.20038453343428841,
           0.20038453343428841,
           0.20038453343428841,
           0.20270154672437352,
           0.2144547303166737,
           0.27994638096583385,
           0.5295002191368624,
           1.0772240387587753,
           2.1966544456634147,
           4.45883670119441,
           8.457153754672,
           12.171852610300038,
           14.699509130453915,
           15.10872908996036,
           12.636575873484434,
           5.853717783043072,
           4.814543670518674,
           4.88081262053133,
           4.946966706459534,
           4.992133166665553
          ],
          [
           0.2746379227195605,
           0.3300870102477439,
           0.4213206648195297,
           0.5816343588011159,
           0.8757982898759802,
           1.3895725880079182,
           2.3221352526642556,
           3.9208852021966196,
           6.329134924368467,
           9.226485505507702,
           11.930249273151668,
           14.144006577579026,
           15.100345030462954,
           12.474722041220911,
           6.420325233959236,
           4.81907178267948,
           4.8227204483358275,
           4.88081262053133,
           4.946966706459534,
           4.992121231904255
          ],
          [
           1.1297627549448028,
           1.383029859848762,
           1.7537292230575925,
           2.3042383574135066,
           3.133054358235417,
           4.326677238158791,
           5.909940950787811,
           7.717002572811689,
           9.658466245145442,
           11.661628638065837,
           13.508100627060205,
           14.388278567327434,
           12.146286487903454,
           6.706072231796456,
           4.898032785335472,
           4.792851126354435,
           4.8227204483358275,
           4.880254505018911,
           4.946966706459534,
           4.992121231904255
          ],
          [
           2.820679537078455,
           3.372566696347451,
           4.088949687809391,
           4.982376469465744,
           6.033365093863438,
           7.192869560683389,
           8.473924631616088,
           9.923961652613066,
           11.471367130338766,
           12.907414815224826,
           13.502622365472954,
           11.426428838447038,
           6.787460620052682,
           4.994437243389664,
           4.836330655831329,
           4.792851126354435,
           4.8227204483358275,
           4.880254505018911,
           4.946966706459534,
           4.992121231904255
          ]
         ]
        }
       ],
       "layout": {
        "autosize": false,
        "height": 400,
        "margin": {
         "b": 32,
         "pad": 0,
         "r": 30,
         "t": 40
        },
        "template": {
         "data": {
          "bar": [
           {
            "error_x": {
             "color": "#2a3f5f"
            },
            "error_y": {
             "color": "#2a3f5f"
            },
            "marker": {
             "line": {
              "color": "#E5ECF6",
              "width": 0.5
             }
            },
            "type": "bar"
           }
          ],
          "barpolar": [
           {
            "marker": {
             "line": {
              "color": "#E5ECF6",
              "width": 0.5
             }
            },
            "type": "barpolar"
           }
          ],
          "carpet": [
           {
            "aaxis": {
             "endlinecolor": "#2a3f5f",
             "gridcolor": "white",
             "linecolor": "white",
             "minorgridcolor": "white",
             "startlinecolor": "#2a3f5f"
            },
            "baxis": {
             "endlinecolor": "#2a3f5f",
             "gridcolor": "white",
             "linecolor": "white",
             "minorgridcolor": "white",
             "startlinecolor": "#2a3f5f"
            },
            "type": "carpet"
           }
          ],
          "choropleth": [
           {
            "colorbar": {
             "outlinewidth": 0,
             "ticks": ""
            },
            "type": "choropleth"
           }
          ],
          "contour": [
           {
            "colorbar": {
             "outlinewidth": 0,
             "ticks": ""
            },
            "colorscale": [
             [
              0,
              "#0d0887"
             ],
             [
              0.1111111111111111,
              "#46039f"
             ],
             [
              0.2222222222222222,
              "#7201a8"
             ],
             [
              0.3333333333333333,
              "#9c179e"
             ],
             [
              0.4444444444444444,
              "#bd3786"
             ],
             [
              0.5555555555555556,
              "#d8576b"
             ],
             [
              0.6666666666666666,
              "#ed7953"
             ],
             [
              0.7777777777777778,
              "#fb9f3a"
             ],
             [
              0.8888888888888888,
              "#fdca26"
             ],
             [
              1,
              "#f0f921"
             ]
            ],
            "type": "contour"
           }
          ],
          "contourcarpet": [
           {
            "colorbar": {
             "outlinewidth": 0,
             "ticks": ""
            },
            "type": "contourcarpet"
           }
          ],
          "heatmap": [
           {
            "colorbar": {
             "outlinewidth": 0,
             "ticks": ""
            },
            "colorscale": [
             [
              0,
              "#0d0887"
             ],
             [
              0.1111111111111111,
              "#46039f"
             ],
             [
              0.2222222222222222,
              "#7201a8"
             ],
             [
              0.3333333333333333,
              "#9c179e"
             ],
             [
              0.4444444444444444,
              "#bd3786"
             ],
             [
              0.5555555555555556,
              "#d8576b"
             ],
             [
              0.6666666666666666,
              "#ed7953"
             ],
             [
              0.7777777777777778,
              "#fb9f3a"
             ],
             [
              0.8888888888888888,
              "#fdca26"
             ],
             [
              1,
              "#f0f921"
             ]
            ],
            "type": "heatmap"
           }
          ],
          "heatmapgl": [
           {
            "colorbar": {
             "outlinewidth": 0,
             "ticks": ""
            },
            "colorscale": [
             [
              0,
              "#0d0887"
             ],
             [
              0.1111111111111111,
              "#46039f"
             ],
             [
              0.2222222222222222,
              "#7201a8"
             ],
             [
              0.3333333333333333,
              "#9c179e"
             ],
             [
              0.4444444444444444,
              "#bd3786"
             ],
             [
              0.5555555555555556,
              "#d8576b"
             ],
             [
              0.6666666666666666,
              "#ed7953"
             ],
             [
              0.7777777777777778,
              "#fb9f3a"
             ],
             [
              0.8888888888888888,
              "#fdca26"
             ],
             [
              1,
              "#f0f921"
             ]
            ],
            "type": "heatmapgl"
           }
          ],
          "histogram": [
           {
            "marker": {
             "colorbar": {
              "outlinewidth": 0,
              "ticks": ""
             }
            },
            "type": "histogram"
           }
          ],
          "histogram2d": [
           {
            "colorbar": {
             "outlinewidth": 0,
             "ticks": ""
            },
            "colorscale": [
             [
              0,
              "#0d0887"
             ],
             [
              0.1111111111111111,
              "#46039f"
             ],
             [
              0.2222222222222222,
              "#7201a8"
             ],
             [
              0.3333333333333333,
              "#9c179e"
             ],
             [
              0.4444444444444444,
              "#bd3786"
             ],
             [
              0.5555555555555556,
              "#d8576b"
             ],
             [
              0.6666666666666666,
              "#ed7953"
             ],
             [
              0.7777777777777778,
              "#fb9f3a"
             ],
             [
              0.8888888888888888,
              "#fdca26"
             ],
             [
              1,
              "#f0f921"
             ]
            ],
            "type": "histogram2d"
           }
          ],
          "histogram2dcontour": [
           {
            "colorbar": {
             "outlinewidth": 0,
             "ticks": ""
            },
            "colorscale": [
             [
              0,
              "#0d0887"
             ],
             [
              0.1111111111111111,
              "#46039f"
             ],
             [
              0.2222222222222222,
              "#7201a8"
             ],
             [
              0.3333333333333333,
              "#9c179e"
             ],
             [
              0.4444444444444444,
              "#bd3786"
             ],
             [
              0.5555555555555556,
              "#d8576b"
             ],
             [
              0.6666666666666666,
              "#ed7953"
             ],
             [
              0.7777777777777778,
              "#fb9f3a"
             ],
             [
              0.8888888888888888,
              "#fdca26"
             ],
             [
              1,
              "#f0f921"
             ]
            ],
            "type": "histogram2dcontour"
           }
          ],
          "mesh3d": [
           {
            "colorbar": {
             "outlinewidth": 0,
             "ticks": ""
            },
            "type": "mesh3d"
           }
          ],
          "parcoords": [
           {
            "line": {
             "colorbar": {
              "outlinewidth": 0,
              "ticks": ""
             }
            },
            "type": "parcoords"
           }
          ],
          "pie": [
           {
            "automargin": true,
            "type": "pie"
           }
          ],
          "scatter": [
           {
            "marker": {
             "colorbar": {
              "outlinewidth": 0,
              "ticks": ""
             }
            },
            "type": "scatter"
           }
          ],
          "scatter3d": [
           {
            "line": {
             "colorbar": {
              "outlinewidth": 0,
              "ticks": ""
             }
            },
            "marker": {
             "colorbar": {
              "outlinewidth": 0,
              "ticks": ""
             }
            },
            "type": "scatter3d"
           }
          ],
          "scattercarpet": [
           {
            "marker": {
             "colorbar": {
              "outlinewidth": 0,
              "ticks": ""
             }
            },
            "type": "scattercarpet"
           }
          ],
          "scattergeo": [
           {
            "marker": {
             "colorbar": {
              "outlinewidth": 0,
              "ticks": ""
             }
            },
            "type": "scattergeo"
           }
          ],
          "scattergl": [
           {
            "marker": {
             "colorbar": {
              "outlinewidth": 0,
              "ticks": ""
             }
            },
            "type": "scattergl"
           }
          ],
          "scattermapbox": [
           {
            "marker": {
             "colorbar": {
              "outlinewidth": 0,
              "ticks": ""
             }
            },
            "type": "scattermapbox"
           }
          ],
          "scatterpolar": [
           {
            "marker": {
             "colorbar": {
              "outlinewidth": 0,
              "ticks": ""
             }
            },
            "type": "scatterpolar"
           }
          ],
          "scatterpolargl": [
           {
            "marker": {
             "colorbar": {
              "outlinewidth": 0,
              "ticks": ""
             }
            },
            "type": "scatterpolargl"
           }
          ],
          "scatterternary": [
           {
            "marker": {
             "colorbar": {
              "outlinewidth": 0,
              "ticks": ""
             }
            },
            "type": "scatterternary"
           }
          ],
          "surface": [
           {
            "colorbar": {
             "outlinewidth": 0,
             "ticks": ""
            },
            "colorscale": [
             [
              0,
              "#0d0887"
             ],
             [
              0.1111111111111111,
              "#46039f"
             ],
             [
              0.2222222222222222,
              "#7201a8"
             ],
             [
              0.3333333333333333,
              "#9c179e"
             ],
             [
              0.4444444444444444,
              "#bd3786"
             ],
             [
              0.5555555555555556,
              "#d8576b"
             ],
             [
              0.6666666666666666,
              "#ed7953"
             ],
             [
              0.7777777777777778,
              "#fb9f3a"
             ],
             [
              0.8888888888888888,
              "#fdca26"
             ],
             [
              1,
              "#f0f921"
             ]
            ],
            "type": "surface"
           }
          ],
          "table": [
           {
            "cells": {
             "fill": {
              "color": "#EBF0F8"
             },
             "line": {
              "color": "white"
             }
            },
            "header": {
             "fill": {
              "color": "#C8D4E3"
             },
             "line": {
              "color": "white"
             }
            },
            "type": "table"
           }
          ]
         },
         "layout": {
          "annotationdefaults": {
           "arrowcolor": "#2a3f5f",
           "arrowhead": 0,
           "arrowwidth": 1
          },
          "autotypenumbers": "strict",
          "coloraxis": {
           "colorbar": {
            "outlinewidth": 0,
            "ticks": ""
           }
          },
          "colorscale": {
           "diverging": [
            [
             0,
             "#8e0152"
            ],
            [
             0.1,
             "#c51b7d"
            ],
            [
             0.2,
             "#de77ae"
            ],
            [
             0.3,
             "#f1b6da"
            ],
            [
             0.4,
             "#fde0ef"
            ],
            [
             0.5,
             "#f7f7f7"
            ],
            [
             0.6,
             "#e6f5d0"
            ],
            [
             0.7,
             "#b8e186"
            ],
            [
             0.8,
             "#7fbc41"
            ],
            [
             0.9,
             "#4d9221"
            ],
            [
             1,
             "#276419"
            ]
           ],
           "sequential": [
            [
             0,
             "#0d0887"
            ],
            [
             0.1111111111111111,
             "#46039f"
            ],
            [
             0.2222222222222222,
             "#7201a8"
            ],
            [
             0.3333333333333333,
             "#9c179e"
            ],
            [
             0.4444444444444444,
             "#bd3786"
            ],
            [
             0.5555555555555556,
             "#d8576b"
            ],
            [
             0.6666666666666666,
             "#ed7953"
            ],
            [
             0.7777777777777778,
             "#fb9f3a"
            ],
            [
             0.8888888888888888,
             "#fdca26"
            ],
            [
             1,
             "#f0f921"
            ]
           ],
           "sequentialminus": [
            [
             0,
             "#0d0887"
            ],
            [
             0.1111111111111111,
             "#46039f"
            ],
            [
             0.2222222222222222,
             "#7201a8"
            ],
            [
             0.3333333333333333,
             "#9c179e"
            ],
            [
             0.4444444444444444,
             "#bd3786"
            ],
            [
             0.5555555555555556,
             "#d8576b"
            ],
            [
             0.6666666666666666,
             "#ed7953"
            ],
            [
             0.7777777777777778,
             "#fb9f3a"
            ],
            [
             0.8888888888888888,
             "#fdca26"
            ],
            [
             1,
             "#f0f921"
            ]
           ]
          },
          "colorway": [
           "#636efa",
           "#EF553B",
           "#00cc96",
           "#ab63fa",
           "#FFA15A",
           "#19d3f3",
           "#FF6692",
           "#B6E880",
           "#FF97FF",
           "#FECB52"
          ],
          "font": {
           "color": "#2a3f5f"
          },
          "geo": {
           "bgcolor": "white",
           "lakecolor": "white",
           "landcolor": "#E5ECF6",
           "showlakes": true,
           "showland": true,
           "subunitcolor": "white"
          },
          "hoverlabel": {
           "align": "left"
          },
          "hovermode": "closest",
          "mapbox": {
           "style": "light"
          },
          "paper_bgcolor": "white",
          "plot_bgcolor": "#E5ECF6",
          "polar": {
           "angularaxis": {
            "gridcolor": "white",
            "linecolor": "white",
            "ticks": ""
           },
           "bgcolor": "#E5ECF6",
           "radialaxis": {
            "gridcolor": "white",
            "linecolor": "white",
            "ticks": ""
           }
          },
          "scene": {
           "xaxis": {
            "backgroundcolor": "#E5ECF6",
            "gridcolor": "white",
            "gridwidth": 2,
            "linecolor": "white",
            "showbackground": true,
            "ticks": "",
            "zerolinecolor": "white"
           },
           "yaxis": {
            "backgroundcolor": "#E5ECF6",
            "gridcolor": "white",
            "gridwidth": 2,
            "linecolor": "white",
            "showbackground": true,
            "ticks": "",
            "zerolinecolor": "white"
           },
           "zaxis": {
            "backgroundcolor": "#E5ECF6",
            "gridcolor": "white",
            "gridwidth": 2,
            "linecolor": "white",
            "showbackground": true,
            "ticks": "",
            "zerolinecolor": "white"
           }
          },
          "shapedefaults": {
           "line": {
            "color": "#2a3f5f"
           }
          },
          "ternary": {
           "aaxis": {
            "gridcolor": "white",
            "linecolor": "white",
            "ticks": ""
           },
           "baxis": {
            "gridcolor": "white",
            "linecolor": "white",
            "ticks": ""
           },
           "bgcolor": "#E5ECF6",
           "caxis": {
            "gridcolor": "white",
            "linecolor": "white",
            "ticks": ""
           }
          },
          "title": {
           "x": 0.05
          },
          "xaxis": {
           "automargin": true,
           "gridcolor": "white",
           "linecolor": "white",
           "ticks": "",
           "title": {
            "standoff": 15
           },
           "zerolinecolor": "white",
           "zerolinewidth": 2
          },
          "yaxis": {
           "automargin": true,
           "gridcolor": "white",
           "linecolor": "white",
           "ticks": "",
           "title": {
            "standoff": 15
           },
           "zerolinecolor": "white",
           "zerolinewidth": 2
          }
         }
        },
        "title": {
         "text": "$\\operatorname{XZ}(x[R_{E}],z[R_{E}])[\\frac{1}{cm^{3}}] = \\lambda{\\left(x,z \\right)}$"
        },
        "width": 700,
        "xaxis": {
         "title": {
          "text": "$x$"
         }
        },
        "yaxis": {
         "title": {
          "text": "$z$"
         }
        }
       }
      },
      "text/html": [
       "<div>                            <div id=\"9b27cc82-d054-48df-8b54-3ddf24bbf21c\" class=\"plotly-graph-div\" style=\"height:400px; width:700px;\"></div>            <script type=\"text/javascript\">                require([\"plotly\"], function(Plotly) {                    window.PLOTLYENV=window.PLOTLYENV || {};                                    if (document.getElementById(\"9b27cc82-d054-48df-8b54-3ddf24bbf21c\")) {                    Plotly.newPlot(                        \"9b27cc82-d054-48df-8b54-3ddf24bbf21c\",                        [{\"meta\": \"2d-grid\", \"type\": \"contour\", \"x\": [-15.0, -13.421052631578947, -11.842105263157894, -10.263157894736842, -8.68421052631579, -7.105263157894736, -5.526315789473685, -3.947368421052632, -2.3684210526315788, -0.7894736842105257, 0.7894736842105274, 2.3684210526315788, 3.94736842105263, 5.526315789473685, 7.105263157894736, 8.684210526315791, 10.263157894736842, 11.842105263157894, 13.421052631578949, 15.0], \"y\": [-20.0, -17.894736842105264, -15.789473684210527, -13.68421052631579, -11.578947368421053, -9.473684210526317, -7.368421052631579, -5.2631578947368425, -3.157894736842106, -1.05263157894737, 1.0526315789473664, 3.1578947368421026, 5.2631578947368425, 7.368421052631579, 9.473684210526315, 11.578947368421051, 13.684210526315788, 15.789473684210527, 17.89473684210526, 20.0], \"z\": [[0.9714877779032699, 1.1907697562279804, 1.5071013025488815, 1.954049665170026, 2.6023338876901385, 3.5322889587483086, 4.8158912125604605, 6.417258210478169, 8.111072562327637, 10.012704117914229, 11.924120797939318, 13.459656684445253, 14.233541628431706, 11.042629905270394, 5.120977198164378, 4.792851126354435, 4.8227204483358275, 4.880254505018911, 4.946966706459534, 4.992121231904255], [0.33623744203393596, 0.41120957110501666, 0.5290374310600845, 0.7153258193545985, 1.0185325661633196, 1.5137338021361093, 2.3185923461837517, 3.55787756410901, 5.39089467776921, 7.761802579200073, 10.391227684889193, 12.857616427093744, 14.623479594450663, 15.216879312318113, 9.060359119965874, 4.80969543128508, 4.8227204483358275, 4.880254505018911, 4.946966706459534, 4.992121231904255], [0.20038453343428841, 0.20038453343428841, 0.20388518856689877, 0.2154485903158285, 0.25930509588290673, 0.39922853757183935, 0.7056178414912923, 1.2850051610571598, 2.333480393285814, 4.202307872168608, 7.364657548155636, 11.184966556734635, 14.327951049289288, 16.018215154511964, 15.684785114852675, 5.649810490661068, 4.8227204483358275, 4.880254505018911, 4.9470012985459775, 4.992121231904255], [0.20038453343428841, 0.20038453343428841, 0.20038453343428841, 0.20038453343428841, 0.20038453343428841, 0.20038453343428841, 0.21002735987459034, 0.3140530834599596, 0.6109745335640987, 1.3063201239214906, 3.0318266893761323, 7.087101376749185, 12.791080765437753, 16.255564890297666, 17.271391626189203, 13.265765764180271, 4.836388298204548, 4.880254505018911, 4.940972589323862, 4.992125252385972], [0.20038453343428841, 0.20038453343428841, 0.20038453343428841, 0.20038528609223247, 0.20038453343428841, 0.20038453343428841, 0.20038453343428841, 0.20038453343428841, 0.20384900998538136, 0.3304204577402093, 0.8069711855950463, 2.183335642845713, 7.576709145275721, 15.22165319420552, 17.79885645707307, 17.791433684548682, 5.667355853022691, 4.8802073440747336, 4.92672362220254, 5.0147789601915065], [0.20038453343428841, 0.20038453343428841, 0.20038453343428841, 0.20038453343428841, 0.20038453343428841, 0.20038453343428841, 0.20038453343428841, 0.20038453343428841, 0.20038453343428841, 0.20038453343428841, 0.2165038207568255, 0.6636737207736515, 2.429465773812751, 11.355431119367356, 16.866942201466685, 18.12984851610059, 17.41280247235472, 4.880160404295566, 4.924674225851959, 5.017039565655606], [0.20038453343428841, 0.20038453343428841, 0.20038453343428841, 0.20038453343428841, 0.20038453343428841, 0.20038453343428841, 0.20038453343428841, 0.20038453343428841, 0.20038453343428841, 0.20038453343428841, 0.20038453343428841, 0.29339134789550236, 1.5261873787719462, 4.510581190148232, 10.718846040491796, 16.735829314357943, 18.362416853519836, 5.181051493534283, 4.924748182276061, 5.069138114989861], [0.20038453343428841, 0.20038453343428841, 0.20038453343428841, 0.20038453343428841, 0.20038453343428841, 0.21519007996758036, 0.39379645501961097, 0.3795148512613964, 0.5553147859450585, 0.8733452990456592, 0.7471398671800545, 0.8535320011437703, 1.2467877962023624, 0.7114435409972133, 0.7563018611119099, 5.741796856074555, 18.078659922418662, 18.637025242478174, 4.94710947627118, 5.100564461131107], [0.20038453343428841, 0.20038453343428841, 0.20038453343428841, 0.49448295042917345, 0.6246790250963653, 1.0686561068931928, 2.115220000860485, 5.2372613937965085, 7.047110322133916, 7.863301608500098, 7.0031954563025, 2.238264814342809, 0.8412374444852692, 0.5114423784471012, 0.2787671193718745, 0.2983640468318181, 14.247969775580366, 19.091734505925128, 4.952294386063154, 5.085751350580007], [0.23630966631359768, 0.2166749908377429, 0.3068891501059234, 0.4491534837213692, 0.8334917673403613, 1.845097898327737, 3.067729313890371, 12.339878431550495, 10.131516801306923, null, null, 9.771132561619986, 3.9455541182315788, 1.1657309506110776, 0.5089723820882811, 0.27439443237676425, 1.8758489954558129, 20.050537442886586, 5.408575352720757, 5.100574422725209], [0.20038453343428841, 0.20038453343428841, 0.20038453343428841, 0.45578358341611425, 0.6953574562459709, 1.3660043404405622, 3.4006757739104523, 7.304591915002693, 10.092006182942917, null, null, 9.89975373623523, 5.207847191208061, 2.2023774165377854, 1.4350737456436449, 3.8469861272849846, 1.497383838820555, 20.15398940756172, 5.606119272908848, 5.098502706058814], [0.20038453343428841, 0.20038453343428841, 0.20038453343428841, 0.20038453343428841, 0.20310492361670687, 0.6590914143836432, 1.2134392393179794, 3.619461862170376, 3.330242735544174, 6.825317279786481, 7.181155188175057, 2.678744805713537, 1.485032211191076, 0.8711123894646539, 0.7677761829395641, 2.4397382096114697, 7.247020667779793, 19.35105855742697, 4.952305483648876, 5.1005607316850075], [0.20038453343428841, 0.20038453343428841, 0.20038453343428841, 0.20038453343428841, 0.20038453343428841, 0.20038453343428841, 0.20038453343428841, 0.20988195546562385, 0.2646115659577864, 1.1818446126996633, 2.102778567995352, 2.0110998551789607, 1.6037274202422218, 1.7772995177944846, 1.8166521053556064, 2.219157657603454, 18.071242873573123, 18.658091261358067, 4.94710947627118, 5.1005607316850075], [0.20038453343428841, 0.20038453343428841, 0.20038453343428841, 0.20038453343428841, 0.20038453343428841, 0.20038453343428841, 0.20038453343428841, 0.20038453343428841, 0.20038453343428841, 0.2283036824416444, 0.8471982378618885, 2.4086449016658986, 2.635796113375272, 2.498523342571504, 3.51661265775087, 14.08693089220131, 17.53235286694426, 5.241106281774058, 4.940979119511773, 5.037522771225667], [0.20038453343428841, 0.20038453343428841, 0.20038453343428841, 0.20038453343428841, 0.20038453343428841, 0.20038453343428841, 0.20038453343428841, 0.20038453343428841, 0.20038453343428841, 0.31286114686024175, 1.3229919053172077, 3.650853852663658, 7.3532478676607465, 9.600001934131246, 13.214775522674666, 15.580134387615244, 14.676893907449994, 4.9022985243191215, 4.946966706459534, 5.0147789601915065], [0.20038453343428841, 0.20038453343428841, 0.20038453343428841, 0.20038453343428841, 0.20038453343428841, 0.2003846049454691, 0.20090757231090364, 0.22941563194545844, 0.5784990545823375, 1.4231231911336633, 3.236321696092287, 7.564634204374714, 12.008563138785519, 14.537872338340629, 14.758139702759015, 13.488696319050918, 4.8956421455232215, 4.902345464098289, 4.946966706459534, 5.007000292372305], [0.20038453343428841, 0.20038453343428841, 0.20038453343428841, 0.20270154672437352, 0.2144547303166737, 0.27994638096583385, 0.5295002191368624, 1.0772240387587753, 2.1966544456634147, 4.45883670119441, 8.457153754672, 12.171852610300038, 14.699509130453915, 15.10872908996036, 12.636575873484434, 5.853717783043072, 4.814543670518674, 4.88081262053133, 4.946966706459534, 4.992133166665553], [0.2746379227195605, 0.3300870102477439, 0.4213206648195297, 0.5816343588011159, 0.8757982898759802, 1.3895725880079182, 2.3221352526642556, 3.9208852021966196, 6.329134924368467, 9.226485505507702, 11.930249273151668, 14.144006577579026, 15.100345030462954, 12.474722041220911, 6.420325233959236, 4.81907178267948, 4.8227204483358275, 4.88081262053133, 4.946966706459534, 4.992121231904255], [1.1297627549448028, 1.383029859848762, 1.7537292230575925, 2.3042383574135066, 3.133054358235417, 4.326677238158791, 5.909940950787811, 7.717002572811689, 9.658466245145442, 11.661628638065837, 13.508100627060205, 14.388278567327434, 12.146286487903454, 6.706072231796456, 4.898032785335472, 4.792851126354435, 4.8227204483358275, 4.880254505018911, 4.946966706459534, 4.992121231904255], [2.820679537078455, 3.372566696347451, 4.088949687809391, 4.982376469465744, 6.033365093863438, 7.192869560683389, 8.473924631616088, 9.923961652613066, 11.471367130338766, 12.907414815224826, 13.502622365472954, 11.426428838447038, 6.787460620052682, 4.994437243389664, 4.836330655831329, 4.792851126354435, 4.8227204483358275, 4.880254505018911, 4.946966706459534, 4.992121231904255]]}],                        {\"autosize\": false, \"height\": 400, \"margin\": {\"b\": 32, \"pad\": 0, \"r\": 30, \"t\": 40}, \"template\": {\"data\": {\"bar\": [{\"error_x\": {\"color\": \"#2a3f5f\"}, \"error_y\": {\"color\": \"#2a3f5f\"}, \"marker\": {\"line\": {\"color\": \"#E5ECF6\", \"width\": 0.5}}, \"type\": \"bar\"}], \"barpolar\": [{\"marker\": {\"line\": {\"color\": \"#E5ECF6\", \"width\": 0.5}}, \"type\": \"barpolar\"}], \"carpet\": [{\"aaxis\": {\"endlinecolor\": \"#2a3f5f\", \"gridcolor\": \"white\", \"linecolor\": \"white\", \"minorgridcolor\": \"white\", \"startlinecolor\": \"#2a3f5f\"}, \"baxis\": {\"endlinecolor\": \"#2a3f5f\", \"gridcolor\": \"white\", \"linecolor\": \"white\", \"minorgridcolor\": \"white\", \"startlinecolor\": \"#2a3f5f\"}, \"type\": \"carpet\"}], \"choropleth\": [{\"colorbar\": {\"outlinewidth\": 0, \"ticks\": \"\"}, \"type\": \"choropleth\"}], \"contour\": [{\"colorbar\": {\"outlinewidth\": 0, \"ticks\": \"\"}, \"colorscale\": [[0.0, \"#0d0887\"], [0.1111111111111111, \"#46039f\"], [0.2222222222222222, \"#7201a8\"], [0.3333333333333333, \"#9c179e\"], [0.4444444444444444, \"#bd3786\"], [0.5555555555555556, \"#d8576b\"], [0.6666666666666666, \"#ed7953\"], [0.7777777777777778, \"#fb9f3a\"], [0.8888888888888888, \"#fdca26\"], [1.0, \"#f0f921\"]], \"type\": \"contour\"}], \"contourcarpet\": [{\"colorbar\": {\"outlinewidth\": 0, \"ticks\": \"\"}, \"type\": \"contourcarpet\"}], \"heatmap\": [{\"colorbar\": {\"outlinewidth\": 0, \"ticks\": \"\"}, \"colorscale\": [[0.0, \"#0d0887\"], [0.1111111111111111, \"#46039f\"], [0.2222222222222222, \"#7201a8\"], [0.3333333333333333, \"#9c179e\"], [0.4444444444444444, \"#bd3786\"], [0.5555555555555556, \"#d8576b\"], [0.6666666666666666, \"#ed7953\"], [0.7777777777777778, \"#fb9f3a\"], [0.8888888888888888, \"#fdca26\"], [1.0, \"#f0f921\"]], \"type\": \"heatmap\"}], \"heatmapgl\": [{\"colorbar\": {\"outlinewidth\": 0, \"ticks\": \"\"}, \"colorscale\": [[0.0, \"#0d0887\"], [0.1111111111111111, \"#46039f\"], [0.2222222222222222, \"#7201a8\"], [0.3333333333333333, \"#9c179e\"], [0.4444444444444444, \"#bd3786\"], [0.5555555555555556, \"#d8576b\"], [0.6666666666666666, \"#ed7953\"], [0.7777777777777778, \"#fb9f3a\"], [0.8888888888888888, \"#fdca26\"], [1.0, \"#f0f921\"]], \"type\": \"heatmapgl\"}], \"histogram\": [{\"marker\": {\"colorbar\": {\"outlinewidth\": 0, \"ticks\": \"\"}}, \"type\": \"histogram\"}], \"histogram2d\": [{\"colorbar\": {\"outlinewidth\": 0, \"ticks\": \"\"}, \"colorscale\": [[0.0, \"#0d0887\"], [0.1111111111111111, \"#46039f\"], [0.2222222222222222, \"#7201a8\"], [0.3333333333333333, \"#9c179e\"], [0.4444444444444444, \"#bd3786\"], [0.5555555555555556, \"#d8576b\"], [0.6666666666666666, \"#ed7953\"], [0.7777777777777778, \"#fb9f3a\"], [0.8888888888888888, \"#fdca26\"], [1.0, \"#f0f921\"]], \"type\": \"histogram2d\"}], \"histogram2dcontour\": [{\"colorbar\": {\"outlinewidth\": 0, \"ticks\": \"\"}, \"colorscale\": [[0.0, \"#0d0887\"], [0.1111111111111111, \"#46039f\"], [0.2222222222222222, \"#7201a8\"], [0.3333333333333333, \"#9c179e\"], [0.4444444444444444, \"#bd3786\"], [0.5555555555555556, \"#d8576b\"], [0.6666666666666666, \"#ed7953\"], [0.7777777777777778, \"#fb9f3a\"], [0.8888888888888888, \"#fdca26\"], [1.0, \"#f0f921\"]], \"type\": \"histogram2dcontour\"}], \"mesh3d\": [{\"colorbar\": {\"outlinewidth\": 0, \"ticks\": \"\"}, \"type\": \"mesh3d\"}], \"parcoords\": [{\"line\": {\"colorbar\": {\"outlinewidth\": 0, \"ticks\": \"\"}}, \"type\": \"parcoords\"}], \"pie\": [{\"automargin\": true, \"type\": \"pie\"}], \"scatter\": [{\"marker\": {\"colorbar\": {\"outlinewidth\": 0, \"ticks\": \"\"}}, \"type\": \"scatter\"}], \"scatter3d\": [{\"line\": {\"colorbar\": {\"outlinewidth\": 0, \"ticks\": \"\"}}, \"marker\": {\"colorbar\": {\"outlinewidth\": 0, \"ticks\": \"\"}}, \"type\": \"scatter3d\"}], \"scattercarpet\": [{\"marker\": {\"colorbar\": {\"outlinewidth\": 0, \"ticks\": \"\"}}, \"type\": \"scattercarpet\"}], \"scattergeo\": [{\"marker\": {\"colorbar\": {\"outlinewidth\": 0, \"ticks\": \"\"}}, \"type\": \"scattergeo\"}], \"scattergl\": [{\"marker\": {\"colorbar\": {\"outlinewidth\": 0, \"ticks\": \"\"}}, \"type\": \"scattergl\"}], \"scattermapbox\": [{\"marker\": {\"colorbar\": {\"outlinewidth\": 0, \"ticks\": \"\"}}, \"type\": \"scattermapbox\"}], \"scatterpolar\": [{\"marker\": {\"colorbar\": {\"outlinewidth\": 0, \"ticks\": \"\"}}, \"type\": \"scatterpolar\"}], \"scatterpolargl\": [{\"marker\": {\"colorbar\": {\"outlinewidth\": 0, \"ticks\": \"\"}}, \"type\": \"scatterpolargl\"}], \"scatterternary\": [{\"marker\": {\"colorbar\": {\"outlinewidth\": 0, \"ticks\": \"\"}}, \"type\": \"scatterternary\"}], \"surface\": [{\"colorbar\": {\"outlinewidth\": 0, \"ticks\": \"\"}, \"colorscale\": [[0.0, \"#0d0887\"], [0.1111111111111111, \"#46039f\"], [0.2222222222222222, \"#7201a8\"], [0.3333333333333333, \"#9c179e\"], [0.4444444444444444, \"#bd3786\"], [0.5555555555555556, \"#d8576b\"], [0.6666666666666666, \"#ed7953\"], [0.7777777777777778, \"#fb9f3a\"], [0.8888888888888888, \"#fdca26\"], [1.0, \"#f0f921\"]], \"type\": \"surface\"}], \"table\": [{\"cells\": {\"fill\": {\"color\": \"#EBF0F8\"}, \"line\": {\"color\": \"white\"}}, \"header\": {\"fill\": {\"color\": \"#C8D4E3\"}, \"line\": {\"color\": \"white\"}}, \"type\": \"table\"}]}, \"layout\": {\"annotationdefaults\": {\"arrowcolor\": \"#2a3f5f\", \"arrowhead\": 0, \"arrowwidth\": 1}, \"autotypenumbers\": \"strict\", \"coloraxis\": {\"colorbar\": {\"outlinewidth\": 0, \"ticks\": \"\"}}, \"colorscale\": {\"diverging\": [[0, \"#8e0152\"], [0.1, \"#c51b7d\"], [0.2, \"#de77ae\"], [0.3, \"#f1b6da\"], [0.4, \"#fde0ef\"], [0.5, \"#f7f7f7\"], [0.6, \"#e6f5d0\"], [0.7, \"#b8e186\"], [0.8, \"#7fbc41\"], [0.9, \"#4d9221\"], [1, \"#276419\"]], \"sequential\": [[0.0, \"#0d0887\"], [0.1111111111111111, \"#46039f\"], [0.2222222222222222, \"#7201a8\"], [0.3333333333333333, \"#9c179e\"], [0.4444444444444444, \"#bd3786\"], [0.5555555555555556, \"#d8576b\"], [0.6666666666666666, \"#ed7953\"], [0.7777777777777778, \"#fb9f3a\"], [0.8888888888888888, \"#fdca26\"], [1.0, \"#f0f921\"]], \"sequentialminus\": [[0.0, \"#0d0887\"], [0.1111111111111111, \"#46039f\"], [0.2222222222222222, \"#7201a8\"], [0.3333333333333333, \"#9c179e\"], [0.4444444444444444, \"#bd3786\"], [0.5555555555555556, \"#d8576b\"], [0.6666666666666666, \"#ed7953\"], [0.7777777777777778, \"#fb9f3a\"], [0.8888888888888888, \"#fdca26\"], [1.0, \"#f0f921\"]]}, \"colorway\": [\"#636efa\", \"#EF553B\", \"#00cc96\", \"#ab63fa\", \"#FFA15A\", \"#19d3f3\", \"#FF6692\", \"#B6E880\", \"#FF97FF\", \"#FECB52\"], \"font\": {\"color\": \"#2a3f5f\"}, \"geo\": {\"bgcolor\": \"white\", \"lakecolor\": \"white\", \"landcolor\": \"#E5ECF6\", \"showlakes\": true, \"showland\": true, \"subunitcolor\": \"white\"}, \"hoverlabel\": {\"align\": \"left\"}, \"hovermode\": \"closest\", \"mapbox\": {\"style\": \"light\"}, \"paper_bgcolor\": \"white\", \"plot_bgcolor\": \"#E5ECF6\", \"polar\": {\"angularaxis\": {\"gridcolor\": \"white\", \"linecolor\": \"white\", \"ticks\": \"\"}, \"bgcolor\": \"#E5ECF6\", \"radialaxis\": {\"gridcolor\": \"white\", \"linecolor\": \"white\", \"ticks\": \"\"}}, \"scene\": {\"xaxis\": {\"backgroundcolor\": \"#E5ECF6\", \"gridcolor\": \"white\", \"gridwidth\": 2, \"linecolor\": \"white\", \"showbackground\": true, \"ticks\": \"\", \"zerolinecolor\": \"white\"}, \"yaxis\": {\"backgroundcolor\": \"#E5ECF6\", \"gridcolor\": \"white\", \"gridwidth\": 2, \"linecolor\": \"white\", \"showbackground\": true, \"ticks\": \"\", \"zerolinecolor\": \"white\"}, \"zaxis\": {\"backgroundcolor\": \"#E5ECF6\", \"gridcolor\": \"white\", \"gridwidth\": 2, \"linecolor\": \"white\", \"showbackground\": true, \"ticks\": \"\", \"zerolinecolor\": \"white\"}}, \"shapedefaults\": {\"line\": {\"color\": \"#2a3f5f\"}}, \"ternary\": {\"aaxis\": {\"gridcolor\": \"white\", \"linecolor\": \"white\", \"ticks\": \"\"}, \"baxis\": {\"gridcolor\": \"white\", \"linecolor\": \"white\", \"ticks\": \"\"}, \"bgcolor\": \"#E5ECF6\", \"caxis\": {\"gridcolor\": \"white\", \"linecolor\": \"white\", \"ticks\": \"\"}}, \"title\": {\"x\": 0.05}, \"xaxis\": {\"automargin\": true, \"gridcolor\": \"white\", \"linecolor\": \"white\", \"ticks\": \"\", \"title\": {\"standoff\": 15}, \"zerolinecolor\": \"white\", \"zerolinewidth\": 2}, \"yaxis\": {\"automargin\": true, \"gridcolor\": \"white\", \"linecolor\": \"white\", \"ticks\": \"\", \"title\": {\"standoff\": 15}, \"zerolinecolor\": \"white\", \"zerolinewidth\": 2}}}, \"title\": {\"text\": \"$\\\\operatorname{XZ}(x[R_{E}],z[R_{E}])[\\\\frac{1}{cm^{3}}] = \\\\lambda{\\\\left(x,z \\\\right)}$\"}, \"width\": 700, \"xaxis\": {\"title\": {\"text\": \"$x$\"}}, \"yaxis\": {\"title\": {\"text\": \"$z$\"}}},                        {\"responsive\": true}                    ).then(function(){\n",
       "                            \n",
       "var gd = document.getElementById('9b27cc82-d054-48df-8b54-3ddf24bbf21c');\n",
       "var x = new MutationObserver(function (mutations, observer) {{\n",
       "        var display = window.getComputedStyle(gd).display;\n",
       "        if (!display || display === 'none') {{\n",
       "            console.log([gd, 'removed!']);\n",
       "            Plotly.purge(gd);\n",
       "            observer.disconnect();\n",
       "        }}\n",
       "}});\n",
       "\n",
       "// Listen for the removal of the full notebook cells\n",
       "var notebookContainer = gd.closest('#notebook-container');\n",
       "if (notebookContainer) {{\n",
       "    x.observe(notebookContainer, {childList: true});\n",
       "}}\n",
       "\n",
       "// Listen for the clearing of the current output cell\n",
       "var outputEl = gd.closest('.output');\n",
       "if (outputEl) {{\n",
       "    x.observe(outputEl, {childList: true});\n",
       "}}\n",
       "\n",
       "                        })                };                });            </script>        </div>"
      ]
     },
     "metadata": {},
     "output_type": "display_data"
    },
    {
     "name": "stdout",
     "output_type": "stream",
     "text": [
      "N_plasma\n",
      "Time slice at 12.500 hrs. X slice at 0.000 R_E. \n",
      "Took 7.560 s for 400 positions.\n"
     ]
    },
    {
     "data": {
      "application/vnd.plotly.v1+json": {
       "config": {
        "linkText": "Export to plot.ly",
        "plotlyServerURL": "https://plot.ly",
        "showLink": false
       },
       "data": [
        {
         "meta": "2d-grid",
         "type": "contour",
         "x": [
          -15,
          -13.421052631578947,
          -11.842105263157894,
          -10.263157894736842,
          -8.68421052631579,
          -7.105263157894736,
          -5.526315789473685,
          -3.947368421052632,
          -2.3684210526315788,
          -0.7894736842105257,
          0.7894736842105274,
          2.3684210526315788,
          3.94736842105263,
          5.526315789473685,
          7.105263157894736,
          8.684210526315791,
          10.263157894736842,
          11.842105263157894,
          13.421052631578949,
          15
         ],
         "y": [
          -20,
          -17.894736842105264,
          -15.789473684210527,
          -13.68421052631579,
          -11.578947368421053,
          -9.473684210526317,
          -7.368421052631579,
          -5.2631578947368425,
          -3.157894736842106,
          -1.05263157894737,
          1.0526315789473664,
          3.1578947368421026,
          5.2631578947368425,
          7.368421052631579,
          9.473684210526315,
          11.578947368421051,
          13.684210526315788,
          15.789473684210527,
          17.89473684210526,
          20
         ],
         "z": [
          [
           11.343961876653783,
           12.608507458051115,
           12.928927069742704,
           12.74409837646593,
           12.337045732039424,
           11.956787076084366,
           11.566738154845062,
           11.240629697538488,
           11.03560582939025,
           10.96923225188668,
           11.064600940011204,
           11.295255674633161,
           11.65172806665353,
           12.096784051553255,
           12.585785384692594,
           12.987891281494438,
           13.330076587037938,
           13.45684135354137,
           13.00087446972195,
           11.487083959858609
          ],
          [
           12.816857375540614,
           12.90110236749267,
           12.50296543698101,
           12.00260200720528,
           11.444256774434782,
           10.87375234250617,
           10.253616159995534,
           9.662446626601694,
           9.231428589999412,
           9.049546692421886,
           9.140422279874736,
           9.519782327543506,
           10.13518265203364,
           10.899965741915096,
           11.663415390776429,
           12.354038183962937,
           12.924514259410229,
           13.36846378975307,
           13.623787644018062,
           13.399827377543845
          ],
          [
           12.805342125257516,
           12.304371202172677,
           11.667966698393611,
           10.987285105137941,
           10.191970856606433,
           9.167033570872253,
           7.9985206972141,
           6.912330987178997,
           6.102718100201535,
           5.678927702526707,
           5.657999589601733,
           6.09572510855894,
           7.0943719299968775,
           8.57095287204551,
           10.084367201167396,
           11.25293701634447,
           12.209641043057498,
           12.932109832080995,
           13.421583707754724,
           13.713354709010124
          ],
          [
           12.094255254558696,
           11.35770216263195,
           10.51852010949422,
           9.373529114270639,
           7.808258399438437,
           6.035135861015648,
           4.382638727281435,
           3.150931500025485,
           2.3979399700310533,
           2.0393092470455967,
           1.9595429284906904,
           2.062082784182024,
           2.508229022133793,
           3.5328553724164187,
           5.626137397700442,
           9.041184003456124,
           10.934266349187219,
           12.097164230209547,
           12.949413828012371,
           13.412300555358671
          ],
          [
           11.151204633123317,
           10.120577622392519,
           8.544955164809874,
           6.418760703800184,
           4.230366306884224,
           2.512835094318211,
           1.4997295318627355,
           0.9189548125531601,
           0.6113697406905156,
           0.5262763859466404,
           0.5517910019206418,
           0.5487859099118799,
           0.5932968770141335,
           0.7824723672327525,
           1.282087383286467,
           3.006181568708022,
           8.107636315284267,
           10.770950803062346,
           12.029279903102484,
           12.89327569251337
          ],
          [
           9.845367739081853,
           8.027145799432267,
           5.68273802501906,
           3.5815492655768044,
           2.586910405843752,
           1.8333462438611796,
           1.1518693215526485,
           0.7076714933784415,
           0.3010734253184622,
           0.20047034029874794,
           0.20038453343428841,
           0.20057589928431177,
           0.20240784698596057,
           0.22118179419716477,
           0.34420053631016406,
           0.9478858037359396,
           2.3553251467557956,
           7.655310438237556,
           10.70697756083014,
           12.005447259548866
          ],
          [
           8.237938171526514,
           5.98972507517651,
           4.112259047075702,
           3.270032524289861,
           2.2660388747285887,
           1.1709025223077694,
           0.9464018789816642,
           1.0401618082811557,
           1.1573146231708247,
           0.2152960276086868,
           0.20038453343428841,
           0.20038453343428841,
           0.20038453343428841,
           0.20038453343428841,
           0.20038453343428841,
           0.3324807530939469,
           1.1553426110433387,
           3.3192153527455734,
           9.00931431285213,
           10.99983952861991
          ],
          [
           7.033993993868574,
           4.999475537000258,
           3.756662555989895,
           2.5257709643621253,
           1.1285704171466995,
           0.9515309063955121,
           2.1297937376350493,
           3.0494877241190315,
           2.6915437811467995,
           1.9856456617590028,
           0.2536144742788788,
           0.20038453343428841,
           0.20038453343428841,
           0.20038453343428841,
           0.20038453343428841,
           0.21415321416757904,
           0.6094157664383881,
           1.759684673551704,
           6.042687251401398,
           10.275132073460632
          ],
          [
           6.675734529917364,
           4.662980781301684,
           3.3666266492422645,
           2.1977119557029074,
           1.309171536221464,
           1.8443712782190533,
           5.178655097380743,
           9.137095048050385,
           6.985461408055378,
           7.8247287922304425,
           4.124509868904287,
           1.240772565479676,
           0.3861318196559807,
           0.2193722921663937,
           0.2103509882340425,
           0.21623596390161146,
           0.5383273094884031,
           1.4790547409678414,
           4.842905578163459,
           9.70358402614156
          ],
          [
           6.983961662686601,
           4.364371204681351,
           3.0846014489203686,
           2.3153341958540907,
           1.3731040541796657,
           2.133311673493696,
           4.588523846843291,
           9.992427237620834,
           10.012759403044088,
           null,
           null,
           9.944868613566344,
           4.268651549816071,
           1.9108221751639072,
           1.0492243824102812,
           1.0989541239725338,
           1.443581789898435,
           2.093240518698447,
           5.085623451650577,
           9.592040767627704
          ],
          [
           7.668307636818201,
           4.041858244587298,
           2.406151861328097,
           1.9447276917434735,
           1.7022538490600099,
           1.7744053122168977,
           2.5242821116243364,
           4.696838682120488,
           9.982035549059564,
           null,
           null,
           9.880927880103345,
           9.050309427415321,
           4.148846107039699,
           1.6162640614885715,
           1.1236796555303705,
           1.811841952951135,
           2.7667202344277717,
           5.824951079719206,
           9.539616256033502
          ],
          [
           8.746530733141322,
           4.320540134912228,
           1.8460896973851888,
           0.8638233764034503,
           0.33784550308659794,
           0.28246663343299844,
           0.3269582545672132,
           0.41691334807364827,
           1.6023240333611921,
           5.454407385410652,
           7.7989797675062045,
           6.577786303824884,
           8.296254288299947,
           4.130910921338748,
           1.4627471065793032,
           1.058013937772029,
           1.939013349945195,
           3.351324078619952,
           6.508023537160268,
           9.638520101907162
          ],
          [
           10.00105719502529,
           6.01853513763092,
           2.2215914550618363,
           0.96164264894411,
           0.2800258427133634,
           0.20048270420207465,
           0.2004712434663357,
           0.20038453343428841,
           0.26633979053883333,
           0.5938865370137855,
           2.154151504996737,
           3.136843241147287,
           3.230150316863063,
           1.7715569095800403,
           0.7784794399883498,
           1.0041962766294315,
           2.4235948915632406,
           4.115931042672788,
           7.4216429938111785,
           9.966668360650234
          ],
          [
           11.287798768118682,
           9.752136349712327,
           4.17807366965742,
           1.6422918157982727,
           0.6330637557776899,
           0.20284759509461542,
           0.20038453343428841,
           0.20038453343428841,
           0.23971755613046958,
           0.32789391297279985,
           0.823434719452978,
           1.049573980390856,
           0.9178712968090079,
           0.8496814696489368,
           0.8761179138652022,
           1.5871095260864279,
           3.494213837298611,
           5.691898455755491,
           8.880640018726762,
           10.870007342906852
          ],
          [
           13.007153778003529,
           11.56195330007455,
           10.002237586470914,
           4.36866159782563,
           1.5140101155173,
           0.7934497388688457,
           0.5856577462467486,
           0.5173593748354208,
           0.5381506349012763,
           0.6015921105046629,
           1.0118647857178114,
           1.6851059100964165,
           1.8872382471850864,
           2.1766219164753586,
           2.7516866152014634,
           3.784372399297175,
           5.595035839499215,
           8.418450996852812,
           10.660334989501866,
           11.911135392828974
          ],
          [
           14.360971450389787,
           13.679387165832535,
           12.335432597147825,
           10.608435453709056,
           7.576202518185933,
           3.5645771082747073,
           2.327781081740427,
           1.969794623477289,
           1.9296411231694868,
           1.9955906088443494,
           2.3077897181275184,
           2.984884929121216,
           3.708114056891231,
           4.48256037464216,
           5.606074120945165,
           7.14711461640552,
           9.328017794305765,
           11.06563542067087,
           12.130465547511607,
           12.696649497963483
          ],
          [
           14.987240996755773,
           14.781965172092564,
           14.188822124242899,
           13.194013756077096,
           11.931787637591325,
           10.581940592577624,
           8.745097066903393,
           7.137524014147536,
           6.321010258467341,
           6.166632602299137,
           6.509159835310904,
           7.132880064746461,
           7.800590063422398,
           8.558575658761505,
           9.586529450845294,
           10.807559724391814,
           11.798923017449544,
           12.59524951105498,
           13.072182625711434,
           12.341774963119157
          ],
          [
           14.219877830849914,
           14.911058501362088,
           14.8591892660163,
           14.439079619897935,
           13.777562988894228,
           13.00154641662376,
           12.194441094592559,
           11.484475944915422,
           10.940491768677324,
           10.658654064592712,
           10.615854068377763,
           10.776929484715387,
           11.077527300165542,
           11.55143928532908,
           12.075802703659322,
           12.563870366675761,
           12.89508821492103,
           12.807425991978066,
           11.73172078768191,
           9.293887236071635
          ],
          [
           11.037055619839741,
           13.213570757444364,
           14.273373323518861,
           14.584986635380735,
           14.453300116228043,
           14.118648646586827,
           13.638943527214014,
           13.218179806393655,
           12.881653293848244,
           12.689710032298242,
           12.632283586951566,
           12.665967330272629,
           12.78332227979316,
           12.958019014238921,
           13.013283018980243,
           12.791900589706508,
           12.036652804742168,
           10.452850269378873,
           8.231215461836491,
           6.252847775250176
          ],
          [
           6.915095391537633,
           9.088441773073423,
           11.243691306665498,
           12.775062776361946,
           13.5789222462982,
           13.873003087087339,
           13.878523053522015,
           13.739906713608956,
           13.600457612862435,
           13.46768096951651,
           13.348460020075931,
           13.197110126467013,
           12.99257049853184,
           12.565804626411541,
           11.746836246075357,
           10.40789621288071,
           8.622206841913039,
           6.849003494333435,
           5.628684087434692,
           5.072508228693063
          ]
         ]
        }
       ],
       "layout": {
        "autosize": false,
        "height": 400,
        "margin": {
         "b": 32,
         "pad": 0,
         "r": 30,
         "t": 40
        },
        "template": {
         "data": {
          "bar": [
           {
            "error_x": {
             "color": "#2a3f5f"
            },
            "error_y": {
             "color": "#2a3f5f"
            },
            "marker": {
             "line": {
              "color": "#E5ECF6",
              "width": 0.5
             }
            },
            "type": "bar"
           }
          ],
          "barpolar": [
           {
            "marker": {
             "line": {
              "color": "#E5ECF6",
              "width": 0.5
             }
            },
            "type": "barpolar"
           }
          ],
          "carpet": [
           {
            "aaxis": {
             "endlinecolor": "#2a3f5f",
             "gridcolor": "white",
             "linecolor": "white",
             "minorgridcolor": "white",
             "startlinecolor": "#2a3f5f"
            },
            "baxis": {
             "endlinecolor": "#2a3f5f",
             "gridcolor": "white",
             "linecolor": "white",
             "minorgridcolor": "white",
             "startlinecolor": "#2a3f5f"
            },
            "type": "carpet"
           }
          ],
          "choropleth": [
           {
            "colorbar": {
             "outlinewidth": 0,
             "ticks": ""
            },
            "type": "choropleth"
           }
          ],
          "contour": [
           {
            "colorbar": {
             "outlinewidth": 0,
             "ticks": ""
            },
            "colorscale": [
             [
              0,
              "#0d0887"
             ],
             [
              0.1111111111111111,
              "#46039f"
             ],
             [
              0.2222222222222222,
              "#7201a8"
             ],
             [
              0.3333333333333333,
              "#9c179e"
             ],
             [
              0.4444444444444444,
              "#bd3786"
             ],
             [
              0.5555555555555556,
              "#d8576b"
             ],
             [
              0.6666666666666666,
              "#ed7953"
             ],
             [
              0.7777777777777778,
              "#fb9f3a"
             ],
             [
              0.8888888888888888,
              "#fdca26"
             ],
             [
              1,
              "#f0f921"
             ]
            ],
            "type": "contour"
           }
          ],
          "contourcarpet": [
           {
            "colorbar": {
             "outlinewidth": 0,
             "ticks": ""
            },
            "type": "contourcarpet"
           }
          ],
          "heatmap": [
           {
            "colorbar": {
             "outlinewidth": 0,
             "ticks": ""
            },
            "colorscale": [
             [
              0,
              "#0d0887"
             ],
             [
              0.1111111111111111,
              "#46039f"
             ],
             [
              0.2222222222222222,
              "#7201a8"
             ],
             [
              0.3333333333333333,
              "#9c179e"
             ],
             [
              0.4444444444444444,
              "#bd3786"
             ],
             [
              0.5555555555555556,
              "#d8576b"
             ],
             [
              0.6666666666666666,
              "#ed7953"
             ],
             [
              0.7777777777777778,
              "#fb9f3a"
             ],
             [
              0.8888888888888888,
              "#fdca26"
             ],
             [
              1,
              "#f0f921"
             ]
            ],
            "type": "heatmap"
           }
          ],
          "heatmapgl": [
           {
            "colorbar": {
             "outlinewidth": 0,
             "ticks": ""
            },
            "colorscale": [
             [
              0,
              "#0d0887"
             ],
             [
              0.1111111111111111,
              "#46039f"
             ],
             [
              0.2222222222222222,
              "#7201a8"
             ],
             [
              0.3333333333333333,
              "#9c179e"
             ],
             [
              0.4444444444444444,
              "#bd3786"
             ],
             [
              0.5555555555555556,
              "#d8576b"
             ],
             [
              0.6666666666666666,
              "#ed7953"
             ],
             [
              0.7777777777777778,
              "#fb9f3a"
             ],
             [
              0.8888888888888888,
              "#fdca26"
             ],
             [
              1,
              "#f0f921"
             ]
            ],
            "type": "heatmapgl"
           }
          ],
          "histogram": [
           {
            "marker": {
             "colorbar": {
              "outlinewidth": 0,
              "ticks": ""
             }
            },
            "type": "histogram"
           }
          ],
          "histogram2d": [
           {
            "colorbar": {
             "outlinewidth": 0,
             "ticks": ""
            },
            "colorscale": [
             [
              0,
              "#0d0887"
             ],
             [
              0.1111111111111111,
              "#46039f"
             ],
             [
              0.2222222222222222,
              "#7201a8"
             ],
             [
              0.3333333333333333,
              "#9c179e"
             ],
             [
              0.4444444444444444,
              "#bd3786"
             ],
             [
              0.5555555555555556,
              "#d8576b"
             ],
             [
              0.6666666666666666,
              "#ed7953"
             ],
             [
              0.7777777777777778,
              "#fb9f3a"
             ],
             [
              0.8888888888888888,
              "#fdca26"
             ],
             [
              1,
              "#f0f921"
             ]
            ],
            "type": "histogram2d"
           }
          ],
          "histogram2dcontour": [
           {
            "colorbar": {
             "outlinewidth": 0,
             "ticks": ""
            },
            "colorscale": [
             [
              0,
              "#0d0887"
             ],
             [
              0.1111111111111111,
              "#46039f"
             ],
             [
              0.2222222222222222,
              "#7201a8"
             ],
             [
              0.3333333333333333,
              "#9c179e"
             ],
             [
              0.4444444444444444,
              "#bd3786"
             ],
             [
              0.5555555555555556,
              "#d8576b"
             ],
             [
              0.6666666666666666,
              "#ed7953"
             ],
             [
              0.7777777777777778,
              "#fb9f3a"
             ],
             [
              0.8888888888888888,
              "#fdca26"
             ],
             [
              1,
              "#f0f921"
             ]
            ],
            "type": "histogram2dcontour"
           }
          ],
          "mesh3d": [
           {
            "colorbar": {
             "outlinewidth": 0,
             "ticks": ""
            },
            "type": "mesh3d"
           }
          ],
          "parcoords": [
           {
            "line": {
             "colorbar": {
              "outlinewidth": 0,
              "ticks": ""
             }
            },
            "type": "parcoords"
           }
          ],
          "pie": [
           {
            "automargin": true,
            "type": "pie"
           }
          ],
          "scatter": [
           {
            "marker": {
             "colorbar": {
              "outlinewidth": 0,
              "ticks": ""
             }
            },
            "type": "scatter"
           }
          ],
          "scatter3d": [
           {
            "line": {
             "colorbar": {
              "outlinewidth": 0,
              "ticks": ""
             }
            },
            "marker": {
             "colorbar": {
              "outlinewidth": 0,
              "ticks": ""
             }
            },
            "type": "scatter3d"
           }
          ],
          "scattercarpet": [
           {
            "marker": {
             "colorbar": {
              "outlinewidth": 0,
              "ticks": ""
             }
            },
            "type": "scattercarpet"
           }
          ],
          "scattergeo": [
           {
            "marker": {
             "colorbar": {
              "outlinewidth": 0,
              "ticks": ""
             }
            },
            "type": "scattergeo"
           }
          ],
          "scattergl": [
           {
            "marker": {
             "colorbar": {
              "outlinewidth": 0,
              "ticks": ""
             }
            },
            "type": "scattergl"
           }
          ],
          "scattermapbox": [
           {
            "marker": {
             "colorbar": {
              "outlinewidth": 0,
              "ticks": ""
             }
            },
            "type": "scattermapbox"
           }
          ],
          "scatterpolar": [
           {
            "marker": {
             "colorbar": {
              "outlinewidth": 0,
              "ticks": ""
             }
            },
            "type": "scatterpolar"
           }
          ],
          "scatterpolargl": [
           {
            "marker": {
             "colorbar": {
              "outlinewidth": 0,
              "ticks": ""
             }
            },
            "type": "scatterpolargl"
           }
          ],
          "scatterternary": [
           {
            "marker": {
             "colorbar": {
              "outlinewidth": 0,
              "ticks": ""
             }
            },
            "type": "scatterternary"
           }
          ],
          "surface": [
           {
            "colorbar": {
             "outlinewidth": 0,
             "ticks": ""
            },
            "colorscale": [
             [
              0,
              "#0d0887"
             ],
             [
              0.1111111111111111,
              "#46039f"
             ],
             [
              0.2222222222222222,
              "#7201a8"
             ],
             [
              0.3333333333333333,
              "#9c179e"
             ],
             [
              0.4444444444444444,
              "#bd3786"
             ],
             [
              0.5555555555555556,
              "#d8576b"
             ],
             [
              0.6666666666666666,
              "#ed7953"
             ],
             [
              0.7777777777777778,
              "#fb9f3a"
             ],
             [
              0.8888888888888888,
              "#fdca26"
             ],
             [
              1,
              "#f0f921"
             ]
            ],
            "type": "surface"
           }
          ],
          "table": [
           {
            "cells": {
             "fill": {
              "color": "#EBF0F8"
             },
             "line": {
              "color": "white"
             }
            },
            "header": {
             "fill": {
              "color": "#C8D4E3"
             },
             "line": {
              "color": "white"
             }
            },
            "type": "table"
           }
          ]
         },
         "layout": {
          "annotationdefaults": {
           "arrowcolor": "#2a3f5f",
           "arrowhead": 0,
           "arrowwidth": 1
          },
          "autotypenumbers": "strict",
          "coloraxis": {
           "colorbar": {
            "outlinewidth": 0,
            "ticks": ""
           }
          },
          "colorscale": {
           "diverging": [
            [
             0,
             "#8e0152"
            ],
            [
             0.1,
             "#c51b7d"
            ],
            [
             0.2,
             "#de77ae"
            ],
            [
             0.3,
             "#f1b6da"
            ],
            [
             0.4,
             "#fde0ef"
            ],
            [
             0.5,
             "#f7f7f7"
            ],
            [
             0.6,
             "#e6f5d0"
            ],
            [
             0.7,
             "#b8e186"
            ],
            [
             0.8,
             "#7fbc41"
            ],
            [
             0.9,
             "#4d9221"
            ],
            [
             1,
             "#276419"
            ]
           ],
           "sequential": [
            [
             0,
             "#0d0887"
            ],
            [
             0.1111111111111111,
             "#46039f"
            ],
            [
             0.2222222222222222,
             "#7201a8"
            ],
            [
             0.3333333333333333,
             "#9c179e"
            ],
            [
             0.4444444444444444,
             "#bd3786"
            ],
            [
             0.5555555555555556,
             "#d8576b"
            ],
            [
             0.6666666666666666,
             "#ed7953"
            ],
            [
             0.7777777777777778,
             "#fb9f3a"
            ],
            [
             0.8888888888888888,
             "#fdca26"
            ],
            [
             1,
             "#f0f921"
            ]
           ],
           "sequentialminus": [
            [
             0,
             "#0d0887"
            ],
            [
             0.1111111111111111,
             "#46039f"
            ],
            [
             0.2222222222222222,
             "#7201a8"
            ],
            [
             0.3333333333333333,
             "#9c179e"
            ],
            [
             0.4444444444444444,
             "#bd3786"
            ],
            [
             0.5555555555555556,
             "#d8576b"
            ],
            [
             0.6666666666666666,
             "#ed7953"
            ],
            [
             0.7777777777777778,
             "#fb9f3a"
            ],
            [
             0.8888888888888888,
             "#fdca26"
            ],
            [
             1,
             "#f0f921"
            ]
           ]
          },
          "colorway": [
           "#636efa",
           "#EF553B",
           "#00cc96",
           "#ab63fa",
           "#FFA15A",
           "#19d3f3",
           "#FF6692",
           "#B6E880",
           "#FF97FF",
           "#FECB52"
          ],
          "font": {
           "color": "#2a3f5f"
          },
          "geo": {
           "bgcolor": "white",
           "lakecolor": "white",
           "landcolor": "#E5ECF6",
           "showlakes": true,
           "showland": true,
           "subunitcolor": "white"
          },
          "hoverlabel": {
           "align": "left"
          },
          "hovermode": "closest",
          "mapbox": {
           "style": "light"
          },
          "paper_bgcolor": "white",
          "plot_bgcolor": "#E5ECF6",
          "polar": {
           "angularaxis": {
            "gridcolor": "white",
            "linecolor": "white",
            "ticks": ""
           },
           "bgcolor": "#E5ECF6",
           "radialaxis": {
            "gridcolor": "white",
            "linecolor": "white",
            "ticks": ""
           }
          },
          "scene": {
           "xaxis": {
            "backgroundcolor": "#E5ECF6",
            "gridcolor": "white",
            "gridwidth": 2,
            "linecolor": "white",
            "showbackground": true,
            "ticks": "",
            "zerolinecolor": "white"
           },
           "yaxis": {
            "backgroundcolor": "#E5ECF6",
            "gridcolor": "white",
            "gridwidth": 2,
            "linecolor": "white",
            "showbackground": true,
            "ticks": "",
            "zerolinecolor": "white"
           },
           "zaxis": {
            "backgroundcolor": "#E5ECF6",
            "gridcolor": "white",
            "gridwidth": 2,
            "linecolor": "white",
            "showbackground": true,
            "ticks": "",
            "zerolinecolor": "white"
           }
          },
          "shapedefaults": {
           "line": {
            "color": "#2a3f5f"
           }
          },
          "ternary": {
           "aaxis": {
            "gridcolor": "white",
            "linecolor": "white",
            "ticks": ""
           },
           "baxis": {
            "gridcolor": "white",
            "linecolor": "white",
            "ticks": ""
           },
           "bgcolor": "#E5ECF6",
           "caxis": {
            "gridcolor": "white",
            "linecolor": "white",
            "ticks": ""
           }
          },
          "title": {
           "x": 0.05
          },
          "xaxis": {
           "automargin": true,
           "gridcolor": "white",
           "linecolor": "white",
           "ticks": "",
           "title": {
            "standoff": 15
           },
           "zerolinecolor": "white",
           "zerolinewidth": 2
          },
          "yaxis": {
           "automargin": true,
           "gridcolor": "white",
           "linecolor": "white",
           "ticks": "",
           "title": {
            "standoff": 15
           },
           "zerolinecolor": "white",
           "zerolinewidth": 2
          }
         }
        },
        "title": {
         "text": "$\\operatorname{YZ}(y[R_{E}],z[R_{E}])[\\frac{1}{cm^{3}}] = \\lambda{\\left(y,z \\right)}$"
        },
        "width": 700,
        "xaxis": {
         "title": {
          "text": "$y$"
         }
        },
        "yaxis": {
         "title": {
          "text": "$z$"
         }
        }
       }
      },
      "text/html": [
       "<div>                            <div id=\"4075c1a0-a1b8-459c-8b51-c39296780aa0\" class=\"plotly-graph-div\" style=\"height:400px; width:700px;\"></div>            <script type=\"text/javascript\">                require([\"plotly\"], function(Plotly) {                    window.PLOTLYENV=window.PLOTLYENV || {};                                    if (document.getElementById(\"4075c1a0-a1b8-459c-8b51-c39296780aa0\")) {                    Plotly.newPlot(                        \"4075c1a0-a1b8-459c-8b51-c39296780aa0\",                        [{\"meta\": \"2d-grid\", \"type\": \"contour\", \"x\": [-15.0, -13.421052631578947, -11.842105263157894, -10.263157894736842, -8.68421052631579, -7.105263157894736, -5.526315789473685, -3.947368421052632, -2.3684210526315788, -0.7894736842105257, 0.7894736842105274, 2.3684210526315788, 3.94736842105263, 5.526315789473685, 7.105263157894736, 8.684210526315791, 10.263157894736842, 11.842105263157894, 13.421052631578949, 15.0], \"y\": [-20.0, -17.894736842105264, -15.789473684210527, -13.68421052631579, -11.578947368421053, -9.473684210526317, -7.368421052631579, -5.2631578947368425, -3.157894736842106, -1.05263157894737, 1.0526315789473664, 3.1578947368421026, 5.2631578947368425, 7.368421052631579, 9.473684210526315, 11.578947368421051, 13.684210526315788, 15.789473684210527, 17.89473684210526, 20.0], \"z\": [[11.343961876653783, 12.608507458051115, 12.928927069742704, 12.74409837646593, 12.337045732039424, 11.956787076084366, 11.566738154845062, 11.240629697538488, 11.03560582939025, 10.96923225188668, 11.064600940011204, 11.295255674633161, 11.65172806665353, 12.096784051553255, 12.585785384692594, 12.987891281494438, 13.330076587037938, 13.45684135354137, 13.00087446972195, 11.487083959858609], [12.816857375540614, 12.90110236749267, 12.50296543698101, 12.00260200720528, 11.444256774434782, 10.87375234250617, 10.253616159995534, 9.662446626601694, 9.231428589999412, 9.049546692421886, 9.140422279874736, 9.519782327543506, 10.13518265203364, 10.899965741915096, 11.663415390776429, 12.354038183962937, 12.924514259410229, 13.36846378975307, 13.623787644018062, 13.399827377543845], [12.805342125257516, 12.304371202172677, 11.667966698393611, 10.987285105137941, 10.191970856606433, 9.167033570872253, 7.9985206972141, 6.912330987178997, 6.102718100201535, 5.678927702526707, 5.657999589601733, 6.09572510855894, 7.0943719299968775, 8.57095287204551, 10.084367201167396, 11.25293701634447, 12.209641043057498, 12.932109832080995, 13.421583707754724, 13.713354709010124], [12.094255254558696, 11.35770216263195, 10.51852010949422, 9.373529114270639, 7.808258399438437, 6.035135861015648, 4.382638727281435, 3.150931500025485, 2.3979399700310533, 2.0393092470455967, 1.9595429284906904, 2.062082784182024, 2.508229022133793, 3.5328553724164187, 5.626137397700442, 9.041184003456124, 10.934266349187219, 12.097164230209547, 12.949413828012371, 13.412300555358671], [11.151204633123317, 10.120577622392519, 8.544955164809874, 6.418760703800184, 4.230366306884224, 2.512835094318211, 1.4997295318627355, 0.9189548125531601, 0.6113697406905156, 0.5262763859466404, 0.5517910019206418, 0.5487859099118799, 0.5932968770141335, 0.7824723672327525, 1.282087383286467, 3.006181568708022, 8.107636315284267, 10.770950803062346, 12.029279903102484, 12.89327569251337], [9.845367739081853, 8.027145799432267, 5.68273802501906, 3.5815492655768044, 2.586910405843752, 1.8333462438611796, 1.1518693215526485, 0.7076714933784415, 0.3010734253184622, 0.20047034029874794, 0.20038453343428841, 0.20057589928431177, 0.20240784698596057, 0.22118179419716477, 0.34420053631016406, 0.9478858037359396, 2.3553251467557956, 7.655310438237556, 10.70697756083014, 12.005447259548866], [8.237938171526514, 5.98972507517651, 4.112259047075702, 3.270032524289861, 2.2660388747285887, 1.1709025223077694, 0.9464018789816642, 1.0401618082811557, 1.1573146231708247, 0.2152960276086868, 0.20038453343428841, 0.20038453343428841, 0.20038453343428841, 0.20038453343428841, 0.20038453343428841, 0.3324807530939469, 1.1553426110433387, 3.3192153527455734, 9.00931431285213, 10.99983952861991], [7.033993993868574, 4.999475537000258, 3.756662555989895, 2.5257709643621253, 1.1285704171466995, 0.9515309063955121, 2.1297937376350493, 3.0494877241190315, 2.6915437811467995, 1.9856456617590028, 0.2536144742788788, 0.20038453343428841, 0.20038453343428841, 0.20038453343428841, 0.20038453343428841, 0.21415321416757904, 0.6094157664383881, 1.759684673551704, 6.042687251401398, 10.275132073460632], [6.675734529917364, 4.662980781301684, 3.3666266492422645, 2.1977119557029074, 1.309171536221464, 1.8443712782190533, 5.178655097380743, 9.137095048050385, 6.985461408055378, 7.8247287922304425, 4.124509868904287, 1.240772565479676, 0.3861318196559807, 0.2193722921663937, 0.2103509882340425, 0.21623596390161146, 0.5383273094884031, 1.4790547409678414, 4.842905578163459, 9.70358402614156], [6.983961662686601, 4.364371204681351, 3.0846014489203686, 2.3153341958540907, 1.3731040541796657, 2.133311673493696, 4.588523846843291, 9.992427237620834, 10.012759403044088, null, null, 9.944868613566344, 4.268651549816071, 1.9108221751639072, 1.0492243824102812, 1.0989541239725338, 1.443581789898435, 2.093240518698447, 5.085623451650577, 9.592040767627704], [7.668307636818201, 4.041858244587298, 2.406151861328097, 1.9447276917434735, 1.7022538490600099, 1.7744053122168977, 2.5242821116243364, 4.696838682120488, 9.982035549059564, null, null, 9.880927880103345, 9.050309427415321, 4.148846107039699, 1.6162640614885715, 1.1236796555303705, 1.811841952951135, 2.7667202344277717, 5.824951079719206, 9.539616256033502], [8.746530733141322, 4.320540134912228, 1.8460896973851888, 0.8638233764034503, 0.33784550308659794, 0.28246663343299844, 0.3269582545672132, 0.41691334807364827, 1.6023240333611921, 5.454407385410652, 7.7989797675062045, 6.577786303824884, 8.296254288299947, 4.130910921338748, 1.4627471065793032, 1.058013937772029, 1.939013349945195, 3.351324078619952, 6.508023537160268, 9.638520101907162], [10.00105719502529, 6.01853513763092, 2.2215914550618363, 0.96164264894411, 0.2800258427133634, 0.20048270420207465, 0.2004712434663357, 0.20038453343428841, 0.26633979053883333, 0.5938865370137855, 2.154151504996737, 3.136843241147287, 3.230150316863063, 1.7715569095800403, 0.7784794399883498, 1.0041962766294315, 2.4235948915632406, 4.115931042672788, 7.4216429938111785, 9.966668360650234], [11.287798768118682, 9.752136349712327, 4.17807366965742, 1.6422918157982727, 0.6330637557776899, 0.20284759509461542, 0.20038453343428841, 0.20038453343428841, 0.23971755613046958, 0.32789391297279985, 0.823434719452978, 1.049573980390856, 0.9178712968090079, 0.8496814696489368, 0.8761179138652022, 1.5871095260864279, 3.494213837298611, 5.691898455755491, 8.880640018726762, 10.870007342906852], [13.007153778003529, 11.56195330007455, 10.002237586470914, 4.36866159782563, 1.5140101155173, 0.7934497388688457, 0.5856577462467486, 0.5173593748354208, 0.5381506349012763, 0.6015921105046629, 1.0118647857178114, 1.6851059100964165, 1.8872382471850864, 2.1766219164753586, 2.7516866152014634, 3.784372399297175, 5.595035839499215, 8.418450996852812, 10.660334989501866, 11.911135392828974], [14.360971450389787, 13.679387165832535, 12.335432597147825, 10.608435453709056, 7.576202518185933, 3.5645771082747073, 2.327781081740427, 1.969794623477289, 1.9296411231694868, 1.9955906088443494, 2.3077897181275184, 2.984884929121216, 3.708114056891231, 4.48256037464216, 5.606074120945165, 7.14711461640552, 9.328017794305765, 11.06563542067087, 12.130465547511607, 12.696649497963483], [14.987240996755773, 14.781965172092564, 14.188822124242899, 13.194013756077096, 11.931787637591325, 10.581940592577624, 8.745097066903393, 7.137524014147536, 6.321010258467341, 6.166632602299137, 6.509159835310904, 7.132880064746461, 7.800590063422398, 8.558575658761505, 9.586529450845294, 10.807559724391814, 11.798923017449544, 12.59524951105498, 13.072182625711434, 12.341774963119157], [14.219877830849914, 14.911058501362088, 14.8591892660163, 14.439079619897935, 13.777562988894228, 13.00154641662376, 12.194441094592559, 11.484475944915422, 10.940491768677324, 10.658654064592712, 10.615854068377763, 10.776929484715387, 11.077527300165542, 11.55143928532908, 12.075802703659322, 12.563870366675761, 12.89508821492103, 12.807425991978066, 11.73172078768191, 9.293887236071635], [11.037055619839741, 13.213570757444364, 14.273373323518861, 14.584986635380735, 14.453300116228043, 14.118648646586827, 13.638943527214014, 13.218179806393655, 12.881653293848244, 12.689710032298242, 12.632283586951566, 12.665967330272629, 12.78332227979316, 12.958019014238921, 13.013283018980243, 12.791900589706508, 12.036652804742168, 10.452850269378873, 8.231215461836491, 6.252847775250176], [6.915095391537633, 9.088441773073423, 11.243691306665498, 12.775062776361946, 13.5789222462982, 13.873003087087339, 13.878523053522015, 13.739906713608956, 13.600457612862435, 13.46768096951651, 13.348460020075931, 13.197110126467013, 12.99257049853184, 12.565804626411541, 11.746836246075357, 10.40789621288071, 8.622206841913039, 6.849003494333435, 5.628684087434692, 5.072508228693063]]}],                        {\"autosize\": false, \"height\": 400, \"margin\": {\"b\": 32, \"pad\": 0, \"r\": 30, \"t\": 40}, \"template\": {\"data\": {\"bar\": [{\"error_x\": {\"color\": \"#2a3f5f\"}, \"error_y\": {\"color\": \"#2a3f5f\"}, \"marker\": {\"line\": {\"color\": \"#E5ECF6\", \"width\": 0.5}}, \"type\": \"bar\"}], \"barpolar\": [{\"marker\": {\"line\": {\"color\": \"#E5ECF6\", \"width\": 0.5}}, \"type\": \"barpolar\"}], \"carpet\": [{\"aaxis\": {\"endlinecolor\": \"#2a3f5f\", \"gridcolor\": \"white\", \"linecolor\": \"white\", \"minorgridcolor\": \"white\", \"startlinecolor\": \"#2a3f5f\"}, \"baxis\": {\"endlinecolor\": \"#2a3f5f\", \"gridcolor\": \"white\", \"linecolor\": \"white\", \"minorgridcolor\": \"white\", \"startlinecolor\": \"#2a3f5f\"}, \"type\": \"carpet\"}], \"choropleth\": [{\"colorbar\": {\"outlinewidth\": 0, \"ticks\": \"\"}, \"type\": \"choropleth\"}], \"contour\": [{\"colorbar\": {\"outlinewidth\": 0, \"ticks\": \"\"}, \"colorscale\": [[0.0, \"#0d0887\"], [0.1111111111111111, \"#46039f\"], [0.2222222222222222, \"#7201a8\"], [0.3333333333333333, \"#9c179e\"], [0.4444444444444444, \"#bd3786\"], [0.5555555555555556, \"#d8576b\"], [0.6666666666666666, \"#ed7953\"], [0.7777777777777778, \"#fb9f3a\"], [0.8888888888888888, \"#fdca26\"], [1.0, \"#f0f921\"]], \"type\": \"contour\"}], \"contourcarpet\": [{\"colorbar\": {\"outlinewidth\": 0, \"ticks\": \"\"}, \"type\": \"contourcarpet\"}], \"heatmap\": [{\"colorbar\": {\"outlinewidth\": 0, \"ticks\": \"\"}, \"colorscale\": [[0.0, \"#0d0887\"], [0.1111111111111111, \"#46039f\"], [0.2222222222222222, \"#7201a8\"], [0.3333333333333333, \"#9c179e\"], [0.4444444444444444, \"#bd3786\"], [0.5555555555555556, \"#d8576b\"], [0.6666666666666666, \"#ed7953\"], [0.7777777777777778, \"#fb9f3a\"], [0.8888888888888888, \"#fdca26\"], [1.0, \"#f0f921\"]], \"type\": \"heatmap\"}], \"heatmapgl\": [{\"colorbar\": {\"outlinewidth\": 0, \"ticks\": \"\"}, \"colorscale\": [[0.0, \"#0d0887\"], [0.1111111111111111, \"#46039f\"], [0.2222222222222222, \"#7201a8\"], [0.3333333333333333, \"#9c179e\"], [0.4444444444444444, \"#bd3786\"], [0.5555555555555556, \"#d8576b\"], [0.6666666666666666, \"#ed7953\"], [0.7777777777777778, \"#fb9f3a\"], [0.8888888888888888, \"#fdca26\"], [1.0, \"#f0f921\"]], \"type\": \"heatmapgl\"}], \"histogram\": [{\"marker\": {\"colorbar\": {\"outlinewidth\": 0, \"ticks\": \"\"}}, \"type\": \"histogram\"}], \"histogram2d\": [{\"colorbar\": {\"outlinewidth\": 0, \"ticks\": \"\"}, \"colorscale\": [[0.0, \"#0d0887\"], [0.1111111111111111, \"#46039f\"], [0.2222222222222222, \"#7201a8\"], [0.3333333333333333, \"#9c179e\"], [0.4444444444444444, \"#bd3786\"], [0.5555555555555556, \"#d8576b\"], [0.6666666666666666, \"#ed7953\"], [0.7777777777777778, \"#fb9f3a\"], [0.8888888888888888, \"#fdca26\"], [1.0, \"#f0f921\"]], \"type\": \"histogram2d\"}], \"histogram2dcontour\": [{\"colorbar\": {\"outlinewidth\": 0, \"ticks\": \"\"}, \"colorscale\": [[0.0, \"#0d0887\"], [0.1111111111111111, \"#46039f\"], [0.2222222222222222, \"#7201a8\"], [0.3333333333333333, \"#9c179e\"], [0.4444444444444444, \"#bd3786\"], [0.5555555555555556, \"#d8576b\"], [0.6666666666666666, \"#ed7953\"], [0.7777777777777778, \"#fb9f3a\"], [0.8888888888888888, \"#fdca26\"], [1.0, \"#f0f921\"]], \"type\": \"histogram2dcontour\"}], \"mesh3d\": [{\"colorbar\": {\"outlinewidth\": 0, \"ticks\": \"\"}, \"type\": \"mesh3d\"}], \"parcoords\": [{\"line\": {\"colorbar\": {\"outlinewidth\": 0, \"ticks\": \"\"}}, \"type\": \"parcoords\"}], \"pie\": [{\"automargin\": true, \"type\": \"pie\"}], \"scatter\": [{\"marker\": {\"colorbar\": {\"outlinewidth\": 0, \"ticks\": \"\"}}, \"type\": \"scatter\"}], \"scatter3d\": [{\"line\": {\"colorbar\": {\"outlinewidth\": 0, \"ticks\": \"\"}}, \"marker\": {\"colorbar\": {\"outlinewidth\": 0, \"ticks\": \"\"}}, \"type\": \"scatter3d\"}], \"scattercarpet\": [{\"marker\": {\"colorbar\": {\"outlinewidth\": 0, \"ticks\": \"\"}}, \"type\": \"scattercarpet\"}], \"scattergeo\": [{\"marker\": {\"colorbar\": {\"outlinewidth\": 0, \"ticks\": \"\"}}, \"type\": \"scattergeo\"}], \"scattergl\": [{\"marker\": {\"colorbar\": {\"outlinewidth\": 0, \"ticks\": \"\"}}, \"type\": \"scattergl\"}], \"scattermapbox\": [{\"marker\": {\"colorbar\": {\"outlinewidth\": 0, \"ticks\": \"\"}}, \"type\": \"scattermapbox\"}], \"scatterpolar\": [{\"marker\": {\"colorbar\": {\"outlinewidth\": 0, \"ticks\": \"\"}}, \"type\": \"scatterpolar\"}], \"scatterpolargl\": [{\"marker\": {\"colorbar\": {\"outlinewidth\": 0, \"ticks\": \"\"}}, \"type\": \"scatterpolargl\"}], \"scatterternary\": [{\"marker\": {\"colorbar\": {\"outlinewidth\": 0, \"ticks\": \"\"}}, \"type\": \"scatterternary\"}], \"surface\": [{\"colorbar\": {\"outlinewidth\": 0, \"ticks\": \"\"}, \"colorscale\": [[0.0, \"#0d0887\"], [0.1111111111111111, \"#46039f\"], [0.2222222222222222, \"#7201a8\"], [0.3333333333333333, \"#9c179e\"], [0.4444444444444444, \"#bd3786\"], [0.5555555555555556, \"#d8576b\"], [0.6666666666666666, \"#ed7953\"], [0.7777777777777778, \"#fb9f3a\"], [0.8888888888888888, \"#fdca26\"], [1.0, \"#f0f921\"]], \"type\": \"surface\"}], \"table\": [{\"cells\": {\"fill\": {\"color\": \"#EBF0F8\"}, \"line\": {\"color\": \"white\"}}, \"header\": {\"fill\": {\"color\": \"#C8D4E3\"}, \"line\": {\"color\": \"white\"}}, \"type\": \"table\"}]}, \"layout\": {\"annotationdefaults\": {\"arrowcolor\": \"#2a3f5f\", \"arrowhead\": 0, \"arrowwidth\": 1}, \"autotypenumbers\": \"strict\", \"coloraxis\": {\"colorbar\": {\"outlinewidth\": 0, \"ticks\": \"\"}}, \"colorscale\": {\"diverging\": [[0, \"#8e0152\"], [0.1, \"#c51b7d\"], [0.2, \"#de77ae\"], [0.3, \"#f1b6da\"], [0.4, \"#fde0ef\"], [0.5, \"#f7f7f7\"], [0.6, \"#e6f5d0\"], [0.7, \"#b8e186\"], [0.8, \"#7fbc41\"], [0.9, \"#4d9221\"], [1, \"#276419\"]], \"sequential\": [[0.0, \"#0d0887\"], [0.1111111111111111, \"#46039f\"], [0.2222222222222222, \"#7201a8\"], [0.3333333333333333, \"#9c179e\"], [0.4444444444444444, \"#bd3786\"], [0.5555555555555556, \"#d8576b\"], [0.6666666666666666, \"#ed7953\"], [0.7777777777777778, \"#fb9f3a\"], [0.8888888888888888, \"#fdca26\"], [1.0, \"#f0f921\"]], \"sequentialminus\": [[0.0, \"#0d0887\"], [0.1111111111111111, \"#46039f\"], [0.2222222222222222, \"#7201a8\"], [0.3333333333333333, \"#9c179e\"], [0.4444444444444444, \"#bd3786\"], [0.5555555555555556, \"#d8576b\"], [0.6666666666666666, \"#ed7953\"], [0.7777777777777778, \"#fb9f3a\"], [0.8888888888888888, \"#fdca26\"], [1.0, \"#f0f921\"]]}, \"colorway\": [\"#636efa\", \"#EF553B\", \"#00cc96\", \"#ab63fa\", \"#FFA15A\", \"#19d3f3\", \"#FF6692\", \"#B6E880\", \"#FF97FF\", \"#FECB52\"], \"font\": {\"color\": \"#2a3f5f\"}, \"geo\": {\"bgcolor\": \"white\", \"lakecolor\": \"white\", \"landcolor\": \"#E5ECF6\", \"showlakes\": true, \"showland\": true, \"subunitcolor\": \"white\"}, \"hoverlabel\": {\"align\": \"left\"}, \"hovermode\": \"closest\", \"mapbox\": {\"style\": \"light\"}, \"paper_bgcolor\": \"white\", \"plot_bgcolor\": \"#E5ECF6\", \"polar\": {\"angularaxis\": {\"gridcolor\": \"white\", \"linecolor\": \"white\", \"ticks\": \"\"}, \"bgcolor\": \"#E5ECF6\", \"radialaxis\": {\"gridcolor\": \"white\", \"linecolor\": \"white\", \"ticks\": \"\"}}, \"scene\": {\"xaxis\": {\"backgroundcolor\": \"#E5ECF6\", \"gridcolor\": \"white\", \"gridwidth\": 2, \"linecolor\": \"white\", \"showbackground\": true, \"ticks\": \"\", \"zerolinecolor\": \"white\"}, \"yaxis\": {\"backgroundcolor\": \"#E5ECF6\", \"gridcolor\": \"white\", \"gridwidth\": 2, \"linecolor\": \"white\", \"showbackground\": true, \"ticks\": \"\", \"zerolinecolor\": \"white\"}, \"zaxis\": {\"backgroundcolor\": \"#E5ECF6\", \"gridcolor\": \"white\", \"gridwidth\": 2, \"linecolor\": \"white\", \"showbackground\": true, \"ticks\": \"\", \"zerolinecolor\": \"white\"}}, \"shapedefaults\": {\"line\": {\"color\": \"#2a3f5f\"}}, \"ternary\": {\"aaxis\": {\"gridcolor\": \"white\", \"linecolor\": \"white\", \"ticks\": \"\"}, \"baxis\": {\"gridcolor\": \"white\", \"linecolor\": \"white\", \"ticks\": \"\"}, \"bgcolor\": \"#E5ECF6\", \"caxis\": {\"gridcolor\": \"white\", \"linecolor\": \"white\", \"ticks\": \"\"}}, \"title\": {\"x\": 0.05}, \"xaxis\": {\"automargin\": true, \"gridcolor\": \"white\", \"linecolor\": \"white\", \"ticks\": \"\", \"title\": {\"standoff\": 15}, \"zerolinecolor\": \"white\", \"zerolinewidth\": 2}, \"yaxis\": {\"automargin\": true, \"gridcolor\": \"white\", \"linecolor\": \"white\", \"ticks\": \"\", \"title\": {\"standoff\": 15}, \"zerolinecolor\": \"white\", \"zerolinewidth\": 2}}}, \"title\": {\"text\": \"$\\\\operatorname{YZ}(y[R_{E}],z[R_{E}])[\\\\frac{1}{cm^{3}}] = \\\\lambda{\\\\left(y,z \\\\right)}$\"}, \"width\": 700, \"xaxis\": {\"title\": {\"text\": \"$y$\"}}, \"yaxis\": {\"title\": {\"text\": \"$z$\"}}},                        {\"responsive\": true}                    ).then(function(){\n",
       "                            \n",
       "var gd = document.getElementById('4075c1a0-a1b8-459c-8b51-c39296780aa0');\n",
       "var x = new MutationObserver(function (mutations, observer) {{\n",
       "        var display = window.getComputedStyle(gd).display;\n",
       "        if (!display || display === 'none') {{\n",
       "            console.log([gd, 'removed!']);\n",
       "            Plotly.purge(gd);\n",
       "            observer.disconnect();\n",
       "        }}\n",
       "}});\n",
       "\n",
       "// Listen for the removal of the full notebook cells\n",
       "var notebookContainer = gd.closest('#notebook-container');\n",
       "if (notebookContainer) {{\n",
       "    x.observe(notebookContainer, {childList: true});\n",
       "}}\n",
       "\n",
       "// Listen for the clearing of the current output cell\n",
       "var outputEl = gd.closest('.output');\n",
       "if (outputEl) {{\n",
       "    x.observe(outputEl, {childList: true});\n",
       "}}\n",
       "\n",
       "                        })                };                });            </script>        </div>"
      ]
     },
     "metadata": {},
     "output_type": "display_data"
    },
    {
     "name": "stdout",
     "output_type": "stream",
     "text": [
      "N_plasma\n",
      "X slice at 0.000 R_E. Y slice at 0.000 R_E. \n",
      "Took 6.850 s for 400 positions.\n"
     ]
    },
    {
     "data": {
      "application/vnd.plotly.v1+json": {
       "config": {
        "linkText": "Export to plot.ly",
        "plotlyServerURL": "https://plot.ly",
        "showLink": false
       },
       "data": [
        {
         "meta": "2d-grid",
         "type": "contour",
         "x": [
          12,
          12.052631578947368,
          12.105263157894736,
          12.157894736842104,
          12.210526315789474,
          12.263157894736842,
          12.31578947368421,
          12.368421052631579,
          12.421052631578947,
          12.473684210526315,
          12.526315789473685,
          12.578947368421053,
          12.631578947368421,
          12.68421052631579,
          12.736842105263158,
          12.789473684210526,
          12.842105263157894,
          12.894736842105264,
          12.947368421052632,
          13
         ],
         "y": [
          -20,
          -17.894736842105264,
          -15.789473684210527,
          -13.68421052631579,
          -11.578947368421053,
          -9.473684210526317,
          -7.368421052631579,
          -5.2631578947368425,
          -3.157894736842106,
          -1.05263157894737,
          1.0526315789473664,
          3.1578947368421026,
          5.2631578947368425,
          7.368421052631579,
          9.473684210526315,
          11.578947368421051,
          13.684210526315788,
          15.789473684210527,
          17.89473684210526,
          20
         ],
         "z": [
          [
           null,
           10.17460547506605,
           9.646761713975227,
           9.173496052914102,
           9.329210755769223,
           9.729634494346907,
           10.329673534704513,
           10.505134857702037,
           10.793197136548443,
           10.805226517779927,
           11.179331553611139,
           11.448647622200934,
           11.411765498346282,
           11.403570784136402,
           11.854962403151978,
           11.902051646171888,
           11.060071952781824,
           10.496334566103751,
           9.845670996560088,
           9.72180316327706
          ],
          [
           null,
           7.6293728021320355,
           7.155852288573872,
           6.690970747228472,
           7.023661451928533,
           7.56390481798894,
           8.32193993350066,
           8.527327216579122,
           8.83357255183832,
           8.977571173902854,
           9.172789613874665,
           9.41917810063646,
           9.309834530823647,
           9.379840672421553,
           10.047738618993842,
           9.959378874629392,
           9.093096310477543,
           8.450183420289685,
           7.755360003359451,
           7.488184173768641
          ],
          [
           null,
           4.03333713010413,
           3.6912791418716044,
           3.3499270356324695,
           3.57106002853468,
           3.9396228698638525,
           4.465073395735492,
           4.656942826875309,
           5.064123120498195,
           5.422872800332331,
           5.6535476232684765,
           5.764371016921803,
           5.506920527127509,
           5.467794256437768,
           6.190066181397781,
           6.187872390306342,
           5.565294118015229,
           5.048400954121514,
           4.396974828318168,
           4.243006084542605
          ],
          [
           null,
           1.3220671893096672,
           1.2155388294795464,
           1.1137448277690147,
           1.14338345976486,
           1.2529311671011718,
           1.4151398325422893,
           1.465869588117148,
           1.6223198757175412,
           1.8266346378692302,
           2.0093152058502324,
           2.0152855159373666,
           1.847798729079661,
           1.8268805504238586,
           2.126064435543525,
           2.209263710302785,
           1.9572406344579567,
           1.8009259608328998,
           1.5046278922066372,
           1.4609721271079081
          ],
          [
           null,
           0.3953634053274595,
           0.3725975402084035,
           0.34878528130321973,
           0.34906607714757004,
           0.3698917264568748,
           0.39503976204902147,
           0.40399131584373693,
           0.43448399012505556,
           0.48169747440415067,
           0.5316368611775197,
           0.5307090977805751,
           0.4819986621444198,
           0.4693619217381984,
           0.5166281102209754,
           0.546863933068505,
           0.5085221874611473,
           0.48843630426608525,
           0.42113126408678603,
           0.4217654489678594
          ],
          [
           null,
           0.2003692144706563,
           0.20004032355534423,
           0.19972377708494318,
           0.2001867806504099,
           0.20017470519415856,
           0.2003063786617944,
           0.19972110510071003,
           0.20019396371758622,
           0.19976786243056158,
           0.1998754469275675,
           0.19978364188872288,
           0.20002883040360303,
           0.20039377287626983,
           0.20019775250829797,
           0.20008221736708748,
           0.20002409937930207,
           0.19996982316471368,
           0.20020524526303893,
           0.20004171619530275
          ],
          [
           null,
           0.2003692144706563,
           0.20004032355534423,
           0.19972377708494318,
           0.2001867806504099,
           0.20017470519415856,
           0.2003063786617944,
           0.19972110510071003,
           0.20019396371758622,
           0.19976786243056158,
           0.1998754469275675,
           0.19978364188872288,
           0.20002883040360303,
           0.20039377287626983,
           0.20019775250829797,
           0.19989132163165396,
           0.20002409937930207,
           0.19996982316471368,
           0.20021415256036665,
           0.20004171619530275
          ],
          [
           null,
           0.6341992035128555,
           0.6244117159331235,
           0.6482523890572158,
           0.6664837996774777,
           0.6854217002423549,
           0.6984689648626475,
           0.7237249977107902,
           0.7411138970357782,
           0.7644529013689079,
           0.7779064643073382,
           0.7996265889889146,
           0.8352029299841175,
           0.8655716507689091,
           0.8536565797076385,
           0.8317188696316229,
           0.8311763761758199,
           0.8175013236981635,
           0.8055677833904218,
           0.782421280723695
          ],
          [
           null,
           7.995802868367753,
           8.073790651923566,
           7.848367780951574,
           7.838088874728957,
           7.936662659957014,
           8.0078777457333,
           7.914193991678667,
           7.817373168616049,
           7.904550368801798,
           7.996101829154757,
           7.960634626398936,
           8.049208193357742,
           8.119340191679767,
           8.10769849359063,
           8.158251190238943,
           8.116218331853442,
           8.135349826291524,
           8.143517102981377,
           8.047695659592405
          ],
          [
           null,
           null,
           null,
           null,
           null,
           null,
           null,
           null,
           null,
           null,
           null,
           null,
           null,
           null,
           null,
           null,
           null,
           null,
           null,
           null
          ],
          [
           null,
           null,
           null,
           null,
           null,
           null,
           null,
           null,
           null,
           null,
           null,
           null,
           null,
           null,
           null,
           null,
           null,
           null,
           null,
           null
          ],
          [
           null,
           7.751379477872202,
           7.755116882058714,
           7.682315837656044,
           7.724055856953159,
           7.796154523821229,
           7.891325608433189,
           7.977547183134299,
           7.971198066142634,
           7.963020176849012,
           7.861093599256284,
           7.898720051367913,
           7.951903465688359,
           7.91987557969782,
           7.865768675630117,
           7.91113324009969,
           7.897397543950471,
           7.780250190452294,
           7.733170744854113,
           7.592663764464056
          ],
          [
           null,
           1.5101769900698812,
           1.5478990139313504,
           1.471172881941858,
           1.5187583529505833,
           1.5780634344268307,
           1.612556250278926,
           1.639497491542568,
           1.701671807627685,
           1.7631313650218172,
           1.8366639429089622,
           1.8522613240179295,
           1.833221764289655,
           1.7856768589165868,
           1.8259744235270112,
           1.841613532179632,
           1.755529246413191,
           1.6810320098032074,
           1.667021368846607,
           1.5827336547955844
          ],
          [
           null,
           0.4032302184507426,
           0.4056591441902735,
           0.3844647866042714,
           0.40465032407805285,
           0.43180824221809344,
           0.41295005789361017,
           0.40756209398541626,
           0.41358025728367614,
           0.43669339192364753,
           0.4513627163983115,
           0.46014386438756116,
           0.4654726189311117,
           0.4738935885921767,
           0.4790292333876213,
           0.48026812901700416,
           0.474409871880638,
           0.4690861044877566,
           0.4572463534040354,
           0.4449830253296788
          ],
          [
           null,
           0.6155951168835685,
           0.5622223670097432,
           0.5069940299817984,
           0.5161418924749623,
           0.5444596491204011,
           0.5591734263920547,
           0.561427226175066,
           0.5918018269820402,
           0.6322904915253938,
           0.6841451472176342,
           0.7056311059464322,
           0.688098093473374,
           0.7162585520769931,
           0.8474371330310897,
           0.9029510383354393,
           0.8572525735023965,
           0.7965443814823365,
           0.7241044717491223,
           0.6850226107571996
          ],
          [
           null,
           2.1163897731772487,
           1.8991900854688726,
           1.7152044606278465,
           1.6878850480103829,
           1.7197303388616512,
           1.8110082618497725,
           1.8418382655054781,
           1.9569553690853654,
           2.043566773033471,
           2.152902586158352,
           2.144611055207102,
           2.058429427504353,
           2.1046538989686603,
           2.407450242309846,
           2.4765309318446667,
           2.3022570971270597,
           2.138192937890523,
           1.8971077627757433,
           1.8610953291580734
          ],
          [
           null,
           6.254029750872159,
           5.404980066495586,
           5.003208496722686,
           5.189189932598729,
           5.2658348880625105,
           5.800268471628737,
           6.002103719812691,
           6.296105857726874,
           6.18285351767724,
           6.343800424465019,
           6.549916325306574,
           6.349399190298277,
           6.221289370011427,
           7.0686720317201885,
           6.885896980852655,
           6.195754248753739,
           5.687965112085421,
           4.951533983103418,
           4.866061840011948
          ],
          [
           null,
           11.442853329439044,
           10.560358878648772,
           10.092321704423352,
           10.331686181041782,
           10.257537432403227,
           10.90281925731291,
           10.922198655980637,
           11.013887639048622,
           10.508921489388996,
           10.915772058679844,
           11.304041547862537,
           11.324827121211932,
           11.25607946748683,
           11.890537638720224,
           11.626901381734932,
           10.743828574129962,
           10.188971126842324,
           9.487940051249169,
           9.380892578907389
          ],
          [
           null,
           12.993323672060045,
           12.03202247218949,
           11.76524512373469,
           11.99967030679114,
           12.105997190490811,
           12.692222442280986,
           12.678215772510683,
           12.71758995006011,
           12.33333950294359,
           12.923832714450487,
           13.273513990596486,
           13.239928693400625,
           12.934770508795232,
           13.807119731729637,
           13.400660402653395,
           12.935534727989689,
           12.153424559788892,
           11.59513063731949,
           11.73215120144058
          ],
          [
           null,
           13.06342069466005,
           12.208530261797742,
           12.425879660618326,
           12.54414768336023,
           12.61871127748301,
           13.24221307227224,
           13.22177876268877,
           13.216022809192994,
           13.070115558186643,
           13.51859648897201,
           13.774331138074228,
           13.547444000816686,
           13.281766475905483,
           13.97742589015367,
           13.818484319706434,
           13.238601554868092,
           12.847571219528643,
           12.097284846655244,
           12.839414228347074
          ]
         ]
        }
       ],
       "layout": {
        "autosize": false,
        "height": 400,
        "margin": {
         "b": 32,
         "pad": 0,
         "r": 30,
         "t": 40
        },
        "template": {
         "data": {
          "bar": [
           {
            "error_x": {
             "color": "#2a3f5f"
            },
            "error_y": {
             "color": "#2a3f5f"
            },
            "marker": {
             "line": {
              "color": "#E5ECF6",
              "width": 0.5
             }
            },
            "type": "bar"
           }
          ],
          "barpolar": [
           {
            "marker": {
             "line": {
              "color": "#E5ECF6",
              "width": 0.5
             }
            },
            "type": "barpolar"
           }
          ],
          "carpet": [
           {
            "aaxis": {
             "endlinecolor": "#2a3f5f",
             "gridcolor": "white",
             "linecolor": "white",
             "minorgridcolor": "white",
             "startlinecolor": "#2a3f5f"
            },
            "baxis": {
             "endlinecolor": "#2a3f5f",
             "gridcolor": "white",
             "linecolor": "white",
             "minorgridcolor": "white",
             "startlinecolor": "#2a3f5f"
            },
            "type": "carpet"
           }
          ],
          "choropleth": [
           {
            "colorbar": {
             "outlinewidth": 0,
             "ticks": ""
            },
            "type": "choropleth"
           }
          ],
          "contour": [
           {
            "colorbar": {
             "outlinewidth": 0,
             "ticks": ""
            },
            "colorscale": [
             [
              0,
              "#0d0887"
             ],
             [
              0.1111111111111111,
              "#46039f"
             ],
             [
              0.2222222222222222,
              "#7201a8"
             ],
             [
              0.3333333333333333,
              "#9c179e"
             ],
             [
              0.4444444444444444,
              "#bd3786"
             ],
             [
              0.5555555555555556,
              "#d8576b"
             ],
             [
              0.6666666666666666,
              "#ed7953"
             ],
             [
              0.7777777777777778,
              "#fb9f3a"
             ],
             [
              0.8888888888888888,
              "#fdca26"
             ],
             [
              1,
              "#f0f921"
             ]
            ],
            "type": "contour"
           }
          ],
          "contourcarpet": [
           {
            "colorbar": {
             "outlinewidth": 0,
             "ticks": ""
            },
            "type": "contourcarpet"
           }
          ],
          "heatmap": [
           {
            "colorbar": {
             "outlinewidth": 0,
             "ticks": ""
            },
            "colorscale": [
             [
              0,
              "#0d0887"
             ],
             [
              0.1111111111111111,
              "#46039f"
             ],
             [
              0.2222222222222222,
              "#7201a8"
             ],
             [
              0.3333333333333333,
              "#9c179e"
             ],
             [
              0.4444444444444444,
              "#bd3786"
             ],
             [
              0.5555555555555556,
              "#d8576b"
             ],
             [
              0.6666666666666666,
              "#ed7953"
             ],
             [
              0.7777777777777778,
              "#fb9f3a"
             ],
             [
              0.8888888888888888,
              "#fdca26"
             ],
             [
              1,
              "#f0f921"
             ]
            ],
            "type": "heatmap"
           }
          ],
          "heatmapgl": [
           {
            "colorbar": {
             "outlinewidth": 0,
             "ticks": ""
            },
            "colorscale": [
             [
              0,
              "#0d0887"
             ],
             [
              0.1111111111111111,
              "#46039f"
             ],
             [
              0.2222222222222222,
              "#7201a8"
             ],
             [
              0.3333333333333333,
              "#9c179e"
             ],
             [
              0.4444444444444444,
              "#bd3786"
             ],
             [
              0.5555555555555556,
              "#d8576b"
             ],
             [
              0.6666666666666666,
              "#ed7953"
             ],
             [
              0.7777777777777778,
              "#fb9f3a"
             ],
             [
              0.8888888888888888,
              "#fdca26"
             ],
             [
              1,
              "#f0f921"
             ]
            ],
            "type": "heatmapgl"
           }
          ],
          "histogram": [
           {
            "marker": {
             "colorbar": {
              "outlinewidth": 0,
              "ticks": ""
             }
            },
            "type": "histogram"
           }
          ],
          "histogram2d": [
           {
            "colorbar": {
             "outlinewidth": 0,
             "ticks": ""
            },
            "colorscale": [
             [
              0,
              "#0d0887"
             ],
             [
              0.1111111111111111,
              "#46039f"
             ],
             [
              0.2222222222222222,
              "#7201a8"
             ],
             [
              0.3333333333333333,
              "#9c179e"
             ],
             [
              0.4444444444444444,
              "#bd3786"
             ],
             [
              0.5555555555555556,
              "#d8576b"
             ],
             [
              0.6666666666666666,
              "#ed7953"
             ],
             [
              0.7777777777777778,
              "#fb9f3a"
             ],
             [
              0.8888888888888888,
              "#fdca26"
             ],
             [
              1,
              "#f0f921"
             ]
            ],
            "type": "histogram2d"
           }
          ],
          "histogram2dcontour": [
           {
            "colorbar": {
             "outlinewidth": 0,
             "ticks": ""
            },
            "colorscale": [
             [
              0,
              "#0d0887"
             ],
             [
              0.1111111111111111,
              "#46039f"
             ],
             [
              0.2222222222222222,
              "#7201a8"
             ],
             [
              0.3333333333333333,
              "#9c179e"
             ],
             [
              0.4444444444444444,
              "#bd3786"
             ],
             [
              0.5555555555555556,
              "#d8576b"
             ],
             [
              0.6666666666666666,
              "#ed7953"
             ],
             [
              0.7777777777777778,
              "#fb9f3a"
             ],
             [
              0.8888888888888888,
              "#fdca26"
             ],
             [
              1,
              "#f0f921"
             ]
            ],
            "type": "histogram2dcontour"
           }
          ],
          "mesh3d": [
           {
            "colorbar": {
             "outlinewidth": 0,
             "ticks": ""
            },
            "type": "mesh3d"
           }
          ],
          "parcoords": [
           {
            "line": {
             "colorbar": {
              "outlinewidth": 0,
              "ticks": ""
             }
            },
            "type": "parcoords"
           }
          ],
          "pie": [
           {
            "automargin": true,
            "type": "pie"
           }
          ],
          "scatter": [
           {
            "marker": {
             "colorbar": {
              "outlinewidth": 0,
              "ticks": ""
             }
            },
            "type": "scatter"
           }
          ],
          "scatter3d": [
           {
            "line": {
             "colorbar": {
              "outlinewidth": 0,
              "ticks": ""
             }
            },
            "marker": {
             "colorbar": {
              "outlinewidth": 0,
              "ticks": ""
             }
            },
            "type": "scatter3d"
           }
          ],
          "scattercarpet": [
           {
            "marker": {
             "colorbar": {
              "outlinewidth": 0,
              "ticks": ""
             }
            },
            "type": "scattercarpet"
           }
          ],
          "scattergeo": [
           {
            "marker": {
             "colorbar": {
              "outlinewidth": 0,
              "ticks": ""
             }
            },
            "type": "scattergeo"
           }
          ],
          "scattergl": [
           {
            "marker": {
             "colorbar": {
              "outlinewidth": 0,
              "ticks": ""
             }
            },
            "type": "scattergl"
           }
          ],
          "scattermapbox": [
           {
            "marker": {
             "colorbar": {
              "outlinewidth": 0,
              "ticks": ""
             }
            },
            "type": "scattermapbox"
           }
          ],
          "scatterpolar": [
           {
            "marker": {
             "colorbar": {
              "outlinewidth": 0,
              "ticks": ""
             }
            },
            "type": "scatterpolar"
           }
          ],
          "scatterpolargl": [
           {
            "marker": {
             "colorbar": {
              "outlinewidth": 0,
              "ticks": ""
             }
            },
            "type": "scatterpolargl"
           }
          ],
          "scatterternary": [
           {
            "marker": {
             "colorbar": {
              "outlinewidth": 0,
              "ticks": ""
             }
            },
            "type": "scatterternary"
           }
          ],
          "surface": [
           {
            "colorbar": {
             "outlinewidth": 0,
             "ticks": ""
            },
            "colorscale": [
             [
              0,
              "#0d0887"
             ],
             [
              0.1111111111111111,
              "#46039f"
             ],
             [
              0.2222222222222222,
              "#7201a8"
             ],
             [
              0.3333333333333333,
              "#9c179e"
             ],
             [
              0.4444444444444444,
              "#bd3786"
             ],
             [
              0.5555555555555556,
              "#d8576b"
             ],
             [
              0.6666666666666666,
              "#ed7953"
             ],
             [
              0.7777777777777778,
              "#fb9f3a"
             ],
             [
              0.8888888888888888,
              "#fdca26"
             ],
             [
              1,
              "#f0f921"
             ]
            ],
            "type": "surface"
           }
          ],
          "table": [
           {
            "cells": {
             "fill": {
              "color": "#EBF0F8"
             },
             "line": {
              "color": "white"
             }
            },
            "header": {
             "fill": {
              "color": "#C8D4E3"
             },
             "line": {
              "color": "white"
             }
            },
            "type": "table"
           }
          ]
         },
         "layout": {
          "annotationdefaults": {
           "arrowcolor": "#2a3f5f",
           "arrowhead": 0,
           "arrowwidth": 1
          },
          "autotypenumbers": "strict",
          "coloraxis": {
           "colorbar": {
            "outlinewidth": 0,
            "ticks": ""
           }
          },
          "colorscale": {
           "diverging": [
            [
             0,
             "#8e0152"
            ],
            [
             0.1,
             "#c51b7d"
            ],
            [
             0.2,
             "#de77ae"
            ],
            [
             0.3,
             "#f1b6da"
            ],
            [
             0.4,
             "#fde0ef"
            ],
            [
             0.5,
             "#f7f7f7"
            ],
            [
             0.6,
             "#e6f5d0"
            ],
            [
             0.7,
             "#b8e186"
            ],
            [
             0.8,
             "#7fbc41"
            ],
            [
             0.9,
             "#4d9221"
            ],
            [
             1,
             "#276419"
            ]
           ],
           "sequential": [
            [
             0,
             "#0d0887"
            ],
            [
             0.1111111111111111,
             "#46039f"
            ],
            [
             0.2222222222222222,
             "#7201a8"
            ],
            [
             0.3333333333333333,
             "#9c179e"
            ],
            [
             0.4444444444444444,
             "#bd3786"
            ],
            [
             0.5555555555555556,
             "#d8576b"
            ],
            [
             0.6666666666666666,
             "#ed7953"
            ],
            [
             0.7777777777777778,
             "#fb9f3a"
            ],
            [
             0.8888888888888888,
             "#fdca26"
            ],
            [
             1,
             "#f0f921"
            ]
           ],
           "sequentialminus": [
            [
             0,
             "#0d0887"
            ],
            [
             0.1111111111111111,
             "#46039f"
            ],
            [
             0.2222222222222222,
             "#7201a8"
            ],
            [
             0.3333333333333333,
             "#9c179e"
            ],
            [
             0.4444444444444444,
             "#bd3786"
            ],
            [
             0.5555555555555556,
             "#d8576b"
            ],
            [
             0.6666666666666666,
             "#ed7953"
            ],
            [
             0.7777777777777778,
             "#fb9f3a"
            ],
            [
             0.8888888888888888,
             "#fdca26"
            ],
            [
             1,
             "#f0f921"
            ]
           ]
          },
          "colorway": [
           "#636efa",
           "#EF553B",
           "#00cc96",
           "#ab63fa",
           "#FFA15A",
           "#19d3f3",
           "#FF6692",
           "#B6E880",
           "#FF97FF",
           "#FECB52"
          ],
          "font": {
           "color": "#2a3f5f"
          },
          "geo": {
           "bgcolor": "white",
           "lakecolor": "white",
           "landcolor": "#E5ECF6",
           "showlakes": true,
           "showland": true,
           "subunitcolor": "white"
          },
          "hoverlabel": {
           "align": "left"
          },
          "hovermode": "closest",
          "mapbox": {
           "style": "light"
          },
          "paper_bgcolor": "white",
          "plot_bgcolor": "#E5ECF6",
          "polar": {
           "angularaxis": {
            "gridcolor": "white",
            "linecolor": "white",
            "ticks": ""
           },
           "bgcolor": "#E5ECF6",
           "radialaxis": {
            "gridcolor": "white",
            "linecolor": "white",
            "ticks": ""
           }
          },
          "scene": {
           "xaxis": {
            "backgroundcolor": "#E5ECF6",
            "gridcolor": "white",
            "gridwidth": 2,
            "linecolor": "white",
            "showbackground": true,
            "ticks": "",
            "zerolinecolor": "white"
           },
           "yaxis": {
            "backgroundcolor": "#E5ECF6",
            "gridcolor": "white",
            "gridwidth": 2,
            "linecolor": "white",
            "showbackground": true,
            "ticks": "",
            "zerolinecolor": "white"
           },
           "zaxis": {
            "backgroundcolor": "#E5ECF6",
            "gridcolor": "white",
            "gridwidth": 2,
            "linecolor": "white",
            "showbackground": true,
            "ticks": "",
            "zerolinecolor": "white"
           }
          },
          "shapedefaults": {
           "line": {
            "color": "#2a3f5f"
           }
          },
          "ternary": {
           "aaxis": {
            "gridcolor": "white",
            "linecolor": "white",
            "ticks": ""
           },
           "baxis": {
            "gridcolor": "white",
            "linecolor": "white",
            "ticks": ""
           },
           "bgcolor": "#E5ECF6",
           "caxis": {
            "gridcolor": "white",
            "linecolor": "white",
            "ticks": ""
           }
          },
          "title": {
           "x": 0.05
          },
          "xaxis": {
           "automargin": true,
           "gridcolor": "white",
           "linecolor": "white",
           "ticks": "",
           "title": {
            "standoff": 15
           },
           "zerolinecolor": "white",
           "zerolinewidth": 2
          },
          "yaxis": {
           "automargin": true,
           "gridcolor": "white",
           "linecolor": "white",
           "ticks": "",
           "title": {
            "standoff": 15
           },
           "zerolinecolor": "white",
           "zerolinewidth": 2
          }
         }
        },
        "title": {
         "text": "$\\operatorname{TimeZ}(time[hr],z[R_{E}])[\\frac{1}{cm^{3}}] = \\lambda{\\left(time,z \\right)}$"
        },
        "width": 700,
        "xaxis": {
         "title": {
          "text": "$time$"
         }
        },
        "yaxis": {
         "title": {
          "text": "$z$"
         }
        }
       }
      },
      "text/html": [
       "<div>                            <div id=\"0c83bc14-e04a-4400-ad4b-088f850d3ed0\" class=\"plotly-graph-div\" style=\"height:400px; width:700px;\"></div>            <script type=\"text/javascript\">                require([\"plotly\"], function(Plotly) {                    window.PLOTLYENV=window.PLOTLYENV || {};                                    if (document.getElementById(\"0c83bc14-e04a-4400-ad4b-088f850d3ed0\")) {                    Plotly.newPlot(                        \"0c83bc14-e04a-4400-ad4b-088f850d3ed0\",                        [{\"meta\": \"2d-grid\", \"type\": \"contour\", \"x\": [12.0, 12.052631578947368, 12.105263157894736, 12.157894736842104, 12.210526315789474, 12.263157894736842, 12.31578947368421, 12.368421052631579, 12.421052631578947, 12.473684210526315, 12.526315789473685, 12.578947368421053, 12.631578947368421, 12.68421052631579, 12.736842105263158, 12.789473684210526, 12.842105263157894, 12.894736842105264, 12.947368421052632, 13.0], \"y\": [-20.0, -17.894736842105264, -15.789473684210527, -13.68421052631579, -11.578947368421053, -9.473684210526317, -7.368421052631579, -5.2631578947368425, -3.157894736842106, -1.05263157894737, 1.0526315789473664, 3.1578947368421026, 5.2631578947368425, 7.368421052631579, 9.473684210526315, 11.578947368421051, 13.684210526315788, 15.789473684210527, 17.89473684210526, 20.0], \"z\": [[null, 10.17460547506605, 9.646761713975227, 9.173496052914102, 9.329210755769223, 9.729634494346907, 10.329673534704513, 10.505134857702037, 10.793197136548443, 10.805226517779927, 11.179331553611139, 11.448647622200934, 11.411765498346282, 11.403570784136402, 11.854962403151978, 11.902051646171888, 11.060071952781824, 10.496334566103751, 9.845670996560088, 9.72180316327706], [null, 7.6293728021320355, 7.155852288573872, 6.690970747228472, 7.023661451928533, 7.56390481798894, 8.32193993350066, 8.527327216579122, 8.83357255183832, 8.977571173902854, 9.172789613874665, 9.41917810063646, 9.309834530823647, 9.379840672421553, 10.047738618993842, 9.959378874629392, 9.093096310477543, 8.450183420289685, 7.755360003359451, 7.488184173768641], [null, 4.03333713010413, 3.6912791418716044, 3.3499270356324695, 3.57106002853468, 3.9396228698638525, 4.465073395735492, 4.656942826875309, 5.064123120498195, 5.422872800332331, 5.6535476232684765, 5.764371016921803, 5.506920527127509, 5.467794256437768, 6.190066181397781, 6.187872390306342, 5.565294118015229, 5.048400954121514, 4.396974828318168, 4.243006084542605], [null, 1.3220671893096672, 1.2155388294795464, 1.1137448277690147, 1.14338345976486, 1.2529311671011718, 1.4151398325422893, 1.465869588117148, 1.6223198757175412, 1.8266346378692302, 2.0093152058502324, 2.0152855159373666, 1.847798729079661, 1.8268805504238586, 2.126064435543525, 2.209263710302785, 1.9572406344579567, 1.8009259608328998, 1.5046278922066372, 1.4609721271079081], [null, 0.3953634053274595, 0.3725975402084035, 0.34878528130321973, 0.34906607714757004, 0.3698917264568748, 0.39503976204902147, 0.40399131584373693, 0.43448399012505556, 0.48169747440415067, 0.5316368611775197, 0.5307090977805751, 0.4819986621444198, 0.4693619217381984, 0.5166281102209754, 0.546863933068505, 0.5085221874611473, 0.48843630426608525, 0.42113126408678603, 0.4217654489678594], [null, 0.2003692144706563, 0.20004032355534423, 0.19972377708494318, 0.2001867806504099, 0.20017470519415856, 0.2003063786617944, 0.19972110510071003, 0.20019396371758622, 0.19976786243056158, 0.1998754469275675, 0.19978364188872288, 0.20002883040360303, 0.20039377287626983, 0.20019775250829797, 0.20008221736708748, 0.20002409937930207, 0.19996982316471368, 0.20020524526303893, 0.20004171619530275], [null, 0.2003692144706563, 0.20004032355534423, 0.19972377708494318, 0.2001867806504099, 0.20017470519415856, 0.2003063786617944, 0.19972110510071003, 0.20019396371758622, 0.19976786243056158, 0.1998754469275675, 0.19978364188872288, 0.20002883040360303, 0.20039377287626983, 0.20019775250829797, 0.19989132163165396, 0.20002409937930207, 0.19996982316471368, 0.20021415256036665, 0.20004171619530275], [null, 0.6341992035128555, 0.6244117159331235, 0.6482523890572158, 0.6664837996774777, 0.6854217002423549, 0.6984689648626475, 0.7237249977107902, 0.7411138970357782, 0.7644529013689079, 0.7779064643073382, 0.7996265889889146, 0.8352029299841175, 0.8655716507689091, 0.8536565797076385, 0.8317188696316229, 0.8311763761758199, 0.8175013236981635, 0.8055677833904218, 0.782421280723695], [null, 7.995802868367753, 8.073790651923566, 7.848367780951574, 7.838088874728957, 7.936662659957014, 8.0078777457333, 7.914193991678667, 7.817373168616049, 7.904550368801798, 7.996101829154757, 7.960634626398936, 8.049208193357742, 8.119340191679767, 8.10769849359063, 8.158251190238943, 8.116218331853442, 8.135349826291524, 8.143517102981377, 8.047695659592405], [null, null, null, null, null, null, null, null, null, null, null, null, null, null, null, null, null, null, null, null], [null, null, null, null, null, null, null, null, null, null, null, null, null, null, null, null, null, null, null, null], [null, 7.751379477872202, 7.755116882058714, 7.682315837656044, 7.724055856953159, 7.796154523821229, 7.891325608433189, 7.977547183134299, 7.971198066142634, 7.963020176849012, 7.861093599256284, 7.898720051367913, 7.951903465688359, 7.91987557969782, 7.865768675630117, 7.91113324009969, 7.897397543950471, 7.780250190452294, 7.733170744854113, 7.592663764464056], [null, 1.5101769900698812, 1.5478990139313504, 1.471172881941858, 1.5187583529505833, 1.5780634344268307, 1.612556250278926, 1.639497491542568, 1.701671807627685, 1.7631313650218172, 1.8366639429089622, 1.8522613240179295, 1.833221764289655, 1.7856768589165868, 1.8259744235270112, 1.841613532179632, 1.755529246413191, 1.6810320098032074, 1.667021368846607, 1.5827336547955844], [null, 0.4032302184507426, 0.4056591441902735, 0.3844647866042714, 0.40465032407805285, 0.43180824221809344, 0.41295005789361017, 0.40756209398541626, 0.41358025728367614, 0.43669339192364753, 0.4513627163983115, 0.46014386438756116, 0.4654726189311117, 0.4738935885921767, 0.4790292333876213, 0.48026812901700416, 0.474409871880638, 0.4690861044877566, 0.4572463534040354, 0.4449830253296788], [null, 0.6155951168835685, 0.5622223670097432, 0.5069940299817984, 0.5161418924749623, 0.5444596491204011, 0.5591734263920547, 0.561427226175066, 0.5918018269820402, 0.6322904915253938, 0.6841451472176342, 0.7056311059464322, 0.688098093473374, 0.7162585520769931, 0.8474371330310897, 0.9029510383354393, 0.8572525735023965, 0.7965443814823365, 0.7241044717491223, 0.6850226107571996], [null, 2.1163897731772487, 1.8991900854688726, 1.7152044606278465, 1.6878850480103829, 1.7197303388616512, 1.8110082618497725, 1.8418382655054781, 1.9569553690853654, 2.043566773033471, 2.152902586158352, 2.144611055207102, 2.058429427504353, 2.1046538989686603, 2.407450242309846, 2.4765309318446667, 2.3022570971270597, 2.138192937890523, 1.8971077627757433, 1.8610953291580734], [null, 6.254029750872159, 5.404980066495586, 5.003208496722686, 5.189189932598729, 5.2658348880625105, 5.800268471628737, 6.002103719812691, 6.296105857726874, 6.18285351767724, 6.343800424465019, 6.549916325306574, 6.349399190298277, 6.221289370011427, 7.0686720317201885, 6.885896980852655, 6.195754248753739, 5.687965112085421, 4.951533983103418, 4.866061840011948], [null, 11.442853329439044, 10.560358878648772, 10.092321704423352, 10.331686181041782, 10.257537432403227, 10.90281925731291, 10.922198655980637, 11.013887639048622, 10.508921489388996, 10.915772058679844, 11.304041547862537, 11.324827121211932, 11.25607946748683, 11.890537638720224, 11.626901381734932, 10.743828574129962, 10.188971126842324, 9.487940051249169, 9.380892578907389], [null, 12.993323672060045, 12.03202247218949, 11.76524512373469, 11.99967030679114, 12.105997190490811, 12.692222442280986, 12.678215772510683, 12.71758995006011, 12.33333950294359, 12.923832714450487, 13.273513990596486, 13.239928693400625, 12.934770508795232, 13.807119731729637, 13.400660402653395, 12.935534727989689, 12.153424559788892, 11.59513063731949, 11.73215120144058], [null, 13.06342069466005, 12.208530261797742, 12.425879660618326, 12.54414768336023, 12.61871127748301, 13.24221307227224, 13.22177876268877, 13.216022809192994, 13.070115558186643, 13.51859648897201, 13.774331138074228, 13.547444000816686, 13.281766475905483, 13.97742589015367, 13.818484319706434, 13.238601554868092, 12.847571219528643, 12.097284846655244, 12.839414228347074]]}],                        {\"autosize\": false, \"height\": 400, \"margin\": {\"b\": 32, \"pad\": 0, \"r\": 30, \"t\": 40}, \"template\": {\"data\": {\"bar\": [{\"error_x\": {\"color\": \"#2a3f5f\"}, \"error_y\": {\"color\": \"#2a3f5f\"}, \"marker\": {\"line\": {\"color\": \"#E5ECF6\", \"width\": 0.5}}, \"type\": \"bar\"}], \"barpolar\": [{\"marker\": {\"line\": {\"color\": \"#E5ECF6\", \"width\": 0.5}}, \"type\": \"barpolar\"}], \"carpet\": [{\"aaxis\": {\"endlinecolor\": \"#2a3f5f\", \"gridcolor\": \"white\", \"linecolor\": \"white\", \"minorgridcolor\": \"white\", \"startlinecolor\": \"#2a3f5f\"}, \"baxis\": {\"endlinecolor\": \"#2a3f5f\", \"gridcolor\": \"white\", \"linecolor\": \"white\", \"minorgridcolor\": \"white\", \"startlinecolor\": \"#2a3f5f\"}, \"type\": \"carpet\"}], \"choropleth\": [{\"colorbar\": {\"outlinewidth\": 0, \"ticks\": \"\"}, \"type\": \"choropleth\"}], \"contour\": [{\"colorbar\": {\"outlinewidth\": 0, \"ticks\": \"\"}, \"colorscale\": [[0.0, \"#0d0887\"], [0.1111111111111111, \"#46039f\"], [0.2222222222222222, \"#7201a8\"], [0.3333333333333333, \"#9c179e\"], [0.4444444444444444, \"#bd3786\"], [0.5555555555555556, \"#d8576b\"], [0.6666666666666666, \"#ed7953\"], [0.7777777777777778, \"#fb9f3a\"], [0.8888888888888888, \"#fdca26\"], [1.0, \"#f0f921\"]], \"type\": \"contour\"}], \"contourcarpet\": [{\"colorbar\": {\"outlinewidth\": 0, \"ticks\": \"\"}, \"type\": \"contourcarpet\"}], \"heatmap\": [{\"colorbar\": {\"outlinewidth\": 0, \"ticks\": \"\"}, \"colorscale\": [[0.0, \"#0d0887\"], [0.1111111111111111, \"#46039f\"], [0.2222222222222222, \"#7201a8\"], [0.3333333333333333, \"#9c179e\"], [0.4444444444444444, \"#bd3786\"], [0.5555555555555556, \"#d8576b\"], [0.6666666666666666, \"#ed7953\"], [0.7777777777777778, \"#fb9f3a\"], [0.8888888888888888, \"#fdca26\"], [1.0, \"#f0f921\"]], \"type\": \"heatmap\"}], \"heatmapgl\": [{\"colorbar\": {\"outlinewidth\": 0, \"ticks\": \"\"}, \"colorscale\": [[0.0, \"#0d0887\"], [0.1111111111111111, \"#46039f\"], [0.2222222222222222, \"#7201a8\"], [0.3333333333333333, \"#9c179e\"], [0.4444444444444444, \"#bd3786\"], [0.5555555555555556, \"#d8576b\"], [0.6666666666666666, \"#ed7953\"], [0.7777777777777778, \"#fb9f3a\"], [0.8888888888888888, \"#fdca26\"], [1.0, \"#f0f921\"]], \"type\": \"heatmapgl\"}], \"histogram\": [{\"marker\": {\"colorbar\": {\"outlinewidth\": 0, \"ticks\": \"\"}}, \"type\": \"histogram\"}], \"histogram2d\": [{\"colorbar\": {\"outlinewidth\": 0, \"ticks\": \"\"}, \"colorscale\": [[0.0, \"#0d0887\"], [0.1111111111111111, \"#46039f\"], [0.2222222222222222, \"#7201a8\"], [0.3333333333333333, \"#9c179e\"], [0.4444444444444444, \"#bd3786\"], [0.5555555555555556, \"#d8576b\"], [0.6666666666666666, \"#ed7953\"], [0.7777777777777778, \"#fb9f3a\"], [0.8888888888888888, \"#fdca26\"], [1.0, \"#f0f921\"]], \"type\": \"histogram2d\"}], \"histogram2dcontour\": [{\"colorbar\": {\"outlinewidth\": 0, \"ticks\": \"\"}, \"colorscale\": [[0.0, \"#0d0887\"], [0.1111111111111111, \"#46039f\"], [0.2222222222222222, \"#7201a8\"], [0.3333333333333333, \"#9c179e\"], [0.4444444444444444, \"#bd3786\"], [0.5555555555555556, \"#d8576b\"], [0.6666666666666666, \"#ed7953\"], [0.7777777777777778, \"#fb9f3a\"], [0.8888888888888888, \"#fdca26\"], [1.0, \"#f0f921\"]], \"type\": \"histogram2dcontour\"}], \"mesh3d\": [{\"colorbar\": {\"outlinewidth\": 0, \"ticks\": \"\"}, \"type\": \"mesh3d\"}], \"parcoords\": [{\"line\": {\"colorbar\": {\"outlinewidth\": 0, \"ticks\": \"\"}}, \"type\": \"parcoords\"}], \"pie\": [{\"automargin\": true, \"type\": \"pie\"}], \"scatter\": [{\"marker\": {\"colorbar\": {\"outlinewidth\": 0, \"ticks\": \"\"}}, \"type\": \"scatter\"}], \"scatter3d\": [{\"line\": {\"colorbar\": {\"outlinewidth\": 0, \"ticks\": \"\"}}, \"marker\": {\"colorbar\": {\"outlinewidth\": 0, \"ticks\": \"\"}}, \"type\": \"scatter3d\"}], \"scattercarpet\": [{\"marker\": {\"colorbar\": {\"outlinewidth\": 0, \"ticks\": \"\"}}, \"type\": \"scattercarpet\"}], \"scattergeo\": [{\"marker\": {\"colorbar\": {\"outlinewidth\": 0, \"ticks\": \"\"}}, \"type\": \"scattergeo\"}], \"scattergl\": [{\"marker\": {\"colorbar\": {\"outlinewidth\": 0, \"ticks\": \"\"}}, \"type\": \"scattergl\"}], \"scattermapbox\": [{\"marker\": {\"colorbar\": {\"outlinewidth\": 0, \"ticks\": \"\"}}, \"type\": \"scattermapbox\"}], \"scatterpolar\": [{\"marker\": {\"colorbar\": {\"outlinewidth\": 0, \"ticks\": \"\"}}, \"type\": \"scatterpolar\"}], \"scatterpolargl\": [{\"marker\": {\"colorbar\": {\"outlinewidth\": 0, \"ticks\": \"\"}}, \"type\": \"scatterpolargl\"}], \"scatterternary\": [{\"marker\": {\"colorbar\": {\"outlinewidth\": 0, \"ticks\": \"\"}}, \"type\": \"scatterternary\"}], \"surface\": [{\"colorbar\": {\"outlinewidth\": 0, \"ticks\": \"\"}, \"colorscale\": [[0.0, \"#0d0887\"], [0.1111111111111111, \"#46039f\"], [0.2222222222222222, \"#7201a8\"], [0.3333333333333333, \"#9c179e\"], [0.4444444444444444, \"#bd3786\"], [0.5555555555555556, \"#d8576b\"], [0.6666666666666666, \"#ed7953\"], [0.7777777777777778, \"#fb9f3a\"], [0.8888888888888888, \"#fdca26\"], [1.0, \"#f0f921\"]], \"type\": \"surface\"}], \"table\": [{\"cells\": {\"fill\": {\"color\": \"#EBF0F8\"}, \"line\": {\"color\": \"white\"}}, \"header\": {\"fill\": {\"color\": \"#C8D4E3\"}, \"line\": {\"color\": \"white\"}}, \"type\": \"table\"}]}, \"layout\": {\"annotationdefaults\": {\"arrowcolor\": \"#2a3f5f\", \"arrowhead\": 0, \"arrowwidth\": 1}, \"autotypenumbers\": \"strict\", \"coloraxis\": {\"colorbar\": {\"outlinewidth\": 0, \"ticks\": \"\"}}, \"colorscale\": {\"diverging\": [[0, \"#8e0152\"], [0.1, \"#c51b7d\"], [0.2, \"#de77ae\"], [0.3, \"#f1b6da\"], [0.4, \"#fde0ef\"], [0.5, \"#f7f7f7\"], [0.6, \"#e6f5d0\"], [0.7, \"#b8e186\"], [0.8, \"#7fbc41\"], [0.9, \"#4d9221\"], [1, \"#276419\"]], \"sequential\": [[0.0, \"#0d0887\"], [0.1111111111111111, \"#46039f\"], [0.2222222222222222, \"#7201a8\"], [0.3333333333333333, \"#9c179e\"], [0.4444444444444444, \"#bd3786\"], [0.5555555555555556, \"#d8576b\"], [0.6666666666666666, \"#ed7953\"], [0.7777777777777778, \"#fb9f3a\"], [0.8888888888888888, \"#fdca26\"], [1.0, \"#f0f921\"]], \"sequentialminus\": [[0.0, \"#0d0887\"], [0.1111111111111111, \"#46039f\"], [0.2222222222222222, \"#7201a8\"], [0.3333333333333333, \"#9c179e\"], [0.4444444444444444, \"#bd3786\"], [0.5555555555555556, \"#d8576b\"], [0.6666666666666666, \"#ed7953\"], [0.7777777777777778, \"#fb9f3a\"], [0.8888888888888888, \"#fdca26\"], [1.0, \"#f0f921\"]]}, \"colorway\": [\"#636efa\", \"#EF553B\", \"#00cc96\", \"#ab63fa\", \"#FFA15A\", \"#19d3f3\", \"#FF6692\", \"#B6E880\", \"#FF97FF\", \"#FECB52\"], \"font\": {\"color\": \"#2a3f5f\"}, \"geo\": {\"bgcolor\": \"white\", \"lakecolor\": \"white\", \"landcolor\": \"#E5ECF6\", \"showlakes\": true, \"showland\": true, \"subunitcolor\": \"white\"}, \"hoverlabel\": {\"align\": \"left\"}, \"hovermode\": \"closest\", \"mapbox\": {\"style\": \"light\"}, \"paper_bgcolor\": \"white\", \"plot_bgcolor\": \"#E5ECF6\", \"polar\": {\"angularaxis\": {\"gridcolor\": \"white\", \"linecolor\": \"white\", \"ticks\": \"\"}, \"bgcolor\": \"#E5ECF6\", \"radialaxis\": {\"gridcolor\": \"white\", \"linecolor\": \"white\", \"ticks\": \"\"}}, \"scene\": {\"xaxis\": {\"backgroundcolor\": \"#E5ECF6\", \"gridcolor\": \"white\", \"gridwidth\": 2, \"linecolor\": \"white\", \"showbackground\": true, \"ticks\": \"\", \"zerolinecolor\": \"white\"}, \"yaxis\": {\"backgroundcolor\": \"#E5ECF6\", \"gridcolor\": \"white\", \"gridwidth\": 2, \"linecolor\": \"white\", \"showbackground\": true, \"ticks\": \"\", \"zerolinecolor\": \"white\"}, \"zaxis\": {\"backgroundcolor\": \"#E5ECF6\", \"gridcolor\": \"white\", \"gridwidth\": 2, \"linecolor\": \"white\", \"showbackground\": true, \"ticks\": \"\", \"zerolinecolor\": \"white\"}}, \"shapedefaults\": {\"line\": {\"color\": \"#2a3f5f\"}}, \"ternary\": {\"aaxis\": {\"gridcolor\": \"white\", \"linecolor\": \"white\", \"ticks\": \"\"}, \"baxis\": {\"gridcolor\": \"white\", \"linecolor\": \"white\", \"ticks\": \"\"}, \"bgcolor\": \"#E5ECF6\", \"caxis\": {\"gridcolor\": \"white\", \"linecolor\": \"white\", \"ticks\": \"\"}}, \"title\": {\"x\": 0.05}, \"xaxis\": {\"automargin\": true, \"gridcolor\": \"white\", \"linecolor\": \"white\", \"ticks\": \"\", \"title\": {\"standoff\": 15}, \"zerolinecolor\": \"white\", \"zerolinewidth\": 2}, \"yaxis\": {\"automargin\": true, \"gridcolor\": \"white\", \"linecolor\": \"white\", \"ticks\": \"\", \"title\": {\"standoff\": 15}, \"zerolinecolor\": \"white\", \"zerolinewidth\": 2}}}, \"title\": {\"text\": \"$\\\\operatorname{TimeZ}(time[hr],z[R_{E}])[\\\\frac{1}{cm^{3}}] = \\\\lambda{\\\\left(time,z \\\\right)}$\"}, \"width\": 700, \"xaxis\": {\"title\": {\"text\": \"$time$\"}}, \"yaxis\": {\"title\": {\"text\": \"$z$\"}}},                        {\"responsive\": true}                    ).then(function(){\n",
       "                            \n",
       "var gd = document.getElementById('0c83bc14-e04a-4400-ad4b-088f850d3ed0');\n",
       "var x = new MutationObserver(function (mutations, observer) {{\n",
       "        var display = window.getComputedStyle(gd).display;\n",
       "        if (!display || display === 'none') {{\n",
       "            console.log([gd, 'removed!']);\n",
       "            Plotly.purge(gd);\n",
       "            observer.disconnect();\n",
       "        }}\n",
       "}});\n",
       "\n",
       "// Listen for the removal of the full notebook cells\n",
       "var notebookContainer = gd.closest('#notebook-container');\n",
       "if (notebookContainer) {{\n",
       "    x.observe(notebookContainer, {childList: true});\n",
       "}}\n",
       "\n",
       "// Listen for the clearing of the current output cell\n",
       "var outputEl = gd.closest('.output');\n",
       "if (outputEl) {{\n",
       "    x.observe(outputEl, {childList: true});\n",
       "}}\n",
       "\n",
       "                        })                };                });            </script>        </div>"
      ]
     },
     "metadata": {},
     "output_type": "display_data"
    },
    {
     "name": "stdout",
     "output_type": "stream",
     "text": [
      "dict_keys(['time', 'x', 'y', 'z'])\n",
      "---------------------------------------------------------------\n",
      "--------------  Plots for N_plasma_ijk  -----------------------\n",
      "---------------------------------------------------------------\n",
      "N_plasma_ijk\n",
      "Time slice at 12.500 hrs. Z slice at 2.0000000 R_E.\n",
      "not supported: out_dim (1, 'N', 'N', 'N'), arg_dims [('N',), ('N',)]\n"
     ]
    },
    {
     "ename": "KeyError",
     "evalue": "(1, 'N', 'N', 'N')",
     "output_type": "error",
     "traceback": [
      "\u001b[1;31m---------------------------------------------------------------------------\u001b[0m",
      "\u001b[1;31mKeyError\u001b[0m                                  Traceback (most recent call last)",
      "\u001b[1;32m<ipython-input-17-1a36e8afffca>\u001b[0m in \u001b[0;36m<module>\u001b[1;34m\u001b[0m\n\u001b[0;32m     14\u001b[0m     \u001b[1;32mif\u001b[0m \u001b[0mlen\u001b[0m\u001b[1;33m(\u001b[0m\u001b[0mlist\u001b[0m\u001b[1;33m(\u001b[0m\u001b[0mkamodo_object\u001b[0m\u001b[1;33m.\u001b[0m\u001b[0mvariables\u001b[0m\u001b[1;33m[\u001b[0m\u001b[0mplot_var\u001b[0m\u001b[1;33m]\u001b[0m\u001b[1;33m[\u001b[0m\u001b[1;34m'xvec'\u001b[0m\u001b[1;33m]\u001b[0m\u001b[1;33m.\u001b[0m\u001b[0mkeys\u001b[0m\u001b[1;33m(\u001b[0m\u001b[1;33m)\u001b[0m\u001b[1;33m)\u001b[0m\u001b[1;33m)\u001b[0m\u001b[1;33m==\u001b[0m\u001b[1;36m4\u001b[0m\u001b[1;33m:\u001b[0m  \u001b[1;31m#if height depedent\u001b[0m\u001b[1;33m\u001b[0m\u001b[1;33m\u001b[0m\u001b[0m\n\u001b[0;32m     15\u001b[0m         \u001b[1;31m#make 2D plots for variable\u001b[0m\u001b[1;33m\u001b[0m\u001b[1;33m\u001b[0m\u001b[1;33m\u001b[0m\u001b[0m\n\u001b[1;32m---> 16\u001b[1;33m         \u001b[0miplot\u001b[0m\u001b[1;33m(\u001b[0m\u001b[0mplot2D\u001b[0m\u001b[1;33m(\u001b[0m\u001b[0mkamodo_object\u001b[0m\u001b[1;33m,\u001b[0m \u001b[0mplot_var\u001b[0m\u001b[1;33m,\u001b[0m\u001b[1;34m'XY'\u001b[0m\u001b[1;33m,\u001b[0m\u001b[0mtimeval\u001b[0m\u001b[1;33m,\u001b[0m\u001b[0mxarr\u001b[0m\u001b[1;33m,\u001b[0m\u001b[0myarr\u001b[0m\u001b[1;33m,\u001b[0m\u001b[0mzval\u001b[0m\u001b[1;33m)\u001b[0m\u001b[1;33m)\u001b[0m\u001b[1;33m\u001b[0m\u001b[1;33m\u001b[0m\u001b[0m\n\u001b[0m\u001b[0;32m     17\u001b[0m         \u001b[0miplot\u001b[0m\u001b[1;33m(\u001b[0m\u001b[0mplot2D\u001b[0m\u001b[1;33m(\u001b[0m\u001b[0mkamodo_object\u001b[0m\u001b[1;33m,\u001b[0m \u001b[0mplot_var\u001b[0m\u001b[1;33m,\u001b[0m\u001b[1;34m'TimeY'\u001b[0m\u001b[1;33m,\u001b[0m\u001b[0mtimearr\u001b[0m\u001b[1;33m,\u001b[0m\u001b[0mxval\u001b[0m\u001b[1;33m,\u001b[0m\u001b[0myarr\u001b[0m\u001b[1;33m,\u001b[0m\u001b[0mzval\u001b[0m\u001b[1;33m)\u001b[0m\u001b[1;33m)\u001b[0m\u001b[1;33m\u001b[0m\u001b[1;33m\u001b[0m\u001b[0m\n\u001b[0;32m     18\u001b[0m         \u001b[0miplot\u001b[0m\u001b[1;33m(\u001b[0m\u001b[0mplot2D\u001b[0m\u001b[1;33m(\u001b[0m\u001b[0mkamodo_object\u001b[0m\u001b[1;33m,\u001b[0m \u001b[0mplot_var\u001b[0m\u001b[1;33m,\u001b[0m\u001b[1;34m'TimeX'\u001b[0m\u001b[1;33m,\u001b[0m\u001b[0mtimearr\u001b[0m\u001b[1;33m,\u001b[0m\u001b[0mxarr\u001b[0m\u001b[1;33m,\u001b[0m\u001b[0myval\u001b[0m\u001b[1;33m,\u001b[0m\u001b[0mzval\u001b[0m\u001b[1;33m)\u001b[0m\u001b[1;33m)\u001b[0m\u001b[1;33m\u001b[0m\u001b[1;33m\u001b[0m\u001b[0m\n",
      "\u001b[1;32mc:\\users\\rringuet\\kamodo_windev1\\kamodo-master\\kamodo\\readers\\reader_kplots.py\u001b[0m in \u001b[0;36mplot2D\u001b[1;34m(kamodo_object, varname, plottype, t, lon, lat, h)\u001b[0m\n\u001b[0;32m    401\u001b[0m                 \u001b[1;32mreturn\u001b[0m \u001b[0mgetattr\u001b[0m\u001b[1;33m(\u001b[0m\u001b[0mkamodo_object\u001b[0m\u001b[1;33m,\u001b[0m \u001b[0mvarname\u001b[0m\u001b[1;33m)\u001b[0m\u001b[1;33m(\u001b[0m\u001b[0mtime\u001b[0m\u001b[1;33m=\u001b[0m\u001b[0mtime\u001b[0m\u001b[1;33m,\u001b[0m\u001b[0mx\u001b[0m\u001b[1;33m=\u001b[0m\u001b[0mx\u001b[0m\u001b[1;33m,\u001b[0m\u001b[0my\u001b[0m\u001b[1;33m=\u001b[0m\u001b[0my\u001b[0m\u001b[1;33m,\u001b[0m\u001b[0mz\u001b[0m\u001b[1;33m=\u001b[0m\u001b[0mz\u001b[0m\u001b[1;33m)\u001b[0m\u001b[1;33m\u001b[0m\u001b[1;33m\u001b[0m\u001b[0m\n\u001b[0;32m    402\u001b[0m             \u001b[0mplot_kamodo\u001b[0m\u001b[1;33m[\u001b[0m\u001b[1;34m'XY'\u001b[0m\u001b[1;33m]\u001b[0m \u001b[1;33m=\u001b[0m \u001b[0mpfunc\u001b[0m\u001b[1;33m\u001b[0m\u001b[1;33m\u001b[0m\u001b[0m\n\u001b[1;32m--> 403\u001b[1;33m             \u001b[1;32mreturn\u001b[0m \u001b[0mplot_kamodo\u001b[0m\u001b[1;33m.\u001b[0m\u001b[0mplot\u001b[0m\u001b[1;33m(\u001b[0m\u001b[0mXY\u001b[0m\u001b[1;33m=\u001b[0m\u001b[0mdict\u001b[0m\u001b[1;33m(\u001b[0m\u001b[0mx\u001b[0m\u001b[1;33m=\u001b[0m\u001b[0mlon\u001b[0m\u001b[1;33m,\u001b[0m\u001b[0my\u001b[0m\u001b[1;33m=\u001b[0m\u001b[0mlat\u001b[0m\u001b[1;33m)\u001b[0m\u001b[1;33m)\u001b[0m\u001b[1;33m\u001b[0m\u001b[1;33m\u001b[0m\u001b[0m\n\u001b[0m\u001b[0;32m    404\u001b[0m         \u001b[1;32melif\u001b[0m \u001b[0mplottype\u001b[0m\u001b[1;33m==\u001b[0m\u001b[1;34m'XZ'\u001b[0m\u001b[1;33m:\u001b[0m\u001b[1;33m\u001b[0m\u001b[1;33m\u001b[0m\u001b[0m\n\u001b[0;32m    405\u001b[0m             arg_units = {coord_list[1]:xvec[coord_list[1]], \n",
      "\u001b[1;32mc:\\users\\rringuet\\kamodo_windev1\\kamodo-master\\kamodo\\kamodo.py\u001b[0m in \u001b[0;36mplot\u001b[1;34m(self, *variables, **figures)\u001b[0m\n\u001b[0;32m   1031\u001b[0m         \u001b[1;32mif\u001b[0m \u001b[0mlen\u001b[0m\u001b[1;33m(\u001b[0m\u001b[0mfigures\u001b[0m\u001b[1;33m)\u001b[0m \u001b[1;33m==\u001b[0m \u001b[1;36m1\u001b[0m\u001b[1;33m:\u001b[0m\u001b[1;33m\u001b[0m\u001b[1;33m\u001b[0m\u001b[0m\n\u001b[0;32m   1032\u001b[0m             \u001b[0mvariable\u001b[0m\u001b[1;33m,\u001b[0m \u001b[0mkwargs\u001b[0m \u001b[1;33m=\u001b[0m \u001b[0mlist\u001b[0m\u001b[1;33m(\u001b[0m\u001b[0mfigures\u001b[0m\u001b[1;33m.\u001b[0m\u001b[0mitems\u001b[0m\u001b[1;33m(\u001b[0m\u001b[1;33m)\u001b[0m\u001b[1;33m)\u001b[0m\u001b[1;33m[\u001b[0m\u001b[1;36m0\u001b[0m\u001b[1;33m]\u001b[0m\u001b[1;33m\u001b[0m\u001b[1;33m\u001b[0m\u001b[0m\n\u001b[1;32m-> 1033\u001b[1;33m             \u001b[0mfig\u001b[0m \u001b[1;33m=\u001b[0m \u001b[0mself\u001b[0m\u001b[1;33m.\u001b[0m\u001b[0mfigure\u001b[0m\u001b[1;33m(\u001b[0m\u001b[0mvariable\u001b[0m\u001b[1;33m,\u001b[0m \u001b[1;33m**\u001b[0m\u001b[0mkwargs\u001b[0m\u001b[1;33m)\u001b[0m\u001b[1;33m\u001b[0m\u001b[1;33m\u001b[0m\u001b[0m\n\u001b[0m\u001b[0;32m   1034\u001b[0m             \u001b[1;31m# if fig['chart_type'] is None:\u001b[0m\u001b[1;33m\u001b[0m\u001b[1;33m\u001b[0m\u001b[1;33m\u001b[0m\u001b[0m\n\u001b[0;32m   1035\u001b[0m             \u001b[1;31m#     raise AttributeError(\"No chart_type for this trace\")\u001b[0m\u001b[1;33m\u001b[0m\u001b[1;33m\u001b[0m\u001b[1;33m\u001b[0m\u001b[0m\n",
      "\u001b[1;32mc:\\users\\rringuet\\kamodo_windev1\\kamodo-master\\kamodo\\kamodo.py\u001b[0m in \u001b[0;36mfigure\u001b[1;34m(self, variable, indexing, **kwargs)\u001b[0m\n\u001b[0;32m    995\u001b[0m \u001b[1;33m\u001b[0m\u001b[0m\n\u001b[0;32m    996\u001b[0m         \u001b[1;32mtry\u001b[0m\u001b[1;33m:\u001b[0m\u001b[1;33m\u001b[0m\u001b[1;33m\u001b[0m\u001b[0m\n\u001b[1;32m--> 997\u001b[1;33m             \u001b[0mplot_func\u001b[0m \u001b[1;33m=\u001b[0m \u001b[0mplot_dict\u001b[0m\u001b[1;33m[\u001b[0m\u001b[0mout_dim\u001b[0m\u001b[1;33m]\u001b[0m\u001b[1;33m[\u001b[0m\u001b[0mtuple\u001b[0m\u001b[1;33m(\u001b[0m\u001b[0marg_dims\u001b[0m\u001b[1;33m)\u001b[0m\u001b[1;33m]\u001b[0m\u001b[1;33m[\u001b[0m\u001b[1;34m'func'\u001b[0m\u001b[1;33m]\u001b[0m\u001b[1;33m\u001b[0m\u001b[1;33m\u001b[0m\u001b[0m\n\u001b[0m\u001b[0;32m    998\u001b[0m         \u001b[1;32mexcept\u001b[0m \u001b[0mKeyError\u001b[0m\u001b[1;33m:\u001b[0m\u001b[1;33m\u001b[0m\u001b[1;33m\u001b[0m\u001b[0m\n\u001b[0;32m    999\u001b[0m             \u001b[0mprint\u001b[0m\u001b[1;33m(\u001b[0m\u001b[1;34m'not supported: out_dim {}, arg_dims {}'\u001b[0m\u001b[1;33m.\u001b[0m\u001b[0mformat\u001b[0m\u001b[1;33m(\u001b[0m\u001b[0mout_dim\u001b[0m\u001b[1;33m,\u001b[0m \u001b[0marg_dims\u001b[0m\u001b[1;33m)\u001b[0m\u001b[1;33m)\u001b[0m\u001b[1;33m\u001b[0m\u001b[1;33m\u001b[0m\u001b[0m\n",
      "\u001b[1;31mKeyError\u001b[0m: (1, 'N', 'N', 'N')"
     ]
    }
   ],
   "source": [
    "#generate each possible type of 2D plot for each variable in plot_list\n",
    "xval, xarr = 0., np.linspace(-15.,15.,20)\n",
    "yval, yarr = 0., np.linspace(-15.,15.,20)\n",
    "zval, zarr = 2., np.linspace(-20.,20.,20)\n",
    "timeval, timearr = 12.5, np.linspace(12.,13.,20)\n",
    "for plot_var in plot_list:\n",
    "    if plot_var not in kamodo_object.variables: \n",
    "        print(plot_var)\n",
    "        continue\n",
    "    print(kamodo_object.variables[plot_var]['xvec'].keys())\n",
    "    print('---------------------------------------------------------------')\n",
    "    print(f'--------------  Plots for {plot_var}  -----------------------')\n",
    "    print('---------------------------------------------------------------')\n",
    "    if len(list(kamodo_object.variables[plot_var]['xvec'].keys()))==4:  #if height depedent\n",
    "        #make 2D plots for variable\n",
    "        iplot(plot2D(kamodo_object, plot_var,'XY',timeval,xarr,yarr,zval))\n",
    "        iplot(plot2D(kamodo_object, plot_var,'TimeY',timearr,xval,yarr,zval))\n",
    "        iplot(plot2D(kamodo_object, plot_var,'TimeX',timearr,xarr,yval,zval))\n",
    "        iplot(plot2D(kamodo_object, plot_var,'XZ',timeval,xarr,yval,zarr))\n",
    "        iplot(plot2D(kamodo_object, plot_var,'YZ',timeval,xval,yarr,zarr))\n",
    "        iplot(plot2D(kamodo_object, plot_var,'TimeZ',timearr,xval,yval,zarr))"
   ]
  },
  {
   "cell_type": "code",
   "execution_count": 18,
   "metadata": {},
   "outputs": [
    {
     "name": "stdout",
     "output_type": "stream",
     "text": [
      "No 3D variable given.\n"
     ]
    }
   ],
   "source": [
    "#Show proper errors when user tries to plot a time+2D variable against height\n",
    "if var_3D in kamodo_object.variables.keys():\n",
    "    try:\n",
    "        iplot(plot2D(kamodo_object, var_3D,'LonH',timeval,lonarr,latval,height_arr))\n",
    "    except AttributeError as e:\n",
    "        print(e)\n",
    "    try:\n",
    "        iplot(plot2D(kamodo_object, var_3D,'LatH',timeval,lonval,latarr,height_arr))\n",
    "    except AttributeError as e:\n",
    "        print(e)   \n",
    "    try:\n",
    "        iplot(plot2D(kamodo_object, var_3D,'TimeH',timearr,lonval,latval,height_arr))\n",
    "    except AttributeError as e:\n",
    "        print(e)   \n",
    "else:\n",
    "    print('No 3D variable given.')"
   ]
  },
  {
   "cell_type": "code",
   "execution_count": 19,
   "metadata": {},
   "outputs": [
    {
     "data": {
      "text/plain": [
       "['2015-10-16 12:00:00.075531', '2015-10-16 13:00:00.034332']"
      ]
     },
     "execution_count": 19,
     "metadata": {},
     "output_type": "execute_result"
    }
   ],
   "source": [
    "kamodo_object.datetimes"
   ]
  },
  {
   "cell_type": "code",
   "execution_count": 20,
   "metadata": {},
   "outputs": [
    {
     "name": "stdout",
     "output_type": "stream",
     "text": [
      "Inner boundary radius: 2.5 R_E\n"
     ]
    }
   ],
   "source": [
    "print('Inner boundary radius:', kamodo_object.near_Earth_boundary_radius, \n",
    "                  kamodo_object.near_Earth_boundary_radius_unit)  #should be 2.5 R_E"
   ]
  },
  {
   "cell_type": "code",
   "execution_count": null,
   "metadata": {},
   "outputs": [],
   "source": [
    "kamodo_object.filetimes"
   ]
  },
  {
   "cell_type": "code",
   "execution_count": null,
   "metadata": {},
   "outputs": [],
   "source": []
  }
 ],
 "metadata": {
  "kernelspec": {
   "display_name": "Python 3",
   "language": "python",
   "name": "python3"
  },
  "language_info": {
   "codemirror_mode": {
    "name": "ipython",
    "version": 3
   },
   "file_extension": ".py",
   "mimetype": "text/x-python",
   "name": "python",
   "nbconvert_exporter": "python",
   "pygments_lexer": "ipython3",
   "version": "3.7.9"
  }
 },
 "nbformat": 4,
 "nbformat_minor": 2
}
